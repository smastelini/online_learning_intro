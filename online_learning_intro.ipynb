{
 "cells": [
  {
   "cell_type": "markdown",
   "metadata": {},
   "source": [
    "# Introdução (não-extensiva) a Online Learning\n",
    "\n",
    "\n",
    "**Saulo Martiello Mastelini** (mastelini@usp.br)\n",
    "\n",
    "Outras redes:\n",
    "\n",
    "- [Github](https://github.com/smastelini)\n",
    "- [Linkedin](https://www.linkedin.com/in/smastelini/) (eu deveria, mas não atualizo frequentemente -- para ser sincero, está muito desatualizado)\n",
    "- [ResearchGate](https://www.researchgate.net/profile/Saulo-Mastelini)\n",
    "\n",
    "MBA em Ciência de Dados<br>\n",
    "Universidade de São Paulo, São Carlos, Brasil<br>\n",
    "Copyright (c) 2021\n",
    "\n",
    "---\n",
    "\n",
    "**Disclaimer**\n",
    "\n",
    "Como o título já diz, essa não é, de forma alguma, uma introdução extensiva ao tema. É apenas a minha humilde tentativa de dar um panorama geral de décadas de pesquisa em uma área que está em constante expansão e inovação.\n",
    "\n",
    "Feliz ou infelizmente, todo processo de aprendizado leva tempo. Assim, não será possível aprofundar em toda uma área de pesquisa de décadas em apenas algumas horas.\n",
    "\n",
    "Pretendo me inspirar na pesquisa em estruturas de árvores (teoria dos grafos) para guiar nosso estudo. Vou mostrar três opções (a última customizada ao meu gosto), das quais as duas primeiras eu quero evitar:\n",
    "\n",
    "1. **Busca em largura:** corremos o risco de não abordar tudo o que há de mais popular e, ainda por cima, sermos tão superficiais que os conteúdos seriam de pouca valia.\n",
    "2. **Busca em profundidade:** aqui o risco é querer focar muito em um minúcias ou em um ponto específico e acabar não tendo um panorama geral das coisas.\n",
    "3. **Busca em profundidade limitada** (e adaptativa) **:** Nos aprofundaremos um pouco em cada tópico, não muito, mas se quiserem, podemos nos aprofundar mais. Cabe a vocês pedirem! No entanto, me reservo ao direito de arbitrar o quanto devemos insistir num assunto durante nosso escasso tempo: buscarei balancear interesses individuais e o coletivo, bem como julgar o que pode ou não ajudar no estudo individual de cada um.\n",
    "\n",
    "---\n",
    "\n",
    "**Ponto de partida para aprofundamento**\n",
    "\n",
    "Para quem quiser se aprofundar mais nos assuntos que eu vou apresentar hoje, eu sugiro os seguintes recursos:\n",
    "\n",
    "- [Livro do MOA](https://moa.cms.waikato.ac.nz/book-html/): um livro de acesso aberto que abrange vários tópicos ligados a stream learning\n",
    "- [Documentação do River](https://riverml.xyz/dev/): conta com vários exemplos e tutoriais, além de referenciais práticos e teóricos! Está sempre sendo expandida, corrigida e atualizada.\n",
    "\n",
    "Quem tiver alguma dúvida específica que a documentação não possa suprir pode sempre abrir uma \"*Discussion*\" no Github. É só ir no [repositório do Github do River](https://github.com/online-ml/river) e clicar na aba de discussões. Alguém da equipe de desenvolvimento ou da comunidade de usuários do River com grande certeza estará disposto a ajudar!\n",
    "\n",
    "Contribuições são bem vindas! O River é um projeto *Open Source* construído pela comunidade. Mesmo que alguém possa não ter conhecimento técnico dos algoritmos, sempre é possível ajudar! Correções e expansões na documentação, por exemplo, são formas de ajudar! Muitas vezes apontar erros ou bugs (através de *issues*) já é de grande ajuda! 😁\n",
    "\n",
    "---\n",
    "\n",
    "**Sobre o River**\n",
    "\n",
    "O River é um projeto open source para online learning e stream mining. Ele surgiu a partir da fusão de duas ferramentas (também open-source):\n",
    "\n",
    "- creme\n",
    "- scikit-multiflow\n",
    "\n",
    "Ambos os pacotes Python abordavam o mesmo tema, mas com enfoques específicos. Após um longo tempo de planejamento e conversas, os mantenedores e times de desenvolvimento dos dois pacotes uniram forças e lançaram o River. O novo pacote é o produto dos anos de lições aprendidas no desenvolvimento das ferramentas predecessoras.\n",
    "\n",
    "O River reune o que havia de melhor `creme` e `scikit-multiflow` (que foram descontinuados) e supera pontos fracos que existiam nos projetos anteriores. A nova ferramenta é voltada tanto para o uso no mercado quanto na academia.\n",
    "\n",
    "O River conta com muitos contribuidores, mas a maioria do time de desenvolvimento está distribuído entre a França, Nova Zelândia e Brasil.\n",
    "\n",
    "O artigo da ferramenta no JMLR pode ser acessado [aqui](https://www.jmlr.org/papers/v22/20-1380.html).\n",
    "\n",
    "O site do River é o: https://riverml.xyz\n",
    "\n",
    "Existe muita demanda e nem tanto tempo 😅. Se quiserem checar os planos para o futuro, visitem o nosso [Roadmap](https://www.notion.so/d1e86fcdf21e4deda16eedab2b3361fb?v=503f44740b8b44a99a961aa96e9e46e1).\n",
    "\n",
    "---\n",
    "\n",
    "## Sumário\n",
    "1. Online learning? Why?\n",
    "2. Batch vs. Online\n",
    "3. Estruturas necessárias: exemplo\n",
    "    - Mean\n",
    "    - Var\n",
    "    - Quantile\n",
    "4. Por que usar dicionários?\n",
    "    - Exemplos com dados faltantes\n",
    "5. Como avaliar um modelo?\n",
    "    - `progressive_val_score`\n",
    "    - label delay\n",
    "6. Concept drift\n",
    "7. Exemplos de algoritmos\n",
    "    1. Classificação\n",
    "        1. Logistic regression\n",
    "        2. Hoeffding Tree\n",
    "        3. Naive Bayes\n",
    "        4. Adaptive Random Forest\n",
    "        5. Streaming Random Patches\n",
    "    2. Regressão\n",
    "        1. Linear Regression\n",
    "        2. Hoeffding Tree\n",
    "        3. AMRules\n",
    "        4. Adaptive Random Forest\n",
    "        5. Streaming Random Patches\n",
    "    3. Clustering\n",
    "        1. k-Means\n",
    "        2. CluStream\n",
    "        3. DenStream\n",
    "        4. DBSTREAM\n",
    "    4. Anomaly detection\n",
    "        1. Half-space Trees\n",
    "8. Expert module\n",
    "9. Pipelines e pré-processamento\n",
    "    - Encoding\n",
    "    - Scaling\n",
    "    - Filtragem e Seleção\n",
    "    - Aritmética com Pipelines\n",
    "    - Visualizando as coisas\n",
    "10. Exemplo completo\n",
    "    - processamento em tempo real\n",
    "    - inspeção de modelos"
   ]
  },
  {
   "cell_type": "code",
   "execution_count": 1,
   "metadata": {},
   "outputs": [],
   "source": [
    "# Esses são os pacotes que estão sendo utilizados nesse notebook\n",
    "# As linhas a seguir podem ser descomentadas para instalar o que for necessário\n",
    "\n",
    "# !pip install numpy\n",
    "# !pip install scikit-learn\n",
    "# !pip install river"
   ]
  },
  {
   "cell_type": "markdown",
   "metadata": {},
   "source": [
    "# 1. Online Learning? Why?\n",
    "\n",
    "Por que alguém deveria se preocupar em atualizar modelos a todo tempo? Não é só treinar e sair usando?\n",
    "\n",
    "R: sim! Em grande parte dos casos isso é verdade.\n",
    "\n",
    "Mas imagine que:\n",
    "\n",
    "- A quantidade de dados produzidas é enorme\n",
    "- Não é possível armazenar tudo\n",
    "- Existe limitação no poder computacional para treinamento dos modelos\n",
    "    - processador\n",
    "    - memória\n",
    "    - bateria\n",
    "- Os dados são não-estacionários e/ou evoluem com o tempo\n",
    "\n",
    "Nesses casos, posso usar aprendizado de máquina tradicional? R: sim!!\n",
    "\n",
    "É possível usar aprendizado de máquina tradicional se:\n",
    "- Os dados são estacionários (uma amostra representativa dos dados é suficiente)\n",
    "\n",
    "ou\n",
    "\n",
    "- A velocidade de produção dos dados não é tão alta (batch-incremental e os recursos computacionais são suficientes\n",
    "\n",
    "## 1.1 Batch-incremental\n",
    "\n",
    "\n",
    "Um modelo tradicional de aprendizado de máquina é re-treinado de tempos em tempos. Para tal, uma janela para treinamento precisa ser definida.\n",
    "\n",
    "Tipos de janelamento dos dados:\n",
    "\n",
    "\n",
    "<img src=\"time_windows.png\">\n",
    "\n",
    "**Fonte:** Adaptado de:\n",
    "\n",
    "> Carnein, M. and Trautmann, H., 2019. Optimizing data stream representation: An extensive survey on stream clustering algorithms. Business & Information Systems Engineering, 61(3), pp.277-297.\n",
    "\n",
    "- *Landmarks* são a escolha mais comum em estratégias batch-incremental. É preciso definir o tamanho da janela de forma adequada.\n",
    "    - O modelo pode ficar defasado se a janela for muito grande \n",
    "    - Ou o modelo pode não capturar os padrões se a janela for muito pequena\n",
    "    - Concept-drift é um problema e tanto\n",
    "    \n",
    "**Atenção**: batch-incremental != mini-batch.\n",
    "Redes neurais podem ser treinadas de forma incremental ou progressiva. No entanto, questões como \"esquecimento catastrófico\" são problemáticas. Esse e outros tipos de desafios são tratados na área de pesquisa chamada **continual learning**.\n",
    "\n",
    "## 1.2 Importante lembrar\n",
    "\n",
    "Data streams não são, necessariamente, séries temporais! 🤯\n",
    "\n",
    "Mas qual é a diferença, então?\n",
    "\n",
    "Basicamente, em streams não necessariamente temos dependências temporais explícitas como em séries temporais. Por exemplo: rede de sensores.\n",
    "\n",
    "Os dados chegam temporalmente organizados, mas cada sensor tem uma taxa de transmissão específica, ou um delay específico. Alguns sensores pode falhar... outros serem adicionados. E assim por diante.\n",
    "\n",
    "A ordem de chegada não importa... tanto, mas importa."
   ]
  },
  {
   "cell_type": "markdown",
   "metadata": {},
   "source": [
    "# 2. Batch vs. Online\n",
    "\n",
    "Uma boa introdução acerca da \"migração\" de batch para online está disponível no [site](https://riverml.xyz/latest/examples/batch-to-online/) do River. Aqui eu só quero dar uma visão bem geral das diferenças. Entraremos em mais detalhes posteriormente nas minúcias de avaliação de modelos em Online Learning.\n",
    "\n",
    "\n",
    "Uma possível validação de um modelo tradicional de aprendizado de máquina poderia ter essa \"cara\":"
   ]
  },
  {
   "cell_type": "code",
   "execution_count": 2,
   "metadata": {},
   "outputs": [
    {
     "name": "stdout",
     "output_type": "stream",
     "text": [
      "Acurácia média: 0.9045751633986928\n"
     ]
    }
   ],
   "source": [
    "from sklearn.datasets import load_wine\n",
    "from sklearn.metrics import accuracy_score\n",
    "from sklearn.model_selection import KFold\n",
    "from sklearn.tree import DecisionTreeClassifier\n",
    "\n",
    "data = load_wine()\n",
    "\n",
    "X, y = data.data, data.target\n",
    "kf = KFold(shuffle=True, random_state=8, n_splits=10)\n",
    "\n",
    "accs = []\n",
    "\n",
    "for train, test in kf.split(X):\n",
    "    X_tr, X_ts = X[train], X[test]\n",
    "    y_tr, y_ts = y[train], y[test]\n",
    "    \n",
    "    dt  = DecisionTreeClassifier(max_depth=5, random_state=93)\n",
    "    dt.fit(X_tr, y_tr)\n",
    "    \n",
    "    accs.append(accuracy_score(y_ts, dt.predict(X_ts)))\n",
    "\n",
    "print(f\"Acurácia média: {sum(accs) / len(accs)}\")"
   ]
  },
  {
   "cell_type": "markdown",
   "metadata": {},
   "source": [
    "Reparem que todo o conjunto de dados está disponível e carregado em memória. O algoritmo de árvore de decisão pode percorrer os dados de treino quantas vezes forem necessárias. Os dados de teste (validação, no nosso caso) nunca são utilizados para treino.\n",
    "\n",
    "No fim das contas, usaríamos o conjunto completo para treinar um modelo final (supondo que já encontramos um conjunto adequado de hiper-parâmetros). Uma vez treinado, esse modelo seria utilizado para fazer predições para novas amostras (de vinhos, nesse caso)."
   ]
  },
  {
   "cell_type": "code",
   "execution_count": 3,
   "metadata": {},
   "outputs": [
    {
     "name": "stdout",
     "output_type": "stream",
     "text": [
      "Acurácia: 0.9269662921348315\n"
     ]
    }
   ],
   "source": [
    "from river import metrics\n",
    "from river import stream\n",
    "from river import tree\n",
    "\n",
    "\n",
    "acc = metrics.Accuracy()\n",
    "ht = tree.HoeffdingTreeClassifier(max_depth=5, grace_period=20)\n",
    "\n",
    "for x, y in stream.iter_sklearn_dataset(load_wine()):\n",
    "    # Métrica atualizada antes do treinamento\n",
    "    acc.update(y, ht.predict_one(x))\n",
    "    # Modelo treinado amostra-a-amostra\n",
    "    ht.learn_one(x, y)\n",
    "\n",
    "print(f\"Acurácia: {acc.get()}\")"
   ]
  },
  {
   "cell_type": "markdown",
   "metadata": {},
   "source": [
    "Aqui, estamos percorrendo cada exemplo do conjunto de dados de forma sequencial. Os exemplos poderiam ser carregados diretamente do disco, de algum webservice, ou de onde sua imaginação te levar, sem a necessidade de salvar em memória nada.\n",
    "\n",
    "Cada amostra é primeiramente utilizada para teste e depois passada para o modelo. Tudo é atualizado uma amostra por vez. Notem que não podemos comparar diretamente os desempenhos obtidos porque a estratégia de avaliação foi diferente nos dois casos.\n",
    "\n",
    "Poderíamos ainda (pseudo) embaralhar os dados antes de passar para o modelo, se temos plena confiança que os dados são estacionários."
   ]
  },
  {
   "cell_type": "markdown",
   "metadata": {},
   "source": [
    "# 3. Estruturas necessárias: exemplo"
   ]
  },
  {
   "cell_type": "code",
   "execution_count": 4,
   "metadata": {},
   "outputs": [],
   "source": [
    "import numpy as np\n",
    "from river import stats"
   ]
  },
  {
   "cell_type": "markdown",
   "metadata": {},
   "source": [
    "Dado esse choque inicial, vamos prosseguir com calma e primeiramente pensar em alguns aspectos importantes antes de vermos os algoritmos de aprendizado de máquina online.\n",
    "\n",
    "## 3.1. Um exemplo, para aquecimento cerebral\n",
    "\n",
    "Vamos supor que queremos calcular estatísticas para dados que chegam a todo momento:\n",
    "\n",
    "- Média\n",
    "- Variância\n",
    "- ...\n",
    "\n",
    "Hora de simular:"
   ]
  },
  {
   "cell_type": "code",
   "execution_count": 5,
   "metadata": {},
   "outputs": [],
   "source": [
    "import random\n",
    "\n",
    "rng = random.Random(42)"
   ]
  },
  {
   "cell_type": "code",
   "execution_count": 6,
   "metadata": {},
   "outputs": [
    {
     "name": "stdout",
     "output_type": "stream",
     "text": [
      "CPU times: user 1min 9s, sys: 36.8 ms, total: 1min 9s\n",
      "Wall time: 1min 9s\n"
     ]
    }
   ],
   "source": [
    "%%time\n",
    "\n",
    "valores = []\n",
    "stds_batch = []\n",
    "\n",
    "for _ in range(50000):\n",
    "    v = rng.gauss(5, 3)\n",
    "    valores.append(v)\n",
    "    \n",
    "    stds_batch.append(np.std(valores))"
   ]
  },
  {
   "cell_type": "markdown",
   "metadata": {},
   "source": [
    "Por padrão o numpy calcula o desvio padrão populacional! Para usar a versão amostral precisamos passar `ddof=1` como parâmetro."
   ]
  },
  {
   "cell_type": "code",
   "execution_count": 7,
   "metadata": {},
   "outputs": [],
   "source": [
    "rng = random.Random(42)"
   ]
  },
  {
   "cell_type": "code",
   "execution_count": 8,
   "metadata": {
    "scrolled": true
   },
   "outputs": [
    {
     "name": "stdout",
     "output_type": "stream",
     "text": [
      "CPU times: user 112 ms, sys: 0 ns, total: 112 ms\n",
      "Wall time: 111 ms\n"
     ]
    }
   ],
   "source": [
    "%%time\n",
    "\n",
    "stds_incr = []\n",
    "var = stats.Var(ddof=0)\n",
    "\n",
    "for _ in range(50000):\n",
    "    v = rng.gauss(5, 3)\n",
    "    var.update(v)\n",
    "    stds_incr.append(var.get() ** 0.5)"
   ]
  },
  {
   "cell_type": "markdown",
   "metadata": {},
   "source": [
    "Será que dá alguma diferença? E será que funciona?"
   ]
  },
  {
   "cell_type": "code",
   "execution_count": 9,
   "metadata": {
    "scrolled": true
   },
   "outputs": [
    {
     "data": {
      "text/plain": [
       "(4.301100448023121e-10, 8.602200896046241e-15)"
      ]
     },
     "execution_count": 9,
     "metadata": {},
     "output_type": "execute_result"
    }
   ],
   "source": [
    "s_erros = 0\n",
    "\n",
    "for batch, incr in zip(stds_batch, stds_incr):\n",
    "    s_erros += (batch - incr)\n",
    "\n",
    "s_erros, s_erros / len(stds_batch)"
   ]
  },
  {
   "cell_type": "markdown",
   "metadata": {},
   "source": [
    "Ok... parece convincente. Mas e se o cenário fosse diferente? Se ao invés de calcularmos o desvio padrão e irmos aumentando a quantidade de dados, quisessemos descobrir um percentil das últimas `N` amostras?"
   ]
  },
  {
   "cell_type": "code",
   "execution_count": 10,
   "metadata": {},
   "outputs": [],
   "source": [
    "rng = random.Random(42)\n",
    "\n",
    "tam = 10000"
   ]
  },
  {
   "cell_type": "code",
   "execution_count": 11,
   "metadata": {},
   "outputs": [
    {
     "name": "stdout",
     "output_type": "stream",
     "text": [
      "CPU times: user 1min 2s, sys: 43.7 ms, total: 1min 2s\n",
      "Wall time: 1min 2s\n"
     ]
    }
   ],
   "source": [
    "%%time\n",
    "\n",
    "\n",
    "buffer = []\n",
    "percs75_batch = []\n",
    "\n",
    "for _ in range(100000):\n",
    "    v = rng.uniform(-100, 100)\n",
    "    buffer.append(v)\n",
    "    if len(buffer) <= tam:\n",
    "        continue\n",
    "        \n",
    "    percs75_batch.append(np.quantile(buffer, q=0.75))\n",
    "    buffer.pop(0)"
   ]
  },
  {
   "cell_type": "markdown",
   "metadata": {},
   "source": [
    "Podemos fazer um pouco melhor que isso."
   ]
  },
  {
   "cell_type": "code",
   "execution_count": 12,
   "metadata": {},
   "outputs": [],
   "source": [
    "rng = random.Random(42)"
   ]
  },
  {
   "cell_type": "code",
   "execution_count": 13,
   "metadata": {},
   "outputs": [
    {
     "name": "stdout",
     "output_type": "stream",
     "text": [
      "CPU times: user 8.35 s, sys: 0 ns, total: 8.35 s\n",
      "Wall time: 8.35 s\n"
     ]
    }
   ],
   "source": [
    "%%time\n",
    "\n",
    "qtl = stats.RollingQuantile(window_size=tam, q=0.75)\n",
    "percs75_incr = []\n",
    "\n",
    "for _ in range(100000):\n",
    "    v = rng.uniform(-100, 100)\n",
    "    qtl.update(v)\n",
    "    if len(qtl) <= tam:\n",
    "        continue\n",
    "        \n",
    "    percs75_incr.append(qtl.get())"
   ]
  },
  {
   "cell_type": "code",
   "execution_count": 14,
   "metadata": {
    "scrolled": true
   },
   "outputs": [
    {
     "data": {
      "text/plain": [
       "0"
      ]
     },
     "execution_count": 14,
     "metadata": {},
     "output_type": "execute_result"
    }
   ],
   "source": [
    "s_erros = 0\n",
    "\n",
    "for batch, incr in zip(percs75_batch, percs75_incr):\n",
    "    s_erros += (batch - incr)\n",
    "\n",
    "s_erros"
   ]
  },
  {
   "cell_type": "markdown",
   "metadata": {},
   "source": [
    "Espero tê-los convencido! O [módulo](https://riverml.xyz/dev/api/overview/#stats) `stats` do River tem várias funções úteis para sumarização de dados de forma incremental. Vale a pena checar! 🧐\n",
    "\n",
    "A razão pela qual eu quis mostrar tudo isso é porque vários desses algoritmos são os \"tijolos\" que compõem os algoritmos de aprendizado de máquina. Uma receita breve para online learning:\n",
    "\n",
    "- A junção de métricas estatísticas incrementais\n",
    "- Algumas grandezas probabilísticas\n",
    "- Algumas teorias de aprendizado de máquina que são genéricas e não limitadas ao cenário in-batch\n",
    "- Gradiente descendente\n",
    "- *otras cositas*\n",
    "\n",
    "Com isso tudo é possível formar boa parte dos algoritmos de aprendizado incremental. Mas isso é extremamente genérico de se dizer, não é? Bom, no fim das contas, o aprendizado de máquina tradicional também \"se resume\" a algumas coisas pontuais, mas que são extremamente abrangentes por si só.\n",
    "\n",
    "Que tal entendermos um pouco de como os exemplos anteriores funcionam e por que eles funcionam?\n",
    "\n",
    "## 3.2. Uma (extremamente) breve reflexão sobre complexidade dos algoritmos\n",
    "\n",
    "Quanto custa para calcular a variância (no caso, desvio padrão) e o percentil nos exemplos anteriores?\n",
    "\n",
    "**Modo batch**\n",
    "\n",
    "Variância:  $\\dfrac{\\sum_i^N (x_i - \\bar{x})}{N - 1}$\n",
    "\n",
    "- Média é calculada com o custo $O(n)$ -> todos os elementos devem ser somados e divididos pelo total de observações\n",
    "- Com a média em mãos, precisamos calcular o desvio de cada elemento para a média e somar tais desvios: $O(n)$\n",
    "- No fim das contas, o custo final é $O(n)$ (na notação assintótica), mas tivemos que percorrer todos os dados duas vezes (e, consequentemente, armazená-los).\n",
    "- Esse algoritmo também apresenta problemas de estabilidade, quando o número de observações é muito grande. Pode gerar erros numéricos de aproximação.\n",
    "\n",
    "Percentil:\n",
    "\n",
    "- Pegue um exemplo novo e remova o mais antigo\n",
    "- Ordene os dados: algo em torno de $O(n\\log n)$ (n é o tamanho do buffer)\n",
    "- Encontre a posição correta, interpole e retorne\n",
    "\n",
    "Se esse processo é repetido várias e várias vezes...\n",
    "\n",
    "**Modo incremental**\n",
    "\n",
    "\n",
    "Variância (algoritmo de Welford):\n",
    "\n",
    "- Precisamos de algumas variáveis:\n",
    "    - $n$: número de observações\n",
    "    - $\\overline{x}_n$: a média da amostral, após $n$ observações\n",
    "    - $M_{2, n}$: estatística de segunda ordem que gerará a variância\n",
    "- As atualizações das estatísticas se dão na seguinte forma:\n",
    "    - $\\overline{x}_n = \\overline{x}_{n-1} + \\dfrac{x_n - \\overline{x}_{n-1}}{n}$\n",
    "    - $M_{2,n} = M_{2,n-1} + (x_n - \\overline{x}_{n-1})(x_n - \\overline{x}_n)$\n",
    "- E as estatísticas são inicializadas da seguinte forma:\n",
    "    - $\\overline{x}_{0} \\leftarrow 0$\n",
    "    - $M_{2,0} \\leftarrow 0$\n",
    "- Para obter a variância amostral basta usar: $s_n^2 = \\dfrac{M_{2,n}}{n-1}$, para todo $n > 1$\n",
    "- De brinde, obtemos um preditor robusto para a média 🤓\n",
    "\n",
    "\n",
    "Percentil:\n",
    "\n",
    "- Mantemos dois buffers\n",
    "   - Um com os dados na ordem em que chegam\n",
    "   - Outro com os dados ordenados: o custo de inserção de um novo ponto em um vetor já ordenado é $O(\\log n)$\n",
    "   - A remoção de um valor no buffer ordenado é $O(n)$. No buffer não-ordenado é $O(1)$\n",
    "   - O cálculo do percentil usa o buffer ordenado\n",
    "   \n",
    "No fim das contas, sempre buscamos que cada atualização em uma métrica ou modelo de aprendizado tenha um custo constante ($O(1)$). Se isso não for possível, então um custo sub-linear é o objetivo!\n",
    "\n",
    "---\n",
    "\n",
    "Antes de prosseguirmos, vou mostrar mais uma aplicação legal de métricas incrementais, com requintes de processamento distribuido.\n",
    "\n",
    "**Situação hipotética:**\n",
    "\n",
    "E se estivéssemos calculando estatísticas de alguma coisa, mas a coleta era feita de forma separada? Por exemplo, estamos calculando a variância de alguma coisa a nível estadual, mas a coleta é feita por município?\n",
    "\n",
    "(Eu sou paranaense)"
   ]
  },
  {
   "cell_type": "code",
   "execution_count": 15,
   "metadata": {},
   "outputs": [],
   "source": [
    "rng = random.Random(7)"
   ]
  },
  {
   "cell_type": "code",
   "execution_count": 16,
   "metadata": {},
   "outputs": [
    {
     "data": {
      "text/plain": [
       "(39496.429786146546, 249442.43568603016)"
      ]
     },
     "execution_count": 16,
     "metadata": {},
     "output_type": "execute_result"
    }
   ],
   "source": [
    "dados_ca = [rng.gauss(1500, 200) for _ in range(15000)]\n",
    "dados_lndrn = [rng.gauss(2500, 500) for _ in range(600000)]\n",
    "\n",
    "np.var(dados_ca), np.var(dados_lndrn)"
   ]
  },
  {
   "cell_type": "markdown",
   "metadata": {},
   "source": [
    "E se quisermos calcular a variância (ou média) total de todos os municípios?"
   ]
  },
  {
   "cell_type": "code",
   "execution_count": 17,
   "metadata": {},
   "outputs": [
    {
     "data": {
      "text/plain": [
       "615000"
      ]
     },
     "execution_count": 17,
     "metadata": {},
     "output_type": "execute_result"
    }
   ],
   "source": [
    "dados_parana = []\n",
    "\n",
    "# dados_parana.extend(dados_abatiá)\n",
    "# ...\n",
    "dados_parana.extend(dados_ca)\n",
    "# ...\n",
    "dados_parana.extend(dados_lndrn)\n",
    "# ...\n",
    "# dados_parana.extend(dados_xambrê)\n",
    "\n",
    "len(dados_parana)"
   ]
  },
  {
   "cell_type": "code",
   "execution_count": 18,
   "metadata": {},
   "outputs": [
    {
     "data": {
      "text/plain": [
       "268085.14104958007"
      ]
     },
     "execution_count": 18,
     "metadata": {},
     "output_type": "execute_result"
    }
   ],
   "source": [
    "np.var(dados_parana)"
   ]
  },
  {
   "cell_type": "code",
   "execution_count": 19,
   "metadata": {
    "scrolled": true
   },
   "outputs": [
    {
     "data": {
      "text/plain": [
       "2475.927394402956"
      ]
     },
     "execution_count": 19,
     "metadata": {},
     "output_type": "execute_result"
    }
   ],
   "source": [
    "np.mean(dados_parana)"
   ]
  },
  {
   "cell_type": "markdown",
   "metadata": {},
   "source": [
    "Nós já sabemos como fazer esse mesmo processo de forma incremental:"
   ]
  },
  {
   "cell_type": "code",
   "execution_count": 20,
   "metadata": {},
   "outputs": [],
   "source": [
    "# estou considerando que todos os dados foram coletados, mas poderia usar o padrão, ddof=1\n",
    "var_ca = stats.Var(ddof=0)\n",
    "var_lndrn = stats.Var(ddof=0)\n",
    "\n",
    "for p in dados_ca:\n",
    "    var_ca.update(p)\n",
    "    \n",
    "for p in dados_lndrn:\n",
    "    var_lndrn.update(p)"
   ]
  },
  {
   "cell_type": "code",
   "execution_count": 21,
   "metadata": {},
   "outputs": [
    {
     "data": {
      "text/plain": [
       "(39496.429786146546, 249442.4356860276)"
      ]
     },
     "execution_count": 21,
     "metadata": {},
     "output_type": "execute_result"
    }
   ],
   "source": [
    "var_ca.get(), var_lndrn.get()"
   ]
  },
  {
   "cell_type": "markdown",
   "metadata": {},
   "source": [
    "Posso usar `stats.Mean` para obter a média. Mas se lembrarmos bem, o algoritmo de Welford tem um preditor de média \"lá no meio\", não tem?\n",
    "\n",
    "Voilà!"
   ]
  },
  {
   "cell_type": "code",
   "execution_count": 22,
   "metadata": {},
   "outputs": [
    {
     "data": {
      "text/plain": [
       "(1500.9742744265895, 1500.9742744265982)"
      ]
     },
     "execution_count": 22,
     "metadata": {},
     "output_type": "execute_result"
    }
   ],
   "source": [
    "var_ca.mean.get(), np.mean(dados_ca)"
   ]
  },
  {
   "cell_type": "markdown",
   "metadata": {},
   "source": [
    "Agora vem a parte mais legal 🙃\n",
    "\n",
    "Como obtemos as estatísticas para o estado inteiro?"
   ]
  },
  {
   "cell_type": "code",
   "execution_count": 23,
   "metadata": {},
   "outputs": [
    {
     "data": {
      "text/plain": [
       "(268085.1410495726, 268085.14104958007)"
      ]
     },
     "execution_count": 23,
     "metadata": {},
     "output_type": "execute_result"
    }
   ],
   "source": [
    "# Imagine que temos um for somando as estatísticas de todos os estados\n",
    "\n",
    "var_parana = var_ca + var_lndrn  # + os outros municipios\n",
    "\n",
    "var_parana.get(), np.var(dados_parana)"
   ]
  },
  {
   "cell_type": "code",
   "execution_count": 24,
   "metadata": {},
   "outputs": [
    {
     "data": {
      "text/plain": [
       "(2475.927394402848, 2475.927394402956)"
      ]
     },
     "execution_count": 24,
     "metadata": {},
     "output_type": "execute_result"
    }
   ],
   "source": [
    "var_parana.mean.get(), np.mean(dados_parana)"
   ]
  },
  {
   "cell_type": "markdown",
   "metadata": {},
   "source": [
    "E se a bela e formosa cidade de Cândido de Abreu tivesse sido esquecida? Os dados tivessem sido perdidos, sei lá...\n",
    "\n",
    "(quando eu era criança, minha cidade nem aparecia nos mapas impressos do Paraná, vai saber...)"
   ]
  },
  {
   "cell_type": "code",
   "execution_count": 25,
   "metadata": {},
   "outputs": [],
   "source": [
    "var_ca_backup = var_parana - var_lndrn  # - os outros municipios"
   ]
  },
  {
   "cell_type": "code",
   "execution_count": 26,
   "metadata": {
    "scrolled": true
   },
   "outputs": [
    {
     "data": {
      "text/plain": [
       "(39496.429786146546, 39496.42978614286)"
      ]
     },
     "execution_count": 26,
     "metadata": {},
     "output_type": "execute_result"
    }
   ],
   "source": [
    "var_ca.get(), var_ca_backup.get()"
   ]
  },
  {
   "cell_type": "code",
   "execution_count": 27,
   "metadata": {},
   "outputs": [
    {
     "data": {
      "text/plain": [
       "(1500.9742744265895, 1500.9742744265875)"
      ]
     },
     "execution_count": 27,
     "metadata": {},
     "output_type": "execute_result"
    }
   ],
   "source": [
    "var_ca.mean.get(), var_ca_backup.mean.get()"
   ]
  },
  {
   "cell_type": "markdown",
   "metadata": {},
   "source": [
    "No fim das contas, sempre existe um trade-off entre memória e tempo de processamento (e a quantidade de \"passadas\" nos dados) e a precisão dos resultados obtidos. Muitos dos algorítmos de online learning incluem um parâmetro ($\\delta$) que indica a porcentagem de \"certeza\" que você deseja ter nos seus resultados. Em geral, quanto mais certeza, mais tempo leva para tomar as decisões.\n",
    "\n",
    "\n",
    "# 4. Por que usar dicionários (ou, por que usar uma representação esparsa)?\n",
    "\n",
    "Um as primeiras coisas que podem chamar a atenção no River é o tipo de dados que é utilizado: dicionários python.\n",
    "\n",
    "- Chave x valor: chaves são únicas\n",
    "- Valores acessados via chave, ao invés de índice\n",
    "- Dicionários são estruturas naturalmente esparsas\n",
    "- Diferentemente de arrays, vetores, matrizes (e etc.) não possuem uma ordenação explícita\n",
    "- Podem ser extendidos\n",
    "- Podem ter variáveis de tipo misto\n",
    "\n",
    "Exemplos:"
   ]
  },
  {
   "cell_type": "code",
   "execution_count": 28,
   "metadata": {},
   "outputs": [
    {
     "data": {
      "text/plain": [
       "{'batata': 3,\n",
       " 'carro': 2,\n",
       " 'data': datetime.datetime(2021, 8, 30, 16, 35, 46, 971294),\n",
       " 'sim_ou_não': 'sim'}"
      ]
     },
     "execution_count": 28,
     "metadata": {},
     "output_type": "execute_result"
    }
   ],
   "source": [
    "from datetime import datetime\n",
    "\n",
    "x = {\n",
    "    \"batata\": 3,\n",
    "    \"carro\": 2,\n",
    "    \"data\": datetime.now(),\n",
    "    \"sim_ou_não\": \"sim\"\n",
    "}\n",
    "\n",
    "x"
   ]
  },
  {
   "cell_type": "code",
   "execution_count": 29,
   "metadata": {},
   "outputs": [
    {
     "data": {
      "text/plain": [
       "{'batata': 3,\n",
       " 'carro': 2,\n",
       " 'data': datetime.datetime(2021, 8, 30, 16, 35, 46, 971294),\n",
       " 'sim_ou_não': 'sim',\n",
       " 'mais um': True}"
      ]
     },
     "execution_count": 29,
     "metadata": {},
     "output_type": "execute_result"
    }
   ],
   "source": [
    "x[\"mais um\"] = True\n",
    "x"
   ]
  },
  {
   "cell_type": "code",
   "execution_count": 30,
   "metadata": {},
   "outputs": [
    {
     "data": {
      "text/plain": [
       "{'batata': 3, 'carro': 2, 'sim_ou_não': 'sim', 'mais um': True}"
      ]
     },
     "execution_count": 30,
     "metadata": {},
     "output_type": "execute_result"
    }
   ],
   "source": [
    "del x[\"data\"]\n",
    "x"
   ]
  },
  {
   "cell_type": "markdown",
   "metadata": {},
   "source": [
    "Esse tipo de estrutura é muito parecida com o popular formato JSON (para transferência de dados)!\n",
    "\n",
    "Que tal compararmos com o que é mais usual?"
   ]
  },
  {
   "cell_type": "code",
   "execution_count": 31,
   "metadata": {},
   "outputs": [
    {
     "data": {
      "text/plain": [
       "(array([1.423e+01, 1.710e+00, 2.430e+00, 1.560e+01, 1.270e+02, 2.800e+00,\n",
       "        3.060e+00, 2.800e-01, 2.290e+00, 5.640e+00, 1.040e+00, 3.920e+00,\n",
       "        1.065e+03]),\n",
       " ['alcohol',\n",
       "  'malic_acid',\n",
       "  'ash',\n",
       "  'alcalinity_of_ash',\n",
       "  'magnesium',\n",
       "  'total_phenols',\n",
       "  'flavanoids',\n",
       "  'nonflavanoid_phenols',\n",
       "  'proanthocyanins',\n",
       "  'color_intensity',\n",
       "  'hue',\n",
       "  'od280/od315_of_diluted_wines',\n",
       "  'proline'])"
      ]
     },
     "execution_count": 31,
     "metadata": {},
     "output_type": "execute_result"
    }
   ],
   "source": [
    "data = load_wine()\n",
    "\n",
    "X, y = data.data, data.target\n",
    "\n",
    "X[0, :], data.feature_names"
   ]
  },
  {
   "cell_type": "code",
   "execution_count": 32,
   "metadata": {},
   "outputs": [
    {
     "data": {
      "text/plain": [
       "(0, array(['class_0', 'class_1', 'class_2'], dtype='<U7'))"
      ]
     },
     "execution_count": 32,
     "metadata": {},
     "output_type": "execute_result"
    }
   ],
   "source": [
    "y[0], data.target_names"
   ]
  },
  {
   "cell_type": "markdown",
   "metadata": {},
   "source": [
    "Primeiramente, vamos colocar o sklearn à prova."
   ]
  },
  {
   "cell_type": "code",
   "execution_count": 33,
   "metadata": {},
   "outputs": [
    {
     "data": {
      "text/plain": [
       "((176, 13), (2, 13))"
      ]
     },
     "execution_count": 33,
     "metadata": {},
     "output_type": "execute_result"
    }
   ],
   "source": [
    "X_tr, y_tr = X[:-2, :], y[:-2]\n",
    "X_ts, y_ts = X[-2:, :], y[-2:]\n",
    "\n",
    "X_tr.shape, X_ts.shape"
   ]
  },
  {
   "cell_type": "code",
   "execution_count": 34,
   "metadata": {
    "scrolled": true
   },
   "outputs": [
    {
     "data": {
      "text/plain": [
       "array([2, 2])"
      ]
     },
     "execution_count": 34,
     "metadata": {},
     "output_type": "execute_result"
    }
   ],
   "source": [
    "from sklearn.naive_bayes import GaussianNB\n",
    "\n",
    "nb = GaussianNB()\n",
    "\n",
    "nb.fit(X_tr, y_tr)\n",
    "\n",
    "nb.predict(X_ts)"
   ]
  },
  {
   "cell_type": "markdown",
   "metadata": {},
   "source": [
    "Mas, e se uma feature estivesse faltando?"
   ]
  },
  {
   "cell_type": "code",
   "execution_count": 35,
   "metadata": {},
   "outputs": [
    {
     "name": "stdout",
     "output_type": "stream",
     "text": [
      "operands could not be broadcast together with shapes (2,12) (13,) \n"
     ]
    }
   ],
   "source": [
    "try:\n",
    "    nb.predict(X_ts[:, 1:])\n",
    "except ValueError as error:\n",
    "    print(error)"
   ]
  },
  {
   "cell_type": "markdown",
   "metadata": {},
   "source": [
    "Em Online Learning nós não deveríamos ficar nos preocupando com \"coisa pouca\" assim. Brincadeiras a parte, em um cenário de aprendizado online, sensores podem falhar, novos dados podem surgir, entre muitas outras coisas que podem alterar os dados de entrada. Precisamos de uma representação e modelos robustos quanto a isso!\n",
    "\n",
    "Com o River, a vasta maioria dos modelos está pronta para lidar com esse tipo de problema! 🎉"
   ]
  },
  {
   "cell_type": "code",
   "execution_count": 36,
   "metadata": {},
   "outputs": [],
   "source": [
    "from river import naive_bayes\n",
    "\n",
    "gnb = naive_bayes.GaussianNB()\n",
    "dataset = stream.iter_sklearn_dataset(load_wine())\n",
    "\n",
    "rng = random.Random(42)\n",
    "\n",
    "# Chance de feature ser ignorada\n",
    "del_chance = 0.2\n",
    "\n",
    "n_linhas_incompletas = 0\n",
    "for i, (x, y) in enumerate(dataset):\n",
    "    if i == 176:\n",
    "        break\n",
    "    \n",
    "    x_copy = x.copy()\n",
    "    aux = 0\n",
    "    for xi in x:\n",
    "        if rng.random() <= del_chance:\n",
    "            del x_copy[xi]\n",
    "            aux = 1\n",
    "        \n",
    "        # Atualiza o número de linhas incompletas\n",
    "        n_linhas_incompletas += aux\n",
    "    \n",
    "    gnb.learn_one(x_copy, y)"
   ]
  },
  {
   "cell_type": "code",
   "execution_count": 37,
   "metadata": {
    "scrolled": false
   },
   "outputs": [
    {
     "data": {
      "text/plain": [
       "({'alcohol': 13.17,\n",
       "  'malic_acid': 2.59,\n",
       "  'ash': 2.37,\n",
       "  'alcalinity_of_ash': 20.0,\n",
       "  'magnesium': 120.0,\n",
       "  'total_phenols': 1.65,\n",
       "  'flavanoids': 0.68,\n",
       "  'nonflavanoid_phenols': 0.53,\n",
       "  'proanthocyanins': 1.46,\n",
       "  'color_intensity': 9.3,\n",
       "  'hue': 0.6,\n",
       "  'od280/od315_of_diluted_wines': 1.62,\n",
       "  'proline': 840.0},\n",
       " 2)"
      ]
     },
     "execution_count": 37,
     "metadata": {},
     "output_type": "execute_result"
    }
   ],
   "source": [
    "x, y"
   ]
  },
  {
   "cell_type": "code",
   "execution_count": 38,
   "metadata": {},
   "outputs": [
    {
     "data": {
      "text/plain": [
       "{0: 2.2901730526821133e-23, 1: 4.523692607178262e-14, 2: 0.9999999999999538}"
      ]
     },
     "execution_count": 38,
     "metadata": {},
     "output_type": "execute_result"
    }
   ],
   "source": [
    "gnb.predict_proba_one(x)"
   ]
  },
  {
   "cell_type": "markdown",
   "metadata": {},
   "source": [
    "Vamos bagunçar a última amostra:"
   ]
  },
  {
   "cell_type": "code",
   "execution_count": 39,
   "metadata": {
    "scrolled": true
   },
   "outputs": [
    {
     "data": {
      "text/plain": [
       "['alcohol',\n",
       " 'malic_acid',\n",
       " 'ash',\n",
       " 'alcalinity_of_ash',\n",
       " 'magnesium',\n",
       " 'total_phenols',\n",
       " 'flavanoids',\n",
       " 'nonflavanoid_phenols',\n",
       " 'proanthocyanins',\n",
       " 'color_intensity',\n",
       " 'hue',\n",
       " 'od280/od315_of_diluted_wines',\n",
       " 'proline']"
      ]
     },
     "execution_count": 39,
     "metadata": {},
     "output_type": "execute_result"
    }
   ],
   "source": [
    "x, y = next(dataset)\n",
    "list(x.keys())"
   ]
  },
  {
   "cell_type": "markdown",
   "metadata": {},
   "source": [
    "Vou tirar um cópia do `x` e remover umas coisas"
   ]
  },
  {
   "cell_type": "code",
   "execution_count": 40,
   "metadata": {},
   "outputs": [
    {
     "data": {
      "text/plain": [
       "{'alcohol': 14.13,\n",
       " 'ash': 2.74,\n",
       " 'alcalinity_of_ash': 24.5,\n",
       " 'magnesium': 96.0,\n",
       " 'total_phenols': 2.05,\n",
       " 'nonflavanoid_phenols': 0.56,\n",
       " 'proanthocyanins': 1.35,\n",
       " 'color_intensity': 9.2,\n",
       " 'od280/od315_of_diluted_wines': 1.6,\n",
       " 'proline': 560.0}"
      ]
     },
     "execution_count": 40,
     "metadata": {},
     "output_type": "execute_result"
    }
   ],
   "source": [
    "x_copy = x.copy()\n",
    "\n",
    "del x_copy[\"malic_acid\"]\n",
    "del x_copy[\"hue\"]\n",
    "del x_copy[\"flavanoids\"]\n",
    "\n",
    "x_copy"
   ]
  },
  {
   "cell_type": "markdown",
   "metadata": {},
   "source": [
    "Será que o nosso modelo dá conta do recado?"
   ]
  },
  {
   "cell_type": "code",
   "execution_count": 41,
   "metadata": {},
   "outputs": [
    {
     "data": {
      "text/plain": [
       "({0: 7.394823717897321e-13, 1: 8.511456030879924e-13, 2: 0.9999999999984084},\n",
       " 2)"
      ]
     },
     "execution_count": 41,
     "metadata": {},
     "output_type": "execute_result"
    }
   ],
   "source": [
    "gnb.predict_proba_one(x_copy), y"
   ]
  },
  {
   "cell_type": "markdown",
   "metadata": {},
   "source": [
    "E se ao invés de diminuir o número de features aumentasse?"
   ]
  },
  {
   "cell_type": "code",
   "execution_count": 42,
   "metadata": {},
   "outputs": [
    {
     "data": {
      "text/plain": [
       "{'alcohol': 14.13,\n",
       " 'malic_acid': 4.1,\n",
       " 'ash': 2.74,\n",
       " 'alcalinity_of_ash': 24.5,\n",
       " 'magnesium': 96.0,\n",
       " 'total_phenols': 2.05,\n",
       " 'flavanoids': 0.76,\n",
       " 'nonflavanoid_phenols': 0.56,\n",
       " 'proanthocyanins': 1.35,\n",
       " 'color_intensity': 9.2,\n",
       " 'hue': 0.61,\n",
       " 'od280/od315_of_diluted_wines': 1.6,\n",
       " 'proline': 560.0,\n",
       " 'primeira extra': 7.89,\n",
       " 'segunda extra': 2}"
      ]
     },
     "execution_count": 42,
     "metadata": {},
     "output_type": "execute_result"
    }
   ],
   "source": [
    "x[\"primeira extra\"] = 7.89\n",
    "x[\"segunda extra\"] = 2\n",
    "\n",
    "x"
   ]
  },
  {
   "cell_type": "code",
   "execution_count": 43,
   "metadata": {},
   "outputs": [
    {
     "data": {
      "text/plain": [
       "1"
      ]
     },
     "execution_count": 43,
     "metadata": {},
     "output_type": "execute_result"
    }
   ],
   "source": [
    "gnb.learn_one(x, y)\n",
    "\n",
    "gnb.predict_one({\"primeira extra\": 7.8, \"segunda extra\": 1.5})"
   ]
  },
  {
   "cell_type": "code",
   "execution_count": 44,
   "metadata": {},
   "outputs": [
    {
     "data": {
      "text/plain": [
       "(array([0, 1, 2]), array([59, 71, 48]))"
      ]
     },
     "execution_count": 44,
     "metadata": {},
     "output_type": "execute_result"
    }
   ],
   "source": [
    "np.unique(data.target, return_counts=True)"
   ]
  },
  {
   "cell_type": "markdown",
   "metadata": {},
   "source": [
    "Cada tipo de modelo implementa estratégias diferentes para lidar com atributos emergentes ou faltantes!\n",
    "\n",
    "No nosso exemplo, \"1\" era a classe majoritária. Essa foi a escolha feita pelo GaussianNB, já que há pouca informação acerca dos dois atributos extra que adicionamos. Mas eles já fazem parte do modelo e serão atualizados caso novas observações cheguem!"
   ]
  },
  {
   "cell_type": "code",
   "execution_count": 45,
   "metadata": {},
   "outputs": [
    {
     "data": {
      "text/plain": [
       "defaultdict(functools.partial(<class 'collections.defaultdict'>, <class 'river.proba.gaussian.Gaussian'>),\n",
       "            {0: defaultdict(river.proba.gaussian.Gaussian,\n",
       "                         {'alcohol': 𝒩(μ=13.751, σ=0.434),\n",
       "                          'ash': 𝒩(μ=2.473, σ=0.234),\n",
       "                          'alcalinity_of_ash': 𝒩(μ=16.896, σ=2.671),\n",
       "                          'magnesium': 𝒩(μ=107.082, σ=10.720),\n",
       "                          'total_phenols': 𝒩(μ=2.811, σ=0.286),\n",
       "                          'flavanoids': 𝒩(μ=2.955, σ=0.367),\n",
       "                          'proanthocyanins': 𝒩(μ=1.881, σ=0.399),\n",
       "                          'hue': 𝒩(μ=1.077, σ=0.119),\n",
       "                          'od280/od315_of_diluted_wines': 𝒩(μ=3.131, σ=0.348),\n",
       "                          'malic_acid': 𝒩(μ=1.982, σ=0.661),\n",
       "                          'nonflavanoid_phenols': 𝒩(μ=0.288, σ=0.071),\n",
       "                          'color_intensity': 𝒩(μ=5.443, σ=1.342),\n",
       "                          'proline': 𝒩(μ=1114.224, σ=228.521),\n",
       "                          'primeira extra': 𝒩(μ=0.000, σ=0.000),\n",
       "                          'segunda extra': 𝒩(μ=0.000, σ=0.000)}),\n",
       "             1: defaultdict(river.proba.gaussian.Gaussian,\n",
       "                         {'alcohol': 𝒩(μ=12.261, σ=0.549),\n",
       "                          'ash': 𝒩(μ=2.228, σ=0.334),\n",
       "                          'alcalinity_of_ash': 𝒩(μ=20.347, σ=3.468),\n",
       "                          'magnesium': 𝒩(μ=94.476, σ=16.685),\n",
       "                          'flavanoids': 𝒩(μ=2.040, σ=0.711),\n",
       "                          'nonflavanoid_phenols': 𝒩(μ=0.371, σ=0.130),\n",
       "                          'color_intensity': 𝒩(μ=3.128, σ=0.905),\n",
       "                          'hue': 𝒩(μ=1.065, σ=0.184),\n",
       "                          'od280/od315_of_diluted_wines': 𝒩(μ=2.751, σ=0.508),\n",
       "                          'malic_acid': 𝒩(μ=1.995, σ=1.083),\n",
       "                          'total_phenols': 𝒩(μ=2.288, σ=0.548),\n",
       "                          'proanthocyanins': 𝒩(μ=1.687, σ=0.617),\n",
       "                          'proline': 𝒩(μ=523.582, σ=169.681),\n",
       "                          'primeira extra': 𝒩(μ=0.000, σ=0.000),\n",
       "                          'segunda extra': 𝒩(μ=0.000, σ=0.000)}),\n",
       "             2: defaultdict(river.proba.gaussian.Gaussian,\n",
       "                         {'alcohol': 𝒩(μ=13.178, σ=0.544),\n",
       "                          'malic_acid': 𝒩(μ=3.375, σ=1.205),\n",
       "                          'alcalinity_of_ash': 𝒩(μ=21.650, σ=2.332),\n",
       "                          'magnesium': 𝒩(μ=98.128, σ=10.416),\n",
       "                          'nonflavanoid_phenols': 𝒩(μ=0.439, σ=0.137),\n",
       "                          'proanthocyanins': 𝒩(μ=1.168, σ=0.433),\n",
       "                          'color_intensity': 𝒩(μ=7.081, σ=2.336),\n",
       "                          'hue': 𝒩(μ=0.687, σ=0.105),\n",
       "                          'od280/od315_of_diluted_wines': 𝒩(μ=1.692, σ=0.272),\n",
       "                          'proline': 𝒩(μ=620.488, σ=110.735),\n",
       "                          'ash': 𝒩(μ=2.451, σ=0.183),\n",
       "                          'total_phenols': 𝒩(μ=1.723, σ=0.348),\n",
       "                          'flavanoids': 𝒩(μ=0.763, σ=0.276),\n",
       "                          'primeira extra': 𝒩(μ=7.890, σ=0.000),\n",
       "                          'segunda extra': 𝒩(μ=2.000, σ=0.000)})})"
      ]
     },
     "execution_count": 45,
     "metadata": {},
     "output_type": "execute_result"
    }
   ],
   "source": [
    "gnb.gaussians"
   ]
  },
  {
   "cell_type": "markdown",
   "metadata": {},
   "source": [
    "# 5. Como avaliar um modelo?\n",
    "\n",
    "Já vimos em exemplos passados que os dados foram primeiramente utilizados para teste e depois para treino. Nada de Cross-validation, Leave-one-out, holdout e coisas do tipo.\n",
    "\n",
    "Esse tipo de avaliação se aproxima mais de um cenário de produção real. Normalmente, obtemos um dado sem a sua label (no caso supervisionado, obviamente) e precisamos fazer predições. Só depois de um tempo a verdadeira label daquele exemplo será conhecida.\n",
    "\n",
    "Nos exemplos até aqui, nós assumimos que logo após o treinamento do modelo com uma amostra, a label é revelada. No entanto, um cenário ainda mais realístico é aquele onde existe um *delay* entre a predição e a chegada da label. Em alguns casos, certos exemplos podem nunca ter sua label obtida!\n",
    "\n",
    "Esse tipo de estratégia de avaliação é chamada de \"validação progressiva\" (*progressive validation*) ou \"*prequential*\".\n",
    "\n",
    "Deixo esse [ótimo post do Max Halford](https://maxhalford.github.io/blog/online-learning-evaluation/), onde esse tema é discutido em detalhes.\n",
    "\n",
    "No River, podemos utilizar a função `progressive_val_score` disponível no módulo `evaluate` para realizar validações progressivas! Daqui para frente, essa função será utilizada.\n",
    "\n",
    "Obviamente, podemos também escrever alguns `for` e customizar a estratégia de avaliação. Fica de acordo com o critério e a necessidade de cada um!"
   ]
  },
  {
   "cell_type": "code",
   "execution_count": 46,
   "metadata": {
    "scrolled": true
   },
   "outputs": [
    {
     "name": "stdout",
     "output_type": "stream",
     "text": [
      "[5,000] Accuracy: 69.65%, MicroF1: 0.696532, BalancedAccuracy: 69.12% – 0:00:02.272247 – 84.42 KB\n",
      "[10,000] Accuracy: 72.09%, MicroF1: 0.720893, BalancedAccuracy: 71.42% – 0:00:04.363503 – 90.96 KB\n",
      "[15,000] Accuracy: 73.55%, MicroF1: 0.735539, BalancedAccuracy: 73.12% – 0:00:05.784046 – 156.28 KB\n",
      "[20,000] Accuracy: 75.60%, MicroF1: 0.756016, BalancedAccuracy: 75.22% – 0:00:08.030560 – 199.82 KB\n",
      "[25,000] Accuracy: 78.33%, MicroF1: 0.783345, BalancedAccuracy: 78.02% – 0:00:09.915172 – 243.4 KB\n",
      "[30,000] Accuracy: 80.23%, MicroF1: 0.802261, BalancedAccuracy: 80.00% – 0:00:12.113265 – 308.72 KB\n",
      "[35,000] Accuracy: 81.62%, MicroF1: 0.816199, BalancedAccuracy: 81.43% – 0:00:14.306578 – 374.04 KB\n",
      "[40,000] Accuracy: 82.81%, MicroF1: 0.828103, BalancedAccuracy: 82.63% – 0:00:16.167678 – 439.36 KB\n",
      "[45,000] Accuracy: 83.74%, MicroF1: 0.837382, BalancedAccuracy: 83.57% – 0:00:18.097457 – 460.53 KB\n",
      "[50,000] Accuracy: 84.52%, MicroF1: 0.845226, BalancedAccuracy: 84.36% – 0:00:19.968332 – 504.68 KB\n"
     ]
    },
    {
     "data": {
      "text/plain": [
       "Accuracy: 84.52%, MicroF1: 0.845226, BalancedAccuracy: 84.36%"
      ]
     },
     "execution_count": 46,
     "metadata": {},
     "output_type": "execute_result"
    }
   ],
   "source": [
    "from river import evaluate\n",
    "from river import metrics\n",
    "from river import synth\n",
    "\n",
    "\n",
    "def label_delay(x, y):\n",
    "    return rng.randint(0, 100)\n",
    "\n",
    "\n",
    "rng = random.Random(8)\n",
    "dataset = synth.RandomRBF(seed_sample=7, seed_model=9)\n",
    "model = tree.HoeffdingTreeClassifier()\n",
    "\n",
    "# Podemos combinar métricas com operadores de pipeline!\n",
    "metric = metrics.Accuracy() + metrics.MicroF1() + metrics.BalancedAccuracy()\n",
    "\n",
    "evaluate.progressive_val_score(\n",
    "    dataset=dataset.take(50000),\n",
    "    model=model,\n",
    "    metric=metric,\n",
    "    print_every=5000,\n",
    "    show_memory=True,\n",
    "    show_time=True,\n",
    "    delay=label_delay\n",
    ")"
   ]
  },
  {
   "cell_type": "code",
   "execution_count": 47,
   "metadata": {},
   "outputs": [
    {
     "data": {
      "image/svg+xml": [
       "<?xml version=\"1.0\" encoding=\"UTF-8\" standalone=\"no\"?>\n",
       "<!DOCTYPE svg PUBLIC \"-//W3C//DTD SVG 1.1//EN\"\n",
       " \"http://www.w3.org/Graphics/SVG/1.1/DTD/svg11.dtd\">\n",
       "<!-- Generated by graphviz version 2.43.0 (0)\n",
       " -->\n",
       "<!-- Title: %3 Pages: 1 -->\n",
       "<svg width=\"1125pt\" height=\"692pt\"\n",
       " viewBox=\"0.00 0.00 1125.00 692.00\" xmlns=\"http://www.w3.org/2000/svg\" xmlns:xlink=\"http://www.w3.org/1999/xlink\">\n",
       "<g id=\"graph0\" class=\"graph\" transform=\"scale(1 1) rotate(0) translate(4 688)\">\n",
       "<title>%3</title>\n",
       "<polygon fill=\"white\" stroke=\"transparent\" points=\"-4,4 -4,-688 1121,-688 1121,4 -4,4\"/>\n",
       "<!-- 0 -->\n",
       "<g id=\"node1\" class=\"node\">\n",
       "<title>0</title>\n",
       "<polygon fill=\"#fdf7f3\" stroke=\"black\" stroke-width=\"1.2\" points=\"510.5,-684 456.5,-684 456.5,-648 510.5,-648 510.5,-684\"/>\n",
       "<text text-anchor=\"middle\" x=\"483.5\" y=\"-663.2\" font-family=\"trebuchet\" font-size=\"11.00\">7</text>\n",
       "</g>\n",
       "<!-- 1 -->\n",
       "<g id=\"node2\" class=\"node\">\n",
       "<title>1</title>\n",
       "<polygon fill=\"#f4cbad\" stroke=\"black\" stroke-width=\"1.2\" points=\"415.5,-612 361.5,-612 361.5,-576 415.5,-576 415.5,-612\"/>\n",
       "<text text-anchor=\"middle\" x=\"388.5\" y=\"-591.2\" font-family=\"trebuchet\" font-size=\"11.00\">1</text>\n",
       "</g>\n",
       "<!-- 0&#45;&gt;1 -->\n",
       "<g id=\"edge1\" class=\"edge\">\n",
       "<title>0&#45;&gt;1</title>\n",
       "<path fill=\"none\" stroke=\"black\" stroke-width=\"0.6\" d=\"M460,-647.91C460,-624.87 460,-588 460,-588 460,-588 425.53,-588 425.53,-588\"/>\n",
       "<polygon fill=\"black\" stroke=\"black\" stroke-width=\"0.6\" points=\"425.53,-584.5 415.53,-588 425.53,-591.5 425.53,-584.5\"/>\n",
       "<text text-anchor=\"middle\" x=\"443\" y=\"-603.12\" font-family=\"Times,serif\" font-size=\"7.00\">≤ 0.2283</text>\n",
       "</g>\n",
       "<!-- 12 -->\n",
       "<g id=\"node13\" class=\"node\">\n",
       "<title>12</title>\n",
       "<polygon fill=\"#fbfdfe\" stroke=\"black\" stroke-width=\"1.2\" points=\"605.5,-612 551.5,-612 551.5,-576 605.5,-576 605.5,-612\"/>\n",
       "<text text-anchor=\"middle\" x=\"578.5\" y=\"-591.2\" font-family=\"trebuchet\" font-size=\"11.00\">4</text>\n",
       "</g>\n",
       "<!-- 0&#45;&gt;12 -->\n",
       "<g id=\"edge12\" class=\"edge\">\n",
       "<title>0&#45;&gt;12</title>\n",
       "<path fill=\"none\" stroke=\"black\" stroke-width=\"0.6\" d=\"M496.25,-647.97C496.25,-628.42 496.25,-600 496.25,-600 496.25,-600 541.11,-600 541.11,-600\"/>\n",
       "<polygon fill=\"black\" stroke=\"black\" stroke-width=\"0.6\" points=\"541.11,-603.5 551.11,-600 541.11,-596.5 541.11,-603.5\"/>\n",
       "<text text-anchor=\"middle\" x=\"479.25\" y=\"-603.95\" font-family=\"Times,serif\" font-size=\"7.00\">&gt; 0.2283</text>\n",
       "</g>\n",
       "<!-- 2 -->\n",
       "<g id=\"node3\" class=\"node\">\n",
       "<title>2</title>\n",
       "<polygon fill=\"#dfeffb\" stroke=\"black\" stroke-width=\"1.2\" points=\"251.5,-540 197.5,-540 197.5,-504 251.5,-504 251.5,-540\"/>\n",
       "<text text-anchor=\"middle\" x=\"224.5\" y=\"-519.2\" font-family=\"trebuchet\" font-size=\"11.00\">0</text>\n",
       "</g>\n",
       "<!-- 1&#45;&gt;2 -->\n",
       "<g id=\"edge2\" class=\"edge\">\n",
       "<title>1&#45;&gt;2</title>\n",
       "<path fill=\"none\" stroke=\"black\" stroke-width=\"0.6\" d=\"M361.42,-594C314.84,-594 224.5,-594 224.5,-594 224.5,-594 224.5,-550.17 224.5,-550.17\"/>\n",
       "<polygon fill=\"black\" stroke=\"black\" stroke-width=\"0.6\" points=\"228,-550.17 224.5,-540.17 221,-550.17 228,-550.17\"/>\n",
       "<text text-anchor=\"middle\" x=\"254.04\" y=\"-596.4\" font-family=\"Times,serif\" font-size=\"7.00\">≤ 0.5631</text>\n",
       "</g>\n",
       "<!-- 7 -->\n",
       "<g id=\"node8\" class=\"node\">\n",
       "<title>7</title>\n",
       "<polygon fill=\"#eb9e66\" stroke=\"black\" stroke-width=\"1.2\" points=\"415.5,-540 361.5,-540 361.5,-504 415.5,-504 415.5,-540\"/>\n",
       "<text text-anchor=\"middle\" x=\"388.5\" y=\"-519.2\" font-family=\"trebuchet\" font-size=\"11.00\">4</text>\n",
       "</g>\n",
       "<!-- 1&#45;&gt;7 -->\n",
       "<g id=\"edge7\" class=\"edge\">\n",
       "<title>1&#45;&gt;7</title>\n",
       "<path fill=\"none\" stroke=\"black\" stroke-width=\"0.6\" d=\"M388.5,-575.83C388.5,-575.83 388.5,-550.41 388.5,-550.41\"/>\n",
       "<polygon fill=\"black\" stroke=\"black\" stroke-width=\"0.6\" points=\"392,-550.41 388.5,-540.41 385,-550.41 392,-550.41\"/>\n",
       "<text text-anchor=\"middle\" x=\"371.5\" y=\"-565.52\" font-family=\"Times,serif\" font-size=\"7.00\">&gt; 0.5631</text>\n",
       "</g>\n",
       "<!-- 3 -->\n",
       "<g id=\"node4\" class=\"node\">\n",
       "<title>3</title>\n",
       "<polygon fill=\"#fffefd\" stroke=\"black\" stroke-width=\"1.2\" points=\"156.5,-462 102.5,-462 102.5,-426 156.5,-426 156.5,-462\"/>\n",
       "<text text-anchor=\"middle\" x=\"129.5\" y=\"-441.2\" font-family=\"trebuchet\" font-size=\"11.00\">6</text>\n",
       "</g>\n",
       "<!-- 2&#45;&gt;3 -->\n",
       "<g id=\"edge3\" class=\"edge\">\n",
       "<title>2&#45;&gt;3</title>\n",
       "<path fill=\"none\" stroke=\"black\" stroke-width=\"0.6\" d=\"M197.28,-522C169.2,-522 129.5,-522 129.5,-522 129.5,-522 129.5,-472.09 129.5,-472.09\"/>\n",
       "<polygon fill=\"black\" stroke=\"black\" stroke-width=\"0.6\" points=\"133,-472.09 129.5,-462.09 126,-472.09 133,-472.09\"/>\n",
       "<text text-anchor=\"middle\" x=\"121.43\" y=\"-524.4\" font-family=\"Times,serif\" font-size=\"7.00\">≤ 0.8408</text>\n",
       "</g>\n",
       "<!-- 6 -->\n",
       "<g id=\"node7\" class=\"node\">\n",
       "<title>6</title>\n",
       "<polygon fill=\"#66b3eb\" stroke=\"black\" stroke-width=\"1.2\" points=\"274,-468 175,-468 175,-420 274,-420 274,-468\"/>\n",
       "<text text-anchor=\"middle\" x=\"224.5\" y=\"-459.2\" font-family=\"trebuchet\" font-size=\"11.00\">Class 0:</text>\n",
       "<text text-anchor=\"middle\" x=\"224.5\" y=\"-447.2\" font-family=\"trebuchet\" font-size=\"11.00\">\tP(0) = 0.9</text>\n",
       "<text text-anchor=\"middle\" x=\"224.5\" y=\"-435.2\" font-family=\"trebuchet\" font-size=\"11.00\">\tP(1) = 0.1</text>\n",
       "<text text-anchor=\"middle\" x=\"224.5\" y=\"-423.2\" font-family=\"trebuchet\" font-size=\"11.00\">samples: 1170</text>\n",
       "</g>\n",
       "<!-- 2&#45;&gt;6 -->\n",
       "<g id=\"edge6\" class=\"edge\">\n",
       "<title>2&#45;&gt;6</title>\n",
       "<path fill=\"none\" stroke=\"black\" stroke-width=\"0.6\" d=\"M224.5,-503.91C224.5,-503.91 224.5,-478.2 224.5,-478.2\"/>\n",
       "<polygon fill=\"black\" stroke=\"black\" stroke-width=\"0.6\" points=\"228,-478.2 224.5,-468.2 221,-478.2 228,-478.2\"/>\n",
       "<text text-anchor=\"middle\" x=\"207.5\" y=\"-493.45\" font-family=\"Times,serif\" font-size=\"7.00\">&gt; 0.8408</text>\n",
       "</g>\n",
       "<!-- 4 -->\n",
       "<g id=\"node5\" class=\"node\">\n",
       "<title>4</title>\n",
       "<polygon fill=\"#eba069\" stroke=\"black\" stroke-width=\"1.2\" points=\"99,-384 0,-384 0,-336 99,-336 99,-384\"/>\n",
       "<text text-anchor=\"middle\" x=\"49.5\" y=\"-375.2\" font-family=\"trebuchet\" font-size=\"11.00\">Class 1:</text>\n",
       "<text text-anchor=\"middle\" x=\"49.5\" y=\"-363.2\" font-family=\"trebuchet\" font-size=\"11.00\">\tP(0) = 0.1</text>\n",
       "<text text-anchor=\"middle\" x=\"49.5\" y=\"-351.2\" font-family=\"trebuchet\" font-size=\"11.00\">\tP(1) = 0.9</text>\n",
       "<text text-anchor=\"middle\" x=\"49.5\" y=\"-339.2\" font-family=\"trebuchet\" font-size=\"11.00\">samples: 410</text>\n",
       "</g>\n",
       "<!-- 3&#45;&gt;4 -->\n",
       "<g id=\"edge4\" class=\"edge\">\n",
       "<title>3&#45;&gt;4</title>\n",
       "<path fill=\"none\" stroke=\"black\" stroke-width=\"0.6\" d=\"M109.75,-425.77C109.75,-401.07 109.75,-360 109.75,-360 109.75,-360 108.7,-360 108.7,-360\"/>\n",
       "<polygon fill=\"black\" stroke=\"black\" stroke-width=\"0.6\" points=\"109.26,-356.5 99.26,-360 109.26,-363.5 109.26,-356.5\"/>\n",
       "<text text-anchor=\"middle\" x=\"92.75\" y=\"-394.76\" font-family=\"Times,serif\" font-size=\"7.00\">≤ 0.1779</text>\n",
       "</g>\n",
       "<!-- 5 -->\n",
       "<g id=\"node6\" class=\"node\">\n",
       "<title>5</title>\n",
       "<polygon fill=\"#c7e4f8\" stroke=\"black\" stroke-width=\"1.2\" points=\"216,-384 117,-384 117,-336 216,-336 216,-384\"/>\n",
       "<text text-anchor=\"middle\" x=\"166.5\" y=\"-375.2\" font-family=\"trebuchet\" font-size=\"11.00\">Class 0:</text>\n",
       "<text text-anchor=\"middle\" x=\"166.5\" y=\"-363.2\" font-family=\"trebuchet\" font-size=\"11.00\">\tP(0) = 0.6</text>\n",
       "<text text-anchor=\"middle\" x=\"166.5\" y=\"-351.2\" font-family=\"trebuchet\" font-size=\"11.00\">\tP(1) = 0.4</text>\n",
       "<text text-anchor=\"middle\" x=\"166.5\" y=\"-339.2\" font-family=\"trebuchet\" font-size=\"11.00\">samples: 929</text>\n",
       "</g>\n",
       "<!-- 3&#45;&gt;5 -->\n",
       "<g id=\"edge5\" class=\"edge\">\n",
       "<title>3&#45;&gt;5</title>\n",
       "<path fill=\"none\" stroke=\"black\" stroke-width=\"0.6\" d=\"M136.75,-425.77C136.75,-425.77 136.75,-394.25 136.75,-394.25\"/>\n",
       "<polygon fill=\"black\" stroke=\"black\" stroke-width=\"0.6\" points=\"140.25,-394.25 136.75,-384.25 133.25,-394.25 140.25,-394.25\"/>\n",
       "<text text-anchor=\"middle\" x=\"119.75\" y=\"-412.41\" font-family=\"Times,serif\" font-size=\"7.00\">&gt; 0.1779</text>\n",
       "</g>\n",
       "<!-- 8 -->\n",
       "<g id=\"node9\" class=\"node\">\n",
       "<title>8</title>\n",
       "<polygon fill=\"#f9e0cf\" stroke=\"black\" stroke-width=\"1.2\" points=\"391,-468 292,-468 292,-420 391,-420 391,-468\"/>\n",
       "<text text-anchor=\"middle\" x=\"341.5\" y=\"-459.2\" font-family=\"trebuchet\" font-size=\"11.00\">Class 1:</text>\n",
       "<text text-anchor=\"middle\" x=\"341.5\" y=\"-447.2\" font-family=\"trebuchet\" font-size=\"11.00\">\tP(0) = 0.4</text>\n",
       "<text text-anchor=\"middle\" x=\"341.5\" y=\"-435.2\" font-family=\"trebuchet\" font-size=\"11.00\">\tP(1) = 0.6</text>\n",
       "<text text-anchor=\"middle\" x=\"341.5\" y=\"-423.2\" font-family=\"trebuchet\" font-size=\"11.00\">samples: 872</text>\n",
       "</g>\n",
       "<!-- 7&#45;&gt;8 -->\n",
       "<g id=\"edge8\" class=\"edge\">\n",
       "<title>7&#45;&gt;8</title>\n",
       "<path fill=\"none\" stroke=\"black\" stroke-width=\"0.6\" d=\"M376.25,-503.91C376.25,-503.91 376.25,-478.2 376.25,-478.2\"/>\n",
       "<polygon fill=\"black\" stroke=\"black\" stroke-width=\"0.6\" points=\"379.75,-478.2 376.25,-468.2 372.75,-478.2 379.75,-478.2\"/>\n",
       "<text text-anchor=\"middle\" x=\"359.25\" y=\"-493.45\" font-family=\"Times,serif\" font-size=\"7.00\">≤ 0.1926</text>\n",
       "</g>\n",
       "<!-- 9 -->\n",
       "<g id=\"node10\" class=\"node\">\n",
       "<title>9</title>\n",
       "<polygon fill=\"#e99355\" stroke=\"black\" stroke-width=\"1.2\" points=\"463.5,-462 409.5,-462 409.5,-426 463.5,-426 463.5,-462\"/>\n",
       "<text text-anchor=\"middle\" x=\"436.5\" y=\"-441.2\" font-family=\"trebuchet\" font-size=\"11.00\">7</text>\n",
       "</g>\n",
       "<!-- 7&#45;&gt;9 -->\n",
       "<g id=\"edge9\" class=\"edge\">\n",
       "<title>7&#45;&gt;9</title>\n",
       "<path fill=\"none\" stroke=\"black\" stroke-width=\"0.6\" d=\"M400.25,-503.91C400.25,-480.87 400.25,-444 400.25,-444 400.25,-444 401.16,-444 401.16,-444\"/>\n",
       "<polygon fill=\"black\" stroke=\"black\" stroke-width=\"0.6\" points=\"399.4,-447.5 409.4,-444 399.4,-440.5 399.4,-447.5\"/>\n",
       "<text text-anchor=\"middle\" x=\"383.25\" y=\"-475.9\" font-family=\"Times,serif\" font-size=\"7.00\">&gt; 0.1926</text>\n",
       "</g>\n",
       "<!-- 10 -->\n",
       "<g id=\"node11\" class=\"node\">\n",
       "<title>10</title>\n",
       "<polygon fill=\"#f8dcc8\" stroke=\"black\" stroke-width=\"1.2\" points=\"369,-384 270,-384 270,-336 369,-336 369,-384\"/>\n",
       "<text text-anchor=\"middle\" x=\"319.5\" y=\"-375.2\" font-family=\"trebuchet\" font-size=\"11.00\">Class 1:</text>\n",
       "<text text-anchor=\"middle\" x=\"319.5\" y=\"-363.2\" font-family=\"trebuchet\" font-size=\"11.00\">\tP(0) = 0.4</text>\n",
       "<text text-anchor=\"middle\" x=\"319.5\" y=\"-351.2\" font-family=\"trebuchet\" font-size=\"11.00\">\tP(1) = 0.6</text>\n",
       "<text text-anchor=\"middle\" x=\"319.5\" y=\"-339.2\" font-family=\"trebuchet\" font-size=\"11.00\">samples: 69</text>\n",
       "</g>\n",
       "<!-- 9&#45;&gt;10 -->\n",
       "<g id=\"edge10\" class=\"edge\">\n",
       "<title>9&#45;&gt;10</title>\n",
       "<path fill=\"none\" stroke=\"black\" stroke-width=\"0.6\" d=\"M427.5,-425.94C427.5,-414.56 427.5,-402 427.5,-402 427.5,-402 330.5,-402 330.5,-402 330.5,-402 330.5,-394.43 330.5,-394.43\"/>\n",
       "<polygon fill=\"black\" stroke=\"black\" stroke-width=\"0.6\" points=\"334,-394.43 330.5,-384.43 327,-394.43 334,-394.43\"/>\n",
       "<text text-anchor=\"middle\" x=\"369.19\" y=\"-404.4\" font-family=\"Times,serif\" font-size=\"7.00\">≤ &#45;0.1839</text>\n",
       "</g>\n",
       "<!-- 11 -->\n",
       "<g id=\"node12\" class=\"node\">\n",
       "<title>11</title>\n",
       "<polygon fill=\"#e88f4f\" stroke=\"black\" stroke-width=\"1.2\" points=\"486,-384 387,-384 387,-336 486,-336 486,-384\"/>\n",
       "<text text-anchor=\"middle\" x=\"436.5\" y=\"-375.2\" font-family=\"trebuchet\" font-size=\"11.00\">Class 1:</text>\n",
       "<text text-anchor=\"middle\" x=\"436.5\" y=\"-363.2\" font-family=\"trebuchet\" font-size=\"11.00\">\tP(0) = 0.1</text>\n",
       "<text text-anchor=\"middle\" x=\"436.5\" y=\"-351.2\" font-family=\"trebuchet\" font-size=\"11.00\">\tP(1) = 0.9</text>\n",
       "<text text-anchor=\"middle\" x=\"436.5\" y=\"-339.2\" font-family=\"trebuchet\" font-size=\"11.00\">samples: 2791</text>\n",
       "</g>\n",
       "<!-- 9&#45;&gt;11 -->\n",
       "<g id=\"edge11\" class=\"edge\">\n",
       "<title>9&#45;&gt;11</title>\n",
       "<path fill=\"none\" stroke=\"black\" stroke-width=\"0.6\" d=\"M445.5,-425.77C445.5,-425.77 445.5,-394.25 445.5,-394.25\"/>\n",
       "<polygon fill=\"black\" stroke=\"black\" stroke-width=\"0.6\" points=\"449,-394.25 445.5,-384.25 442,-394.25 449,-394.25\"/>\n",
       "<text text-anchor=\"middle\" x=\"427.5\" y=\"-412.41\" font-family=\"Times,serif\" font-size=\"7.00\">&gt; &#45;0.1839</text>\n",
       "</g>\n",
       "<!-- 13 -->\n",
       "<g id=\"node14\" class=\"node\">\n",
       "<title>13</title>\n",
       "<polygon fill=\"#f9e2d1\" stroke=\"black\" stroke-width=\"1.2\" points=\"605.5,-540 551.5,-540 551.5,-504 605.5,-504 605.5,-540\"/>\n",
       "<text text-anchor=\"middle\" x=\"578.5\" y=\"-519.2\" font-family=\"trebuchet\" font-size=\"11.00\">6</text>\n",
       "</g>\n",
       "<!-- 12&#45;&gt;13 -->\n",
       "<g id=\"edge13\" class=\"edge\">\n",
       "<title>12&#45;&gt;13</title>\n",
       "<path fill=\"none\" stroke=\"black\" stroke-width=\"0.6\" d=\"M578.5,-575.83C578.5,-575.83 578.5,-550.41 578.5,-550.41\"/>\n",
       "<polygon fill=\"black\" stroke=\"black\" stroke-width=\"0.6\" points=\"582,-550.41 578.5,-540.41 575,-550.41 582,-550.41\"/>\n",
       "<text text-anchor=\"middle\" x=\"561.5\" y=\"-565.52\" font-family=\"Times,serif\" font-size=\"7.00\">≤ 0.4544</text>\n",
       "</g>\n",
       "<!-- 34 -->\n",
       "<g id=\"node35\" class=\"node\">\n",
       "<title>34</title>\n",
       "<polygon fill=\"#b2d9f5\" stroke=\"black\" stroke-width=\"1.2\" points=\"806.5,-540 752.5,-540 752.5,-504 806.5,-504 806.5,-540\"/>\n",
       "<text text-anchor=\"middle\" x=\"779.5\" y=\"-519.2\" font-family=\"trebuchet\" font-size=\"11.00\">7</text>\n",
       "</g>\n",
       "<!-- 12&#45;&gt;34 -->\n",
       "<g id=\"edge34\" class=\"edge\">\n",
       "<title>12&#45;&gt;34</title>\n",
       "<path fill=\"none\" stroke=\"black\" stroke-width=\"0.6\" d=\"M605.61,-594C660.47,-594 779.5,-594 779.5,-594 779.5,-594 779.5,-550.17 779.5,-550.17\"/>\n",
       "<polygon fill=\"black\" stroke=\"black\" stroke-width=\"0.6\" points=\"783,-550.17 779.5,-540.17 776,-550.17 783,-550.17\"/>\n",
       "<text text-anchor=\"middle\" x=\"697.47\" y=\"-596.4\" font-family=\"Times,serif\" font-size=\"7.00\">&gt; 0.4544</text>\n",
       "</g>\n",
       "<!-- 14 -->\n",
       "<g id=\"node15\" class=\"node\">\n",
       "<title>14</title>\n",
       "<polygon fill=\"#89c5f0\" stroke=\"black\" stroke-width=\"1.2\" points=\"581,-468 482,-468 482,-420 581,-420 581,-468\"/>\n",
       "<text text-anchor=\"middle\" x=\"531.5\" y=\"-459.2\" font-family=\"trebuchet\" font-size=\"11.00\">Class 0:</text>\n",
       "<text text-anchor=\"middle\" x=\"531.5\" y=\"-447.2\" font-family=\"trebuchet\" font-size=\"11.00\">\tP(0) = 0.8</text>\n",
       "<text text-anchor=\"middle\" x=\"531.5\" y=\"-435.2\" font-family=\"trebuchet\" font-size=\"11.00\">\tP(1) = 0.2</text>\n",
       "<text text-anchor=\"middle\" x=\"531.5\" y=\"-423.2\" font-family=\"trebuchet\" font-size=\"11.00\">samples: 2039</text>\n",
       "</g>\n",
       "<!-- 13&#45;&gt;14 -->\n",
       "<g id=\"edge14\" class=\"edge\">\n",
       "<title>13&#45;&gt;14</title>\n",
       "<path fill=\"none\" stroke=\"black\" stroke-width=\"0.6\" d=\"M566.25,-503.91C566.25,-503.91 566.25,-478.2 566.25,-478.2\"/>\n",
       "<polygon fill=\"black\" stroke=\"black\" stroke-width=\"0.6\" points=\"569.75,-478.2 566.25,-468.2 562.75,-478.2 569.75,-478.2\"/>\n",
       "<text text-anchor=\"middle\" x=\"549.25\" y=\"-493.45\" font-family=\"Times,serif\" font-size=\"7.00\">≤ 0.0588</text>\n",
       "</g>\n",
       "<!-- 15 -->\n",
       "<g id=\"node16\" class=\"node\">\n",
       "<title>15</title>\n",
       "<polygon fill=\"#f6d4bc\" stroke=\"black\" stroke-width=\"1.2\" points=\"653.5,-462 599.5,-462 599.5,-426 653.5,-426 653.5,-462\"/>\n",
       "<text text-anchor=\"middle\" x=\"626.5\" y=\"-441.2\" font-family=\"trebuchet\" font-size=\"11.00\">2</text>\n",
       "</g>\n",
       "<!-- 13&#45;&gt;15 -->\n",
       "<g id=\"edge15\" class=\"edge\">\n",
       "<title>13&#45;&gt;15</title>\n",
       "<path fill=\"none\" stroke=\"black\" stroke-width=\"0.6\" d=\"M593.33,-503.83C593.33,-482.5 593.33,-450 593.33,-450 593.33,-450 593.94,-450 593.94,-450\"/>\n",
       "<polygon fill=\"black\" stroke=\"black\" stroke-width=\"0.6\" points=\"589.42,-453.5 599.42,-450 589.42,-446.5 589.42,-453.5\"/>\n",
       "<text text-anchor=\"middle\" x=\"576.33\" y=\"-479.01\" font-family=\"Times,serif\" font-size=\"7.00\">&gt; 0.0588</text>\n",
       "</g>\n",
       "<!-- 16 -->\n",
       "<g id=\"node17\" class=\"node\">\n",
       "<title>16</title>\n",
       "<polygon fill=\"#f4c9aa\" stroke=\"black\" stroke-width=\"1.2\" points=\"558.5,-378 504.5,-378 504.5,-342 558.5,-342 558.5,-378\"/>\n",
       "<text text-anchor=\"middle\" x=\"531.5\" y=\"-357.2\" font-family=\"trebuchet\" font-size=\"11.00\">1</text>\n",
       "</g>\n",
       "<!-- 15&#45;&gt;16 -->\n",
       "<g id=\"edge16\" class=\"edge\">\n",
       "<title>15&#45;&gt;16</title>\n",
       "<path fill=\"none\" stroke=\"black\" stroke-width=\"0.6\" d=\"M599.18,-438C592.47,-438 587.17,-438 587.17,-438 587.17,-438 587.17,-360 587.17,-360 587.17,-360 568.68,-360 568.68,-360\"/>\n",
       "<polygon fill=\"black\" stroke=\"black\" stroke-width=\"0.6\" points=\"568.68,-356.5 558.68,-360 568.68,-363.5 568.68,-356.5\"/>\n",
       "<text text-anchor=\"middle\" x=\"572.67\" y=\"-398.16\" font-family=\"Times,serif\" font-size=\"7.00\">≤ 0.894</text>\n",
       "</g>\n",
       "<!-- 31 -->\n",
       "<g id=\"node32\" class=\"node\">\n",
       "<title>31</title>\n",
       "<polygon fill=\"#9dcef2\" stroke=\"black\" stroke-width=\"1.2\" points=\"653.5,-378 599.5,-378 599.5,-342 653.5,-342 653.5,-378\"/>\n",
       "<text text-anchor=\"middle\" x=\"626.5\" y=\"-357.2\" font-family=\"trebuchet\" font-size=\"11.00\">8</text>\n",
       "</g>\n",
       "<!-- 15&#45;&gt;31 -->\n",
       "<g id=\"edge31\" class=\"edge\">\n",
       "<title>15&#45;&gt;31</title>\n",
       "<path fill=\"none\" stroke=\"black\" stroke-width=\"0.6\" d=\"M626.5,-425.77C626.5,-425.77 626.5,-388.19 626.5,-388.19\"/>\n",
       "<polygon fill=\"black\" stroke=\"black\" stroke-width=\"0.6\" points=\"630,-388.19 626.5,-378.19 623,-388.19 630,-388.19\"/>\n",
       "<text text-anchor=\"middle\" x=\"612\" y=\"-409.38\" font-family=\"Times,serif\" font-size=\"7.00\">&gt; 0.894</text>\n",
       "</g>\n",
       "<!-- 17 -->\n",
       "<g id=\"node18\" class=\"node\">\n",
       "<title>17</title>\n",
       "<polygon fill=\"#fdf6f0\" stroke=\"black\" stroke-width=\"1.2\" points=\"407.5,-294 353.5,-294 353.5,-258 407.5,-258 407.5,-294\"/>\n",
       "<text text-anchor=\"middle\" x=\"380.5\" y=\"-273.2\" font-family=\"trebuchet\" font-size=\"11.00\">6</text>\n",
       "</g>\n",
       "<!-- 16&#45;&gt;17 -->\n",
       "<g id=\"edge17\" class=\"edge\">\n",
       "<title>16&#45;&gt;17</title>\n",
       "<path fill=\"none\" stroke=\"black\" stroke-width=\"0.6\" d=\"M504.4,-360C499.15,-360 495.25,-360 495.25,-360 495.25,-360 495.25,-276 495.25,-276 495.25,-276 417.69,-276 417.69,-276\"/>\n",
       "<polygon fill=\"black\" stroke=\"black\" stroke-width=\"0.6\" points=\"417.69,-272.5 407.69,-276 417.69,-279.5 417.69,-272.5\"/>\n",
       "<text text-anchor=\"middle\" x=\"480.75\" y=\"-286.2\" font-family=\"Times,serif\" font-size=\"7.00\">≤ 0.368</text>\n",
       "</g>\n",
       "<!-- 22 -->\n",
       "<g id=\"node23\" class=\"node\">\n",
       "<title>22</title>\n",
       "<polygon fill=\"#f1bc96\" stroke=\"black\" stroke-width=\"1.2\" points=\"558.5,-294 504.5,-294 504.5,-258 558.5,-258 558.5,-294\"/>\n",
       "<text text-anchor=\"middle\" x=\"531.5\" y=\"-273.2\" font-family=\"trebuchet\" font-size=\"11.00\">6</text>\n",
       "</g>\n",
       "<!-- 16&#45;&gt;22 -->\n",
       "<g id=\"edge22\" class=\"edge\">\n",
       "<title>16&#45;&gt;22</title>\n",
       "<path fill=\"none\" stroke=\"black\" stroke-width=\"0.6\" d=\"M531.5,-341.77C531.5,-341.77 531.5,-304.19 531.5,-304.19\"/>\n",
       "<polygon fill=\"black\" stroke=\"black\" stroke-width=\"0.6\" points=\"535,-304.19 531.5,-294.19 528,-304.19 535,-304.19\"/>\n",
       "<text text-anchor=\"middle\" x=\"517\" y=\"-325.38\" font-family=\"Times,serif\" font-size=\"7.00\">&gt; 0.368</text>\n",
       "</g>\n",
       "<!-- 18 -->\n",
       "<g id=\"node19\" class=\"node\">\n",
       "<title>18</title>\n",
       "<polygon fill=\"#eeae80\" stroke=\"black\" stroke-width=\"1.2\" points=\"335,-216 236,-216 236,-168 335,-168 335,-216\"/>\n",
       "<text text-anchor=\"middle\" x=\"285.5\" y=\"-207.2\" font-family=\"trebuchet\" font-size=\"11.00\">Class 1:</text>\n",
       "<text text-anchor=\"middle\" x=\"285.5\" y=\"-195.2\" font-family=\"trebuchet\" font-size=\"11.00\">\tP(0) = 0.2</text>\n",
       "<text text-anchor=\"middle\" x=\"285.5\" y=\"-183.2\" font-family=\"trebuchet\" font-size=\"11.00\">\tP(1) = 0.8</text>\n",
       "<text text-anchor=\"middle\" x=\"285.5\" y=\"-171.2\" font-family=\"trebuchet\" font-size=\"11.00\">samples: 1561</text>\n",
       "</g>\n",
       "<!-- 17&#45;&gt;18 -->\n",
       "<g id=\"edge18\" class=\"edge\">\n",
       "<title>17&#45;&gt;18</title>\n",
       "<path fill=\"none\" stroke=\"black\" stroke-width=\"0.6\" d=\"M353.22,-276C330.73,-276 302.5,-276 302.5,-276 302.5,-276 302.5,-226.3 302.5,-226.3\"/>\n",
       "<polygon fill=\"black\" stroke=\"black\" stroke-width=\"0.6\" points=\"306,-226.3 302.5,-216.3 299,-226.3 306,-226.3\"/>\n",
       "<text text-anchor=\"middle\" x=\"286.01\" y=\"-278.4\" font-family=\"Times,serif\" font-size=\"7.00\">≤ 0.6508</text>\n",
       "</g>\n",
       "<!-- 19 -->\n",
       "<g id=\"node20\" class=\"node\">\n",
       "<title>19</title>\n",
       "<polygon fill=\"#8fc7f0\" stroke=\"black\" stroke-width=\"1.2\" points=\"407.5,-210 353.5,-210 353.5,-174 407.5,-174 407.5,-210\"/>\n",
       "<text text-anchor=\"middle\" x=\"380.5\" y=\"-189.2\" font-family=\"trebuchet\" font-size=\"11.00\">5</text>\n",
       "</g>\n",
       "<!-- 17&#45;&gt;19 -->\n",
       "<g id=\"edge19\" class=\"edge\">\n",
       "<title>17&#45;&gt;19</title>\n",
       "<path fill=\"none\" stroke=\"black\" stroke-width=\"0.6\" d=\"M380.5,-257.77C380.5,-257.77 380.5,-220.19 380.5,-220.19\"/>\n",
       "<polygon fill=\"black\" stroke=\"black\" stroke-width=\"0.6\" points=\"384,-220.19 380.5,-210.19 377,-220.19 384,-220.19\"/>\n",
       "<text text-anchor=\"middle\" x=\"363.5\" y=\"-241.38\" font-family=\"Times,serif\" font-size=\"7.00\">&gt; 0.6508</text>\n",
       "</g>\n",
       "<!-- 20 -->\n",
       "<g id=\"node21\" class=\"node\">\n",
       "<title>20</title>\n",
       "<polygon fill=\"#f6d3b9\" stroke=\"black\" stroke-width=\"1.2\" points=\"313,-132 214,-132 214,-84 313,-84 313,-132\"/>\n",
       "<text text-anchor=\"middle\" x=\"263.5\" y=\"-123.2\" font-family=\"trebuchet\" font-size=\"11.00\">Class 1:</text>\n",
       "<text text-anchor=\"middle\" x=\"263.5\" y=\"-111.2\" font-family=\"trebuchet\" font-size=\"11.00\">\tP(0) = 0.3</text>\n",
       "<text text-anchor=\"middle\" x=\"263.5\" y=\"-99.2\" font-family=\"trebuchet\" font-size=\"11.00\">\tP(1) = 0.7</text>\n",
       "<text text-anchor=\"middle\" x=\"263.5\" y=\"-87.2\" font-family=\"trebuchet\" font-size=\"11.00\">samples: 341</text>\n",
       "</g>\n",
       "<!-- 19&#45;&gt;20 -->\n",
       "<g id=\"edge20\" class=\"edge\">\n",
       "<title>19&#45;&gt;20</title>\n",
       "<path fill=\"none\" stroke=\"black\" stroke-width=\"0.6\" d=\"M371.5,-173.94C371.5,-162.56 371.5,-150 371.5,-150 371.5,-150 274.5,-150 274.5,-150 274.5,-150 274.5,-142.43 274.5,-142.43\"/>\n",
       "<polygon fill=\"black\" stroke=\"black\" stroke-width=\"0.6\" points=\"278,-142.43 274.5,-132.43 271,-142.43 278,-142.43\"/>\n",
       "<text text-anchor=\"middle\" x=\"314.19\" y=\"-152.4\" font-family=\"Times,serif\" font-size=\"7.00\">≤ 0.4154</text>\n",
       "</g>\n",
       "<!-- 21 -->\n",
       "<g id=\"node22\" class=\"node\">\n",
       "<title>21</title>\n",
       "<polygon fill=\"#47a4e7\" stroke=\"black\" stroke-width=\"1.2\" points=\"430,-132 331,-132 331,-84 430,-84 430,-132\"/>\n",
       "<text text-anchor=\"middle\" x=\"380.5\" y=\"-123.2\" font-family=\"trebuchet\" font-size=\"11.00\">Class 0:</text>\n",
       "<text text-anchor=\"middle\" x=\"380.5\" y=\"-111.2\" font-family=\"trebuchet\" font-size=\"11.00\">\tP(0) = 1.0</text>\n",
       "<text text-anchor=\"middle\" x=\"380.5\" y=\"-99.2\" font-family=\"trebuchet\" font-size=\"11.00\">\tP(1) = 0.0</text>\n",
       "<text text-anchor=\"middle\" x=\"380.5\" y=\"-87.2\" font-family=\"trebuchet\" font-size=\"11.00\">samples: 835</text>\n",
       "</g>\n",
       "<!-- 19&#45;&gt;21 -->\n",
       "<g id=\"edge21\" class=\"edge\">\n",
       "<title>19&#45;&gt;21</title>\n",
       "<path fill=\"none\" stroke=\"black\" stroke-width=\"0.6\" d=\"M389.5,-173.77C389.5,-173.77 389.5,-142.25 389.5,-142.25\"/>\n",
       "<polygon fill=\"black\" stroke=\"black\" stroke-width=\"0.6\" points=\"393,-142.25 389.5,-132.25 386,-142.25 393,-142.25\"/>\n",
       "<text text-anchor=\"middle\" x=\"372.5\" y=\"-160.41\" font-family=\"Times,serif\" font-size=\"7.00\">&gt; 0.4154</text>\n",
       "</g>\n",
       "<!-- 23 -->\n",
       "<g id=\"node24\" class=\"node\">\n",
       "<title>23</title>\n",
       "<polygon fill=\"#b3d9f5\" stroke=\"black\" stroke-width=\"1.2\" points=\"558.5,-210 504.5,-210 504.5,-174 558.5,-174 558.5,-210\"/>\n",
       "<text text-anchor=\"middle\" x=\"531.5\" y=\"-189.2\" font-family=\"trebuchet\" font-size=\"11.00\">6</text>\n",
       "</g>\n",
       "<!-- 22&#45;&gt;23 -->\n",
       "<g id=\"edge23\" class=\"edge\">\n",
       "<title>22&#45;&gt;23</title>\n",
       "<path fill=\"none\" stroke=\"black\" stroke-width=\"0.6\" d=\"M531.5,-257.77C531.5,-257.77 531.5,-220.19 531.5,-220.19\"/>\n",
       "<polygon fill=\"black\" stroke=\"black\" stroke-width=\"0.6\" points=\"535,-220.19 531.5,-210.19 528,-220.19 535,-220.19\"/>\n",
       "<text text-anchor=\"middle\" x=\"514.5\" y=\"-241.38\" font-family=\"Times,serif\" font-size=\"7.00\">≤ 0.3235</text>\n",
       "</g>\n",
       "<!-- 26 -->\n",
       "<g id=\"node27\" class=\"node\">\n",
       "<title>26</title>\n",
       "<polygon fill=\"#e9965a\" stroke=\"black\" stroke-width=\"1.2\" points=\"758.5,-210 704.5,-210 704.5,-174 758.5,-174 758.5,-210\"/>\n",
       "<text text-anchor=\"middle\" x=\"731.5\" y=\"-189.2\" font-family=\"trebuchet\" font-size=\"11.00\">7</text>\n",
       "</g>\n",
       "<!-- 22&#45;&gt;26 -->\n",
       "<g id=\"edge26\" class=\"edge\">\n",
       "<title>22&#45;&gt;26</title>\n",
       "<path fill=\"none\" stroke=\"black\" stroke-width=\"0.6\" d=\"M558.95,-276C566.67,-276 573,-276 573,-276 573,-276 573,-198 573,-198 573,-198 694.25,-198 694.25,-198\"/>\n",
       "<polygon fill=\"black\" stroke=\"black\" stroke-width=\"0.6\" points=\"694.25,-201.5 704.25,-198 694.25,-194.5 694.25,-201.5\"/>\n",
       "<text text-anchor=\"middle\" x=\"604.6\" y=\"-200.4\" font-family=\"Times,serif\" font-size=\"7.00\">&gt; 0.3235</text>\n",
       "</g>\n",
       "<!-- 24 -->\n",
       "<g id=\"node25\" class=\"node\">\n",
       "<title>24</title>\n",
       "<polygon fill=\"#7abdee\" stroke=\"black\" stroke-width=\"1.2\" points=\"547,-132 448,-132 448,-84 547,-84 547,-132\"/>\n",
       "<text text-anchor=\"middle\" x=\"497.5\" y=\"-123.2\" font-family=\"trebuchet\" font-size=\"11.00\">Class 0:</text>\n",
       "<text text-anchor=\"middle\" x=\"497.5\" y=\"-111.2\" font-family=\"trebuchet\" font-size=\"11.00\">\tP(0) = 0.8</text>\n",
       "<text text-anchor=\"middle\" x=\"497.5\" y=\"-99.2\" font-family=\"trebuchet\" font-size=\"11.00\">\tP(1) = 0.2</text>\n",
       "<text text-anchor=\"middle\" x=\"497.5\" y=\"-87.2\" font-family=\"trebuchet\" font-size=\"11.00\">samples: 1175</text>\n",
       "</g>\n",
       "<!-- 23&#45;&gt;24 -->\n",
       "<g id=\"edge24\" class=\"edge\">\n",
       "<title>23&#45;&gt;24</title>\n",
       "<path fill=\"none\" stroke=\"black\" stroke-width=\"0.6\" d=\"M525.75,-173.77C525.75,-173.77 525.75,-142.25 525.75,-142.25\"/>\n",
       "<polygon fill=\"black\" stroke=\"black\" stroke-width=\"0.6\" points=\"529.25,-142.25 525.75,-132.25 522.25,-142.25 529.25,-142.25\"/>\n",
       "<text text-anchor=\"middle\" x=\"508.75\" y=\"-160.41\" font-family=\"Times,serif\" font-size=\"7.00\">≤ 0.2025</text>\n",
       "</g>\n",
       "<!-- 25 -->\n",
       "<g id=\"node26\" class=\"node\">\n",
       "<title>25</title>\n",
       "<polygon fill=\"#f6d4bb\" stroke=\"black\" stroke-width=\"1.2\" points=\"664,-132 565,-132 565,-84 664,-84 664,-132\"/>\n",
       "<text text-anchor=\"middle\" x=\"614.5\" y=\"-123.2\" font-family=\"trebuchet\" font-size=\"11.00\">Class 1:</text>\n",
       "<text text-anchor=\"middle\" x=\"614.5\" y=\"-111.2\" font-family=\"trebuchet\" font-size=\"11.00\">\tP(0) = 0.3</text>\n",
       "<text text-anchor=\"middle\" x=\"614.5\" y=\"-99.2\" font-family=\"trebuchet\" font-size=\"11.00\">\tP(1) = 0.7</text>\n",
       "<text text-anchor=\"middle\" x=\"614.5\" y=\"-87.2\" font-family=\"trebuchet\" font-size=\"11.00\">samples: 455</text>\n",
       "</g>\n",
       "<!-- 23&#45;&gt;25 -->\n",
       "<g id=\"edge25\" class=\"edge\">\n",
       "<title>23&#45;&gt;25</title>\n",
       "<path fill=\"none\" stroke=\"black\" stroke-width=\"0.6\" d=\"M558.75,-186C564.57,-186 569,-186 569,-186 569,-186 569,-142.25 569,-142.25\"/>\n",
       "<polygon fill=\"black\" stroke=\"black\" stroke-width=\"0.6\" points=\"572.5,-142.25 569,-132.25 565.5,-142.25 572.5,-142.25\"/>\n",
       "<text text-anchor=\"middle\" x=\"552\" y=\"-163.65\" font-family=\"Times,serif\" font-size=\"7.00\">&gt; 0.2025</text>\n",
       "</g>\n",
       "<!-- 27 -->\n",
       "<g id=\"node28\" class=\"node\">\n",
       "<title>27</title>\n",
       "<polygon fill=\"#eca571\" stroke=\"black\" stroke-width=\"1.2\" points=\"781,-132 682,-132 682,-84 781,-84 781,-132\"/>\n",
       "<text text-anchor=\"middle\" x=\"731.5\" y=\"-123.2\" font-family=\"trebuchet\" font-size=\"11.00\">Class 1:</text>\n",
       "<text text-anchor=\"middle\" x=\"731.5\" y=\"-111.2\" font-family=\"trebuchet\" font-size=\"11.00\">\tP(0) = 0.1</text>\n",
       "<text text-anchor=\"middle\" x=\"731.5\" y=\"-99.2\" font-family=\"trebuchet\" font-size=\"11.00\">\tP(1) = 0.9</text>\n",
       "<text text-anchor=\"middle\" x=\"731.5\" y=\"-87.2\" font-family=\"trebuchet\" font-size=\"11.00\">samples: 2481</text>\n",
       "</g>\n",
       "<!-- 26&#45;&gt;27 -->\n",
       "<g id=\"edge27\" class=\"edge\">\n",
       "<title>26&#45;&gt;27</title>\n",
       "<path fill=\"none\" stroke=\"black\" stroke-width=\"0.6\" d=\"M731.5,-173.77C731.5,-173.77 731.5,-142.25 731.5,-142.25\"/>\n",
       "<polygon fill=\"black\" stroke=\"black\" stroke-width=\"0.6\" points=\"735,-142.25 731.5,-132.25 728,-142.25 735,-142.25\"/>\n",
       "<text text-anchor=\"middle\" x=\"717\" y=\"-160.41\" font-family=\"Times,serif\" font-size=\"7.00\">≤ 0.654</text>\n",
       "</g>\n",
       "<!-- 28 -->\n",
       "<g id=\"node29\" class=\"node\">\n",
       "<title>28</title>\n",
       "<polygon fill=\"#e78946\" stroke=\"black\" stroke-width=\"1.2\" points=\"853.5,-126 799.5,-126 799.5,-90 853.5,-90 853.5,-126\"/>\n",
       "<text text-anchor=\"middle\" x=\"826.5\" y=\"-105.2\" font-family=\"trebuchet\" font-size=\"11.00\">9</text>\n",
       "</g>\n",
       "<!-- 26&#45;&gt;28 -->\n",
       "<g id=\"edge28\" class=\"edge\">\n",
       "<title>26&#45;&gt;28</title>\n",
       "<path fill=\"none\" stroke=\"black\" stroke-width=\"0.6\" d=\"M758.67,-192C781.95,-192 811.75,-192 811.75,-192 811.75,-192 811.75,-136.23 811.75,-136.23\"/>\n",
       "<polygon fill=\"black\" stroke=\"black\" stroke-width=\"0.6\" points=\"815.25,-136.23 811.75,-126.23 808.25,-136.23 815.25,-136.23\"/>\n",
       "<text text-anchor=\"middle\" x=\"797.25\" y=\"-193.05\" font-family=\"Times,serif\" font-size=\"7.00\">&gt; 0.654</text>\n",
       "</g>\n",
       "<!-- 29 -->\n",
       "<g id=\"node30\" class=\"node\">\n",
       "<title>29</title>\n",
       "<polygon fill=\"#e68640\" stroke=\"black\" stroke-width=\"1.2\" points=\"817,-48 718,-48 718,0 817,0 817,-48\"/>\n",
       "<text text-anchor=\"middle\" x=\"767.5\" y=\"-39.2\" font-family=\"trebuchet\" font-size=\"11.00\">Class 1:</text>\n",
       "<text text-anchor=\"middle\" x=\"767.5\" y=\"-27.2\" font-family=\"trebuchet\" font-size=\"11.00\">\tP(0) = 0.0</text>\n",
       "<text text-anchor=\"middle\" x=\"767.5\" y=\"-15.2\" font-family=\"trebuchet\" font-size=\"11.00\">\tP(1) = 1.0</text>\n",
       "<text text-anchor=\"middle\" x=\"767.5\" y=\"-3.2\" font-family=\"trebuchet\" font-size=\"11.00\">samples: 1701</text>\n",
       "</g>\n",
       "<!-- 28&#45;&gt;29 -->\n",
       "<g id=\"edge29\" class=\"edge\">\n",
       "<title>28&#45;&gt;29</title>\n",
       "<path fill=\"none\" stroke=\"black\" stroke-width=\"0.6\" d=\"M808.25,-89.77C808.25,-89.77 808.25,-58.25 808.25,-58.25\"/>\n",
       "<polygon fill=\"black\" stroke=\"black\" stroke-width=\"0.6\" points=\"811.75,-58.25 808.25,-48.25 804.75,-58.25 811.75,-58.25\"/>\n",
       "<text text-anchor=\"middle\" x=\"791.25\" y=\"-76.41\" font-family=\"Times,serif\" font-size=\"7.00\">≤ 0.7541</text>\n",
       "</g>\n",
       "<!-- 30 -->\n",
       "<g id=\"node31\" class=\"node\">\n",
       "<title>30</title>\n",
       "<polygon fill=\"#f3c3a1\" stroke=\"black\" stroke-width=\"1.2\" points=\"934,-48 835,-48 835,0 934,0 934,-48\"/>\n",
       "<text text-anchor=\"middle\" x=\"884.5\" y=\"-39.2\" font-family=\"trebuchet\" font-size=\"11.00\">Class 1:</text>\n",
       "<text text-anchor=\"middle\" x=\"884.5\" y=\"-27.2\" font-family=\"trebuchet\" font-size=\"11.00\">\tP(0) = 0.3</text>\n",
       "<text text-anchor=\"middle\" x=\"884.5\" y=\"-15.2\" font-family=\"trebuchet\" font-size=\"11.00\">\tP(1) = 0.7</text>\n",
       "<text text-anchor=\"middle\" x=\"884.5\" y=\"-3.2\" font-family=\"trebuchet\" font-size=\"11.00\">samples: 85</text>\n",
       "</g>\n",
       "<!-- 28&#45;&gt;30 -->\n",
       "<g id=\"edge30\" class=\"edge\">\n",
       "<title>28&#45;&gt;30</title>\n",
       "<path fill=\"none\" stroke=\"black\" stroke-width=\"0.6\" d=\"M844.25,-89.77C844.25,-89.77 844.25,-58.25 844.25,-58.25\"/>\n",
       "<polygon fill=\"black\" stroke=\"black\" stroke-width=\"0.6\" points=\"847.75,-58.25 844.25,-48.25 840.75,-58.25 847.75,-58.25\"/>\n",
       "<text text-anchor=\"middle\" x=\"827.25\" y=\"-76.41\" font-family=\"Times,serif\" font-size=\"7.00\">&gt; 0.7541</text>\n",
       "</g>\n",
       "<!-- 32 -->\n",
       "<g id=\"node33\" class=\"node\">\n",
       "<title>32</title>\n",
       "<polygon fill=\"#68b4eb\" stroke=\"black\" stroke-width=\"1.2\" points=\"676,-300 577,-300 577,-252 676,-252 676,-300\"/>\n",
       "<text text-anchor=\"middle\" x=\"626.5\" y=\"-291.2\" font-family=\"trebuchet\" font-size=\"11.00\">Class 0:</text>\n",
       "<text text-anchor=\"middle\" x=\"626.5\" y=\"-279.2\" font-family=\"trebuchet\" font-size=\"11.00\">\tP(0) = 0.9</text>\n",
       "<text text-anchor=\"middle\" x=\"626.5\" y=\"-267.2\" font-family=\"trebuchet\" font-size=\"11.00\">\tP(1) = 0.1</text>\n",
       "<text text-anchor=\"middle\" x=\"626.5\" y=\"-255.2\" font-family=\"trebuchet\" font-size=\"11.00\">samples: 1395</text>\n",
       "</g>\n",
       "<!-- 31&#45;&gt;32 -->\n",
       "<g id=\"edge32\" class=\"edge\">\n",
       "<title>31&#45;&gt;32</title>\n",
       "<path fill=\"none\" stroke=\"black\" stroke-width=\"0.6\" d=\"M617.5,-341.77C617.5,-341.77 617.5,-310.25 617.5,-310.25\"/>\n",
       "<polygon fill=\"black\" stroke=\"black\" stroke-width=\"0.6\" points=\"621,-310.25 617.5,-300.25 614,-310.25 621,-310.25\"/>\n",
       "<text text-anchor=\"middle\" x=\"600.5\" y=\"-328.41\" font-family=\"Times,serif\" font-size=\"7.00\">≤ 0.6072</text>\n",
       "</g>\n",
       "<!-- 33 -->\n",
       "<g id=\"node34\" class=\"node\">\n",
       "<title>33</title>\n",
       "<polygon fill=\"#f0b88f\" stroke=\"black\" stroke-width=\"1.2\" points=\"793,-300 694,-300 694,-252 793,-252 793,-300\"/>\n",
       "<text text-anchor=\"middle\" x=\"743.5\" y=\"-291.2\" font-family=\"trebuchet\" font-size=\"11.00\">Class 1:</text>\n",
       "<text text-anchor=\"middle\" x=\"743.5\" y=\"-279.2\" font-family=\"trebuchet\" font-size=\"11.00\">\tP(0) = 0.2</text>\n",
       "<text text-anchor=\"middle\" x=\"743.5\" y=\"-267.2\" font-family=\"trebuchet\" font-size=\"11.00\">\tP(1) = 0.8</text>\n",
       "<text text-anchor=\"middle\" x=\"743.5\" y=\"-255.2\" font-family=\"trebuchet\" font-size=\"11.00\">samples: 295</text>\n",
       "</g>\n",
       "<!-- 31&#45;&gt;33 -->\n",
       "<g id=\"edge33\" class=\"edge\">\n",
       "<title>31&#45;&gt;33</title>\n",
       "<path fill=\"none\" stroke=\"black\" stroke-width=\"0.6\" d=\"M635.5,-341.94C635.5,-330.56 635.5,-318 635.5,-318 635.5,-318 732.5,-318 732.5,-318 732.5,-318 732.5,-310.43 732.5,-310.43\"/>\n",
       "<polygon fill=\"black\" stroke=\"black\" stroke-width=\"0.6\" points=\"736,-310.43 732.5,-300.43 729,-310.43 736,-310.43\"/>\n",
       "<text text-anchor=\"middle\" x=\"658.81\" y=\"-320.4\" font-family=\"Times,serif\" font-size=\"7.00\">&gt; 0.6072</text>\n",
       "</g>\n",
       "<!-- 35 -->\n",
       "<g id=\"node36\" class=\"node\">\n",
       "<title>35</title>\n",
       "<polygon fill=\"#fffdfb\" stroke=\"black\" stroke-width=\"1.2\" points=\"806.5,-462 752.5,-462 752.5,-426 806.5,-426 806.5,-462\"/>\n",
       "<text text-anchor=\"middle\" x=\"779.5\" y=\"-441.2\" font-family=\"trebuchet\" font-size=\"11.00\">5</text>\n",
       "</g>\n",
       "<!-- 34&#45;&gt;35 -->\n",
       "<g id=\"edge35\" class=\"edge\">\n",
       "<title>34&#45;&gt;35</title>\n",
       "<path fill=\"none\" stroke=\"black\" stroke-width=\"0.6\" d=\"M779.5,-503.91C779.5,-503.91 779.5,-472.26 779.5,-472.26\"/>\n",
       "<polygon fill=\"black\" stroke=\"black\" stroke-width=\"0.6\" points=\"783,-472.26 779.5,-462.26 776,-472.26 783,-472.26\"/>\n",
       "<text text-anchor=\"middle\" x=\"762.5\" y=\"-490.49\" font-family=\"Times,serif\" font-size=\"7.00\">≤ 0.5684</text>\n",
       "</g>\n",
       "<!-- 38 -->\n",
       "<g id=\"node39\" class=\"node\">\n",
       "<title>38</title>\n",
       "<polygon fill=\"#74baed\" stroke=\"black\" stroke-width=\"1.2\" points=\"982.5,-462 928.5,-462 928.5,-426 982.5,-426 982.5,-462\"/>\n",
       "<text text-anchor=\"middle\" x=\"955.5\" y=\"-441.2\" font-family=\"trebuchet\" font-size=\"11.00\">9</text>\n",
       "</g>\n",
       "<!-- 34&#45;&gt;38 -->\n",
       "<g id=\"edge38\" class=\"edge\">\n",
       "<title>34&#45;&gt;38</title>\n",
       "<path fill=\"none\" stroke=\"black\" stroke-width=\"0.6\" d=\"M806.61,-522C855.98,-522 955.5,-522 955.5,-522 955.5,-522 955.5,-472.09 955.5,-472.09\"/>\n",
       "<polygon fill=\"black\" stroke=\"black\" stroke-width=\"0.6\" points=\"959,-472.09 955.5,-462.09 952,-472.09 959,-472.09\"/>\n",
       "<text text-anchor=\"middle\" x=\"889.01\" y=\"-524.4\" font-family=\"Times,serif\" font-size=\"7.00\">&gt; 0.5684</text>\n",
       "</g>\n",
       "<!-- 36 -->\n",
       "<g id=\"node37\" class=\"node\">\n",
       "<title>36</title>\n",
       "<polygon fill=\"#e88e4e\" stroke=\"black\" stroke-width=\"1.2\" points=\"771,-384 672,-384 672,-336 771,-336 771,-384\"/>\n",
       "<text text-anchor=\"middle\" x=\"721.5\" y=\"-375.2\" font-family=\"trebuchet\" font-size=\"11.00\">Class 1:</text>\n",
       "<text text-anchor=\"middle\" x=\"721.5\" y=\"-363.2\" font-family=\"trebuchet\" font-size=\"11.00\">\tP(0) = 0.1</text>\n",
       "<text text-anchor=\"middle\" x=\"721.5\" y=\"-351.2\" font-family=\"trebuchet\" font-size=\"11.00\">\tP(1) = 0.9</text>\n",
       "<text text-anchor=\"middle\" x=\"721.5\" y=\"-339.2\" font-family=\"trebuchet\" font-size=\"11.00\">samples: 1756</text>\n",
       "</g>\n",
       "<!-- 35&#45;&gt;36 -->\n",
       "<g id=\"edge36\" class=\"edge\">\n",
       "<title>35&#45;&gt;36</title>\n",
       "<path fill=\"none\" stroke=\"black\" stroke-width=\"0.6\" d=\"M761.75,-425.77C761.75,-425.77 761.75,-394.25 761.75,-394.25\"/>\n",
       "<polygon fill=\"black\" stroke=\"black\" stroke-width=\"0.6\" points=\"765.25,-394.25 761.75,-384.25 758.25,-394.25 765.25,-394.25\"/>\n",
       "<text text-anchor=\"middle\" x=\"744.75\" y=\"-412.41\" font-family=\"Times,serif\" font-size=\"7.00\">≤ 0.3921</text>\n",
       "</g>\n",
       "<!-- 37 -->\n",
       "<g id=\"node38\" class=\"node\">\n",
       "<title>37</title>\n",
       "<polygon fill=\"#a8d4f4\" stroke=\"black\" stroke-width=\"1.2\" points=\"888,-384 789,-384 789,-336 888,-336 888,-384\"/>\n",
       "<text text-anchor=\"middle\" x=\"838.5\" y=\"-375.2\" font-family=\"trebuchet\" font-size=\"11.00\">Class 0:</text>\n",
       "<text text-anchor=\"middle\" x=\"838.5\" y=\"-363.2\" font-family=\"trebuchet\" font-size=\"11.00\">\tP(0) = 0.7</text>\n",
       "<text text-anchor=\"middle\" x=\"838.5\" y=\"-351.2\" font-family=\"trebuchet\" font-size=\"11.00\">\tP(1) = 0.3</text>\n",
       "<text text-anchor=\"middle\" x=\"838.5\" y=\"-339.2\" font-family=\"trebuchet\" font-size=\"11.00\">samples: 2644</text>\n",
       "</g>\n",
       "<!-- 35&#45;&gt;37 -->\n",
       "<g id=\"edge37\" class=\"edge\">\n",
       "<title>35&#45;&gt;37</title>\n",
       "<path fill=\"none\" stroke=\"black\" stroke-width=\"0.6\" d=\"M797.75,-425.77C797.75,-425.77 797.75,-394.25 797.75,-394.25\"/>\n",
       "<polygon fill=\"black\" stroke=\"black\" stroke-width=\"0.6\" points=\"801.25,-394.25 797.75,-384.25 794.25,-394.25 801.25,-394.25\"/>\n",
       "<text text-anchor=\"middle\" x=\"780.75\" y=\"-412.41\" font-family=\"Times,serif\" font-size=\"7.00\">&gt; 0.3921</text>\n",
       "</g>\n",
       "<!-- 39 -->\n",
       "<g id=\"node40\" class=\"node\">\n",
       "<title>39</title>\n",
       "<polygon fill=\"#ffffff\" stroke=\"black\" stroke-width=\"1.2\" points=\"1005,-384 906,-384 906,-336 1005,-336 1005,-384\"/>\n",
       "<text text-anchor=\"middle\" x=\"955.5\" y=\"-375.2\" font-family=\"trebuchet\" font-size=\"11.00\">Class 0:</text>\n",
       "<text text-anchor=\"middle\" x=\"955.5\" y=\"-363.2\" font-family=\"trebuchet\" font-size=\"11.00\">\tP(0) = 0.5</text>\n",
       "<text text-anchor=\"middle\" x=\"955.5\" y=\"-351.2\" font-family=\"trebuchet\" font-size=\"11.00\">\tP(1) = 0.5</text>\n",
       "<text text-anchor=\"middle\" x=\"955.5\" y=\"-339.2\" font-family=\"trebuchet\" font-size=\"11.00\">samples: 335</text>\n",
       "</g>\n",
       "<!-- 38&#45;&gt;39 -->\n",
       "<g id=\"edge39\" class=\"edge\">\n",
       "<title>38&#45;&gt;39</title>\n",
       "<path fill=\"none\" stroke=\"black\" stroke-width=\"0.6\" d=\"M955.5,-425.77C955.5,-425.77 955.5,-394.25 955.5,-394.25\"/>\n",
       "<polygon fill=\"black\" stroke=\"black\" stroke-width=\"0.6\" points=\"959,-394.25 955.5,-384.25 952,-394.25 959,-394.25\"/>\n",
       "<text text-anchor=\"middle\" x=\"938.5\" y=\"-412.41\" font-family=\"Times,serif\" font-size=\"7.00\">≤ 0.3099</text>\n",
       "</g>\n",
       "<!-- 40 -->\n",
       "<g id=\"node41\" class=\"node\">\n",
       "<title>40</title>\n",
       "<polygon fill=\"#5aade9\" stroke=\"black\" stroke-width=\"1.2\" points=\"1077.5,-378 1023.5,-378 1023.5,-342 1077.5,-342 1077.5,-378\"/>\n",
       "<text text-anchor=\"middle\" x=\"1050.5\" y=\"-357.2\" font-family=\"trebuchet\" font-size=\"11.00\">1</text>\n",
       "</g>\n",
       "<!-- 38&#45;&gt;40 -->\n",
       "<g id=\"edge40\" class=\"edge\">\n",
       "<title>38&#45;&gt;40</title>\n",
       "<path fill=\"none\" stroke=\"black\" stroke-width=\"0.6\" d=\"M982.72,-444C1010.8,-444 1050.5,-444 1050.5,-444 1050.5,-444 1050.5,-388.23 1050.5,-388.23\"/>\n",
       "<polygon fill=\"black\" stroke=\"black\" stroke-width=\"0.6\" points=\"1054,-388.23 1050.5,-378.23 1047,-388.23 1054,-388.23\"/>\n",
       "<text text-anchor=\"middle\" x=\"1027.5\" y=\"-446.4\" font-family=\"Times,serif\" font-size=\"7.00\">&gt; 0.3099</text>\n",
       "</g>\n",
       "<!-- 41 -->\n",
       "<g id=\"node42\" class=\"node\">\n",
       "<title>41</title>\n",
       "<polygon fill=\"#53aae8\" stroke=\"black\" stroke-width=\"1.2\" points=\"999.5,-294 945.5,-294 945.5,-258 999.5,-258 999.5,-294\"/>\n",
       "<text text-anchor=\"middle\" x=\"972.5\" y=\"-273.2\" font-family=\"trebuchet\" font-size=\"11.00\">9</text>\n",
       "</g>\n",
       "<!-- 40&#45;&gt;41 -->\n",
       "<g id=\"edge41\" class=\"edge\">\n",
       "<title>40&#45;&gt;41</title>\n",
       "<path fill=\"none\" stroke=\"black\" stroke-width=\"0.6\" d=\"M1023.41,-360C1016.76,-360 1011.5,-360 1011.5,-360 1011.5,-360 1011.5,-276 1011.5,-276 1011.5,-276 1009.59,-276 1009.59,-276\"/>\n",
       "<polygon fill=\"black\" stroke=\"black\" stroke-width=\"0.6\" points=\"1009.59,-272.5 999.59,-276 1009.59,-279.5 1009.59,-272.5\"/>\n",
       "<text text-anchor=\"middle\" x=\"994.5\" y=\"-325.4\" font-family=\"Times,serif\" font-size=\"7.00\">≤ 0.9004</text>\n",
       "</g>\n",
       "<!-- 44 -->\n",
       "<g id=\"node45\" class=\"node\">\n",
       "<title>44</title>\n",
       "<polygon fill=\"#c5e2f7\" stroke=\"black\" stroke-width=\"1.2\" points=\"1117,-300 1018,-300 1018,-252 1117,-252 1117,-300\"/>\n",
       "<text text-anchor=\"middle\" x=\"1067.5\" y=\"-291.2\" font-family=\"trebuchet\" font-size=\"11.00\">Class 0:</text>\n",
       "<text text-anchor=\"middle\" x=\"1067.5\" y=\"-279.2\" font-family=\"trebuchet\" font-size=\"11.00\">\tP(0) = 0.6</text>\n",
       "<text text-anchor=\"middle\" x=\"1067.5\" y=\"-267.2\" font-family=\"trebuchet\" font-size=\"11.00\">\tP(1) = 0.4</text>\n",
       "<text text-anchor=\"middle\" x=\"1067.5\" y=\"-255.2\" font-family=\"trebuchet\" font-size=\"11.00\">samples: 237</text>\n",
       "</g>\n",
       "<!-- 40&#45;&gt;44 -->\n",
       "<g id=\"edge44\" class=\"edge\">\n",
       "<title>40&#45;&gt;44</title>\n",
       "<path fill=\"none\" stroke=\"black\" stroke-width=\"0.6\" d=\"M1050.5,-341.77C1050.5,-341.77 1050.5,-310.25 1050.5,-310.25\"/>\n",
       "<polygon fill=\"black\" stroke=\"black\" stroke-width=\"0.6\" points=\"1054,-310.25 1050.5,-300.25 1047,-310.25 1054,-310.25\"/>\n",
       "<text text-anchor=\"middle\" x=\"1033.5\" y=\"-328.41\" font-family=\"Times,serif\" font-size=\"7.00\">&gt; 0.9004</text>\n",
       "</g>\n",
       "<!-- 42 -->\n",
       "<g id=\"node43\" class=\"node\">\n",
       "<title>42</title>\n",
       "<polygon fill=\"#a3d2f3\" stroke=\"black\" stroke-width=\"1.2\" points=\"923,-216 824,-216 824,-168 923,-168 923,-216\"/>\n",
       "<text text-anchor=\"middle\" x=\"873.5\" y=\"-207.2\" font-family=\"trebuchet\" font-size=\"11.00\">Class 0:</text>\n",
       "<text text-anchor=\"middle\" x=\"873.5\" y=\"-195.2\" font-family=\"trebuchet\" font-size=\"11.00\">\tP(0) = 0.7</text>\n",
       "<text text-anchor=\"middle\" x=\"873.5\" y=\"-183.2\" font-family=\"trebuchet\" font-size=\"11.00\">\tP(1) = 0.3</text>\n",
       "<text text-anchor=\"middle\" x=\"873.5\" y=\"-171.2\" font-family=\"trebuchet\" font-size=\"11.00\">samples: 115</text>\n",
       "</g>\n",
       "<!-- 41&#45;&gt;42 -->\n",
       "<g id=\"edge42\" class=\"edge\">\n",
       "<title>41&#45;&gt;42</title>\n",
       "<path fill=\"none\" stroke=\"black\" stroke-width=\"0.6\" d=\"M945.2,-276C930.15,-276 914.5,-276 914.5,-276 914.5,-276 914.5,-226.3 914.5,-226.3\"/>\n",
       "<polygon fill=\"black\" stroke=\"black\" stroke-width=\"0.6\" points=\"918,-226.3 914.5,-216.3 911,-226.3 918,-226.3\"/>\n",
       "<text text-anchor=\"middle\" x=\"897.5\" y=\"-268.9\" font-family=\"Times,serif\" font-size=\"7.00\">≤ 0.4693</text>\n",
       "</g>\n",
       "<!-- 43 -->\n",
       "<g id=\"node44\" class=\"node\">\n",
       "<title>43</title>\n",
       "<polygon fill=\"#4fa8e8\" stroke=\"black\" stroke-width=\"1.2\" points=\"1040,-216 941,-216 941,-168 1040,-168 1040,-216\"/>\n",
       "<text text-anchor=\"middle\" x=\"990.5\" y=\"-207.2\" font-family=\"trebuchet\" font-size=\"11.00\">Class 0:</text>\n",
       "<text text-anchor=\"middle\" x=\"990.5\" y=\"-195.2\" font-family=\"trebuchet\" font-size=\"11.00\">\tP(0) = 0.9</text>\n",
       "<text text-anchor=\"middle\" x=\"990.5\" y=\"-183.2\" font-family=\"trebuchet\" font-size=\"11.00\">\tP(1) = 0.1</text>\n",
       "<text text-anchor=\"middle\" x=\"990.5\" y=\"-171.2\" font-family=\"trebuchet\" font-size=\"11.00\">samples: 1883</text>\n",
       "</g>\n",
       "<!-- 41&#45;&gt;43 -->\n",
       "<g id=\"edge43\" class=\"edge\">\n",
       "<title>41&#45;&gt;43</title>\n",
       "<path fill=\"none\" stroke=\"black\" stroke-width=\"0.6\" d=\"M972.5,-257.77C972.5,-257.77 972.5,-226.25 972.5,-226.25\"/>\n",
       "<polygon fill=\"black\" stroke=\"black\" stroke-width=\"0.6\" points=\"976,-226.25 972.5,-216.25 969,-226.25 976,-226.25\"/>\n",
       "<text text-anchor=\"middle\" x=\"955.5\" y=\"-244.41\" font-family=\"Times,serif\" font-size=\"7.00\">&gt; 0.4693</text>\n",
       "</g>\n",
       "</g>\n",
       "</svg>\n"
      ],
      "text/plain": [
       "<graphviz.dot.Digraph at 0x7fba9aecd850>"
      ]
     },
     "execution_count": 47,
     "metadata": {},
     "output_type": "execute_result"
    }
   ],
   "source": [
    "model.draw()"
   ]
  },
  {
   "cell_type": "markdown",
   "metadata": {},
   "source": [
    "# 6. Concept drift\n",
    "\n",
    "Um dos aspectos centrais em online learning reside no fato que esperamos que as distribuições dos dados podem ser não-estacionárias. Mas o que isso significa?\n",
    "\n",
    "Primeiro, vamos pensar num exemplo de distribução estacionária:\n",
    "\n",
    "> Sabe quando ouvimos falar que a GRANDE-EMPRESA-HYPADA lançou uma rede neural MASTER-BLASTER-ULTRA-POWER-3, com 3 troçalhões de parâmetros, treinada por 3 meses com a energia suficiente para alimentar cidades? E sabe quando ouvimos falar que a base de dados utilizada foi gigante?\n",
    "\n",
    "Pois bem, os dados não mudam. As regras linguísticas no textos de entrada (supondo um modelo de linguagem natural) ou a semântica visual das imagens (supondo um modelo de visão computacional), ou qualquer outro exemplo, tudo isso é estático. Um cachorro continuará sendo um cachorro (independente do ângulo -- dependendo da forma de captação das imagens isso poderia ser um problema). Uma palavra tem um conjunto de sinônimos e significados.\n",
    "\n",
    "A regra do jogo não-muda. Mas e se mudasse?\n",
    "\n",
    "Essa mudança, ou deriva de conceito (concept drift) pode ocorrer em problemas do mundo real. Exemplo:\n",
    "\n",
    "- padrões de consumo (papel higiênico e alcool em gel no início da pandemia)\n",
    "- questões relacionadas a clima: energia sustentável\n",
    "- trânsito, rotas\n",
    "\n",
    "Umas das áreas de pesquisa (sim, uma área completa de pesquisa) em online learning busca criar detectores para essas situações, bem como algoritmos de aprendizado de máquina que sejam capazes de se adaptar mudanças de conceitos.\n",
    "\n",
    "Estou longe de ser um especialista nesse tópico, mas vou dar um panorama de como as coisas acontecem.\n",
    "\n",
    "Suponha que temos um problema de classificação e estamos monitorando os erros do nosso classificador. Nós assinalamos com $0$ quando o modelo acerta (erro zero) e $1$ quando o modelo erra."
   ]
  },
  {
   "cell_type": "code",
   "execution_count": 83,
   "metadata": {
    "scrolled": true
   },
   "outputs": [
    {
     "name": "stdout",
     "output_type": "stream",
     "text": [
      "0\n",
      "1\n",
      "0\n",
      "1\n",
      "0\n",
      "0\n",
      "1\n",
      "0\n",
      "0\n",
      "0\n"
     ]
    }
   ],
   "source": [
    "rng = random.Random(8)\n",
    "\n",
    "for _ in range(10):\n",
    "    print(rng.choices([0, 1], weights=[0.7, 0.3])[0])"
   ]
  },
  {
   "cell_type": "markdown",
   "metadata": {},
   "source": [
    "Podemos passar esses valores para um detector de drifts:"
   ]
  },
  {
   "cell_type": "code",
   "execution_count": 87,
   "metadata": {},
   "outputs": [],
   "source": [
    "from river import drift\n",
    "\n",
    "detector = drift.ADWIN(delta=0.01)\n",
    "\n",
    "vals = rng.choices([0, 1], weights=[0.7, 0.3], k=500)\n",
    "for i, v in enumerate(vals):\n",
    "    in_drift, _ = detector.update(v)\n",
    "    \n",
    "    if in_drift:\n",
    "        print(f\"Drift detectado em {i}\")"
   ]
  },
  {
   "cell_type": "markdown",
   "metadata": {},
   "source": [
    "E se a distribuição mudar?"
   ]
  },
  {
   "cell_type": "code",
   "execution_count": 88,
   "metadata": {},
   "outputs": [
    {
     "name": "stdout",
     "output_type": "stream",
     "text": [
      "Drift detectado em 575\n"
     ]
    }
   ],
   "source": [
    "detector = drift.ADWIN(delta=0.05)\n",
    "\n",
    "vals = rng.choices([0, 1], weights=[0.7, 0.3], k=500)\n",
    "vals.extend(rng.choices([0, 1], weights=[0.2, 0.8], k=500))\n",
    "for i, v in enumerate(vals):\n",
    "    in_drift, _ = detector.update(v)\n",
    "    \n",
    "    if in_drift:\n",
    "        print(f\"Drift detectado em {i}\")\n",
    "        # Pratica usual\n",
    "        detector.reset()"
   ]
  },
  {
   "cell_type": "markdown",
   "metadata": {},
   "source": [
    "O ADWIN é um dos detectores mais utilizados, mas existem várias alternativas. Além disso, normalmente, os detectores são utilizados como componentes na criação de modelos preditivos. A forma na qual eles são utilizados difere de modelo para modelo. Uma característica é comum entre a maioria dos detectores de drift: eles são univariados."
   ]
  },
  {
   "cell_type": "markdown",
   "metadata": {},
   "source": [
    "# 7. Exemplos de algoritmos\n",
    "\n",
    "Existem muitos algoritmos de aprendizado online. Uns são bem diferentes, outros são modificações de outros algoritmos. Assim como em aprendizado de máquina tradicional, existem opções para todo gosto.\n",
    "\n",
    "As listas a seguir não são extensivas de modo algum. São apenas o que eu fui lembrando e o que eu vejo de popular por aí (obviamente com o meu viés pessoal). Uma boa pedida é consultar a documentação do River para ver o que há de disponível por lá!\n",
    "\n",
    "Mostrarei de forma breve seu uso e, quando aplicável, quais dos seus hiper-parâmetros são os mais \"sensíveis\", na minha experiência.\n",
    "\n",
    "---\n",
    "---\n",
    "\n",
    "**Dica:** Se **dúvidas** específicas surgirem acerca de alguma família, me **interrompam**. Posso **comentar** mais **detalhes** e ir deixando a conversa mais técnica.\n",
    "\n",
    "---\n",
    "---"
   ]
  },
  {
   "cell_type": "markdown",
   "metadata": {},
   "source": [
    "## 7.1. Classificação\n",
    "\n",
    "Abordaremos uma lista de algoritmos para classificação. Se um algoritmo foi projetado apenas para classificação binária e o problema em questão é multiclasses, as ferramentas do módulo `multiclass` podem ser utilizadas como um wrapper:\n",
    "\n",
    "- `OneVsOneClassifier`\n",
    "- `OneVsRestClassifier`\n",
    "- `OutputCodeClassifier`"
   ]
  },
  {
   "cell_type": "markdown",
   "metadata": {},
   "source": [
    "### 7.1.1. Logistic Regression\n",
    "\n",
    "Versão incremental de Logistic Regression (para classificação binária). Pode ser treinada com vários otimizadores. Por padrão usa o `Stochastic Gradient Descent`.\n",
    "\n",
    "\n",
    "Não tenho muitas dicas específicas acerca dessa família. Mas todo o conhecimento ligado a redes neurais tende a ser útil aqui.\n",
    "\n",
    "É possível ajustar:\n",
    "\n",
    "- O otimizador\n",
    "- O algortmo de inicialização\n",
    "- Adicionar regularização L2\n",
    "- A função de perda\n",
    "- entre outros\n",
    "\n",
    "**Exemplo:**"
   ]
  },
  {
   "cell_type": "code",
   "execution_count": 48,
   "metadata": {
    "scrolled": true
   },
   "outputs": [
    {
     "name": "stdout",
     "output_type": "stream",
     "text": [
      "[100] Accuracy: 81.00%\n",
      "[200] Accuracy: 82.50%\n",
      "[300] Accuracy: 83.67%\n",
      "[400] Accuracy: 84.00%\n",
      "[500] Accuracy: 84.20%\n",
      "[600] Accuracy: 84.33%\n",
      "[700] Accuracy: 85.57%\n",
      "[800] Accuracy: 85.38%\n",
      "[900] Accuracy: 86.00%\n",
      "[1,000] Accuracy: 87.00%\n",
      "[1,100] Accuracy: 87.36%\n",
      "[1,200] Accuracy: 87.33%\n"
     ]
    },
    {
     "data": {
      "text/plain": [
       "Accuracy: 87.36%"
      ]
     },
     "execution_count": 48,
     "metadata": {},
     "output_type": "execute_result"
    }
   ],
   "source": [
    "from river import datasets\n",
    "from river import linear_model\n",
    "from river import optim\n",
    "from river import preprocessing\n",
    "\n",
    "dataset = datasets.Phishing()\n",
    "\n",
    "model = (\n",
    "    preprocessing.StandardScaler() |\n",
    "    linear_model.LogisticRegression(optimizer=optim.Adam(), l2=0.01)\n",
    ")\n",
    "\n",
    "metric = metrics.Accuracy()\n",
    "\n",
    "evaluate.progressive_val_score(dataset, model, metric, print_every=100)"
   ]
  },
  {
   "cell_type": "markdown",
   "metadata": {},
   "source": [
    "Podemos inspecionar como as decisões foram feitas:"
   ]
  },
  {
   "cell_type": "markdown",
   "metadata": {},
   "source": [
    "Uma variante de Logistic Regression é SoftMax Regression (voltada para problemas multi-classe e mais robusta a outliers):"
   ]
  },
  {
   "cell_type": "code",
   "execution_count": 49,
   "metadata": {},
   "outputs": [
    {
     "name": "stdout",
     "output_type": "stream",
     "text": [
      "[200] Accuracy: 67.34% – 0:00:00.077243 – 16.92 KB\n",
      "[400] Accuracy: 73.18% – 0:00:00.134205 – 17.41 KB\n",
      "[600] Accuracy: 73.62% – 0:00:00.225217 – 17.41 KB\n",
      "[800] Accuracy: 75.97% – 0:00:00.295104 – 17.41 KB\n",
      "[1,000] Accuracy: 77.48% – 0:00:00.348430 – 17.41 KB\n",
      "[1,200] Accuracy: 79.32% – 0:00:00.399797 – 17.41 KB\n",
      "[1,400] Accuracy: 80.34% – 0:00:00.442778 – 17.41 KB\n",
      "[1,600] Accuracy: 81.11% – 0:00:00.485025 – 17.41 KB\n",
      "[1,800] Accuracy: 81.77% – 0:00:00.528172 – 17.41 KB\n",
      "[2,000] Accuracy: 82.19% – 0:00:00.575697 – 17.41 KB\n",
      "[2,200] Accuracy: 82.63% – 0:00:00.621930 – 17.41 KB\n"
     ]
    },
    {
     "data": {
      "text/plain": [
       "Accuracy: 82.55%"
      ]
     },
     "execution_count": 49,
     "metadata": {},
     "output_type": "execute_result"
    }
   ],
   "source": [
    "dataset = datasets.ImageSegments()\n",
    "\n",
    "model = (\n",
    "    preprocessing.StandardScaler() |\n",
    "    linear_model.SoftmaxRegression()\n",
    ")\n",
    "\n",
    "metric = metrics.Accuracy()\n",
    "\n",
    "evaluate.progressive_val_score(dataset, model, metric, print_every=200, show_memory=True, show_time=True)"
   ]
  },
  {
   "cell_type": "markdown",
   "metadata": {},
   "source": [
    "### 7.1.2. Hoeffding Tree (e variantes)\n",
    "\n",
    "Estão entre os modelos mais populares em stream mining. Historicamente um dos algoritmos mais usados, senão o mais usado. Minha pesquisa de doutorado contempla árvores de decisão e ensembles online. Existem vários classificadores no River baseados em árvores de decisão. Grande parte deles pertencem a família das *Hoeffding Trees*.\n",
    "\n",
    "Hoeffding Trees (HT) têm esse nome porque elas se baseiam numa grandeza estatística chamada *Hoeffding bound* para decidir quando fazer uma divisão. Essa medida traz indícios que um split feito de forma incremental seria o mesmo que seria feito em um algoritmo de árvore tradicional (desde que observações suficientes sejam feitas).\n",
    "\n",
    "Existem três variantes principais das HTs:\n",
    "\n",
    "- Hoeffding Tree: versão padrão\n",
    "- Hoeffding Adaptive Tree: adiciona detectores de deriva de conceito em cada nó de decisão. Se uma mudança é detectada, uma nova sub-árvore é treinada (no *background*) e eventualmente virá a substituir o ramo afetado.\n",
    "- Extremely Fast Decision Tree: Faz splits mais rapidamente, mas periodicamente revisita as decisões feitas e vai reconstruindo as árvores.\n",
    "\n",
    "**Principais parâmetros para ajuste comum a todas as HTs:**\n",
    "\n",
    "- `grace_period`: intervalos entre tentativas de *splits*.\n",
    "- `split_confidence`: o quão \"certas\" sobre uma decisão as árvores devem estar, de forma fazer um *split*. A \"certeza\" é dada por `1 - split_confidence`.\n",
    "- `tie_threshold`: threshold abaixo do qual um split será feito, mesmo se não houver plena certeza que o melhor candidato para *split* é realmente a melhor escolha.\n",
    "- `max_depth`: profundeza máxima que uma árvore pode alcançar.\n",
    "\n",
    "Eu escrevi um [tutorial](https://riverml.xyz/dev/user-guide/on-hoeffding-trees/) sobre HTs que aprofunda mais o que é possível se fazer com esse tipo de preditor.\n",
    "\n",
    "**Exemplo:**"
   ]
  },
  {
   "cell_type": "code",
   "execution_count": 50,
   "metadata": {
    "scrolled": true
   },
   "outputs": [
    {
     "name": "stdout",
     "output_type": "stream",
     "text": [
      "[1,000] Accuracy: 56.26% – 0:00:00.995915 – 34.38 KB\n",
      "[2,000] Accuracy: 57.78% – 0:00:01.888056 – 34.44 KB\n",
      "[3,000] Accuracy: 58.15% – 0:00:02.863016 – 34.51 KB\n",
      "[4,000] Accuracy: 57.81% – 0:00:03.751004 – 34.51 KB\n",
      "[5,000] Accuracy: 57.55% – 0:00:04.640327 – 34.51 KB\n",
      "[6,000] Accuracy: 57.36% – 0:00:05.494765 – 34.57 KB\n",
      "[7,000] Accuracy: 57.77% – 0:00:06.546546 – 66.03 KB\n",
      "[8,000] Accuracy: 58.68% – 0:00:07.589658 – 66.28 KB\n",
      "[9,000] Accuracy: 59.06% – 0:00:08.531908 – 71.58 KB\n",
      "[10,000] Accuracy: 59.34% – 0:00:09.600173 – 97.75 KB\n",
      "[11,000] Accuracy: 59.96% – 0:00:10.765590 – 97.94 KB\n",
      "[12,000] Accuracy: 60.40% – 0:00:11.816630 – 98.06 KB\n",
      "[13,000] Accuracy: 61.01% – 0:00:12.816044 – 98.19 KB\n",
      "[14,000] Accuracy: 61.28% – 0:00:13.996072 – 98.25 KB\n",
      "[15,000] Accuracy: 61.29% – 0:00:14.942867 – 128.44 KB\n"
     ]
    },
    {
     "data": {
      "text/plain": [
       "Accuracy: 61.29%"
      ]
     },
     "execution_count": 50,
     "metadata": {},
     "output_type": "execute_result"
    }
   ],
   "source": [
    "from river import tree\n",
    "\n",
    "\n",
    "dataset = synth.RandomRBFDrift(\n",
    "    seed_model=7, seed_sample=8, change_speed=0.0001, n_classes=3,\n",
    ").take(15000)\n",
    "model = tree.HoeffdingAdaptiveTreeClassifier(seed=42)\n",
    "metric = metrics.Accuracy()\n",
    "\n",
    "evaluate.progressive_val_score(dataset, model, metric, print_every=1000, show_memory=True, show_time=True)"
   ]
  },
  {
   "cell_type": "markdown",
   "metadata": {},
   "source": [
    "Como já vimos anteriormente, podemos visualizar a estrutura da árvore."
   ]
  },
  {
   "cell_type": "code",
   "execution_count": 51,
   "metadata": {
    "scrolled": true
   },
   "outputs": [
    {
     "data": {
      "image/svg+xml": [
       "<?xml version=\"1.0\" encoding=\"UTF-8\" standalone=\"no\"?>\n",
       "<!DOCTYPE svg PUBLIC \"-//W3C//DTD SVG 1.1//EN\"\n",
       " \"http://www.w3.org/Graphics/SVG/1.1/DTD/svg11.dtd\">\n",
       "<!-- Generated by graphviz version 2.43.0 (0)\n",
       " -->\n",
       "<!-- Title: %3 Pages: 1 -->\n",
       "<svg width=\"307pt\" height=\"332pt\"\n",
       " viewBox=\"0.00 0.00 307.00 332.00\" xmlns=\"http://www.w3.org/2000/svg\" xmlns:xlink=\"http://www.w3.org/1999/xlink\">\n",
       "<g id=\"graph0\" class=\"graph\" transform=\"scale(1 1) rotate(0) translate(4 328)\">\n",
       "<title>%3</title>\n",
       "<polygon fill=\"white\" stroke=\"transparent\" points=\"-4,4 -4,-328 303,-328 303,4 -4,4\"/>\n",
       "<!-- 0 -->\n",
       "<g id=\"node1\" class=\"node\">\n",
       "<title>0</title>\n",
       "<polygon fill=\"#fef9f5\" stroke=\"black\" stroke-width=\"1.2\" points=\"123.5,-324 69.5,-324 69.5,-288 123.5,-288 123.5,-324\"/>\n",
       "<text text-anchor=\"middle\" x=\"96.5\" y=\"-303.2\" font-family=\"trebuchet\" font-size=\"11.00\">4</text>\n",
       "</g>\n",
       "<!-- 1 -->\n",
       "<g id=\"node2\" class=\"node\">\n",
       "<title>1</title>\n",
       "<polygon fill=\"#fae5d6\" stroke=\"black\" stroke-width=\"1.2\" points=\"99,-252 0,-252 0,-192 99,-192 99,-252\"/>\n",
       "<text text-anchor=\"middle\" x=\"49.5\" y=\"-243.2\" font-family=\"trebuchet\" font-size=\"11.00\">Class 2:</text>\n",
       "<text text-anchor=\"middle\" x=\"49.5\" y=\"-231.2\" font-family=\"trebuchet\" font-size=\"11.00\">\tP(0) = 0.1</text>\n",
       "<text text-anchor=\"middle\" x=\"49.5\" y=\"-219.2\" font-family=\"trebuchet\" font-size=\"11.00\">\tP(1) = 0.4</text>\n",
       "<text text-anchor=\"middle\" x=\"49.5\" y=\"-207.2\" font-family=\"trebuchet\" font-size=\"11.00\">\tP(2) = 0.5</text>\n",
       "<text text-anchor=\"middle\" x=\"49.5\" y=\"-195.2\" font-family=\"trebuchet\" font-size=\"11.00\">samples: 5759</text>\n",
       "</g>\n",
       "<!-- 0&#45;&gt;1 -->\n",
       "<g id=\"edge1\" class=\"edge\">\n",
       "<title>0&#45;&gt;1</title>\n",
       "<path fill=\"none\" stroke=\"black\" stroke-width=\"0.6\" d=\"M84.25,-287.77C84.25,-287.77 84.25,-262.08 84.25,-262.08\"/>\n",
       "<polygon fill=\"black\" stroke=\"black\" stroke-width=\"0.6\" points=\"87.75,-262.08 84.25,-252.08 80.75,-262.08 87.75,-262.08\"/>\n",
       "<text text-anchor=\"middle\" x=\"67.25\" y=\"-277.33\" font-family=\"Times,serif\" font-size=\"7.00\">≤ 0.4407</text>\n",
       "</g>\n",
       "<!-- 2 -->\n",
       "<g id=\"node3\" class=\"node\">\n",
       "<title>2</title>\n",
       "<polygon fill=\"#e0fbeb\" stroke=\"black\" stroke-width=\"1.2\" points=\"171.5,-240 117.5,-240 117.5,-204 171.5,-204 171.5,-240\"/>\n",
       "<text text-anchor=\"middle\" x=\"144.5\" y=\"-219.2\" font-family=\"trebuchet\" font-size=\"11.00\">5</text>\n",
       "</g>\n",
       "<!-- 0&#45;&gt;2 -->\n",
       "<g id=\"edge2\" class=\"edge\">\n",
       "<title>0&#45;&gt;2</title>\n",
       "<path fill=\"none\" stroke=\"black\" stroke-width=\"0.6\" d=\"M108.25,-287.77C108.25,-263.07 108.25,-222 108.25,-222 108.25,-222 109.16,-222 109.16,-222\"/>\n",
       "<polygon fill=\"black\" stroke=\"black\" stroke-width=\"0.6\" points=\"107.4,-225.5 117.4,-222 107.4,-218.5 107.4,-225.5\"/>\n",
       "<text text-anchor=\"middle\" x=\"91.25\" y=\"-256.83\" font-family=\"Times,serif\" font-size=\"7.00\">&gt; 0.4407</text>\n",
       "</g>\n",
       "<!-- 3 -->\n",
       "<g id=\"node4\" class=\"node\">\n",
       "<title>3</title>\n",
       "<polygon fill=\"#cbadf4\" stroke=\"black\" stroke-width=\"1.2\" points=\"146,-156 47,-156 47,-96 146,-96 146,-156\"/>\n",
       "<text text-anchor=\"middle\" x=\"96.5\" y=\"-147.2\" font-family=\"trebuchet\" font-size=\"11.00\">Class 1:</text>\n",
       "<text text-anchor=\"middle\" x=\"96.5\" y=\"-135.2\" font-family=\"trebuchet\" font-size=\"11.00\">\tP(0) = 0.1</text>\n",
       "<text text-anchor=\"middle\" x=\"96.5\" y=\"-123.2\" font-family=\"trebuchet\" font-size=\"11.00\">\tP(1) = 0.6</text>\n",
       "<text text-anchor=\"middle\" x=\"96.5\" y=\"-111.2\" font-family=\"trebuchet\" font-size=\"11.00\">\tP(2) = 0.3</text>\n",
       "<text text-anchor=\"middle\" x=\"96.5\" y=\"-99.2\" font-family=\"trebuchet\" font-size=\"11.00\">samples: 924</text>\n",
       "</g>\n",
       "<!-- 2&#45;&gt;3 -->\n",
       "<g id=\"edge3\" class=\"edge\">\n",
       "<title>2&#45;&gt;3</title>\n",
       "<path fill=\"none\" stroke=\"black\" stroke-width=\"0.6\" d=\"M131.75,-203.94C131.75,-203.94 131.75,-166.05 131.75,-166.05\"/>\n",
       "<polygon fill=\"black\" stroke=\"black\" stroke-width=\"0.6\" points=\"135.25,-166.05 131.75,-156.05 128.25,-166.05 135.25,-166.05\"/>\n",
       "<text text-anchor=\"middle\" x=\"114.75\" y=\"-187.4\" font-family=\"Times,serif\" font-size=\"7.00\">≤ 0.2321</text>\n",
       "</g>\n",
       "<!-- 4 -->\n",
       "<g id=\"node5\" class=\"node\">\n",
       "<title>4</title>\n",
       "<polygon fill=\"#d9fae7\" stroke=\"black\" stroke-width=\"1.2\" points=\"218.5,-144 164.5,-144 164.5,-108 218.5,-108 218.5,-144\"/>\n",
       "<text text-anchor=\"middle\" x=\"191.5\" y=\"-123.2\" font-family=\"trebuchet\" font-size=\"11.00\">5</text>\n",
       "</g>\n",
       "<!-- 2&#45;&gt;4 -->\n",
       "<g id=\"edge4\" class=\"edge\">\n",
       "<title>2&#45;&gt;4</title>\n",
       "<path fill=\"none\" stroke=\"black\" stroke-width=\"0.6\" d=\"M168,-203.94C168,-203.94 168,-154.3 168,-154.3\"/>\n",
       "<polygon fill=\"black\" stroke=\"black\" stroke-width=\"0.6\" points=\"171.5,-154.3 168,-144.3 164.5,-154.3 171.5,-154.3\"/>\n",
       "<text text-anchor=\"middle\" x=\"151\" y=\"-181.52\" font-family=\"Times,serif\" font-size=\"7.00\">&gt; 0.2321</text>\n",
       "</g>\n",
       "<!-- 5 -->\n",
       "<g id=\"node6\" class=\"node\">\n",
       "<title>5</title>\n",
       "<polygon fill=\"#d2f9e2\" stroke=\"black\" stroke-width=\"1.2\" points=\"182,-60 83,-60 83,0 182,0 182,-60\"/>\n",
       "<text text-anchor=\"middle\" x=\"132.5\" y=\"-51.2\" font-family=\"trebuchet\" font-size=\"11.00\">Class 0:</text>\n",
       "<text text-anchor=\"middle\" x=\"132.5\" y=\"-39.2\" font-family=\"trebuchet\" font-size=\"11.00\">\tP(0) = 0.5</text>\n",
       "<text text-anchor=\"middle\" x=\"132.5\" y=\"-27.2\" font-family=\"trebuchet\" font-size=\"11.00\">\tP(1) = 0.2</text>\n",
       "<text text-anchor=\"middle\" x=\"132.5\" y=\"-15.2\" font-family=\"trebuchet\" font-size=\"11.00\">\tP(2) = 0.3</text>\n",
       "<text text-anchor=\"middle\" x=\"132.5\" y=\"-3.2\" font-family=\"trebuchet\" font-size=\"11.00\">samples: 4279</text>\n",
       "</g>\n",
       "<!-- 4&#45;&gt;5 -->\n",
       "<g id=\"edge5\" class=\"edge\">\n",
       "<title>4&#45;&gt;5</title>\n",
       "<path fill=\"none\" stroke=\"black\" stroke-width=\"0.6\" d=\"M173.25,-107.94C173.25,-107.94 173.25,-70.05 173.25,-70.05\"/>\n",
       "<polygon fill=\"black\" stroke=\"black\" stroke-width=\"0.6\" points=\"176.75,-70.05 173.25,-60.05 169.75,-70.05 176.75,-70.05\"/>\n",
       "<text text-anchor=\"middle\" x=\"156.25\" y=\"-91.4\" font-family=\"Times,serif\" font-size=\"7.00\">≤ 0.8594</text>\n",
       "</g>\n",
       "<!-- 6 -->\n",
       "<g id=\"node7\" class=\"node\">\n",
       "<title>6</title>\n",
       "<polygon fill=\"#f7d8c1\" stroke=\"black\" stroke-width=\"1.2\" points=\"299,-60 200,-60 200,0 299,0 299,-60\"/>\n",
       "<text text-anchor=\"middle\" x=\"249.5\" y=\"-51.2\" font-family=\"trebuchet\" font-size=\"11.00\">Class 2:</text>\n",
       "<text text-anchor=\"middle\" x=\"249.5\" y=\"-39.2\" font-family=\"trebuchet\" font-size=\"11.00\">\tP(0) = 0.3</text>\n",
       "<text text-anchor=\"middle\" x=\"249.5\" y=\"-27.2\" font-family=\"trebuchet\" font-size=\"11.00\">\tP(1) = 0.1</text>\n",
       "<text text-anchor=\"middle\" x=\"249.5\" y=\"-15.2\" font-family=\"trebuchet\" font-size=\"11.00\">\tP(2) = 0.5</text>\n",
       "<text text-anchor=\"middle\" x=\"249.5\" y=\"-3.2\" font-family=\"trebuchet\" font-size=\"11.00\">samples: 1474</text>\n",
       "</g>\n",
       "<!-- 4&#45;&gt;6 -->\n",
       "<g id=\"edge6\" class=\"edge\">\n",
       "<title>4&#45;&gt;6</title>\n",
       "<path fill=\"none\" stroke=\"black\" stroke-width=\"0.6\" d=\"M209.25,-107.94C209.25,-107.94 209.25,-70.05 209.25,-70.05\"/>\n",
       "<polygon fill=\"black\" stroke=\"black\" stroke-width=\"0.6\" points=\"212.75,-70.05 209.25,-60.05 205.75,-70.05 212.75,-70.05\"/>\n",
       "<text text-anchor=\"middle\" x=\"192.25\" y=\"-91.4\" font-family=\"Times,serif\" font-size=\"7.00\">&gt; 0.8594</text>\n",
       "</g>\n",
       "</g>\n",
       "</svg>\n"
      ],
      "text/plain": [
       "<graphviz.dot.Digraph at 0x7fba9ae87040>"
      ]
     },
     "execution_count": 51,
     "metadata": {},
     "output_type": "execute_result"
    }
   ],
   "source": [
    "model.draw()"
   ]
  },
  {
   "cell_type": "markdown",
   "metadata": {},
   "source": [
    "Também é possível inspecionar como uma decisão é tomada:"
   ]
  },
  {
   "cell_type": "code",
   "execution_count": 52,
   "metadata": {},
   "outputs": [
    {
     "name": "stdout",
     "output_type": "stream",
     "text": [
      "4 ≤ 0.44069887341009073\n",
      "Class 2:\n",
      "\tP(0) = 0.1\n",
      "\tP(1) = 0.4\n",
      "\tP(2) = 0.5\n",
      "\n"
     ]
    }
   ],
   "source": [
    "dataset = synth.RandomRBFDrift(\n",
    "    seed_model=7, seed_sample=8, change_speed=0.0001, n_classes=3,\n",
    ").take(15000)\n",
    "\n",
    "x, y = next(dataset)\n",
    "\n",
    "print(model.debug_one(x))"
   ]
  },
  {
   "cell_type": "markdown",
   "metadata": {},
   "source": [
    "### 7.1.3. Naive Bayes\n",
    "\n",
    "O Naive Bayes é inerentemente incremental. Assim, é possível atualizar as contagens ou estimativas das distribuições de forma incremental.\n",
    "\n",
    "Modelos disponíveis:\n",
    "\n",
    "- BernoulliNB, ComplementNB e MultinomialNB: voltados para os casos onde os dados são contagens (bag-of-words), ou a saída do TF-IDF.\n",
    "-  GaussianNB: discretiza as features numéricas utilizando uma distribuição gaussiana por classe.\n",
    "\n",
    "**Exemplo:**"
   ]
  },
  {
   "cell_type": "code",
   "execution_count": 53,
   "metadata": {},
   "outputs": [
    {
     "name": "stdout",
     "output_type": "stream",
     "text": [
      "[1,000] Accuracy: 56.86% – 0:00:00.655481 – 18.37 KB\n",
      "[2,000] Accuracy: 57.58% – 0:00:01.321623 – 18.37 KB\n",
      "[3,000] Accuracy: 57.59% – 0:00:01.981769 – 18.37 KB\n",
      "[4,000] Accuracy: 57.39% – 0:00:02.637439 – 18.37 KB\n",
      "[5,000] Accuracy: 57.07% – 0:00:03.300461 – 18.37 KB\n",
      "[6,000] Accuracy: 56.88% – 0:00:03.959022 – 18.37 KB\n",
      "[7,000] Accuracy: 56.99% – 0:00:04.616742 – 18.37 KB\n",
      "[8,000] Accuracy: 57.46% – 0:00:05.274807 – 18.37 KB\n",
      "[9,000] Accuracy: 57.60% – 0:00:05.932731 – 18.37 KB\n",
      "[10,000] Accuracy: 57.43% – 0:00:06.762030 – 18.37 KB\n",
      "[11,000] Accuracy: 57.16% – 0:00:07.437030 – 18.37 KB\n",
      "[12,000] Accuracy: 56.70% – 0:00:08.172555 – 18.37 KB\n",
      "[13,000] Accuracy: 56.48% – 0:00:08.947927 – 18.37 KB\n",
      "[14,000] Accuracy: 56.20% – 0:00:09.715797 – 18.37 KB\n",
      "[15,000] Accuracy: 55.80% – 0:00:10.375563 – 18.37 KB\n"
     ]
    },
    {
     "data": {
      "text/plain": [
       "Accuracy: 55.80%"
      ]
     },
     "execution_count": 53,
     "metadata": {},
     "output_type": "execute_result"
    }
   ],
   "source": [
    "dataset = synth.RandomRBFDrift(\n",
    "    seed_model=7, seed_sample=8, change_speed=0.0001, n_classes=3,\n",
    ").take(15000)\n",
    "\n",
    "\n",
    "# Note que o modelo selecionado não tem trata a deriva de conceitos\n",
    "model = naive_bayes.GaussianNB()\n",
    "metric = metrics.Accuracy()\n",
    "\n",
    "evaluate.progressive_val_score(dataset, model, metric, print_every=1000, show_memory=True, show_time=True)"
   ]
  },
  {
   "cell_type": "markdown",
   "metadata": {},
   "source": [
    "### 6.1.4. Adaptive Random Forest\n",
    "\n",
    "A adaptive random forest (ARF) é uma versão incremental do algoritmo Random Forest e combinas os seguintes ingredientes:\n",
    "\n",
    "- Hoeffding Trees com pitadas de aleatoriadade, como *base learners* (ingrediente principal)\n",
    "- Detectores de deriva de conceito por árvore\n",
    "    - árvores \"reserva\" são treinadas em *background* caso drifts são detectados\n",
    "- Bagging na versão online\n",
    "\n",
    "Além de todos os parâmetros das HTs, alguns parâmetros notáveis da ARF são:\n",
    "\n",
    "- `warning_detector` e `drift_detector`: detectores de warning e drift\n",
    "- `n_models`: o número de árvores\n",
    "- `max_features`: o número de features que será considerado por árvore durante *splits*\n",
    "\n",
    "**Exemplo:**"
   ]
  },
  {
   "cell_type": "code",
   "execution_count": 54,
   "metadata": {},
   "outputs": [
    {
     "name": "stdout",
     "output_type": "stream",
     "text": [
      "[1,000] Accuracy: 68.07% – 0:00:03.015571 – 1.01 MB\n",
      "[2,000] Accuracy: 73.04% – 0:00:05.996491 – 1.08 MB\n",
      "[3,000] Accuracy: 75.03% – 0:00:08.940292 – 2.7 MB\n",
      "[4,000] Accuracy: 76.42% – 0:00:11.826764 – 2.96 MB\n",
      "[5,000] Accuracy: 77.24% – 0:00:14.620262 – 3.39 MB\n",
      "[6,000] Accuracy: 78.13% – 0:00:17.384333 – 3.91 MB\n",
      "[7,000] Accuracy: 78.54% – 0:00:20.270450 – 5.1 MB\n",
      "[8,000] Accuracy: 79.02% – 0:00:23.116703 – 5.75 MB\n",
      "[9,000] Accuracy: 79.00% – 0:00:26.207124 – 7.07 MB\n",
      "[10,000] Accuracy: 79.17% – 0:00:29.432273 – 6.33 MB\n",
      "[11,000] Accuracy: 78.93% – 0:00:32.284529 – 7.71 MB\n",
      "[12,000] Accuracy: 78.76% – 0:00:35.522819 – 9.11 MB\n",
      "[13,000] Accuracy: 78.82% – 0:00:38.481643 – 8.12 MB\n",
      "[14,000] Accuracy: 78.64% – 0:00:41.635884 – 6.41 MB\n",
      "[15,000] Accuracy: 78.45% – 0:00:44.567332 – 7.55 MB\n"
     ]
    },
    {
     "data": {
      "text/plain": [
       "Accuracy: 78.45%"
      ]
     },
     "execution_count": 54,
     "metadata": {},
     "output_type": "execute_result"
    }
   ],
   "source": [
    "from river import ensemble\n",
    "\n",
    "\n",
    "dataset = synth.RandomRBFDrift(\n",
    "    seed_model=7, seed_sample=8, change_speed=0.0001, n_classes=3,\n",
    ").take(15000)\n",
    "\n",
    "model = ensemble.AdaptiveRandomForestClassifier(seed=8)\n",
    "metric = metrics.Accuracy()\n",
    "\n",
    "evaluate.progressive_val_score(dataset, model, metric, print_every=1000, show_memory=True, show_time=True)"
   ]
  },
  {
   "cell_type": "markdown",
   "metadata": {},
   "source": [
    "### 7.1.5. Streaming Random Patches\n",
    "\n",
    "Na ARF e random forest em geral, cada vez que um nó da árvore é dividido, um novo sub-conjunto das features é selecionado. Apenas esse subconjunto é considerado nas decisões. Esse processo pode ser referido como amostragem local de features. A (A)RF também faz amostragem de instâncias com reposição (*bagging*).\n",
    "\n",
    "O Streaming Random Patches (SRP) também faz amostragem de instâncias via bagging. No entanto, a amostragem de features é global: feita apenas uma vez por modelo no ensemble. Além disso, o SRP não limita os membros do ensemble à árvores de decisão: qualquer classificador pode ser utilizado 😁\n",
    "\n",
    "A detecção e reação a derivas de conceito (concept drift) é igual ao mecanismo adotado na ARF.\n",
    "\n",
    "Quanto aos hiperparâmetros mais notáveis:\n",
    "\n",
    "- `model`: o classificador base\n",
    "- `n_models`: o número de classificadores no ensemble\n",
    "- `warning_detector` e `drift_detector`: o mesmo que na ARF\n",
    "\n",
    "**Exemplo:**"
   ]
  },
  {
   "cell_type": "code",
   "execution_count": 57,
   "metadata": {},
   "outputs": [
    {
     "name": "stdout",
     "output_type": "stream",
     "text": [
      "[1,000] Accuracy: 81.38% – 0:00:04.214506 – 1.59 MB\n",
      "[2,000] Accuracy: 83.89% – 0:00:10.410419 – 1.59 MB\n",
      "[3,000] Accuracy: 85.16% – 0:00:16.772803 – 1.59 MB\n",
      "[4,000] Accuracy: 84.85% – 0:00:23.251055 – 1.59 MB\n",
      "[5,000] Accuracy: 85.06% – 0:00:29.509919 – 1.59 MB\n",
      "[6,000] Accuracy: 85.05% – 0:00:35.778462 – 1.6 MB\n",
      "[7,000] Accuracy: 85.07% – 0:00:42.245203 – 1.6 MB\n",
      "[8,000] Accuracy: 84.80% – 0:00:48.561115 – 1.6 MB\n",
      "[9,000] Accuracy: 84.48% – 0:00:55.022085 – 1.6 MB\n",
      "[10,000] Accuracy: 84.38% – 0:01:01.597720 – 1.6 MB\n",
      "[11,000] Accuracy: 84.03% – 0:01:07.895160 – 1.59 MB\n",
      "[12,000] Accuracy: 83.71% – 0:01:14.226302 – 1.59 MB\n",
      "[13,000] Accuracy: 83.68% – 0:01:21.088692 – 1.59 MB\n",
      "[14,000] Accuracy: 83.39% – 0:01:27.403901 – 1.59 MB\n",
      "[15,000] Accuracy: 83.19% – 0:01:33.746779 – 1.6 MB\n"
     ]
    },
    {
     "data": {
      "text/plain": [
       "Accuracy: 83.19%"
      ]
     },
     "execution_count": 57,
     "metadata": {},
     "output_type": "execute_result"
    }
   ],
   "source": [
    "from river import neighbors\n",
    "\n",
    "dataset = synth.RandomRBFDrift(\n",
    "    seed_model=7, seed_sample=8, change_speed=0.0001, n_classes=3,\n",
    ").take(15000)\n",
    "\n",
    "\n",
    "model = ensemble.SRPClassifier(\n",
    "    neighbors.KNNClassifier(),\n",
    "    n_models=5, seed=8,\n",
    "    training_method=\"subspaces\"\n",
    ")\n",
    "metric = metrics.Accuracy()\n",
    "\n",
    "evaluate.progressive_val_score(dataset, model, metric, print_every=1000, show_memory=True, show_time=True)"
   ]
  },
  {
   "cell_type": "markdown",
   "metadata": {},
   "source": [
    "## 7.2. Regressão"
   ]
  },
  {
   "cell_type": "markdown",
   "metadata": {},
   "source": [
    "### 7.2.1. Linear Regression"
   ]
  },
  {
   "cell_type": "markdown",
   "metadata": {},
   "source": [
    "### 7.2.2. Hoeffding Tree"
   ]
  },
  {
   "cell_type": "markdown",
   "metadata": {},
   "source": [
    "### 7.2.3. AMRules"
   ]
  },
  {
   "cell_type": "markdown",
   "metadata": {},
   "source": [
    "### 7.2.4. Adaptive Random Forest"
   ]
  },
  {
   "cell_type": "markdown",
   "metadata": {},
   "source": [
    "### 7.7.5. Streaming Random Patches"
   ]
  },
  {
   "cell_type": "markdown",
   "metadata": {},
   "source": [
    "### 7.3. Clustering"
   ]
  },
  {
   "cell_type": "markdown",
   "metadata": {},
   "source": [
    "## 7.4. Anomaly detection"
   ]
  },
  {
   "cell_type": "markdown",
   "metadata": {},
   "source": [
    "# 8. Expert stuff"
   ]
  },
  {
   "cell_type": "markdown",
   "metadata": {},
   "source": [
    "# 9. Pipelines e pré-processamento"
   ]
  },
  {
   "cell_type": "markdown",
   "metadata": {},
   "source": [
    "# 10. Exemplo completo"
   ]
  },
  {
   "cell_type": "code",
   "execution_count": null,
   "metadata": {},
   "outputs": [],
   "source": []
  }
 ],
 "metadata": {
  "kernelspec": {
   "display_name": "Python 3",
   "language": "python",
   "name": "python3"
  },
  "language_info": {
   "codemirror_mode": {
    "name": "ipython",
    "version": 3
   },
   "file_extension": ".py",
   "mimetype": "text/x-python",
   "name": "python",
   "nbconvert_exporter": "python",
   "pygments_lexer": "ipython3",
   "version": "3.8.10"
  }
 },
 "nbformat": 4,
 "nbformat_minor": 4
}
