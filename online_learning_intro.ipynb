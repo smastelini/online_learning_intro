{
 "cells": [
  {
   "cell_type": "markdown",
   "metadata": {},
   "source": [
    "# Introdução (não-extensiva) a Online Learning\n",
    "\n",
    "\n",
    "**Saulo Martiello Mastelini** (mastelini@usp.br)\n",
    "\n",
    "Outras redes:\n",
    "\n",
    "- [Github](https://github.com/smastelini)\n",
    "- [Linkedin](https://www.linkedin.com/in/smastelini/) (eu deveria, mas não atualizo frequentemente -- para ser sincero, está muito desatualizado)\n",
    "- [ResearchGate](https://www.researchgate.net/profile/Saulo-Mastelini)\n",
    "\n",
    "MBA em Ciência de Dados<br>\n",
    "Universidade de São Paulo, São Carlos, Brasil<br>\n",
    "Copyright (c) 2021\n",
    "\n",
    "---\n",
    "\n",
    "**Disclaimer**\n",
    "\n",
    "Como o título já diz, essa não é, de forma alguma, uma introdução extensiva ao tema. É apenas a minha humilde tentativa de dar um panorama geral de décadas de pesquisa em uma área que está em constante expansão e inovação.\n",
    "\n",
    "---\n",
    "\n",
    "\n",
    "## Sumário\n",
    "1. Online learning? Why?\n",
    "2. Batch vs. Online\n",
    "3. Estruturas necessárias: exemplo\n",
    "    - Mean\n",
    "    - Var\n",
    "    - Quantile\n",
    "4. Por que usar dicionários?\n",
    "    - Exemplos com dados faltantes\n",
    "5. Como avaliar um modelo?\n",
    "    - `progressive_val_score`\n",
    "    - label delay\n",
    "6. Exemplos de algoritmos\n",
    "    1. Classificação\n",
    "        1. Logistic regression\n",
    "        2. Hoeffding Tree\n",
    "        3. Naive Bayes\n",
    "        4. Adaptive Random Forest\n",
    "        5. Streaming Random Patches\n",
    "    2. Regressão\n",
    "        1. Linear Regression\n",
    "        2. Hoeffding Tree\n",
    "        3. Stochastic Gradient Trees\n",
    "        4. AMRules\n",
    "        5. Adaptive Random Forest\n",
    "        6. Streaming Random Forest\n",
    "    3. Clustering\n",
    "        1. k-Means\n",
    "        2. CluStream\n",
    "        3. DenStream\n",
    "        4. DBSTREAM\n",
    "    4. Anomaly detection\n",
    "        1. Half-space Trees\n",
    "7. Expert module\n",
    "8. Pipelines e pré-processamento\n",
    "    - Encoding\n",
    "    - Scaling\n",
    "    - Filtragem e Seleção\n",
    "    - Aritmética com Pipelines\n",
    "    - Visualizando as coisas\n",
    "9. Exemplo completo\n",
    "    - processamento em tempo real\n",
    "    - inspeção de modelos"
   ]
  },
  {
   "attachments": {},
   "cell_type": "markdown",
   "metadata": {},
   "source": [
    "# 1. Online Learning? Why?\n",
    "\n",
    "Por que alguém deveria se preocupar em atualizar modelos a todo tempo? Não é só treinar e sair usando?\n",
    "\n",
    "R: sim! Em grande parte dos casos isso é verdade.\n",
    "\n",
    "Mas imagine que:\n",
    "\n",
    "- A quantidade de dados produzidas é enorme\n",
    "- Não é possível armazenar tudo\n",
    "- Existe limitação no poder computacional para treinamento dos modelos\n",
    "    - processador\n",
    "    - memória\n",
    "    - bateria\n",
    "- Os dados são não-estacionários e/ou evoluem com o tempo\n",
    "\n",
    "Nesses casos, posso usar aprendizado de máquina tradicional? R: sim!!\n",
    "\n",
    "É possível usar aprendizado de máquina tradicional se:\n",
    "- Os dados são estacionários (uma amostra representativa dos dados é suficiente)\n",
    "\n",
    "ou\n",
    "\n",
    "- A velocidade de produção dos dados não é tão alta (batch-incremental e os recursos computacionais são suficientes\n",
    "\n",
    "## 1.1 Batch-incremental\n",
    "\n",
    "\n",
    "Um modelo tradicional de aprendizado de máquina é re-treinado de tempos em tempos. Para tal, uma janela para treinamento precisa ser definida.\n",
    "\n",
    "Tipos de janelamento dos dados:\n",
    "\n",
    "\n",
    "<img src=\"time_windows.png\">\n",
    "\n",
    "**Fonte:** Adaptado de:\n",
    "\n",
    "> Carnein, M. and Trautmann, H., 2019. Optimizing data stream representation: An extensive survey on stream clustering algorithms. Business & Information Systems Engineering, 61(3), pp.277-297.\n",
    "\n",
    "- *Landmarks* são a escolha mais comum em estratégias batch-incremental. É preciso definir o tamanho da janela de forma adequada.\n",
    "    - O modelo pode ficar defasado se a janela for muito grande \n",
    "    - Ou o modelo pode não capturar os padrões se a janela for muito pequena\n",
    "    - Concept-drift é um problema e tanto\n",
    "    \n",
    "**Atenção**: batch-incremental != mini-batch.\n",
    "Redes neurais podem ser treinadas de forma incremental ou progressiva. No entanto, questões como \"esquecimento catastrófico\" são problemáticas. Esse e outros tipos de desafios são tratados na área de pesquisa chamada **continual learning**.\n",
    "\n",
    "## 1.2 Importante lembrar\n",
    "\n",
    "Data streams não são, necessariamente, séries temporais! 🤯\n",
    "\n",
    "Mas qual é a diferença, então?\n",
    "\n",
    "Basicamente, em streams não necessariamente temos dependências temporais explícitas como em séries temporais. Por exemplo: rede de sensores.\n",
    "\n",
    "Os dados chegam temporalmente organizados, mas cada sensor tem uma taxa de transmissão específica, ou um delay específico. Alguns sensores pode falhar... outros serem adicionados. E assim por diante.\n",
    "\n",
    "A ordem de chegada não importa... tanto, mas importa."
   ]
  },
  {
   "cell_type": "markdown",
   "metadata": {},
   "source": [
    "# 2. Batch vs. Online\n",
    "\n",
    "Uma boa introdução acerca da \"migração\" de batch para online está disponível no [site](https://riverml.xyz/latest/examples/batch-to-online/) do River. Aqui eu só quero dar uma visão bem geral das diferenças. Entraremos em mais detalhes posteriormente nas minúcias de avaliação de modelos em Online Learning.\n",
    "\n",
    "\n",
    "Uma possível validação de um modelo tradicional de aprendizado de máquina poderia ter essa \"cara\":"
   ]
  },
  {
   "cell_type": "code",
   "execution_count": 1,
   "metadata": {},
   "outputs": [
    {
     "name": "stdout",
     "output_type": "stream",
     "text": [
      "Acurácia média: 0.9045751633986928\n"
     ]
    }
   ],
   "source": [
    "from sklearn.datasets import load_wine\n",
    "from sklearn.metrics import accuracy_score\n",
    "from sklearn.model_selection import KFold\n",
    "from sklearn.tree import DecisionTreeClassifier\n",
    "\n",
    "data = load_wine()\n",
    "\n",
    "X, y = data.data, data.target\n",
    "kf = KFold(shuffle=True, random_state=8, n_splits=10)\n",
    "\n",
    "accs = []\n",
    "\n",
    "for train, test in kf.split(X):\n",
    "    X_tr, X_ts = X[train], X[test]\n",
    "    y_tr, y_ts = y[train], y[test]\n",
    "    \n",
    "    dt  = DecisionTreeClassifier(max_depth=5, random_state=93)\n",
    "    dt.fit(X_tr, y_tr)\n",
    "    \n",
    "    accs.append(accuracy_score(y_ts, dt.predict(X_ts)))\n",
    "\n",
    "print(f\"Acurácia média: {sum(accs) / len(accs)}\")"
   ]
  },
  {
   "cell_type": "markdown",
   "metadata": {},
   "source": [
    "Reparem que todo o conjunto de dados está disponível e carregado em memória. O algoritmo de árvore de decisão pode percorrer os dados de treino quantas vezes forem necessárias. Os dados de teste (validação, no nosso caso) nunca são utilizados para treino.\n",
    "\n",
    "No fim das contas, usaríamos o conjunto completo para treinar um modelo final (supondo que já encontramos um conjunto adequado de hiper-parâmetros). Uma vez treinado, esse modelo seria utilizado para fazer predições para novas amostras (de vinhos, nesse caso)."
   ]
  },
  {
   "cell_type": "code",
   "execution_count": 2,
   "metadata": {},
   "outputs": [
    {
     "name": "stdout",
     "output_type": "stream",
     "text": [
      "Acurácia: 0.9269662921348315\n"
     ]
    }
   ],
   "source": [
    "from river import metrics\n",
    "from river import stream\n",
    "from river import tree\n",
    "\n",
    "\n",
    "acc = metrics.Accuracy()\n",
    "ht = tree.HoeffdingTreeClassifier(max_depth=5, grace_period=20)\n",
    "\n",
    "for x, y in stream.iter_sklearn_dataset(load_wine()):\n",
    "    # Métrica atualizada antes do treinamento\n",
    "    acc.update(y, ht.predict_one(x))\n",
    "    # Modelo treinado amostra-a-amostra\n",
    "    ht.learn_one(x, y)\n",
    "\n",
    "print(f\"Acurácia: {acc.get()}\")"
   ]
  },
  {
   "cell_type": "markdown",
   "metadata": {},
   "source": [
    "Aqui, estamos percorrendo cada exemplo do conjunto de dados de forma sequencial. Os exemplos poderiam ser carregados diretamente do disco, de algum webservice, ou de onde sua imaginação te levar, sem a necessidade de salvar em memória nada.\n",
    "\n",
    "Cada amostra é primeiramente utilizada para teste e depois passada para o modelo. Tudo é atualizado uma amostra por vez. Notem que não podemos comparar diretamente os desempenhos obtidos porque a estratégia de avaliação foi diferente nos dois casos.\n",
    "\n",
    "Poderíamos ainda (pseudo) embaralhar os dados antes de passar para o modelo, se temos plena confiança que os dados são estacionários."
   ]
  },
  {
   "cell_type": "markdown",
   "metadata": {},
   "source": [
    "# 3. Estruturas necessárias: exemplo"
   ]
  },
  {
   "cell_type": "code",
   "execution_count": 3,
   "metadata": {},
   "outputs": [],
   "source": [
    "import numpy as np\n",
    "from river import stats"
   ]
  },
  {
   "cell_type": "markdown",
   "metadata": {},
   "source": [
    "Dado esse choque inicial, vamos prosseguir com calma e primeiramente pensar em alguns aspectos importantes antes de vermos os algoritmos de aprendizado de máquina online.\n",
    "\n",
    "## 3.1. Um exemplo, para aquecimento cerebral\n",
    "\n",
    "Vamos supor que queremos calcular estatísticas para dados que chegam a todo momento:\n",
    "\n",
    "- Média\n",
    "- Variância\n",
    "- ...\n",
    "\n",
    "Hora de simular:"
   ]
  },
  {
   "cell_type": "code",
   "execution_count": 4,
   "metadata": {},
   "outputs": [],
   "source": [
    "import random\n",
    "\n",
    "rng = random.Random(42)"
   ]
  },
  {
   "cell_type": "code",
   "execution_count": 5,
   "metadata": {},
   "outputs": [
    {
     "name": "stdout",
     "output_type": "stream",
     "text": [
      "CPU times: user 1min 5s, sys: 15.2 ms, total: 1min 5s\n",
      "Wall time: 1min 5s\n"
     ]
    }
   ],
   "source": [
    "%%time\n",
    "\n",
    "valores = []\n",
    "stds_batch = []\n",
    "\n",
    "for _ in range(50000):\n",
    "    v = rng.gauss(5, 3)\n",
    "    valores.append(v)\n",
    "    \n",
    "    stds_batch.append(np.std(valores))"
   ]
  },
  {
   "cell_type": "markdown",
   "metadata": {},
   "source": [
    "Por padrão o numpy calcula o desvio padrão populacional! Para usar a versão amostral precisamos passar `ddof=1` como parâmetro."
   ]
  },
  {
   "cell_type": "code",
   "execution_count": 6,
   "metadata": {},
   "outputs": [],
   "source": [
    "rng = random.Random(42)"
   ]
  },
  {
   "cell_type": "code",
   "execution_count": 7,
   "metadata": {
    "scrolled": true
   },
   "outputs": [
    {
     "name": "stdout",
     "output_type": "stream",
     "text": [
      "CPU times: user 116 ms, sys: 0 ns, total: 116 ms\n",
      "Wall time: 115 ms\n"
     ]
    }
   ],
   "source": [
    "%%time\n",
    "\n",
    "stds_incr = []\n",
    "var = stats.Var(ddof=0)\n",
    "\n",
    "for _ in range(50000):\n",
    "    v = rng.gauss(5, 3)\n",
    "    var.update(v)\n",
    "    stds_incr.append(var.get() ** 0.5)"
   ]
  },
  {
   "cell_type": "markdown",
   "metadata": {},
   "source": [
    "Será que dá alguma diferença? E será que funciona?"
   ]
  },
  {
   "cell_type": "code",
   "execution_count": 8,
   "metadata": {
    "scrolled": true
   },
   "outputs": [
    {
     "data": {
      "text/plain": [
       "(4.301100448023121e-10, 8.602200896046241e-15)"
      ]
     },
     "execution_count": 8,
     "metadata": {},
     "output_type": "execute_result"
    }
   ],
   "source": [
    "s_erros = 0\n",
    "\n",
    "for batch, incr in zip(stds_batch, stds_incr):\n",
    "    s_erros += (batch - incr)\n",
    "\n",
    "s_erros, s_erros / len(stds_batch)"
   ]
  },
  {
   "cell_type": "markdown",
   "metadata": {},
   "source": [
    "Ok... parece convincente. Mas e se o cenário fosse diferente? Se ao invés de calcularmos o desvio padrão e irmos aumentando a quantidade de dados, quisessemos descobrir um percentil das últimas `N` amostras?"
   ]
  },
  {
   "cell_type": "code",
   "execution_count": 9,
   "metadata": {},
   "outputs": [],
   "source": [
    "rng = random.Random(42)\n",
    "\n",
    "tam = 10000"
   ]
  },
  {
   "cell_type": "code",
   "execution_count": 10,
   "metadata": {},
   "outputs": [
    {
     "name": "stdout",
     "output_type": "stream",
     "text": [
      "CPU times: user 1min 21s, sys: 103 ms, total: 1min 21s\n",
      "Wall time: 1min 21s\n"
     ]
    }
   ],
   "source": [
    "%%time\n",
    "\n",
    "\n",
    "buffer = []\n",
    "percs75_batch = []\n",
    "\n",
    "for _ in range(100000):\n",
    "    v = rng.uniform(-100, 100)\n",
    "    buffer.append(v)\n",
    "    if len(buffer) <= tam:\n",
    "        continue\n",
    "        \n",
    "    percs75_batch.append(np.quantile(buffer, q=0.75))\n",
    "    buffer.pop(0)"
   ]
  },
  {
   "cell_type": "markdown",
   "metadata": {},
   "source": [
    "Podemos fazer um pouco melhor que isso."
   ]
  },
  {
   "cell_type": "code",
   "execution_count": 11,
   "metadata": {},
   "outputs": [],
   "source": [
    "rng = random.Random(42)"
   ]
  },
  {
   "cell_type": "code",
   "execution_count": 12,
   "metadata": {},
   "outputs": [
    {
     "name": "stdout",
     "output_type": "stream",
     "text": [
      "CPU times: user 6.27 s, sys: 3.98 ms, total: 6.27 s\n",
      "Wall time: 6.27 s\n"
     ]
    }
   ],
   "source": [
    "%%time\n",
    "\n",
    "qtl = stats.RollingQuantile(window_size=tam, q=0.75)\n",
    "percs75_incr = []\n",
    "\n",
    "for _ in range(100000):\n",
    "    v = rng.uniform(-100, 100)\n",
    "    qtl.update(v)\n",
    "    if len(qtl) <= tam:\n",
    "        continue\n",
    "        \n",
    "    percs75_incr.append(qtl.get())"
   ]
  },
  {
   "cell_type": "code",
   "execution_count": 13,
   "metadata": {
    "scrolled": true
   },
   "outputs": [
    {
     "data": {
      "text/plain": [
       "0"
      ]
     },
     "execution_count": 13,
     "metadata": {},
     "output_type": "execute_result"
    }
   ],
   "source": [
    "s_erros = 0\n",
    "\n",
    "for batch, incr in zip(percs75_batch, percs75_incr):\n",
    "    s_erros += (batch - incr)\n",
    "\n",
    "s_erros"
   ]
  },
  {
   "cell_type": "markdown",
   "metadata": {},
   "source": [
    "Espero tê-los convencido! O [módulo](https://riverml.xyz/dev/api/overview/#stats) `stats` do River tem várias funções úteis para sumarização de dados de forma incremental. Vale a pena checar! 🧐\n",
    "\n",
    "A razão pela qual eu quis mostrar tudo isso é porque vários desses algoritmos são os \"tijolos\" que compõem os algoritmos de aprendizado de máquina. Uma receita breve para online learning:\n",
    "\n",
    "- A junção de métricas estatísticas incrementais\n",
    "- Algumas grandezas probabilísticas\n",
    "- Algumas teorias de aprendizado de máquina que são genéricas e não limitadas ao cenário in-batch\n",
    "- Gradiente descendente\n",
    "- *otras cositas*\n",
    "\n",
    "Com isso tudo é possível formar boa parte dos algoritmos de aprendizado incremental. Mas isso é extremamente genérico de se dizer, não é? Bom, no fim das contas, o aprendizado de máquina tradicional também \"se resume\" a algumas coisas pontuais, mas que são extremamente abrangentes por si só.\n",
    "\n",
    "Que tal entendermos um pouco de como os exemplos anteriores funcionam e por que eles funcionam?\n",
    "\n",
    "## 3.2. Uma (extremamente) breve reflexão sobre complexidade dos algoritmos\n",
    "\n",
    "Quanto custa para calcular a variância (no caso, desvio padrão) e o percentil nos exemplos anteriores?\n",
    "\n",
    "**Modo batch**\n",
    "\n",
    "Variância:  $\\dfrac{\\sum_i^N (x_i - \\bar{x})}{N - 1}$\n",
    "\n",
    "- Média é calculada com o custo $O(n)$ -> todos os elementos devem ser somados e divididos pelo total de observações\n",
    "- Com a média em mãos, precisamos calcular o desvio de cada elemento para a média e somar tais desvios: $O(n)$\n",
    "- No fim das contas, o custo final é $O(n)$ (na notação assintótica), mas tivemos que percorrer todos os dados duas vezes (e, consequentemente, armazená-los).\n",
    "- Esse algoritmo também apresenta problemas de estabilidade, quando o número de observações é muito grande. Pode gerar erros numéricos de aproximação.\n",
    "\n",
    "Percentil:\n",
    "\n",
    "- Pegue um exemplo novo e remova o mais antigo\n",
    "- Ordene os dados: algo em torno de $O(n\\log n)$ (n é o tamanho do buffer)\n",
    "- Encontre a posição correta, interpole e retorne\n",
    "\n",
    "Se esse processo é repetido várias e várias vezes...\n",
    "\n",
    "**Modo incremental**\n",
    "\n",
    "\n",
    "Variância (algoritmo de Welford):\n",
    "\n",
    "- Precisamos de algumas variáveis:\n",
    "    - $n$: número de observações\n",
    "    - $\\overline{x}_n$: a média da amostral, após $n$ observações\n",
    "    - $M_{2, n}$: estatística de segunda ordem que gerará a variância\n",
    "- As atualizações das estatísticas se dão na seguinte forma:\n",
    "    - $\\overline{x}_n = \\overline{x}_{n-1} + \\dfrac{x_n - \\overline{x}_{n-1}}{n}$\n",
    "    - $M_{2,n} = M_{2,n-1} + (x_n - \\overline{x}_{n-1})(x_n - \\overline{x}_n)$\n",
    "- E as estatísticas são inicializadas da seguinte forma:\n",
    "    - $\\overline{x}_{0} \\leftarrow 0$\n",
    "    - $M_{2,0} \\leftarrow 0$\n",
    "- Para obter a variância amostral basta usar: $s_n^2 = \\dfrac{M_{2,n}}{n-1}$, para todo $n > 1$\n",
    "- De brinde, obtemos um preditor robusto para a média 🤓\n",
    "\n",
    "\n",
    "Percentil:\n",
    "\n",
    "- Mantemos dois buffers\n",
    "   - Um com os dados na ordem em que chegam\n",
    "   - Outro com os dados ordenados: o custo de inserção de um novo ponto em um vetor já ordenado é $O(\\log n)$\n",
    "   - A remoção de um valor no buffer ordenado é $O(n)$. No buffer não-ordenado é $O(1)$\n",
    "   - O cálculo do percentil usa o buffer ordenado\n",
    "   \n",
    "No fim das contas, sempre buscamos que cada atualização em uma métrica ou modelo de aprendizado tenha um custo constante ($O(1)$). Se isso não for possível, então um custo sub-linear é o objetivo!\n",
    "\n",
    "---\n",
    "\n",
    "Antes de prosseguirmos, vou mostrar mais uma aplicação legal de métricas incrementais, com requintes de processamento distribuido.\n",
    "\n",
    "**Situação hipotética:**\n",
    "\n",
    "E se estivéssemos calculando estatísticas de alguma coisa, mas a coleta era feita de forma separada? Por exemplo, estamos calculando a variância de alguma coisa a nível estadual, mas a coleta é feita por município?\n",
    "\n",
    "(Eu sou paranaense)"
   ]
  },
  {
   "cell_type": "code",
   "execution_count": 14,
   "metadata": {},
   "outputs": [],
   "source": [
    "rng = random.Random(7)"
   ]
  },
  {
   "cell_type": "code",
   "execution_count": 15,
   "metadata": {},
   "outputs": [
    {
     "data": {
      "text/plain": [
       "(39496.429786146546, 249442.43568603016)"
      ]
     },
     "execution_count": 15,
     "metadata": {},
     "output_type": "execute_result"
    }
   ],
   "source": [
    "dados_ca = [rng.gauss(1500, 200) for _ in range(15000)]\n",
    "dados_lndrn = [rng.gauss(2500, 500) for _ in range(600000)]\n",
    "\n",
    "np.var(dados_ca), np.var(dados_lndrn)"
   ]
  },
  {
   "cell_type": "markdown",
   "metadata": {},
   "source": [
    "E se quisermos calcular a variância (ou média) total de todos os municípios?"
   ]
  },
  {
   "cell_type": "code",
   "execution_count": 16,
   "metadata": {},
   "outputs": [
    {
     "data": {
      "text/plain": [
       "615000"
      ]
     },
     "execution_count": 16,
     "metadata": {},
     "output_type": "execute_result"
    }
   ],
   "source": [
    "dados_parana = []\n",
    "\n",
    "# dados_parana.extend(dados_abatiá)\n",
    "# ...\n",
    "dados_parana.extend(dados_ca)\n",
    "# ...\n",
    "dados_parana.extend(dados_lndrn)\n",
    "# ...\n",
    "# dados_parana.extend(dados_xambrê)\n",
    "\n",
    "len(dados_parana)"
   ]
  },
  {
   "cell_type": "code",
   "execution_count": 17,
   "metadata": {},
   "outputs": [
    {
     "data": {
      "text/plain": [
       "268085.14104958007"
      ]
     },
     "execution_count": 17,
     "metadata": {},
     "output_type": "execute_result"
    }
   ],
   "source": [
    "np.var(dados_parana)"
   ]
  },
  {
   "cell_type": "code",
   "execution_count": 18,
   "metadata": {
    "scrolled": true
   },
   "outputs": [
    {
     "data": {
      "text/plain": [
       "2475.927394402956"
      ]
     },
     "execution_count": 18,
     "metadata": {},
     "output_type": "execute_result"
    }
   ],
   "source": [
    "np.mean(dados_parana)"
   ]
  },
  {
   "cell_type": "markdown",
   "metadata": {},
   "source": [
    "Nós já sabemos como fazer esse mesmo processo de forma incremental:"
   ]
  },
  {
   "cell_type": "code",
   "execution_count": 19,
   "metadata": {},
   "outputs": [],
   "source": [
    "# estou considerando que todos os dados foram coletados, mas poderia usar o padrão, ddof=1\n",
    "var_ca = stats.Var(ddof=0)\n",
    "var_lndrn = stats.Var(ddof=0)\n",
    "\n",
    "for p in dados_ca:\n",
    "    var_ca.update(p)\n",
    "    \n",
    "for p in dados_lndrn:\n",
    "    var_lndrn.update(p)"
   ]
  },
  {
   "cell_type": "code",
   "execution_count": 20,
   "metadata": {},
   "outputs": [
    {
     "data": {
      "text/plain": [
       "(39496.429786146546, 249442.4356860276)"
      ]
     },
     "execution_count": 20,
     "metadata": {},
     "output_type": "execute_result"
    }
   ],
   "source": [
    "var_ca.get(), var_lndrn.get()"
   ]
  },
  {
   "cell_type": "markdown",
   "metadata": {},
   "source": [
    "Posso usar `stats.Mean` para obter a média. Mas se lembrarmos bem, o algoritmo de Welford tem um preditor de média \"lá no meio\", não tem?\n",
    "\n",
    "Voilà!"
   ]
  },
  {
   "cell_type": "code",
   "execution_count": 21,
   "metadata": {},
   "outputs": [
    {
     "data": {
      "text/plain": [
       "(1500.9742744265895, 1500.9742744265982)"
      ]
     },
     "execution_count": 21,
     "metadata": {},
     "output_type": "execute_result"
    }
   ],
   "source": [
    "var_ca.mean.get(), np.mean(dados_ca)"
   ]
  },
  {
   "cell_type": "markdown",
   "metadata": {},
   "source": [
    "Agora vem a parte mais legal 🙃\n",
    "\n",
    "Como obtemos as estatísticas para o estado inteiro?"
   ]
  },
  {
   "cell_type": "code",
   "execution_count": 22,
   "metadata": {},
   "outputs": [
    {
     "data": {
      "text/plain": [
       "(268085.1410495726, 268085.14104958007)"
      ]
     },
     "execution_count": 22,
     "metadata": {},
     "output_type": "execute_result"
    }
   ],
   "source": [
    "# Imagine que temos um for somando as estatísticas de todos os estados\n",
    "\n",
    "var_parana = var_ca + var_lndrn  # + os outros municipios\n",
    "\n",
    "var_parana.get(), np.var(dados_parana)"
   ]
  },
  {
   "cell_type": "code",
   "execution_count": 23,
   "metadata": {},
   "outputs": [
    {
     "data": {
      "text/plain": [
       "(2475.927394402848, 2475.927394402956)"
      ]
     },
     "execution_count": 23,
     "metadata": {},
     "output_type": "execute_result"
    }
   ],
   "source": [
    "var_parana.mean.get(), np.mean(dados_parana)"
   ]
  },
  {
   "cell_type": "markdown",
   "metadata": {},
   "source": [
    "E se a bela e formosa cidade de Cândido de Abreu tivesse sido esquecida? Os dados tivessem sido perdidos, sei lá...\n",
    "\n",
    "(quando eu era criança, minha cidade nem aparecia nos mapas impressos do Paraná, vai saber...)"
   ]
  },
  {
   "cell_type": "code",
   "execution_count": 24,
   "metadata": {},
   "outputs": [],
   "source": [
    "var_ca_backup = var_parana - var_lndrn  # - os outros municipios"
   ]
  },
  {
   "cell_type": "code",
   "execution_count": 25,
   "metadata": {
    "scrolled": true
   },
   "outputs": [
    {
     "data": {
      "text/plain": [
       "(39496.429786146546, 39496.42978614286)"
      ]
     },
     "execution_count": 25,
     "metadata": {},
     "output_type": "execute_result"
    }
   ],
   "source": [
    "var_ca.get(), var_ca_backup.get()"
   ]
  },
  {
   "cell_type": "code",
   "execution_count": 26,
   "metadata": {},
   "outputs": [
    {
     "data": {
      "text/plain": [
       "(1500.9742744265895, 1500.9742744265875)"
      ]
     },
     "execution_count": 26,
     "metadata": {},
     "output_type": "execute_result"
    }
   ],
   "source": [
    "var_ca.mean.get(), var_ca_backup.mean.get()"
   ]
  },
  {
   "cell_type": "markdown",
   "metadata": {},
   "source": [
    "No fim das contas, sempre existe um trade-off entre memória e tempo de processamento (e a quantidade de \"passadas\" nos dados) e a precisão dos resultados obtidos. Muitos dos algorítmos de online learning incluem um parâmetro ($\\delta$) que indica a porcentagem de \"certeza\" que você deseja ter nos seus resultados. Em geral, quanto mais certeza, mais tempo leva para tomar as decisões.\n",
    "\n",
    "\n",
    "# 4. Por que usar dicionários (ou, por que usar uma representação esparsa)?\n",
    "\n",
    "Um as primeiras coisas que podem chamar a atenção no River é o tipo de dados que é utilizado: dicionários python.\n",
    "\n",
    "- Chave x valor: chaves são únicas\n",
    "- Valores acessados via chave, ao invés de índice\n",
    "- Dicionários são estruturas naturalmente esparsas\n",
    "- Diferentemente de arrays, vetores, matrizes (e etc.) não possuem uma ordenação explícita\n",
    "- Podem ser extendidos\n",
    "- Podem ter variáveis de tipo misto\n",
    "\n",
    "Exemplos:"
   ]
  },
  {
   "cell_type": "code",
   "execution_count": 27,
   "metadata": {},
   "outputs": [
    {
     "data": {
      "text/plain": [
       "{'batata': 3,\n",
       " 'carro': 2,\n",
       " 'data': datetime.datetime(2021, 8, 27, 16, 29, 4, 600418),\n",
       " 'sim_ou_não': 'sim'}"
      ]
     },
     "execution_count": 27,
     "metadata": {},
     "output_type": "execute_result"
    }
   ],
   "source": [
    "from datetime import datetime\n",
    "\n",
    "x = {\n",
    "    \"batata\": 3,\n",
    "    \"carro\": 2,\n",
    "    \"data\": datetime.now(),\n",
    "    \"sim_ou_não\": \"sim\"\n",
    "}\n",
    "\n",
    "x"
   ]
  },
  {
   "cell_type": "code",
   "execution_count": 28,
   "metadata": {},
   "outputs": [
    {
     "data": {
      "text/plain": [
       "{'batata': 3,\n",
       " 'carro': 2,\n",
       " 'data': datetime.datetime(2021, 8, 27, 16, 29, 4, 600418),\n",
       " 'sim_ou_não': 'sim',\n",
       " 'mais um': True}"
      ]
     },
     "execution_count": 28,
     "metadata": {},
     "output_type": "execute_result"
    }
   ],
   "source": [
    "x[\"mais um\"] = True\n",
    "x"
   ]
  },
  {
   "cell_type": "code",
   "execution_count": 29,
   "metadata": {},
   "outputs": [
    {
     "data": {
      "text/plain": [
       "{'batata': 3, 'carro': 2, 'sim_ou_não': 'sim', 'mais um': True}"
      ]
     },
     "execution_count": 29,
     "metadata": {},
     "output_type": "execute_result"
    }
   ],
   "source": [
    "del x[\"data\"]\n",
    "x"
   ]
  },
  {
   "cell_type": "markdown",
   "metadata": {},
   "source": [
    "Esse tipo de estrutura é muito parecida com o popular formato JSON (para transferência de dados)!\n",
    "\n",
    "Que tal compararmos com o que é mais usual?"
   ]
  },
  {
   "cell_type": "code",
   "execution_count": 30,
   "metadata": {},
   "outputs": [
    {
     "data": {
      "text/plain": [
       "(array([1.423e+01, 1.710e+00, 2.430e+00, 1.560e+01, 1.270e+02, 2.800e+00,\n",
       "        3.060e+00, 2.800e-01, 2.290e+00, 5.640e+00, 1.040e+00, 3.920e+00,\n",
       "        1.065e+03]),\n",
       " ['alcohol',\n",
       "  'malic_acid',\n",
       "  'ash',\n",
       "  'alcalinity_of_ash',\n",
       "  'magnesium',\n",
       "  'total_phenols',\n",
       "  'flavanoids',\n",
       "  'nonflavanoid_phenols',\n",
       "  'proanthocyanins',\n",
       "  'color_intensity',\n",
       "  'hue',\n",
       "  'od280/od315_of_diluted_wines',\n",
       "  'proline'])"
      ]
     },
     "execution_count": 30,
     "metadata": {},
     "output_type": "execute_result"
    }
   ],
   "source": [
    "data = load_wine()\n",
    "\n",
    "X, y = data.data, data.target\n",
    "\n",
    "X[0, :], data.feature_names"
   ]
  },
  {
   "cell_type": "code",
   "execution_count": 31,
   "metadata": {},
   "outputs": [
    {
     "data": {
      "text/plain": [
       "(0, array(['class_0', 'class_1', 'class_2'], dtype='<U7'))"
      ]
     },
     "execution_count": 31,
     "metadata": {},
     "output_type": "execute_result"
    }
   ],
   "source": [
    "y[0], data.target_names"
   ]
  },
  {
   "cell_type": "markdown",
   "metadata": {},
   "source": [
    "Primeiramente, vamos colocar o sklearn à prova."
   ]
  },
  {
   "cell_type": "code",
   "execution_count": 32,
   "metadata": {},
   "outputs": [
    {
     "data": {
      "text/plain": [
       "((176, 13), (2, 13))"
      ]
     },
     "execution_count": 32,
     "metadata": {},
     "output_type": "execute_result"
    }
   ],
   "source": [
    "X_tr, y_tr = X[:-2, :], y[:-2]\n",
    "X_ts, y_ts = X[-2:, :], y[-2:]\n",
    "\n",
    "X_tr.shape, X_ts.shape"
   ]
  },
  {
   "cell_type": "code",
   "execution_count": 33,
   "metadata": {
    "scrolled": true
   },
   "outputs": [
    {
     "data": {
      "text/plain": [
       "array([2, 2])"
      ]
     },
     "execution_count": 33,
     "metadata": {},
     "output_type": "execute_result"
    }
   ],
   "source": [
    "from sklearn.naive_bayes import GaussianNB\n",
    "\n",
    "nb = GaussianNB()\n",
    "\n",
    "nb.fit(X_tr, y_tr)\n",
    "\n",
    "nb.predict(X_ts)"
   ]
  },
  {
   "cell_type": "markdown",
   "metadata": {},
   "source": [
    "Mas, e se uma feature estivesse faltando?"
   ]
  },
  {
   "cell_type": "code",
   "execution_count": 36,
   "metadata": {},
   "outputs": [
    {
     "name": "stdout",
     "output_type": "stream",
     "text": [
      "operands could not be broadcast together with shapes (2,12) (13,) \n"
     ]
    }
   ],
   "source": [
    "try:\n",
    "    nb.predict(X_ts[:, 1:])\n",
    "except ValueError as error:\n",
    "    print(error)"
   ]
  },
  {
   "cell_type": "markdown",
   "metadata": {},
   "source": [
    "Em Online Learning nós não deveríamos ficar nos preocupando com \"coisa pouca\" assim. Brincadeiras a parte, em um cenário de aprendizado online, sensores podem falhar, novos dados podem surgir, entre muitas outras coisas que podem alterar os dados de entrada. Precisamos de uma representação e modelos robustos quanto a isso!\n",
    "\n",
    "Com o River, a vasta maioria dos modelos está pronta para lidar com esse tipo de problema! 🎉"
   ]
  },
  {
   "cell_type": "code",
   "execution_count": 44,
   "metadata": {},
   "outputs": [],
   "source": [
    "from river import naive_bayes\n",
    "\n",
    "gnb = naive_bayes.GaussianNB()\n",
    "dataset = stream.iter_sklearn_dataset(load_wine())\n",
    "\n",
    "rng = random.Random(42)\n",
    "\n",
    "# Chance de feature ser ignorada\n",
    "del_chance = 0.2\n",
    "\n",
    "n_linhas_incompletas = 0\n",
    "for i, (x, y) in enumerate(dataset):\n",
    "    if i == 176:\n",
    "        break\n",
    "    \n",
    "    x_copy = x.copy()\n",
    "    aux = 0\n",
    "    for xi in x:\n",
    "        if rng.random() <= del_chance:\n",
    "            del x_copy[xi]\n",
    "            aux = 1\n",
    "        \n",
    "        # Atualiza o número de linhas incompletas\n",
    "        n_linhas_incompletas += aux\n",
    "    \n",
    "    gnb.learn_one(x_copy, y)"
   ]
  },
  {
   "cell_type": "code",
   "execution_count": 39,
   "metadata": {},
   "outputs": [
    {
     "name": "stdout",
     "output_type": "stream",
     "text": [
      "Object `naive_bayes.GaussianNB` not found.\n"
     ]
    }
   ],
   "source": [
    "?naive_bayes.GaussianNB"
   ]
  },
  {
   "cell_type": "code",
   "execution_count": 45,
   "metadata": {
    "scrolled": false
   },
   "outputs": [
    {
     "data": {
      "text/plain": [
       "({'alcohol': 13.17,\n",
       "  'malic_acid': 2.59,\n",
       "  'ash': 2.37,\n",
       "  'alcalinity_of_ash': 20.0,\n",
       "  'magnesium': 120.0,\n",
       "  'total_phenols': 1.65,\n",
       "  'flavanoids': 0.68,\n",
       "  'nonflavanoid_phenols': 0.53,\n",
       "  'proanthocyanins': 1.46,\n",
       "  'color_intensity': 9.3,\n",
       "  'hue': 0.6,\n",
       "  'od280/od315_of_diluted_wines': 1.62,\n",
       "  'proline': 840.0},\n",
       " 2)"
      ]
     },
     "execution_count": 45,
     "metadata": {},
     "output_type": "execute_result"
    }
   ],
   "source": [
    "x, y"
   ]
  },
  {
   "cell_type": "code",
   "execution_count": 46,
   "metadata": {},
   "outputs": [
    {
     "data": {
      "text/plain": [
       "{0: 2.2901730526821133e-23, 1: 4.523692607178262e-14, 2: 0.9999999999999538}"
      ]
     },
     "execution_count": 46,
     "metadata": {},
     "output_type": "execute_result"
    }
   ],
   "source": [
    "gnb.predict_proba_one(x)"
   ]
  },
  {
   "cell_type": "markdown",
   "metadata": {},
   "source": [
    "Vamos bagunçar a última amostra:"
   ]
  },
  {
   "cell_type": "code",
   "execution_count": 47,
   "metadata": {
    "scrolled": true
   },
   "outputs": [
    {
     "data": {
      "text/plain": [
       "['alcohol',\n",
       " 'malic_acid',\n",
       " 'ash',\n",
       " 'alcalinity_of_ash',\n",
       " 'magnesium',\n",
       " 'total_phenols',\n",
       " 'flavanoids',\n",
       " 'nonflavanoid_phenols',\n",
       " 'proanthocyanins',\n",
       " 'color_intensity',\n",
       " 'hue',\n",
       " 'od280/od315_of_diluted_wines',\n",
       " 'proline']"
      ]
     },
     "execution_count": 47,
     "metadata": {},
     "output_type": "execute_result"
    }
   ],
   "source": [
    "x, y = next(dataset)\n",
    "list(x.keys())"
   ]
  },
  {
   "cell_type": "markdown",
   "metadata": {},
   "source": [
    "Vou tirar um cópia do `x` e remover umas coisas"
   ]
  },
  {
   "cell_type": "code",
   "execution_count": 49,
   "metadata": {},
   "outputs": [
    {
     "data": {
      "text/plain": [
       "{'alcohol': 14.13,\n",
       " 'ash': 2.74,\n",
       " 'alcalinity_of_ash': 24.5,\n",
       " 'magnesium': 96.0,\n",
       " 'total_phenols': 2.05,\n",
       " 'nonflavanoid_phenols': 0.56,\n",
       " 'proanthocyanins': 1.35,\n",
       " 'color_intensity': 9.2,\n",
       " 'od280/od315_of_diluted_wines': 1.6,\n",
       " 'proline': 560.0}"
      ]
     },
     "execution_count": 49,
     "metadata": {},
     "output_type": "execute_result"
    }
   ],
   "source": [
    "x_copy = x.copy()\n",
    "\n",
    "del x_copy[\"malic_acid\"]\n",
    "del x_copy[\"hue\"]\n",
    "del x_copy[\"flavanoids\"]\n",
    "\n",
    "x_copy"
   ]
  },
  {
   "cell_type": "markdown",
   "metadata": {},
   "source": [
    "Será que o nosso modelo dá conta do recado?"
   ]
  },
  {
   "cell_type": "code",
   "execution_count": 51,
   "metadata": {},
   "outputs": [
    {
     "data": {
      "text/plain": [
       "({0: 7.394823717897321e-13, 1: 8.511456030879924e-13, 2: 0.9999999999984084},\n",
       " 2)"
      ]
     },
     "execution_count": 51,
     "metadata": {},
     "output_type": "execute_result"
    }
   ],
   "source": [
    "gnb.predict_proba_one(x_copy), y"
   ]
  },
  {
   "cell_type": "markdown",
   "metadata": {},
   "source": [
    "E se ao invés de diminuir o número de features aumentasse?"
   ]
  },
  {
   "cell_type": "code",
   "execution_count": 52,
   "metadata": {},
   "outputs": [
    {
     "data": {
      "text/plain": [
       "{'alcohol': 14.13,\n",
       " 'malic_acid': 4.1,\n",
       " 'ash': 2.74,\n",
       " 'alcalinity_of_ash': 24.5,\n",
       " 'magnesium': 96.0,\n",
       " 'total_phenols': 2.05,\n",
       " 'flavanoids': 0.76,\n",
       " 'nonflavanoid_phenols': 0.56,\n",
       " 'proanthocyanins': 1.35,\n",
       " 'color_intensity': 9.2,\n",
       " 'hue': 0.61,\n",
       " 'od280/od315_of_diluted_wines': 1.6,\n",
       " 'proline': 560.0,\n",
       " 'primeira extra': 7.89,\n",
       " 'segunda extra': 2}"
      ]
     },
     "execution_count": 52,
     "metadata": {},
     "output_type": "execute_result"
    }
   ],
   "source": [
    "x[\"primeira extra\"] = 7.89\n",
    "x[\"segunda extra\"] = 2\n",
    "\n",
    "x"
   ]
  },
  {
   "cell_type": "code",
   "execution_count": 59,
   "metadata": {},
   "outputs": [
    {
     "data": {
      "text/plain": [
       "1"
      ]
     },
     "execution_count": 59,
     "metadata": {},
     "output_type": "execute_result"
    }
   ],
   "source": [
    "gnb.learn_one(x, y)\n",
    "\n",
    "gnb.predict_one({\"primeira extra\": 7.8, \"segunda extra\": 1.5})"
   ]
  },
  {
   "cell_type": "code",
   "execution_count": 60,
   "metadata": {},
   "outputs": [
    {
     "data": {
      "text/plain": [
       "(array([0, 1, 2]), array([59, 71, 48]))"
      ]
     },
     "execution_count": 60,
     "metadata": {},
     "output_type": "execute_result"
    }
   ],
   "source": [
    "np.unique(data.target, return_counts=True)"
   ]
  },
  {
   "cell_type": "markdown",
   "metadata": {},
   "source": [
    "Cada tipo de modelo implementa estratégias diferentes para lidar com atributos emergentes ou faltantes!\n",
    "\n",
    "No nosso exemplo, \"1\" era a classe majoritária. Essa foi a escolha feita pelo GaussianNB, já que há pouca informação acerca dos dois atributos extra que adicionamos. Mas eles já fazem parte do modelo e serão atualizados caso novas observações cheguem!"
   ]
  },
  {
   "cell_type": "code",
   "execution_count": 61,
   "metadata": {},
   "outputs": [
    {
     "data": {
      "text/plain": [
       "defaultdict(functools.partial(<class 'collections.defaultdict'>, <class 'river.proba.gaussian.Gaussian'>),\n",
       "            {0: defaultdict(river.proba.gaussian.Gaussian,\n",
       "                         {'alcohol': 𝒩(μ=13.751, σ=0.434),\n",
       "                          'ash': 𝒩(μ=2.473, σ=0.234),\n",
       "                          'alcalinity_of_ash': 𝒩(μ=16.896, σ=2.671),\n",
       "                          'magnesium': 𝒩(μ=107.082, σ=10.720),\n",
       "                          'total_phenols': 𝒩(μ=2.811, σ=0.286),\n",
       "                          'flavanoids': 𝒩(μ=2.955, σ=0.367),\n",
       "                          'proanthocyanins': 𝒩(μ=1.881, σ=0.399),\n",
       "                          'hue': 𝒩(μ=1.077, σ=0.119),\n",
       "                          'od280/od315_of_diluted_wines': 𝒩(μ=3.131, σ=0.348),\n",
       "                          'malic_acid': 𝒩(μ=1.982, σ=0.661),\n",
       "                          'nonflavanoid_phenols': 𝒩(μ=0.288, σ=0.071),\n",
       "                          'color_intensity': 𝒩(μ=5.443, σ=1.342),\n",
       "                          'proline': 𝒩(μ=1114.224, σ=228.521),\n",
       "                          'primeira extra': 𝒩(μ=0.000, σ=0.000),\n",
       "                          'segunda extra': 𝒩(μ=0.000, σ=0.000)}),\n",
       "             1: defaultdict(river.proba.gaussian.Gaussian,\n",
       "                         {'alcohol': 𝒩(μ=12.261, σ=0.549),\n",
       "                          'ash': 𝒩(μ=2.228, σ=0.334),\n",
       "                          'alcalinity_of_ash': 𝒩(μ=20.347, σ=3.468),\n",
       "                          'magnesium': 𝒩(μ=94.476, σ=16.685),\n",
       "                          'flavanoids': 𝒩(μ=2.040, σ=0.711),\n",
       "                          'nonflavanoid_phenols': 𝒩(μ=0.371, σ=0.130),\n",
       "                          'color_intensity': 𝒩(μ=3.128, σ=0.905),\n",
       "                          'hue': 𝒩(μ=1.065, σ=0.184),\n",
       "                          'od280/od315_of_diluted_wines': 𝒩(μ=2.751, σ=0.508),\n",
       "                          'malic_acid': 𝒩(μ=1.995, σ=1.083),\n",
       "                          'total_phenols': 𝒩(μ=2.288, σ=0.548),\n",
       "                          'proanthocyanins': 𝒩(μ=1.687, σ=0.617),\n",
       "                          'proline': 𝒩(μ=523.582, σ=169.681),\n",
       "                          'primeira extra': 𝒩(μ=0.000, σ=0.000),\n",
       "                          'segunda extra': 𝒩(μ=0.000, σ=0.000)}),\n",
       "             2: defaultdict(river.proba.gaussian.Gaussian,\n",
       "                         {'alcohol': 𝒩(μ=13.302, σ=0.601),\n",
       "                          'malic_acid': 𝒩(μ=3.481, σ=1.141),\n",
       "                          'alcalinity_of_ash': 𝒩(μ=22.022, σ=2.378),\n",
       "                          'magnesium': 𝒩(μ=97.844, σ=9.707),\n",
       "                          'nonflavanoid_phenols': 𝒩(μ=0.455, σ=0.134),\n",
       "                          'proanthocyanins': 𝒩(μ=1.192, σ=0.407),\n",
       "                          'color_intensity': 𝒩(μ=7.399, σ=2.281),\n",
       "                          'hue': 𝒩(μ=0.677, σ=0.101),\n",
       "                          'od280/od315_of_diluted_wines': 𝒩(μ=1.680, σ=0.256),\n",
       "                          'proline': 𝒩(μ=612.766, σ=105.257),\n",
       "                          'ash': 𝒩(μ=2.494, σ=0.198),\n",
       "                          'total_phenols': 𝒩(μ=1.770, σ=0.342),\n",
       "                          'flavanoids': 𝒩(μ=0.762, σ=0.256),\n",
       "                          'primeira extra': 𝒩(μ=7.890, σ=0.000),\n",
       "                          'segunda extra': 𝒩(μ=2.000, σ=0.000)})})"
      ]
     },
     "execution_count": 61,
     "metadata": {},
     "output_type": "execute_result"
    }
   ],
   "source": [
    "gnb.gaussians"
   ]
  },
  {
   "cell_type": "markdown",
   "metadata": {},
   "source": [
    "# 5. Como avaliar um modelo?"
   ]
  },
  {
   "cell_type": "markdown",
   "metadata": {},
   "source": [
    "# 6. Exemplos de algoritmos"
   ]
  },
  {
   "cell_type": "markdown",
   "metadata": {},
   "source": [
    "## 6.1. Classificação"
   ]
  },
  {
   "cell_type": "markdown",
   "metadata": {},
   "source": [
    "## 6.2. Regressão"
   ]
  },
  {
   "cell_type": "markdown",
   "metadata": {},
   "source": [
    "## 6.3. Clustering"
   ]
  },
  {
   "cell_type": "markdown",
   "metadata": {},
   "source": [
    "## 6.4. Anomaly detection"
   ]
  },
  {
   "cell_type": "markdown",
   "metadata": {},
   "source": [
    "# 7. Expert stuff"
   ]
  },
  {
   "cell_type": "markdown",
   "metadata": {},
   "source": [
    "# 8. Pipelines e pré-processamento"
   ]
  },
  {
   "cell_type": "markdown",
   "metadata": {},
   "source": [
    "# 9. Exemplo completo"
   ]
  },
  {
   "cell_type": "code",
   "execution_count": null,
   "metadata": {},
   "outputs": [],
   "source": []
  }
 ],
 "metadata": {
  "kernelspec": {
   "display_name": "Python 3",
   "language": "python",
   "name": "python3"
  },
  "language_info": {
   "codemirror_mode": {
    "name": "ipython",
    "version": 3
   },
   "file_extension": ".py",
   "mimetype": "text/x-python",
   "name": "python",
   "nbconvert_exporter": "python",
   "pygments_lexer": "ipython3",
   "version": "3.8.10"
  }
 },
 "nbformat": 4,
 "nbformat_minor": 4
}
