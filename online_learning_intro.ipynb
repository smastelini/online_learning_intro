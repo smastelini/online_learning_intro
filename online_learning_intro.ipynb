{
 "cells": [
  {
   "cell_type": "markdown",
   "metadata": {},
   "source": [
    "# Introdução (não-extensiva) a Online Learning\n",
    "\n",
    "\n",
    "**Saulo Martiello Mastelini** (mastelini@usp.br)\n",
    "\n",
    "Outras redes:\n",
    "\n",
    "- [Github](https://github.com/smastelini)\n",
    "- [Linkedin](https://www.linkedin.com/in/smastelini/) (eu deveria, mas não atualizo frequentemente -- para ser sincero, está bem desatualizado)\n",
    "- [ResearchGate](https://www.researchgate.net/profile/Saulo-Mastelini)\n",
    "\n",
    "MBA em Ciência de Dados<br>\n",
    "Universidade de São Paulo, São Carlos, Brasil<br>\n",
    "Copyright (c) 2021\n",
    "\n",
    "---\n",
    "\n",
    "**Disclaimer**\n",
    "\n",
    "Como o título já diz, essa não é, de forma alguma, uma introdução extensiva ao tema. É apenas a minha humilde tentativa de dar um panorama geral de décadas de pesquisa em uma área que está em constante expansão e inovação.\n",
    "\n",
    "Feliz ou infelizmente, **todo processo de aprendizado leva tempo**. Assim, não será possível aprofundar em toda uma área de pesquisa de décadas em apenas algumas horas.\n",
    "\n",
    "Pretendo me inspirar na busca em estruturas de árvores (teoria dos grafos) para guiar nosso estudo. Vou mostrar três opções (a última customizada ao meu gosto), das quais as duas primeiras eu quero evitar:\n",
    "\n",
    "1. **Busca em largura:** corremos o risco de não abordar tudo o que há de mais popular e, ainda por cima, sermos tão superficiais que os conteúdos seriam de pouca valia.\n",
    "2. **Busca em profundidade:** aqui o risco é querer focar muito em um minúcias ou em um ponto específico e acabar não tendo um panorama geral das coisas.\n",
    "3. **Busca em profundidade limitada** (e adaptativa) **:** Nos aprofundaremos um pouco em cada tópico, não muito, mas se quiserem, podemos nos aprofundar mais. Cabe a vocês pedirem! No entanto, me reservo ao direito de arbitrar o quanto devemos insistir num assunto durante nosso escasso tempo: buscarei balancear interesses individuais e o coletivo, bem como julgar o que pode ou não ajudar no estudo individual de cada um.\n",
    "\n",
    "---\n",
    "\n",
    "**Ponto de partida para aprofundamento**\n",
    "\n",
    "Para quem quiser se aprofundar mais nos assuntos que eu vou apresentar hoje, eu sugiro os seguintes recursos:\n",
    "\n",
    "- [Livro do MOA](https://moa.cms.waikato.ac.nz/book-html/): um livro de acesso aberto que abrange vários tópicos ligados a stream learning\n",
    "- [Documentação do River](https://riverml.xyz/dev/): conta com vários exemplos e tutoriais, além de referenciais práticos e teóricos! Está sempre sendo expandida, corrigida e atualizada.\n",
    "\n",
    "Quem tiver alguma dúvida específica que a documentação não possa suprir pode sempre abrir uma \"*Discussion*\" no Github. É só ir no [repositório do Github do River](https://github.com/online-ml/river) e clicar na aba de discussões. Alguém da equipe de desenvolvimento ou da comunidade de usuários do River com grande certeza estará disposto a ajudar!\n",
    "\n",
    "Contribuições são bem vindas! O River é um projeto *Open Source* construído pela comunidade. Mesmo que alguém possa não ter conhecimento técnico dos algoritmos, sempre é possível ajudar! Correções e expansões na documentação, por exemplo, são formas de ajudar! Muitas vezes apontar erros ou bugs (através de *issues*) já é de grande ajuda! 😁\n",
    "\n",
    "---\n",
    "\n",
    "**Sobre o River**\n",
    "\n",
    "O River é um projeto open source para online learning e stream mining. Ele surgiu a partir da fusão de duas ferramentas (também open-source):\n",
    "\n",
    "- creme\n",
    "- scikit-multiflow\n",
    "\n",
    "Ambos os pacotes Python abordavam o mesmo tema, mas com enfoques específicos. Após um longo tempo de planejamento e conversas, os mantenedores e times de desenvolvimento dos dois pacotes uniram forças e lançaram o River. O novo pacote é o produto dos anos de lições aprendidas no desenvolvimento das ferramentas predecessoras.\n",
    "\n",
    "O River reune o que havia de melhor `creme` e `scikit-multiflow` (que foram descontinuados) e supera pontos fracos que existiam nos projetos anteriores. A nova ferramenta é voltada tanto para o uso no mercado quanto na academia.\n",
    "\n",
    "O River conta com muitos contribuidores, mas a maioria do time de desenvolvimento está distribuído entre a França, Nova Zelândia e Brasil.\n",
    "\n",
    "O artigo da ferramenta no JMLR pode ser acessado [aqui](https://www.jmlr.org/papers/v22/20-1380.html).\n",
    "\n",
    "O site do River é o: https://riverml.xyz\n",
    "\n",
    "Existe muita demanda e nem tanto tempo 😅. Se quiserem checar os planos para o futuro, visitem o nosso [Roadmap](https://www.notion.so/d1e86fcdf21e4deda16eedab2b3361fb?v=503f44740b8b44a99a961aa96e9e46e1).\n",
    "\n",
    "---\n",
    "\n",
    "## Sumário\n",
    "1. Online learning? Why?\n",
    "2. Batch vs. Online\n",
    "3. Estruturas necessárias: exemplo\n",
    "    - Mean\n",
    "    - Var\n",
    "    - Quantile\n",
    "4. Por que usar dicionários?\n",
    "    - Exemplos com dados faltantes\n",
    "5. Como avaliar um modelo?\n",
    "    - `progressive_val_score`\n",
    "    - label delay\n",
    "6. Concept drift\n",
    "7. Exemplos de algoritmos\n",
    "    1. Classificação\n",
    "        1. Logistic regression\n",
    "        2. Hoeffding Tree\n",
    "        3. Naive Bayes\n",
    "        4. Adaptive Random Forest\n",
    "        5. Streaming Random Patches\n",
    "    2. Regressão\n",
    "        1. Linear Regression\n",
    "        2. **Hoeffding Tree**\n",
    "        3. **AMRules**\n",
    "        4. **Adaptive Random Forest**\n",
    "        5. **Streaming Random Patches**\n",
    "    3. Clustering\n",
    "        1. k-Means\n",
    "    4. Anomaly detection\n",
    "        1. Half-space Trees\n",
    "8. Expert module\n",
    "9. Pipelines e pré-processamento\n",
    "    - Encoding\n",
    "    - Scaling\n",
    "    - Filtragem e Seleção\n",
    "    - Aritmética com Pipelines\n",
    "    - Visualizando as coisas\n",
    "10. Exemplo completo\n",
    "    - processamento em tempo real\n",
    "    - inspeção de modelos"
   ]
  },
  {
   "cell_type": "code",
   "execution_count": null,
   "metadata": {},
   "outputs": [],
   "source": [
    "# Esses são os pacotes que estão sendo utilizados nesse notebook\n",
    "# As linhas a seguir podem ser descomentadas para instalar o que for necessário\n",
    "\n",
    "# !pip install numpy\n",
    "# !pip install scikit-learn\n",
    "\n",
    "# Ultima versão lançada\n",
    "# !pip install river\n",
    "\n",
    "# Eu estou usando a versão de desenvolvimento, que pode ser instalada com:\n",
    "#!pip install git+https://github.com/online-ml/river --upgrade"
   ]
  },
  {
   "cell_type": "markdown",
   "metadata": {},
   "source": [
    "# 1. Online Learning? Why?\n",
    "\n",
    "Por que alguém deveria se preocupar em atualizar modelos a todo tempo? Não é só treinar e sair usando?\n",
    "\n",
    "R: sim! Em grande parte dos casos isso é verdade.\n",
    "\n",
    "Mas imagine que:\n",
    "\n",
    "- A quantidade de dados produzidas é enorme\n",
    "- Não é possível armazenar tudo\n",
    "- Existe limitação no poder computacional para treinamento dos modelos\n",
    "    - processador\n",
    "    - memória\n",
    "    - bateria\n",
    "- Os dados são não-estacionários e/ou evoluem com o tempo\n",
    "\n",
    "Nesses casos, posso usar aprendizado de máquina tradicional? R: sim!!\n",
    "\n",
    "É possível usar aprendizado de máquina tradicional se:\n",
    "- Os dados são estacionários (uma amostra representativa dos dados é suficiente)\n",
    "\n",
    "ou\n",
    "\n",
    "- A velocidade de produção dos dados não é tão alta (batch-incremental e os recursos computacionais são suficientes)\n",
    "\n",
    "## 1.1 Batch-incremental\n",
    "\n",
    "\n",
    "Um modelo tradicional de aprendizado de máquina é re-treinado de tempos em tempos. Para tal, uma janela para treinamento precisa ser definida.\n",
    "\n",
    "Tipos de janelamento dos dados:\n",
    "\n",
    "\n",
    "<img src=\"time_windows.png\">\n",
    "\n",
    "**Fonte:** Adaptado de:\n",
    "\n",
    "> Carnein, M. and Trautmann, H., 2019. Optimizing data stream representation: An extensive survey on stream clustering algorithms. Business & Information Systems Engineering, 61(3), pp.277-297.\n",
    "\n",
    "- *Landmarks* são a escolha mais comum em estratégias batch-incremental. É preciso definir o tamanho da janela de forma adequada.\n",
    "    - O modelo pode ficar defasado se a janela for muito grande \n",
    "    - Ou o modelo pode não capturar os padrões se a janela for muito pequena\n",
    "    - Concept-drift é um problema e tanto\n",
    "    \n",
    "**Atenção**: batch-incremental != mini-batch.\n",
    "Redes neurais podem ser treinadas de forma incremental ou progressiva. No entanto, questões como \"esquecimento catastrófico\" são problemáticas. Esse e outros tipos de desafios são tratados na área de pesquisa chamada **continual learning**.\n",
    "\n",
    "## 1.2 Importante lembrar\n",
    "\n",
    "Data streams não são, necessariamente, séries temporais! 🤯\n",
    "\n",
    "Mas qual é a diferença, então?\n",
    "\n",
    "Basicamente, em streams não necessariamente temos dependências temporais explícitas como em séries temporais. Por exemplo: rede de sensores.\n",
    "\n",
    "Os dados chegam temporalmente organizados, mas cada sensor tem uma taxa de transmissão específica, ou um delay específico. Alguns sensores pode falhar... outros serem adicionados. E assim por diante.\n",
    "\n",
    "A ordem de chegada não importa... tanto, mas importa."
   ]
  },
  {
   "cell_type": "markdown",
   "metadata": {},
   "source": [
    "# 2. Batch vs. Online\n",
    "\n",
    "Uma boa introdução acerca da \"migração\" de batch para online está disponível no [site](https://riverml.xyz/latest/examples/batch-to-online/) do River. Aqui eu só quero dar uma visão bem geral das diferenças. Entraremos em mais detalhes posteriormente nas minúcias de avaliação de modelos em Online Learning.\n",
    "\n",
    "\n",
    "Uma possível validação de um modelo tradicional de aprendizado de máquina poderia ter essa \"cara\":"
   ]
  },
  {
   "cell_type": "code",
   "execution_count": null,
   "metadata": {},
   "outputs": [],
   "source": [
    "from sklearn.datasets import load_wine\n",
    "from sklearn.metrics import accuracy_score\n",
    "from sklearn.model_selection import KFold\n",
    "from sklearn.tree import DecisionTreeClassifier\n",
    "\n",
    "data = load_wine()\n",
    "\n",
    "X, y = data.data, data.target\n",
    "kf = KFold(shuffle=True, random_state=8, n_splits=10)\n",
    "\n",
    "accs = []\n",
    "\n",
    "for train, test in kf.split(X):\n",
    "    X_tr, X_ts = X[train], X[test]\n",
    "    y_tr, y_ts = y[train], y[test]\n",
    "    \n",
    "    dt  = DecisionTreeClassifier(max_depth=5, random_state=93)\n",
    "    dt.fit(X_tr, y_tr)\n",
    "    \n",
    "    accs.append(accuracy_score(y_ts, dt.predict(X_ts)))\n",
    "\n",
    "print(f\"Acurácia média: {sum(accs) / len(accs)}\")"
   ]
  },
  {
   "cell_type": "markdown",
   "metadata": {},
   "source": [
    "Reparem que todo o conjunto de dados está disponível e carregado em memória. O algoritmo de árvore de decisão pode percorrer os dados de treino quantas vezes forem necessárias. Os dados de teste (validação, no nosso caso) nunca são utilizados para treino.\n",
    "\n",
    "No fim das contas, usaríamos o conjunto completo para treinar um modelo final (supondo que já encontramos um conjunto adequado de hiper-parâmetros). Uma vez treinado, esse modelo seria utilizado para fazer predições para novas amostras (de vinhos, nesse caso)."
   ]
  },
  {
   "cell_type": "code",
   "execution_count": null,
   "metadata": {},
   "outputs": [],
   "source": [
    "from river import metrics\n",
    "from river import stream\n",
    "from river import tree\n",
    "\n",
    "\n",
    "acc = metrics.Accuracy()\n",
    "ht = tree.HoeffdingTreeClassifier(max_depth=5, grace_period=20)\n",
    "\n",
    "for x, y in stream.iter_sklearn_dataset(load_wine()):\n",
    "    # Métrica atualizada antes do treinamento\n",
    "    acc.update(y, ht.predict_one(x))\n",
    "    # Modelo treinado amostra-a-amostra\n",
    "    ht.learn_one(x, y)\n",
    "\n",
    "print(f\"Acurácia: {acc.get()}\")"
   ]
  },
  {
   "cell_type": "markdown",
   "metadata": {},
   "source": [
    "Aqui, estamos percorrendo cada exemplo do conjunto de dados de forma sequencial. Os exemplos poderiam ser carregados diretamente do disco, de algum webservice, ou de onde sua imaginação te levar, sem a necessidade de salvar em memória nada.\n",
    "\n",
    "Cada amostra é primeiramente utilizada para teste e depois passada para o modelo. Tudo é atualizado uma amostra por vez. Notem que não podemos comparar diretamente os desempenhos obtidos porque a estratégia de avaliação foi diferente nos dois casos.\n",
    "\n",
    "Poderíamos ainda (pseudo) embaralhar os dados antes de passar para o modelo, se temos plena confiança que os dados são estacionários."
   ]
  },
  {
   "cell_type": "markdown",
   "metadata": {},
   "source": [
    "# 3. Estruturas necessárias: exemplo"
   ]
  },
  {
   "cell_type": "code",
   "execution_count": null,
   "metadata": {},
   "outputs": [],
   "source": [
    "import numpy as np\n",
    "from river import stats"
   ]
  },
  {
   "cell_type": "markdown",
   "metadata": {},
   "source": [
    "Dado esse choque inicial, vamos prosseguir com calma e primeiramente pensar em alguns aspectos importantes antes de vermos os algoritmos de aprendizado de máquina online.\n",
    "\n",
    "## 3.1. Um exemplo, para aquecimento cerebral\n",
    "\n",
    "Vamos supor que queremos calcular estatísticas para dados que chegam a todo momento:\n",
    "\n",
    "- Média\n",
    "- Variância\n",
    "- ...\n",
    "\n",
    "Hora de simular:"
   ]
  },
  {
   "cell_type": "code",
   "execution_count": null,
   "metadata": {},
   "outputs": [],
   "source": [
    "import random\n",
    "\n",
    "rng = random.Random(42)"
   ]
  },
  {
   "cell_type": "code",
   "execution_count": null,
   "metadata": {},
   "outputs": [],
   "source": [
    "%%time\n",
    "\n",
    "valores = []\n",
    "stds_batch = []\n",
    "\n",
    "for _ in range(50000):\n",
    "    v = rng.gauss(5, 3)\n",
    "    valores.append(v)\n",
    "    \n",
    "    stds_batch.append(np.std(valores))"
   ]
  },
  {
   "cell_type": "markdown",
   "metadata": {},
   "source": [
    "Por padrão o numpy calcula o desvio padrão populacional! Para usar a versão amostral precisamos passar `ddof=1` como parâmetro."
   ]
  },
  {
   "cell_type": "code",
   "execution_count": null,
   "metadata": {},
   "outputs": [],
   "source": [
    "rng = random.Random(42)"
   ]
  },
  {
   "cell_type": "code",
   "execution_count": null,
   "metadata": {
    "scrolled": true
   },
   "outputs": [],
   "source": [
    "%%time\n",
    "\n",
    "stds_incr = []\n",
    "var = stats.Var(ddof=0)\n",
    "\n",
    "for _ in range(50000):\n",
    "    v = rng.gauss(5, 3)\n",
    "    var.update(v)\n",
    "    stds_incr.append(var.get() ** 0.5)"
   ]
  },
  {
   "cell_type": "markdown",
   "metadata": {},
   "source": [
    "Será que dá alguma diferença? E será que funciona?"
   ]
  },
  {
   "cell_type": "code",
   "execution_count": null,
   "metadata": {
    "scrolled": true
   },
   "outputs": [],
   "source": [
    "s_erros = 0\n",
    "\n",
    "for batch, incr in zip(stds_batch, stds_incr):\n",
    "    s_erros += (batch - incr)\n",
    "\n",
    "s_erros, s_erros / len(stds_batch)"
   ]
  },
  {
   "cell_type": "markdown",
   "metadata": {},
   "source": [
    "Ok... parece convincente. Mas e se o cenário fosse diferente? Se ao invés de calcularmos o desvio padrão e irmos aumentando a quantidade de dados, quisessemos descobrir um percentil das últimas `N` amostras?"
   ]
  },
  {
   "cell_type": "code",
   "execution_count": null,
   "metadata": {},
   "outputs": [],
   "source": [
    "rng = random.Random(42)\n",
    "\n",
    "tam = 10000"
   ]
  },
  {
   "cell_type": "code",
   "execution_count": null,
   "metadata": {},
   "outputs": [],
   "source": [
    "%%time\n",
    "\n",
    "\n",
    "buffer = []\n",
    "percs75_batch = []\n",
    "\n",
    "for _ in range(100000):\n",
    "    v = rng.uniform(-100, 100)\n",
    "    buffer.append(v)\n",
    "    if len(buffer) <= tam:\n",
    "        continue\n",
    "        \n",
    "    percs75_batch.append(np.quantile(buffer, q=0.75))\n",
    "    buffer.pop(0)"
   ]
  },
  {
   "cell_type": "markdown",
   "metadata": {},
   "source": [
    "Podemos fazer um pouco melhor que isso."
   ]
  },
  {
   "cell_type": "code",
   "execution_count": null,
   "metadata": {},
   "outputs": [],
   "source": [
    "rng = random.Random(42)"
   ]
  },
  {
   "cell_type": "code",
   "execution_count": null,
   "metadata": {},
   "outputs": [],
   "source": [
    "%%time\n",
    "\n",
    "qtl = stats.RollingQuantile(window_size=tam, q=0.75)\n",
    "percs75_incr = []\n",
    "\n",
    "for _ in range(100000):\n",
    "    v = rng.uniform(-100, 100)\n",
    "    qtl.update(v)\n",
    "    if len(qtl) <= tam:\n",
    "        continue\n",
    "        \n",
    "    percs75_incr.append(qtl.get())"
   ]
  },
  {
   "cell_type": "code",
   "execution_count": null,
   "metadata": {
    "scrolled": true
   },
   "outputs": [],
   "source": [
    "s_erros = 0\n",
    "\n",
    "for batch, incr in zip(percs75_batch, percs75_incr):\n",
    "    s_erros += (batch - incr)\n",
    "\n",
    "s_erros"
   ]
  },
  {
   "cell_type": "markdown",
   "metadata": {},
   "source": [
    "Espero tê-los convencido! O [módulo](https://riverml.xyz/dev/api/overview/#stats) `stats` do River tem várias funções úteis para sumarização de dados de forma incremental. Vale a pena checar! 🧐\n",
    "\n",
    "A razão pela qual eu quis mostrar tudo isso é porque vários desses algoritmos são os \"tijolos\" que compõem os algoritmos de aprendizado de máquina. Uma receita breve para online learning:\n",
    "\n",
    "- A junção de métricas estatísticas incrementais\n",
    "- Algumas grandezas probabilísticas\n",
    "- Algumas teorias de aprendizado de máquina que são genéricas e não limitadas ao cenário in-batch\n",
    "- Gradiente descendente\n",
    "- *otras cositas*\n",
    "\n",
    "Com isso tudo é possível formar boa parte dos algoritmos de aprendizado incremental. Mas isso é extremamente genérico de se dizer, não é? Bom, no fim das contas, o aprendizado de máquina tradicional também \"se resume\" a algumas coisas pontuais, mas que são extremamente abrangentes por si só.\n",
    "\n",
    "Que tal entendermos um pouco de como os exemplos anteriores funcionam e por que eles funcionam?\n",
    "\n",
    "## 3.2. Uma (extremamente) breve reflexão sobre complexidade dos algoritmos\n",
    "\n",
    "Quanto custa para calcular a variância (no caso, desvio padrão) e o percentil nos exemplos anteriores?\n",
    "\n",
    "**Modo batch**\n",
    "\n",
    "Variância:  $\\dfrac{\\sum_i^N (x_i - \\bar{x})}{N - 1}$\n",
    "\n",
    "- Média é calculada com o custo $O(n)$ -> todos os elementos devem ser somados e divididos pelo total de observações\n",
    "- Com a média em mãos, precisamos calcular o desvio de cada elemento para a média e somar tais desvios: $O(n)$\n",
    "- No fim das contas, o custo final é $O(n)$ (na notação assintótica), mas tivemos que percorrer todos os dados duas vezes (e, consequentemente, armazená-los).\n",
    "- Esse algoritmo também apresenta problemas de estabilidade, quando o número de observações é muito grande. Pode gerar erros numéricos de aproximação.\n",
    "\n",
    "Percentil:\n",
    "\n",
    "- Pegue um exemplo novo e remova o mais antigo\n",
    "- Ordene os dados: algo em torno de $O(n\\log n)$ (n é o tamanho do buffer)\n",
    "- Encontre a posição correta, interpole e retorne\n",
    "\n",
    "Se esse processo é repetido várias e várias vezes...\n",
    "\n",
    "**Modo incremental**\n",
    "\n",
    "\n",
    "Variância (algoritmo de Welford):\n",
    "\n",
    "- Precisamos de algumas variáveis:\n",
    "    - $n$: número de observações\n",
    "    - $\\overline{x}_n$: a média da amostral, após $n$ observações\n",
    "    - $M_{2, n}$: estatística de segunda ordem que gerará a variância\n",
    "- As atualizações das estatísticas se dão na seguinte forma:\n",
    "    - $\\overline{x}_n = \\overline{x}_{n-1} + \\dfrac{x_n - \\overline{x}_{n-1}}{n}$\n",
    "    - $M_{2,n} = M_{2,n-1} + (x_n - \\overline{x}_{n-1})(x_n - \\overline{x}_n)$\n",
    "- E as estatísticas são inicializadas da seguinte forma:\n",
    "    - $\\overline{x}_{0} \\leftarrow 0$\n",
    "    - $M_{2,0} \\leftarrow 0$\n",
    "- Para obter a variância amostral basta usar: $s_n^2 = \\dfrac{M_{2,n}}{n-1}$, para todo $n > 1$\n",
    "- De brinde, obtemos um preditor robusto para a média 🤓\n",
    "\n",
    "\n",
    "Percentil:\n",
    "\n",
    "- Mantemos dois buffers\n",
    "   - Um com os dados na ordem em que chegam\n",
    "   - Outro com os dados ordenados: o custo de inserção de um novo ponto em um vetor já ordenado é $O(\\log n)$\n",
    "   - A remoção de um valor no buffer ordenado é $O(n)$. No buffer não-ordenado é $O(1)$\n",
    "   - O cálculo do percentil usa o buffer ordenado\n",
    "   \n",
    "No fim das contas, sempre buscamos que cada atualização em uma métrica ou modelo de aprendizado tenha um custo constante ($O(1)$). Se isso não for possível, então um custo sub-linear é o objetivo!\n",
    "\n",
    "---\n",
    "\n",
    "Antes de prosseguirmos, vou mostrar mais uma aplicação legal de métricas incrementais, com requintes de processamento distribuido.\n",
    "\n",
    "**Situação hipotética:**\n",
    "\n",
    "E se estivéssemos calculando estatísticas de alguma coisa, mas a coleta era feita de forma separada? Por exemplo, estamos calculando a variância de alguma coisa a nível estadual, mas a coleta é feita por município?\n",
    "\n",
    "(Eu sou paranaense)"
   ]
  },
  {
   "cell_type": "code",
   "execution_count": null,
   "metadata": {},
   "outputs": [],
   "source": [
    "rng = random.Random(7)"
   ]
  },
  {
   "cell_type": "code",
   "execution_count": null,
   "metadata": {},
   "outputs": [],
   "source": [
    "dados_ca = [rng.gauss(1500, 200) for _ in range(15000)]\n",
    "dados_lndrn = [rng.gauss(2500, 500) for _ in range(600000)]\n",
    "\n",
    "np.var(dados_ca), np.var(dados_lndrn)"
   ]
  },
  {
   "cell_type": "markdown",
   "metadata": {},
   "source": [
    "E se quisermos calcular a variância (ou média) total de todos os municípios?"
   ]
  },
  {
   "cell_type": "code",
   "execution_count": null,
   "metadata": {},
   "outputs": [],
   "source": [
    "dados_parana = []\n",
    "\n",
    "# dados_parana.extend(dados_abatiá)\n",
    "# ...\n",
    "dados_parana.extend(dados_ca)\n",
    "# ...\n",
    "dados_parana.extend(dados_lndrn)\n",
    "# ...\n",
    "# dados_parana.extend(dados_xambrê)\n",
    "\n",
    "len(dados_parana)"
   ]
  },
  {
   "cell_type": "code",
   "execution_count": null,
   "metadata": {},
   "outputs": [],
   "source": [
    "np.var(dados_parana)"
   ]
  },
  {
   "cell_type": "code",
   "execution_count": null,
   "metadata": {
    "scrolled": true
   },
   "outputs": [],
   "source": [
    "np.mean(dados_parana)"
   ]
  },
  {
   "cell_type": "markdown",
   "metadata": {},
   "source": [
    "Nós já sabemos como fazer esse mesmo processo de forma incremental:"
   ]
  },
  {
   "cell_type": "code",
   "execution_count": null,
   "metadata": {},
   "outputs": [],
   "source": [
    "# estou considerando que todos os dados foram coletados, mas poderia usar o padrão, ddof=1\n",
    "var_ca = stats.Var(ddof=0)\n",
    "var_lndrn = stats.Var(ddof=0)\n",
    "\n",
    "for p in dados_ca:\n",
    "    var_ca.update(p)\n",
    "    \n",
    "for p in dados_lndrn:\n",
    "    var_lndrn.update(p)"
   ]
  },
  {
   "cell_type": "code",
   "execution_count": null,
   "metadata": {},
   "outputs": [],
   "source": [
    "var_ca.get(), var_lndrn.get()"
   ]
  },
  {
   "cell_type": "markdown",
   "metadata": {},
   "source": [
    "Posso usar `stats.Mean` para obter a média. Mas se lembrarmos bem, o algoritmo de Welford tem um preditor de média \"lá no meio\", não tem?\n",
    "\n",
    "Voilà!"
   ]
  },
  {
   "cell_type": "code",
   "execution_count": null,
   "metadata": {},
   "outputs": [],
   "source": [
    "var_ca.mean.get(), np.mean(dados_ca)"
   ]
  },
  {
   "cell_type": "markdown",
   "metadata": {},
   "source": [
    "Agora vem a parte mais legal 🙃\n",
    "\n",
    "Como obtemos as estatísticas para o estado inteiro?"
   ]
  },
  {
   "cell_type": "code",
   "execution_count": null,
   "metadata": {},
   "outputs": [],
   "source": [
    "# Imagine que temos um for somando as estatísticas de todos os estados\n",
    "\n",
    "var_parana = var_ca + var_lndrn  # + os outros municipios\n",
    "\n",
    "var_parana.get(), np.var(dados_parana)"
   ]
  },
  {
   "cell_type": "code",
   "execution_count": null,
   "metadata": {},
   "outputs": [],
   "source": [
    "var_parana.mean.get(), np.mean(dados_parana)"
   ]
  },
  {
   "cell_type": "markdown",
   "metadata": {},
   "source": [
    "E se a bela e formosa cidade de Cândido de Abreu tivesse sido esquecida? Os dados tivessem sido perdidos, sei lá...\n",
    "\n",
    "(quando eu era criança, minha cidade nem aparecia nos mapas impressos do Paraná, vai saber...)"
   ]
  },
  {
   "cell_type": "code",
   "execution_count": null,
   "metadata": {},
   "outputs": [],
   "source": [
    "var_ca_backup = var_parana - var_lndrn  # - os outros municipios"
   ]
  },
  {
   "cell_type": "code",
   "execution_count": null,
   "metadata": {
    "scrolled": true
   },
   "outputs": [],
   "source": [
    "var_ca.get(), var_ca_backup.get()"
   ]
  },
  {
   "cell_type": "code",
   "execution_count": null,
   "metadata": {},
   "outputs": [],
   "source": [
    "var_ca.mean.get(), var_ca_backup.mean.get()"
   ]
  },
  {
   "cell_type": "markdown",
   "metadata": {},
   "source": [
    "No fim das contas, sempre existe um trade-off entre memória e tempo de processamento (e a quantidade de \"passadas\" nos dados) e a precisão dos resultados obtidos. Muitos dos algorítmos de online learning incluem um parâmetro ($\\delta$) que indica a porcentagem de \"certeza\" que você deseja ter nos seus resultados. Em geral, quanto mais certeza, mais tempo leva para tomar as decisões.\n",
    "\n",
    "\n",
    "# 4. Por que usar dicionários (ou, por que usar uma representação esparsa)?\n",
    "\n",
    "Um as primeiras coisas que podem chamar a atenção no River é o tipo de dados que é utilizado: dicionários python.\n",
    "\n",
    "- Chave x valor: chaves são únicas\n",
    "- Valores acessados via chave, ao invés de índice\n",
    "- Dicionários são estruturas naturalmente esparsas\n",
    "- Diferentemente de arrays, vetores, matrizes (e etc.) não possuem uma ordenação explícita\n",
    "- Podem ser extendidos\n",
    "- Podem ter variáveis de tipo misto\n",
    "\n",
    "Exemplos:"
   ]
  },
  {
   "cell_type": "code",
   "execution_count": null,
   "metadata": {},
   "outputs": [],
   "source": [
    "from datetime import datetime\n",
    "\n",
    "x = {\n",
    "    \"batata\": 3,\n",
    "    \"carro\": 2,\n",
    "    \"data\": datetime.now(),\n",
    "    \"sim_ou_não\": \"sim\"\n",
    "}\n",
    "\n",
    "x"
   ]
  },
  {
   "cell_type": "code",
   "execution_count": null,
   "metadata": {},
   "outputs": [],
   "source": [
    "x[\"mais um\"] = True\n",
    "x"
   ]
  },
  {
   "cell_type": "code",
   "execution_count": null,
   "metadata": {},
   "outputs": [],
   "source": [
    "del x[\"data\"]\n",
    "x"
   ]
  },
  {
   "cell_type": "markdown",
   "metadata": {},
   "source": [
    "Esse tipo de estrutura é muito parecida com o popular formato JSON (para transferência de dados)!\n",
    "\n",
    "Que tal compararmos com o que é mais usual?"
   ]
  },
  {
   "cell_type": "code",
   "execution_count": null,
   "metadata": {},
   "outputs": [],
   "source": [
    "data = load_wine()\n",
    "\n",
    "X, y = data.data, data.target\n",
    "\n",
    "X[0, :], data.feature_names"
   ]
  },
  {
   "cell_type": "code",
   "execution_count": null,
   "metadata": {},
   "outputs": [],
   "source": [
    "y[0], data.target_names"
   ]
  },
  {
   "cell_type": "markdown",
   "metadata": {},
   "source": [
    "Primeiramente, vamos colocar o sklearn à prova."
   ]
  },
  {
   "cell_type": "code",
   "execution_count": null,
   "metadata": {},
   "outputs": [],
   "source": [
    "X_tr, y_tr = X[:-2, :], y[:-2]\n",
    "X_ts, y_ts = X[-2:, :], y[-2:]\n",
    "\n",
    "X_tr.shape, X_ts.shape"
   ]
  },
  {
   "cell_type": "code",
   "execution_count": null,
   "metadata": {
    "scrolled": true
   },
   "outputs": [],
   "source": [
    "from sklearn.naive_bayes import GaussianNB\n",
    "\n",
    "nb = GaussianNB()\n",
    "\n",
    "nb.fit(X_tr, y_tr)\n",
    "\n",
    "nb.predict(X_ts)"
   ]
  },
  {
   "cell_type": "markdown",
   "metadata": {},
   "source": [
    "Mas, e se uma feature estivesse faltando?"
   ]
  },
  {
   "cell_type": "code",
   "execution_count": null,
   "metadata": {},
   "outputs": [],
   "source": [
    "try:\n",
    "    nb.predict(X_ts[:, 1:])\n",
    "except ValueError as error:\n",
    "    print(error)"
   ]
  },
  {
   "cell_type": "markdown",
   "metadata": {},
   "source": [
    "Em Online Learning nós não deveríamos ficar nos preocupando com \"coisa pouca\" assim. Brincadeiras a parte, em um cenário de aprendizado online, sensores podem falhar, novos dados podem surgir, entre muitas outras coisas que podem alterar os dados de entrada. Precisamos de uma representação e modelos robustos quanto a isso!\n",
    "\n",
    "Com o River, a vasta maioria dos modelos está pronta para lidar com esse tipo de problema! 🎉"
   ]
  },
  {
   "cell_type": "code",
   "execution_count": null,
   "metadata": {},
   "outputs": [],
   "source": [
    "from river import naive_bayes\n",
    "\n",
    "gnb = naive_bayes.GaussianNB()\n",
    "dataset = stream.iter_sklearn_dataset(load_wine())\n",
    "\n",
    "rng = random.Random(42)\n",
    "\n",
    "# Chance de feature ser ignorada\n",
    "del_chance = 0.2\n",
    "\n",
    "n_linhas_incompletas = 0\n",
    "for i, (x, y) in enumerate(dataset):\n",
    "    if i == 176:\n",
    "        break\n",
    "    \n",
    "    x_copy = x.copy()\n",
    "    aux = 0\n",
    "    for xi in x:\n",
    "        if rng.random() <= del_chance:\n",
    "            del x_copy[xi]\n",
    "            aux = 1\n",
    "        \n",
    "        # Atualiza o número de linhas incompletas\n",
    "        n_linhas_incompletas += aux\n",
    "    \n",
    "    gnb.learn_one(x_copy, y)"
   ]
  },
  {
   "cell_type": "code",
   "execution_count": null,
   "metadata": {
    "scrolled": false
   },
   "outputs": [],
   "source": [
    "x, y"
   ]
  },
  {
   "cell_type": "code",
   "execution_count": null,
   "metadata": {},
   "outputs": [],
   "source": [
    "gnb.predict_proba_one(x)"
   ]
  },
  {
   "cell_type": "markdown",
   "metadata": {},
   "source": [
    "Vamos bagunçar a última amostra:"
   ]
  },
  {
   "cell_type": "code",
   "execution_count": null,
   "metadata": {
    "scrolled": true
   },
   "outputs": [],
   "source": [
    "x, y = next(dataset)\n",
    "list(x.keys())"
   ]
  },
  {
   "cell_type": "markdown",
   "metadata": {},
   "source": [
    "Vou tirar um cópia do `x` e remover umas coisas"
   ]
  },
  {
   "cell_type": "code",
   "execution_count": null,
   "metadata": {},
   "outputs": [],
   "source": [
    "x_copy = x.copy()\n",
    "\n",
    "del x_copy[\"malic_acid\"]\n",
    "del x_copy[\"hue\"]\n",
    "del x_copy[\"flavanoids\"]\n",
    "\n",
    "x_copy"
   ]
  },
  {
   "cell_type": "markdown",
   "metadata": {},
   "source": [
    "Será que o nosso modelo dá conta do recado?"
   ]
  },
  {
   "cell_type": "code",
   "execution_count": null,
   "metadata": {},
   "outputs": [],
   "source": [
    "gnb.predict_proba_one(x_copy), y"
   ]
  },
  {
   "cell_type": "markdown",
   "metadata": {},
   "source": [
    "E se ao invés de diminuir o número de features aumentasse?"
   ]
  },
  {
   "cell_type": "code",
   "execution_count": null,
   "metadata": {},
   "outputs": [],
   "source": [
    "x[\"primeira extra\"] = 7.89\n",
    "x[\"segunda extra\"] = 2\n",
    "\n",
    "x"
   ]
  },
  {
   "cell_type": "code",
   "execution_count": null,
   "metadata": {},
   "outputs": [],
   "source": [
    "gnb.learn_one(x, y)\n",
    "\n",
    "gnb.predict_one({\"primeira extra\": 7.8, \"segunda extra\": 1.5})"
   ]
  },
  {
   "cell_type": "code",
   "execution_count": null,
   "metadata": {},
   "outputs": [],
   "source": [
    "np.unique(data.target, return_counts=True)"
   ]
  },
  {
   "cell_type": "markdown",
   "metadata": {},
   "source": [
    "Cada tipo de modelo implementa estratégias diferentes para lidar com atributos emergentes ou faltantes!\n",
    "\n",
    "No nosso exemplo, \"1\" era a classe majoritária. Essa foi a escolha feita pelo GaussianNB, já que há pouca informação acerca dos dois atributos extra que adicionamos. Mas eles já fazem parte do modelo e serão atualizados caso novas observações cheguem!"
   ]
  },
  {
   "cell_type": "code",
   "execution_count": null,
   "metadata": {},
   "outputs": [],
   "source": [
    "gnb.gaussians"
   ]
  },
  {
   "cell_type": "markdown",
   "metadata": {},
   "source": [
    "# 5. Como avaliar um modelo?\n",
    "\n",
    "Já vimos em exemplos passados que os dados foram primeiramente utilizados para teste e depois para treino. Nada de Cross-validation, Leave-one-out, holdout e coisas do tipo.\n",
    "\n",
    "Esse tipo de avaliação se aproxima mais de um cenário de produção real. Normalmente, obtemos um dado sem a sua label (no caso supervisionado, obviamente) e precisamos fazer predições. Só depois de um tempo a verdadeira label daquele exemplo será conhecida.\n",
    "\n",
    "Nos exemplos até aqui, nós assumimos que logo após o treinamento do modelo com uma amostra, a label é revelada. No entanto, um cenário ainda mais realístico é aquele onde existe um *delay* entre a predição e a chegada da label. Em alguns casos, certos exemplos podem nunca ter sua label obtida!\n",
    "\n",
    "Esse tipo de estratégia de avaliação é chamada de \"validação progressiva\" (*progressive validation*) ou \"*prequential*\".\n",
    "\n",
    "Deixo esse [ótimo post do Max Halford](https://maxhalford.github.io/blog/online-learning-evaluation/), onde esse tema é discutido em detalhes.\n",
    "\n",
    "No River, podemos utilizar a função `progressive_val_score` disponível no módulo `evaluate` para realizar validações progressivas! Daqui para frente, essa função será utilizada.\n",
    "\n",
    "Obviamente, podemos também escrever alguns `for` e customizar a estratégia de avaliação. Fica de acordo com o critério e a necessidade de cada um!"
   ]
  },
  {
   "cell_type": "code",
   "execution_count": null,
   "metadata": {
    "scrolled": true
   },
   "outputs": [],
   "source": [
    "from river import evaluate\n",
    "from river import metrics\n",
    "from river import synth\n",
    "\n",
    "\n",
    "def label_delay(x, y):\n",
    "    return rng.randint(0, 100)\n",
    "\n",
    "\n",
    "rng = random.Random(8)\n",
    "dataset = synth.RandomRBF(seed_sample=7, seed_model=9)\n",
    "model = tree.HoeffdingTreeClassifier()\n",
    "\n",
    "# Podemos combinar métricas com operadores de pipeline!\n",
    "metric = metrics.Accuracy() + metrics.MicroF1() + metrics.BalancedAccuracy()\n",
    "\n",
    "evaluate.progressive_val_score(\n",
    "    dataset=dataset.take(50000),\n",
    "    model=model,\n",
    "    metric=metric,\n",
    "    print_every=5000,\n",
    "    show_memory=True,\n",
    "    show_time=True,\n",
    "    delay=label_delay\n",
    ")"
   ]
  },
  {
   "cell_type": "code",
   "execution_count": null,
   "metadata": {},
   "outputs": [],
   "source": [
    "model.draw()"
   ]
  },
  {
   "cell_type": "markdown",
   "metadata": {},
   "source": [
    "# 6. Concept drift\n",
    "\n",
    "Um dos aspectos centrais em online learning reside no fato que esperamos que as distribuições dos dados podem ser não-estacionárias. Mas o que isso significa?\n",
    "\n",
    "Primeiro, vamos pensar num exemplo de distribução estacionária:\n",
    "\n",
    "> Sabe quando ouvimos falar que a GRANDE-EMPRESA-HYPADA lançou uma rede neural MASTER-BLASTER-ULTRA-POWER-3, com 3 troçalhões de parâmetros, treinada por 3 meses com a energia suficiente para alimentar cidades? E sabe quando ouvimos falar que a base de dados utilizada foi gigante?\n",
    "\n",
    "Pois bem, os dados não mudam. As regras linguísticas no textos de entrada (supondo um modelo de linguagem natural) ou a semântica visual das imagens (supondo um modelo de visão computacional), ou qualquer outro exemplo, tudo isso é estático. Um cachorro continuará sendo um cachorro (independente do ângulo -- dependendo da forma de captação das imagens isso poderia ser um problema). Uma palavra tem um conjunto de sinônimos e significados.\n",
    "\n",
    "A regra do jogo não-muda. Mas e se mudasse?\n",
    "\n",
    "Essa mudança, ou deriva de conceito (concept drift) pode ocorrer em problemas do mundo real. Exemplo:\n",
    "\n",
    "- padrões de consumo (papel higiênico e alcool em gel no início da pandemia)\n",
    "- questões relacionadas a clima: energia sustentável\n",
    "- trânsito, rotas\n",
    "\n",
    "Umas das áreas de pesquisa (sim, uma área completa de pesquisa) em online learning busca criar detectores para essas situações, bem como algoritmos de aprendizado de máquina que sejam capazes de se adaptar mudanças de conceitos.\n",
    "\n",
    "Estou longe de ser um especialista nesse tópico, mas vou dar um panorama de como as coisas acontecem.\n",
    "\n",
    "Suponha que temos um problema de classificação e estamos monitorando os erros do nosso classificador. Nós assinalamos com $0$ quando o modelo acerta (erro zero) e $1$ quando o modelo erra."
   ]
  },
  {
   "cell_type": "code",
   "execution_count": null,
   "metadata": {
    "scrolled": true
   },
   "outputs": [],
   "source": [
    "rng = random.Random(8)\n",
    "\n",
    "for _ in range(10):\n",
    "    print(rng.choices([0, 1], weights=[0.7, 0.3])[0])"
   ]
  },
  {
   "cell_type": "markdown",
   "metadata": {},
   "source": [
    "Podemos passar esses valores para um detector de drifts:"
   ]
  },
  {
   "cell_type": "code",
   "execution_count": null,
   "metadata": {},
   "outputs": [],
   "source": [
    "from river import drift\n",
    "\n",
    "detector = drift.ADWIN(delta=0.01)\n",
    "\n",
    "vals = rng.choices([0, 1], weights=[0.7, 0.3], k=500)\n",
    "for i, v in enumerate(vals):\n",
    "    in_drift, _ = detector.update(v)\n",
    "    \n",
    "    if in_drift:\n",
    "        print(f\"Drift detectado em {i}\")"
   ]
  },
  {
   "cell_type": "markdown",
   "metadata": {},
   "source": [
    "E se a distribuição mudar?"
   ]
  },
  {
   "cell_type": "code",
   "execution_count": null,
   "metadata": {},
   "outputs": [],
   "source": [
    "detector = drift.ADWIN(delta=0.05)\n",
    "\n",
    "vals = rng.choices([0, 1], weights=[0.7, 0.3], k=500)\n",
    "vals.extend(rng.choices([0, 1], weights=[0.2, 0.8], k=500))\n",
    "for i, v in enumerate(vals):\n",
    "    in_drift, _ = detector.update(v)\n",
    "    \n",
    "    if in_drift:\n",
    "        print(f\"Drift detectado em {i}\")\n",
    "        # Pratica usual\n",
    "        detector.reset()"
   ]
  },
  {
   "cell_type": "markdown",
   "metadata": {},
   "source": [
    "O ADWIN é um dos detectores mais utilizados, mas existem várias alternativas. Além disso, normalmente, os detectores são utilizados como componentes na criação de modelos preditivos. A forma na qual eles são utilizados difere de modelo para modelo. Uma característica é comum entre a maioria dos detectores de drift: eles são univariados."
   ]
  },
  {
   "cell_type": "markdown",
   "metadata": {},
   "source": [
    "# 7. Exemplos de algoritmos\n",
    "\n",
    "Existem muitos algoritmos de aprendizado online. Uns são bem diferentes, outros são modificações de outros algoritmos. Assim como em aprendizado de máquina tradicional, existem opções para todo gosto.\n",
    "\n",
    "As listas a seguir não são extensivas de modo algum. São apenas o que eu fui lembrando, tenho certa familiaridade, e o que eu vejo de popular por aí (obviamente com o meu viés pessoal). Uma boa pedida é consultar a documentação do River para ver o que há de disponível por lá!\n",
    "\n",
    "Mostrarei de forma breve seu uso e, quando aplicável, quais dos seus hiper-parâmetros são os mais \"sensíveis\", na minha experiência.\n",
    "\n",
    "---\n",
    "---\n",
    "\n",
    "**Dica:** Se **dúvidas** específicas surgirem acerca de alguma família, me **interrompam**. Posso **comentar** mais **detalhes** e ir deixando a conversa mais técnica.\n",
    "\n",
    "---\n",
    "---"
   ]
  },
  {
   "cell_type": "markdown",
   "metadata": {},
   "source": [
    "## 7.1. Classificação\n",
    "\n",
    "Abordaremos uma lista de algoritmos para classificação. Se um algoritmo foi projetado apenas para classificação binária e o problema em questão é multiclasses, as ferramentas do módulo `multiclass` podem ser utilizadas como um wrapper:\n",
    "\n",
    "- `OneVsOneClassifier`\n",
    "- `OneVsRestClassifier`\n",
    "- `OutputCodeClassifier`"
   ]
  },
  {
   "cell_type": "markdown",
   "metadata": {},
   "source": [
    "### 7.1.1. Logistic Regression\n",
    "\n",
    "Versão incremental de Logistic Regression (para classificação binária). Pode ser treinada com vários otimizadores. Por padrão usa o `Stochastic Gradient Descent`.\n",
    "\n",
    "\n",
    "Não tenho muitas dicas específicas acerca dessa família. Mas todo o conhecimento ligado a redes neurais tende a ser útil aqui.\n",
    "\n",
    "É possível ajustar:\n",
    "\n",
    "- O otimizador\n",
    "- O algortmo de inicialização\n",
    "- Adicionar regularização L2\n",
    "- A função de perda\n",
    "- entre outros\n",
    "\n",
    "**Exemplo:**"
   ]
  },
  {
   "cell_type": "code",
   "execution_count": null,
   "metadata": {
    "scrolled": true
   },
   "outputs": [],
   "source": [
    "from river import datasets\n",
    "from river import linear_model\n",
    "from river import optim\n",
    "from river import preprocessing\n",
    "\n",
    "dataset = datasets.Phishing()\n",
    "\n",
    "model = (\n",
    "    preprocessing.StandardScaler() |\n",
    "    linear_model.LogisticRegression(optimizer=optim.Adam(), l2=0.01)\n",
    ")\n",
    "\n",
    "metric = metrics.Accuracy()\n",
    "\n",
    "evaluate.progressive_val_score(dataset, model, metric, print_every=100)"
   ]
  },
  {
   "cell_type": "markdown",
   "metadata": {},
   "source": [
    "Podemos inspecionar como as decisões foram feitas:"
   ]
  },
  {
   "cell_type": "markdown",
   "metadata": {},
   "source": [
    "Uma variante de Logistic Regression é SoftMax Regression (voltada para problemas multi-classe e mais robusta a outliers):"
   ]
  },
  {
   "cell_type": "code",
   "execution_count": null,
   "metadata": {},
   "outputs": [],
   "source": [
    "dataset = datasets.ImageSegments()\n",
    "\n",
    "model = (\n",
    "    preprocessing.StandardScaler() |\n",
    "    linear_model.SoftmaxRegression()\n",
    ")\n",
    "\n",
    "metric = metrics.Accuracy()\n",
    "\n",
    "evaluate.progressive_val_score(dataset, model, metric, print_every=200, show_memory=True, show_time=True)"
   ]
  },
  {
   "cell_type": "markdown",
   "metadata": {},
   "source": [
    "### 7.1.2. Hoeffding Tree (e variantes)\n",
    "\n",
    "Estão entre os modelos mais populares em stream mining. Historicamente um dos algoritmos mais usados, senão o mais usado. Minha pesquisa de doutorado contempla árvores de decisão e ensembles online. Existem vários classificadores no River baseados em árvores de decisão. Grande parte deles pertencem a família das *Hoeffding Trees*.\n",
    "\n",
    "Hoeffding Trees (HT) têm esse nome porque elas se baseiam numa grandeza estatística chamada *Hoeffding bound* para decidir quando fazer uma divisão. Essa medida traz indícios que um split feito de forma incremental seria o mesmo que seria feito em um algoritmo de árvore tradicional (desde que observações suficientes sejam feitas).\n",
    "\n",
    "Existem três variantes principais das HTs:\n",
    "\n",
    "- Hoeffding Tree: versão padrão\n",
    "- Hoeffding Adaptive Tree: adiciona detectores de deriva de conceito em cada nó de decisão. Se uma mudança é detectada, uma nova sub-árvore é treinada (no *background*) e eventualmente virá a substituir o ramo afetado.\n",
    "- Extremely Fast Decision Tree: Faz splits mais rapidamente, mas periodicamente revisita as decisões feitas e vai reconstruindo as árvores.\n",
    "\n",
    "**Principais parâmetros para ajuste comum a todas as HTs:**\n",
    "\n",
    "- `grace_period`: intervalos entre tentativas de *splits*.\n",
    "- `split_confidence`: o quão \"certas\" sobre uma decisão as árvores devem estar, de forma fazer um *split*. A \"certeza\" é dada por `1 - split_confidence`.\n",
    "- `tie_threshold`: threshold abaixo do qual um split será feito, mesmo se não houver plena certeza que o melhor candidato para *split* é realmente a melhor escolha.\n",
    "- `max_depth`: profundeza máxima que uma árvore pode alcançar.\n",
    "\n",
    "Eu escrevi um [tutorial](https://riverml.xyz/dev/user-guide/on-hoeffding-trees/) sobre HTs que aprofunda mais o que é possível se fazer com esse tipo de preditor.\n",
    "\n",
    "**Exemplo:**"
   ]
  },
  {
   "cell_type": "code",
   "execution_count": null,
   "metadata": {
    "scrolled": true
   },
   "outputs": [],
   "source": [
    "from river import tree\n",
    "\n",
    "\n",
    "dataset = synth.RandomRBFDrift(\n",
    "    seed_model=7, seed_sample=8, change_speed=0.0001, n_classes=3,\n",
    ").take(15000)\n",
    "model = tree.HoeffdingAdaptiveTreeClassifier(seed=42)\n",
    "metric = metrics.Accuracy()\n",
    "\n",
    "evaluate.progressive_val_score(dataset, model, metric, print_every=1000, show_memory=True, show_time=True)"
   ]
  },
  {
   "cell_type": "markdown",
   "metadata": {},
   "source": [
    "Como já vimos anteriormente, podemos visualizar a estrutura da árvore."
   ]
  },
  {
   "cell_type": "code",
   "execution_count": null,
   "metadata": {
    "scrolled": true
   },
   "outputs": [],
   "source": [
    "model.draw()"
   ]
  },
  {
   "cell_type": "markdown",
   "metadata": {},
   "source": [
    "Também é possível inspecionar como uma decisão é tomada:"
   ]
  },
  {
   "cell_type": "code",
   "execution_count": null,
   "metadata": {},
   "outputs": [],
   "source": [
    "dataset = synth.RandomRBFDrift(\n",
    "    seed_model=7, seed_sample=8, change_speed=0.0001, n_classes=3,\n",
    ").take(15000)\n",
    "\n",
    "x, y = next(dataset)\n",
    "\n",
    "print(model.debug_one(x))"
   ]
  },
  {
   "cell_type": "markdown",
   "metadata": {},
   "source": [
    "### 7.1.3. Naive Bayes\n",
    "\n",
    "O Naive Bayes é inerentemente incremental. Assim, é possível atualizar as contagens ou estimativas das distribuições de forma incremental.\n",
    "\n",
    "Modelos disponíveis:\n",
    "\n",
    "- BernoulliNB, ComplementNB e MultinomialNB: voltados para os casos onde os dados são contagens (bag-of-words), ou a saída do TF-IDF.\n",
    "-  GaussianNB: discretiza as features numéricas utilizando uma distribuição gaussiana por classe.\n",
    "\n",
    "**Exemplo:**"
   ]
  },
  {
   "cell_type": "code",
   "execution_count": null,
   "metadata": {},
   "outputs": [],
   "source": [
    "dataset = synth.RandomRBFDrift(\n",
    "    seed_model=7, seed_sample=8, change_speed=0.0001, n_classes=3,\n",
    ").take(15000)\n",
    "\n",
    "\n",
    "# Note que o modelo selecionado não tem trata a deriva de conceitos\n",
    "model = naive_bayes.GaussianNB()\n",
    "metric = metrics.Accuracy()\n",
    "\n",
    "evaluate.progressive_val_score(dataset, model, metric, print_every=1000, show_memory=True, show_time=True)"
   ]
  },
  {
   "cell_type": "markdown",
   "metadata": {},
   "source": [
    "### 6.1.4. Adaptive Random Forest\n",
    "\n",
    "A adaptive random forest (ARF) é uma versão incremental do algoritmo Random Forest e combinas os seguintes ingredientes:\n",
    "\n",
    "- Hoeffding Trees com pitadas de aleatoriadade, como *base learners* (ingrediente principal)\n",
    "- Detectores de deriva de conceito por árvore\n",
    "    - árvores \"reserva\" são treinadas em *background* caso drifts são detectados\n",
    "- Bagging na versão online\n",
    "\n",
    "Além de todos os parâmetros das HTs, alguns parâmetros notáveis da ARF são:\n",
    "\n",
    "- `warning_detector` e `drift_detector`: detectores de warning e drift\n",
    "- `n_models`: o número de árvores\n",
    "- `max_features`: o número de features que será considerado por árvore durante *splits*\n",
    "\n",
    "**Exemplo:**"
   ]
  },
  {
   "cell_type": "code",
   "execution_count": null,
   "metadata": {},
   "outputs": [],
   "source": [
    "from river import ensemble\n",
    "\n",
    "\n",
    "dataset = synth.RandomRBFDrift(\n",
    "    seed_model=7, seed_sample=8, change_speed=0.0001, n_classes=3,\n",
    ").take(15000)\n",
    "\n",
    "model = ensemble.AdaptiveRandomForestClassifier(seed=8)\n",
    "metric = metrics.Accuracy()\n",
    "\n",
    "evaluate.progressive_val_score(dataset, model, metric, print_every=1000, show_memory=True, show_time=True)"
   ]
  },
  {
   "cell_type": "markdown",
   "metadata": {},
   "source": [
    "### 7.1.5. Streaming Random Patches\n",
    "\n",
    "Na ARF e random forest em geral, cada vez que um nó da árvore é dividido, um novo sub-conjunto das features é selecionado. Apenas esse subconjunto é considerado nas decisões. Esse processo pode ser referido como amostragem local de features. A (A)RF também faz amostragem de instâncias com reposição (*bagging*).\n",
    "\n",
    "O Streaming Random Patches (SRP) também faz amostragem de instâncias via bagging. No entanto, a amostragem de features é global: feita apenas uma vez por modelo no ensemble. Além disso, o SRP não limita os membros do ensemble à árvores de decisão: qualquer classificador pode ser utilizado 😁\n",
    "\n",
    "A detecção e reação a derivas de conceito (concept drift) é igual ao mecanismo adotado na ARF.\n",
    "\n",
    "Quanto aos hiperparâmetros mais notáveis:\n",
    "\n",
    "- `model`: o classificador base\n",
    "- `n_models`: o número de classificadores no ensemble\n",
    "- `warning_detector` e `drift_detector`: o mesmo que na ARF\n",
    "\n",
    "**Exemplo:**"
   ]
  },
  {
   "cell_type": "code",
   "execution_count": null,
   "metadata": {},
   "outputs": [],
   "source": [
    "from river import neighbors\n",
    "\n",
    "dataset = synth.RandomRBFDrift(\n",
    "    seed_model=7, seed_sample=8, change_speed=0.0001, n_classes=3,\n",
    ").take(15000)\n",
    "\n",
    "\n",
    "model = ensemble.SRPClassifier(\n",
    "    neighbors.KNNClassifier(),\n",
    "    n_models=5, seed=8,\n",
    "    training_method=\"subspaces\"\n",
    ")\n",
    "metric = metrics.Accuracy()\n",
    "\n",
    "evaluate.progressive_val_score(dataset, model, metric, print_every=1000, show_memory=True, show_time=True)"
   ]
  },
  {
   "cell_type": "markdown",
   "metadata": {},
   "source": [
    "## 7.2. Regressão\n",
    "\n",
    "\n",
    "Para regressão, vou adotar o mesmo dataset em todos os casos, para termos uma ideia das capacidades."
   ]
  },
  {
   "cell_type": "code",
   "execution_count": null,
   "metadata": {},
   "outputs": [],
   "source": [
    "def get_friedman():\n",
    "    return synth.Friedman(seed=101).take(20000)"
   ]
  },
  {
   "cell_type": "markdown",
   "metadata": {},
   "source": [
    "### 7.2.1. Linear Regression\n",
    "\n",
    "\n",
    "A regressão linear permite a exploração de vários parâmetros:\n",
    "\n",
    "- otimizadores\n",
    "- funções de perda\n",
    "- regularização\n",
    "- estratégias para atualização do fator de aprendizado\n",
    "- entre outras coisas"
   ]
  },
  {
   "cell_type": "code",
   "execution_count": null,
   "metadata": {},
   "outputs": [],
   "source": [
    "metric = metrics.MAE() + metrics.RMSE() + metrics.R2()\n",
    "model = preprocessing.StandardScaler() | linear_model.LinearRegression()\n",
    "\n",
    "evaluate.progressive_val_score(\n",
    "    dataset=get_friedman(),\n",
    "    model=model,\n",
    "    metric=metric,\n",
    "    show_memory=True,\n",
    "    show_time=True,\n",
    "    print_every=2000\n",
    ")"
   ]
  },
  {
   "cell_type": "code",
   "execution_count": null,
   "metadata": {},
   "outputs": [],
   "source": [
    "metric = metrics.MAE() + metrics.RMSE() + metrics.R2()\n",
    "model = preprocessing.StandardScaler() | linear_model.LinearRegression(\n",
    "    intercept_lr=0.02, intercept_init=3.5, l2=0.02\n",
    ")\n",
    "\n",
    "evaluate.progressive_val_score(\n",
    "    dataset=get_friedman(),\n",
    "    model=model,\n",
    "    metric=metric,\n",
    "    show_memory=True,\n",
    "    show_time=True,\n",
    "    print_every=2000\n",
    ")"
   ]
  },
  {
   "cell_type": "markdown",
   "metadata": {},
   "source": [
    "### 7.2.2. Hoeffding Tree\n",
    "\n",
    "(minha pesquisa se situa aqui)\n",
    "\n",
    "Temos também versões da HT para regressão. Os principais modelos para regressão de único alvo são:\n",
    "\n",
    "- `HoeffdingTreeRegressor`: versão padrão do regressor.\n",
    "- `HoeffdingAdaptiveTreeRegressor`: extende o anterior de forma similar à versão de classificação.\n",
    "\n",
    "Além dos parâmetros já apresentados na árvore de classificação, outros parâmetros importantes são:\n",
    "\n",
    "- `leaf_prediction`: seleciona a estratégia de predição -- regression ou model tree\n",
    "- `leaf_model`: modelo preditivo utilizado nas folhas, no caso das model trees\n",
    "- `splitter`: algoritmo utilizado para lidar com *splits* em atributos numéricos"
   ]
  },
  {
   "cell_type": "code",
   "execution_count": null,
   "metadata": {
    "scrolled": false
   },
   "outputs": [],
   "source": [
    "metric = metrics.MAE() + metrics.RMSE() + metrics.R2()\n",
    "model = preprocessing.StandardScaler() | tree.HoeffdingTreeRegressor()\n",
    "\n",
    "evaluate.progressive_val_score(\n",
    "    dataset=get_friedman(),\n",
    "    model=model,\n",
    "    metric=metric,\n",
    "    show_memory=True,\n",
    "    show_time=True,\n",
    "    print_every=2000\n",
    ")"
   ]
  },
  {
   "cell_type": "markdown",
   "metadata": {},
   "source": [
    "Como usual, podemos inspecionar os modelos baseados em árvores de decisão:"
   ]
  },
  {
   "cell_type": "code",
   "execution_count": null,
   "metadata": {
    "scrolled": true
   },
   "outputs": [],
   "source": [
    "x, y = next(get_friedman())\n",
    "\n",
    "print(model.debug_one(x))"
   ]
  },
  {
   "cell_type": "code",
   "execution_count": null,
   "metadata": {},
   "outputs": [],
   "source": [
    "model[\"HoeffdingTreeRegressor\"].draw()"
   ]
  },
  {
   "cell_type": "markdown",
   "metadata": {},
   "source": [
    "Vou mudar a estratégia de predição, apenas por ilustração."
   ]
  },
  {
   "cell_type": "code",
   "execution_count": null,
   "metadata": {
    "scrolled": true
   },
   "outputs": [],
   "source": [
    "metric = metrics.MAE() + metrics.RMSE() + metrics.R2()\n",
    "model = preprocessing.StandardScaler() | tree.HoeffdingTreeRegressor(\n",
    "    leaf_model=linear_model.PARegressor(C=0.1, eps=0.0001)\n",
    ")\n",
    "\n",
    "evaluate.progressive_val_score(\n",
    "    dataset=get_friedman(),\n",
    "    model=model,\n",
    "    metric=metric,\n",
    "    show_memory=True,\n",
    "    show_time=True,\n",
    "    print_every=2000\n",
    ")"
   ]
  },
  {
   "cell_type": "markdown",
   "metadata": {},
   "source": [
    "Querem conhecer um pouco da minha pesquisa?"
   ]
  },
  {
   "cell_type": "code",
   "execution_count": null,
   "metadata": {
    "scrolled": true
   },
   "outputs": [],
   "source": [
    "metric = metrics.MAE() + metrics.RMSE() + metrics.R2()\n",
    "model = preprocessing.StandardScaler() | tree.HoeffdingTreeRegressor(\n",
    "    leaf_prediction=\"adaptive\",\n",
    "    splitter=tree.splitter.QOSplitter(2, allow_multiway_splits=True)  # <- parte da minha pesquisa está focada aqui\n",
    ")\n",
    "\n",
    "evaluate.progressive_val_score(\n",
    "    dataset=get_friedman(),\n",
    "    model=model,\n",
    "    metric=metric,\n",
    "    show_memory=True,\n",
    "    show_time=True,\n",
    "    print_every=2000\n",
    ")"
   ]
  },
  {
   "cell_type": "markdown",
   "metadata": {},
   "source": [
    "**Minha pesquisa:**\n",
    "\n",
    "> ### *Diminuir os custos computacionais de regressores baseados em árvores e regras de decisão, bem como ensembles destes preditores.*"
   ]
  },
  {
   "cell_type": "markdown",
   "metadata": {},
   "source": [
    "### 7.2.3. AMRules\n",
    "\n",
    "Adaptive Model Rules.\n",
    "\n",
    "(minha pesquisa se situa aqui também)\n",
    "\n",
    "Cria regras de decisão baseadas na Hoeffding bound, assim como as árvores. É capaz de fazer deteção de anomalias! De fato, o AMRule \"pula\" amostras anomalas durante o treinamento.\n",
    "\n",
    "Tem alguns ajustes muito parecidos com as árvores de decisão:\n",
    "\n",
    "- `n_min`: equivalente ao `grace_period`\n",
    "- `delta`: equivalente ao  `split_confidence`\n",
    "- `tau`: equivalente `tie_threshold`\n",
    "- `pred_type`: equivalente `leaf_prediction`\n",
    "- `pred_model`: equivalente `leaf_model`\n",
    "- `splitter`\n",
    "\n",
    "Em adição, outros parâmetros importantes:\n",
    "\n",
    "- `m_min`: número de instâncias que cada regra deve observar antes de começar a detectar anomalias.\n",
    "- `drift_detector`: o detector de concept drift utilizado pelas regras de decisão\n",
    "- `anomaly_threshold`: valor de corte para considerar uma amostra anômala. Instâncias serão consideradas anômalas se o `score` delas for menor que esse limiar.\n",
    "- `ordered_rule_set`: define se apenas a primeira regra que dá \"*match*\" em uma instância será utilizada, ou todas as regras."
   ]
  },
  {
   "cell_type": "code",
   "execution_count": null,
   "metadata": {
    "scrolled": false
   },
   "outputs": [],
   "source": [
    "from river import rules\n",
    "\n",
    "metric = metrics.MAE() + metrics.RMSE() + metrics.R2()\n",
    "model = preprocessing.StandardScaler() | rules.AMRules(\n",
    "    splitter=tree.splitter.TEBSTSplitter(digits=1),  #  <- olha minha pesquisa aqui também\n",
    "    drift_detector=drift.ADWIN(),\n",
    "    ordered_rule_set=False,\n",
    "    m_min=100,\n",
    "    delta=0.01\n",
    ")\n",
    "\n",
    "evaluate.progressive_val_score(\n",
    "    dataset=get_friedman(),\n",
    "    model=model,\n",
    "    metric=metric,\n",
    "    show_memory=True,\n",
    "    show_time=True,\n",
    "    print_every=2000\n",
    ")"
   ]
  },
  {
   "cell_type": "markdown",
   "metadata": {},
   "source": [
    "Também podemos inspecionar o modelo:"
   ]
  },
  {
   "cell_type": "code",
   "execution_count": null,
   "metadata": {},
   "outputs": [],
   "source": [
    "x, y = next(get_friedman())\n",
    "\n",
    "print(model.debug_one(x))\n",
    "print(f\"Valor esperado: {y}\")"
   ]
  },
  {
   "cell_type": "code",
   "execution_count": null,
   "metadata": {},
   "outputs": [],
   "source": [
    "x_scaled = model[\"StandardScaler\"].transform_one(x)\n",
    "\n",
    "model[\"AMRules\"].anomaly_score(x_scaled)"
   ]
  },
  {
   "cell_type": "code",
   "execution_count": null,
   "metadata": {},
   "outputs": [],
   "source": [
    "help(rules.AMRules.anomaly_score)"
   ]
  },
  {
   "cell_type": "markdown",
   "metadata": {},
   "source": [
    "### 7.2.4. Adaptive Random Forest\n",
    "\n",
    "(minha pesquisa também está aqui!)\n",
    "\n",
    "Utiliza uma versão da `HoeffdingTreeRegressor` como preditor base. Tem todos os hiper-parâmetros da árvore de decisão e os parâmetros que já foram apresentados na ARF para classificação.\n",
    "\n",
    "Além disso, adiciona um parâmetro que tende a impactar bastante os resultados:\n",
    "\n",
    "- `agregation_method`: como as predições individuais de cada árvore serão combinadas."
   ]
  },
  {
   "cell_type": "code",
   "execution_count": null,
   "metadata": {},
   "outputs": [],
   "source": [
    "metric = metrics.MAE() + metrics.RMSE() + metrics.R2()\n",
    "model = preprocessing.StandardScaler() | ensemble.AdaptiveRandomForestRegressor(\n",
    "    seed=7,\n",
    "    aggregation_method=\"median\",\n",
    "    splitter=tree.splitter.QOSplitter(1)\n",
    ")\n",
    "\n",
    "evaluate.progressive_val_score(\n",
    "    dataset=get_friedman(),\n",
    "    model=model,\n",
    "    metric=metric,\n",
    "    show_memory=True,\n",
    "    show_time=True,\n",
    "    print_every=2000\n",
    ")"
   ]
  },
  {
   "cell_type": "markdown",
   "metadata": {},
   "source": [
    "### 7.7.5. Streaming Random Patches\n",
    "\n",
    "(minha pesquisa também está aqui)\n",
    "\n",
    "É a versão para regressão do SRP apresentado anteriormente. Compartilha os mesmos parâmetros apresentados para o algoritmo de classificação."
   ]
  },
  {
   "cell_type": "code",
   "execution_count": null,
   "metadata": {
    "scrolled": true
   },
   "outputs": [],
   "source": [
    "metric = metrics.MAE() + metrics.RMSE() + metrics.R2()\n",
    "model = preprocessing.StandardScaler() | ensemble.SRPRegressor(\n",
    "    model=linear_model.LinearRegression(l2=0.02, intercept_init=3.5, intercept_lr=0.04),\n",
    "    seed=7,\n",
    ")\n",
    "\n",
    "evaluate.progressive_val_score(\n",
    "    dataset=get_friedman(),\n",
    "    model=model,\n",
    "    metric=metric,\n",
    "    show_memory=True,\n",
    "    show_time=True,\n",
    "    print_every=2000\n",
    ")"
   ]
  },
  {
   "cell_type": "markdown",
   "metadata": {},
   "source": [
    "Podemos também utilizar Bagging para unir regressores."
   ]
  },
  {
   "cell_type": "code",
   "execution_count": null,
   "metadata": {},
   "outputs": [],
   "source": [
    "metric = metrics.MAE() + metrics.RMSE() + metrics.R2()\n",
    "model = preprocessing.StandardScaler() | ensemble.BaggingRegressor(\n",
    "    model=tree.HoeffdingAdaptiveTreeRegressor(splitter=tree.splitter.QOSplitter(0.5), seed=7),\n",
    "    seed=7,\n",
    ")\n",
    "\n",
    "evaluate.progressive_val_score(\n",
    "    dataset=get_friedman(),\n",
    "    model=model,\n",
    "    metric=metric,\n",
    "    show_memory=True,\n",
    "    show_time=True,\n",
    "    print_every=2000\n",
    ")"
   ]
  },
  {
   "cell_type": "markdown",
   "metadata": {},
   "source": [
    "## 7.3. Clustering\n",
    "\n",
    "Algoritmos incrementais para clustering devem ser capazes de se adaptarem às mudanças constantes nos dados. Por exemplo, alguns clusters podem surgir, outros desaparecerem. É uma área ativa de pesquisa, com muitos algoritmos disponíveis!\n",
    "\n",
    "Apresentarei um algoritmo particional baseado em protótipos, para ilustrar."
   ]
  },
  {
   "cell_type": "markdown",
   "metadata": {},
   "source": [
    "### 7.3.1. k-Means\n",
    "\n",
    "Existem várias versões incrementais do k-Means. A versão no River adiciona um parâmetro chamado `halflife` que controla o nível das atualizações incrementais."
   ]
  },
  {
   "cell_type": "code",
   "execution_count": null,
   "metadata": {},
   "outputs": [],
   "source": [
    "from river import cluster\n",
    "\n",
    "metric = metrics.cluster.Silhouette()\n",
    "model = cluster.KMeans(seed=7)\n",
    "\n",
    "\n",
    "for x, _ in get_friedman():\n",
    "    metric.update(x, model.predict_one(x), model.centers)\n",
    "    model.learn_one(x)\n",
    "\n",
    "print(metric)"
   ]
  },
  {
   "cell_type": "markdown",
   "metadata": {},
   "source": [
    "Vamos diminuir o número de clusters."
   ]
  },
  {
   "cell_type": "code",
   "execution_count": null,
   "metadata": {
    "scrolled": true
   },
   "outputs": [],
   "source": [
    "metric = metrics.cluster.Silhouette()\n",
    "model = cluster.KMeans(n_clusters=3, seed=7)\n",
    "\n",
    "\n",
    "for x, _ in get_friedman():\n",
    "    metric.update(x, model.predict_one(x), model.centers)\n",
    "    model.learn_one(x)\n",
    "\n",
    "print(metric)"
   ]
  },
  {
   "cell_type": "markdown",
   "metadata": {},
   "source": [
    "E aumentar o valor de `halflife`."
   ]
  },
  {
   "cell_type": "code",
   "execution_count": null,
   "metadata": {},
   "outputs": [],
   "source": [
    "metric = metrics.cluster.Silhouette()\n",
    "model = cluster.KMeans(n_clusters=3, seed=7, halflife=0.7)\n",
    "\n",
    "\n",
    "for x, _ in get_friedman():\n",
    "    metric.update(x, model.predict_one(x), model.centers)\n",
    "    model.learn_one(x)\n",
    "\n",
    "print(metric)"
   ]
  },
  {
   "cell_type": "markdown",
   "metadata": {},
   "source": [
    "## 7.4. Anomaly detection\n",
    "\n",
    "Até o momento o River conta com um detector de anomalias, que é a versão incremental da Isolation Forest.\n"
   ]
  },
  {
   "cell_type": "code",
   "execution_count": null,
   "metadata": {},
   "outputs": [],
   "source": [
    "%%time\n",
    "\n",
    "from river import anomaly\n",
    "\n",
    "dataset = datasets.CreditCard()\n",
    "model = preprocessing.MinMaxScaler() | anomaly.HalfSpaceTrees(seed=42, window_size=20)\n",
    "\n",
    "limiar_anomalia = 0.8\n",
    "var = stats.Var()\n",
    "\n",
    "fraudes = []\n",
    "fraudes_preditas_static = []\n",
    "fraudes_preditas_dynamic = []\n",
    "\n",
    "fraudes_match_static = []\n",
    "fraudes_match_dynamic = []\n",
    "\n",
    "metric_static = metrics.BalancedAccuracy() + metrics.Precision() + metrics.Recall() + metrics.F1()\n",
    "metric_dynamic = metrics.BalancedAccuracy() + metrics.Precision() + metrics.Recall() + metrics.F1()\n",
    "\n",
    "for i, (x, y) in enumerate(dataset):\n",
    "    score = model.score_one(x)\n",
    "    model.learn_one(x)\n",
    "    \n",
    "    pred_static = 1 if score > limiar_anomalia else 0\n",
    "    \n",
    "    std = var.get() ** 0.5\n",
    "    pred_dynamic = 1 if score > var.mean.get() + 1.5 * std else 0\n",
    "    \n",
    "    if y == 1:\n",
    "        fraudes.append(i)\n",
    "        \n",
    "        if pred_static == 1:\n",
    "            fraudes_match_static.append(i)\n",
    "        \n",
    "        if pred_dynamic == 1:\n",
    "            fraudes_match_dynamic.append(i)\n",
    "                \n",
    "    \n",
    "    if pred_static == 1:\n",
    "        fraudes_preditas_static.append(i)\n",
    "        \n",
    "    if pred_dynamic == 1:\n",
    "        fraudes_preditas_dynamic.append(i)\n",
    "    \n",
    "    metric_static.update(y, pred_static)\n",
    "    metric_dynamic.update(y, pred_dynamic)\n",
    "    var.update(score)\n",
    "    \n",
    "    if i >= 100000:\n",
    "        break"
   ]
  },
  {
   "cell_type": "code",
   "execution_count": null,
   "metadata": {},
   "outputs": [],
   "source": [
    "print(f\"Número de amostras: {i}\")\n",
    "print(f\"Número de anomalias: {len(fraudes)}\")\n",
    "print(f\"Número de anomalias detectadas (estático): {len(fraudes_preditas_static)}\")\n",
    "print(f\"Número de anomalias detectadas (dinâmico): {len(fraudes_preditas_dynamic)}\")\n",
    "print(f\"Match detecções (estático): {len(fraudes_match_static) / len(fraudes)}\")\n",
    "print(f\"Match detecções (dinâmico): {len(fraudes_match_dynamic) / len(fraudes)}\")"
   ]
  },
  {
   "cell_type": "code",
   "execution_count": null,
   "metadata": {},
   "outputs": [],
   "source": [
    "metric_static"
   ]
  },
  {
   "cell_type": "code",
   "execution_count": null,
   "metadata": {
    "scrolled": true
   },
   "outputs": [],
   "source": [
    "metric_dynamic"
   ]
  },
  {
   "cell_type": "markdown",
   "metadata": {},
   "source": [
    "Vamos checar como estava o limiar dinâmico no final?"
   ]
  },
  {
   "cell_type": "code",
   "execution_count": null,
   "metadata": {},
   "outputs": [],
   "source": [
    "var.mean.get() + 1.5 * (var.get() ** 0.5)"
   ]
  },
  {
   "cell_type": "markdown",
   "metadata": {},
   "source": [
    "### Leitura extra!\n",
    "\n",
    "Um membro do [Spike](https://www.spikelab.xyz/) escreveu um tutorial muito bom sobre detecção de anomalias usando River: https://medium.com/spikelab/anomalies-detection-using-river-398544d3536\n",
    "\n",
    "\n",
    "Ele aborda um cenário de produção real e vai muito além do meu simples exemplo. Recomendo muito a leitura!"
   ]
  },
  {
   "cell_type": "markdown",
   "metadata": {},
   "source": [
    "# 8. Expert stuff\n",
    "\n",
    "O módulo `expert` traz utilidades para seleção e combinação de modelos.\n",
    "\n",
    "Abordarei dois exemplos:\n",
    "\n",
    "1. Seleção de modelos\n",
    "2. Combinação de modelos\n",
    "\n",
    "\n",
    "## 8.1. Selecionando um modelo de forma online\n",
    "\n",
    "Suponha que eu tenho um conjunto de hiper-parâmetros que gostaria de avaliar, mas não gostaria de rodar todos os modelos para descobrir qual é o melhor. Vamos usar a regressão linear como exemplo aqui."
   ]
  },
  {
   "cell_type": "code",
   "execution_count": null,
   "metadata": {},
   "outputs": [],
   "source": [
    "model = (\n",
    "    preprocessing.StandardScaler() |\n",
    "    linear_model.LinearRegression(intercept_lr=.01, intercept_init=3.5)\n",
    ")"
   ]
  },
  {
   "cell_type": "code",
   "execution_count": null,
   "metadata": {},
   "outputs": [],
   "source": [
    "from river import utils\n",
    "\n",
    "models = utils.expand_param_grid(model, {\n",
    "    'LinearRegression': {\n",
    "        'optimizer': [\n",
    "            (optim.SGD, {'lr': [.1, .01, .005]}),\n",
    "            (optim.Adam, {'beta_1': [.01, .001], 'lr': [.1, .01, .001]}),\n",
    "            (optim.NesterovMomentum, {'rho': [.8, .9, .95], 'lr': [.001, .02, .04, .1]}),\n",
    "        ],\n",
    "        'l2': [.0, .1, .01, .001],\n",
    "        'loss': [optim.losses.Absolute(), optim.losses.Squared()]\n",
    "    }\n",
    "})"
   ]
  },
  {
   "cell_type": "code",
   "execution_count": null,
   "metadata": {},
   "outputs": [],
   "source": [
    "len(models)"
   ]
  },
  {
   "cell_type": "code",
   "execution_count": null,
   "metadata": {
    "scrolled": true
   },
   "outputs": [],
   "source": [
    "from river import expert\n",
    "\n",
    "\n",
    "metric = metrics.MAE() + metrics.RMSE() + metrics.R2()\n",
    "model = expert.SuccessiveHalvingRegressor(\n",
    "    models=models,\n",
    "    budget=5000,\n",
    "    metric=metrics.RMSE()\n",
    ")\n",
    "\n",
    "evaluate.progressive_val_score(\n",
    "    dataset=get_friedman(),\n",
    "    model=model,\n",
    "    metric=metric,\n",
    "    show_memory=True,\n",
    "    show_time=True,\n",
    "    print_every=2000\n",
    ")"
   ]
  },
  {
   "cell_type": "code",
   "execution_count": null,
   "metadata": {
    "scrolled": true
   },
   "outputs": [],
   "source": [
    "model.best_model._get_params()"
   ]
  },
  {
   "cell_type": "markdown",
   "metadata": {},
   "source": [
    "## 8.2. Combinação de modelos\n",
    "\n",
    "Nós já vimos alguns ensembles, mas também é possível combinar modelos de outras formas."
   ]
  },
  {
   "cell_type": "code",
   "execution_count": null,
   "metadata": {},
   "outputs": [],
   "source": [
    "regressors = [\n",
    "    tree.HoeffdingTreeRegressor(\n",
    "        splitter=tree.splitter.QOSplitter(),\n",
    "        leaf_prediction=\"adaptive\"\n",
    "    ),\n",
    "    rules.AMRules(\n",
    "        drift_detector=drift.ADWIN(),\n",
    "        splitter=tree.splitter.QOSplitter()\n",
    "    ),\n",
    "    tree.SGTRegressor(\n",
    "        grace_period=50,\n",
    "        feature_quantizer=tree.splitter.DynamicQuantizer(),\n",
    "        init_pred=3.5\n",
    "    ),\n",
    "]\n",
    "\n",
    "metric = metrics.MAE() + metrics.RMSE() + metrics.R2()\n",
    "model = preprocessing.StandardScaler() | expert.EWARegressor(\n",
    "    regressors=regressors,\n",
    "    learning_rate=0.04\n",
    ")\n",
    "\n",
    "evaluate.progressive_val_score(\n",
    "    dataset=get_friedman(),\n",
    "    model=model,\n",
    "    metric=metric,\n",
    "    show_memory=True,\n",
    "    show_time=True,\n",
    "    print_every=2000\n",
    ")"
   ]
  },
  {
   "cell_type": "markdown",
   "metadata": {},
   "source": [
    "# 9. Pipelines e pré-processamento\n",
    "\n",
    "Vocês notaram que eu tenho usado muito os operadores \"|\" e \"+\" em alguns contextos?\n",
    "\n",
    "Esses operadores são utilizados para criar pipelines. Eles são algo que chamamos de \"sugar syntax\".\n",
    "\n",
    "No River nós podemos usar operadores explícitos, assim como no sklearn."
   ]
  },
  {
   "cell_type": "code",
   "execution_count": null,
   "metadata": {},
   "outputs": [],
   "source": [
    "from river import compose\n",
    "\n",
    "\n",
    "model = compose.Pipeline(preprocessing.StandardScaler(), linear_model.LinearRegression())"
   ]
  },
  {
   "cell_type": "markdown",
   "metadata": {},
   "source": [
    "Vamos supor que no exemplo anterior, algumas das features que seriam passadas ao nosso modelo eram categóricas. Poderíamos aplicar um encoding nesses exemplos para garantir que nosso modelo funcionaria com a regressão linear."
   ]
  },
  {
   "cell_type": "code",
   "execution_count": null,
   "metadata": {},
   "outputs": [],
   "source": [
    "import numbers\n",
    "\n",
    "pipeline = compose.Pipeline(\n",
    "    compose.TransformerUnion(\n",
    "        compose.SelectType(numbers.Number),\n",
    "        compose.Pipeline(\n",
    "            compose.SelectType(str),\n",
    "            preprocessing.OneHotEncoder()\n",
    "        ),\n",
    "    ),\n",
    "    preprocessing.StandardScaler(),\n",
    "    linear_model.LinearRegression()\n",
    ")\n",
    "\n",
    "pipeline"
   ]
  },
  {
   "cell_type": "markdown",
   "metadata": {},
   "source": [
    "Que coisa linda né? Eu \"escondi o ouro\" e propositalmente não mostrei essa visualização anteriormente. Muito útil para *debugging*. Prático? Pode ficar ainda melhor!\n",
    "\n",
    "Sugar syntax! Vou montar o mesmo pipeline sem usar explicitamente os componentes de `compose`."
   ]
  },
  {
   "cell_type": "code",
   "execution_count": null,
   "metadata": {},
   "outputs": [],
   "source": [
    "pipeline = (\n",
    "    (compose.SelectType(numbers.Number) + (compose.SelectType(str) | preprocessing.OneHotEncoder())) |\n",
    "    preprocessing.StandardScaler() | linear_model.LinearRegression()\n",
    ")\n",
    "pipeline"
   ]
  },
  {
   "cell_type": "markdown",
   "metadata": {},
   "source": [
    "Muito mais legível, na minha humilde opinião!\n",
    "\n",
    "Existem várias possibilidades com `compose` e Pipelines. Um bom ponto de partida: [The art of using pipelines](https://riverml.xyz/latest/examples/the-art-of-using-pipelines/).\n",
    "\n",
    "Algumas delas serão melhor abordadas no exemplo da próxima seção. A documentação do módulo é bem completa, vale a pena conferir!"
   ]
  },
  {
   "cell_type": "markdown",
   "metadata": {},
   "source": [
    "# 10. Exemplo completo\n",
    "\n",
    "Nesse exemplo iremos aplicar todos os conceitos vistos anteriormente.\n",
    "\n",
    "**Atenção:**\n",
    "\n",
    "> O objetivo aqui é aplicação de conhecimento, e não lidar com o problema preditivo em si.\n",
    "\n",
    "Provavelmente a extração de melhores features melhoraria o desempenho preditivo do regressor.\n",
    "\n",
    "O dataset a ser utilizado é um subconjunto do [Airlines](https://kt.ijs.si/elena_ikonomovska/data.html). Utilizaremos dois anos do conjunto total. O dataset deve ser extraído para a mesma pasta deste notebook.\n",
    "\n",
    "O dataset conta com mais de 15 milhões de amostras referentes a vôos realizados no período mencionado. O objetivo é prever o atraso de cada vôo em minutos."
   ]
  },
  {
   "cell_type": "code",
   "execution_count": null,
   "metadata": {},
   "outputs": [],
   "source": [
    "import calendar\n",
    "import datetime as dt\n",
    "import functools\n",
    "import numbers\n",
    "import random\n",
    "\n",
    "from river import compose\n",
    "from river import drift\n",
    "from river import evaluate\n",
    "from river import feature_extraction\n",
    "from river import linear_model\n",
    "from river import metrics\n",
    "from river import preprocessing\n",
    "from river import rules\n",
    "from river import stats\n",
    "from river import stream\n",
    "from river import time_series\n",
    "from river import tree"
   ]
  },
  {
   "cell_type": "code",
   "execution_count": null,
   "metadata": {},
   "outputs": [],
   "source": [
    "def drop_some(rng, p):\n",
    "    def parser(x, rng=rng, p=p):\n",
    "        if rng.random() <= p:\n",
    "            return None\n",
    "        else:\n",
    "            return float(x)\n",
    "    return parser\n",
    "\n",
    "\n",
    "feature_converters =  {\n",
    "    \"Year\": int,\n",
    "    \"Month\": int,\n",
    "    \"DayofMonth\": int,\n",
    "    \"DayofWeek\": int,\n",
    "    \"CRSDepTime\": str,\n",
    "    \"CRSArrTime\": str,\n",
    "    \"UniqueCarrier\": str,\n",
    "    \"FlightNum\": int,\n",
    "    \"ActualElapsedTime\": float,\n",
    "    \"Origin\": str,\n",
    "    \"Dest\": str,\n",
    "    \"Distance\": drop_some(random.Random(7), p=0.01),\n",
    "    \"Diverted\": lambda d: \"yes\" if d == 1 else \"no\",\n",
    "    \"ArrDelay\": float,\n",
    "} \n",
    "\n",
    "\n",
    "dataset = stream.iter_csv(\n",
    "    \"airlines07_08.csv\",\n",
    "    target=\"ArrDelay\",\n",
    "    converters=feature_converters,\n",
    ")"
   ]
  },
  {
   "cell_type": "code",
   "execution_count": null,
   "metadata": {},
   "outputs": [],
   "source": [
    "# Funções úteis\n",
    "def slice_data(dataset, max_samples=2000000):\n",
    "    dataset = iter(dataset)\n",
    "    for i, (x, y) in enumerate(dataset):\n",
    "        yield x, y\n",
    "        \n",
    "        if i == max_samples:\n",
    "            return\n",
    "\n",
    "def parse_date(x):\n",
    "    x = x.copy()\n",
    "    \n",
    "    # Adiciona digitos faltantes\n",
    "    departure = x[\"CRSDepTime\"]\n",
    "    while len(departure) < 4:\n",
    "        departure = \"0\" + departure\n",
    "    \n",
    "    arrival = x[\"CRSArrTime\"]\n",
    "    while len(arrival) < 4:\n",
    "        arrival = \"0\" + arrival\n",
    "    \n",
    "    x.pop(\"CRSDepTime\", None)\n",
    "    x.pop(\"CRSArrTime\", None)\n",
    "        \n",
    "    departure = dt.datetime.strptime(departure, \"%H%M\")\n",
    "    arrival = dt.datetime.strptime(arrival, \"%H%M\")\n",
    "    duration = dt.timedelta(minutes=x[\"ActualElapsedTime\"])\n",
    "    \n",
    "    diff = (arrival - departure) - duration\n",
    "    x[\"approx_time_zone_diff_min\"] = (diff.seconds // 3600) * 60 + ((diff.seconds // 60) % 60) \n",
    "    x[\"est_delay\"] = ((arrival - duration) + diff) - departure\n",
    "    x[\"exp_dep_hour\"] = departure.hour\n",
    "    x[\"exp_dep_minute\"] = departure.minute\n",
    "    x[\"exp_arr_hour\"] = arrival.hour\n",
    "    x[\"exp_arr_minute\"] = arrival.minute\n",
    "    x[\"Month\"] = calendar.month_name[x[\"Month\"]]\n",
    "    x[\"DayofWeek\"] = calendar.day_abbr[x[\"DayofWeek\"] - 1]\n",
    "\n",
    "    return x"
   ]
  },
  {
   "cell_type": "code",
   "execution_count": null,
   "metadata": {},
   "outputs": [],
   "source": [
    "p_imputer = preprocessing.StatImputer((\"Distance\", stats.Mean()))\n",
    "p_time = compose.FuncTransformer(parse_date)\n",
    "p_discard = compose.Discard(\"Origin\", \"Dest\", \"UniqueCarrier\")\n",
    "p_cat = compose.SelectType(str) | preprocessing.OneHotEncoder()\n",
    "p_num = compose.SelectType(numbers.Number) | preprocessing.StandardScaler()\n",
    "\n",
    "p_extraction = (\n",
    "    feature_extraction.TargetAgg(\n",
    "        by=[\"DayofWeek\", \"UniqueCarrier\"],\n",
    "        how=stats.EWMean(0.8),\n",
    "        target_name=\"delay\"\n",
    "    )\n",
    "    + feature_extraction.TargetAgg(\n",
    "        by=[\"Origin\", \"Dest\"],\n",
    "        how=stats.EWMean(0.8),\n",
    "        target_name=\"delay\"\n",
    "    )\n",
    "    + feature_extraction.TargetAgg(\n",
    "        by=[\"Origin\", \"UniqueCarrier\"],\n",
    "        how=stats.EWMean(0.8),\n",
    "        target_name=\"delay\"\n",
    "    )\n",
    "    + feature_extraction.TargetAgg(\n",
    "        by=[\"Dest\", \"UniqueCarrier\"],\n",
    "        how=stats.EWMean(0.8),\n",
    "        target_name=\"delay\"\n",
    "    )\n",
    "    + feature_extraction.TargetAgg(\n",
    "        by=[\"Origin\", \"Dest\", \"UniqueCarrier\"],\n",
    "        how=stats.EWMean(0.8),\n",
    "        target_name=\"delay\"\n",
    "    )\n",
    "    + feature_extraction.TargetAgg(\n",
    "        by=[\"Origin\", \"Dest\", \"UniqueCarrier\", \"FlightNum\"],\n",
    "        how=stats.EWMean(0.8),\n",
    "        target_name=\"delay\"\n",
    "    )\n",
    ")\n",
    "\n",
    "preproc = p_imputer | p_time | (p_extraction + p_discard) | (p_cat + p_num)\n",
    "preproc"
   ]
  },
  {
   "cell_type": "code",
   "execution_count": null,
   "metadata": {
    "scrolled": true
   },
   "outputs": [],
   "source": [
    "regressor = rules.AMRules(\n",
    "    n_min=1000,\n",
    "    m_min=100,\n",
    "    drift_detector=drift.ADWIN(0.01),\n",
    "    pred_type=\"adaptive\",\n",
    "    splitter=tree.splitter.QOSplitter(0.5),\n",
    "    tau=0.005,\n",
    "    ordered_rule_set=False,\n",
    "    pred_model=linear_model.PARegressor(C=0.7, eps=5)\n",
    ")\n",
    "\n",
    "metric = metrics.Rolling(metrics.MAE(), 10000)\n",
    "\n",
    "model = preproc | regressor\n",
    "model"
   ]
  },
  {
   "cell_type": "code",
   "execution_count": null,
   "metadata": {
    "scrolled": true
   },
   "outputs": [],
   "source": [
    "evaluate.progressive_val_score(\n",
    "    slice_data(dataset),\n",
    "    model,\n",
    "    metric,\n",
    "    show_memory=True,\n",
    "    show_time=True,\n",
    "    print_every=10000,\n",
    ")"
   ]
  }
 ],
 "metadata": {
  "kernelspec": {
   "display_name": "Python 3",
   "language": "python",
   "name": "python3"
  },
  "language_info": {
   "codemirror_mode": {
    "name": "ipython",
    "version": 3
   },
   "file_extension": ".py",
   "mimetype": "text/x-python",
   "name": "python",
   "nbconvert_exporter": "python",
   "pygments_lexer": "ipython3",
   "version": "3.8.10"
  }
 },
 "nbformat": 4,
 "nbformat_minor": 4
}
