{
 "cells": [
  {
   "cell_type": "markdown",
   "metadata": {},
   "source": [
    "# Non-extensive introduction to Online Machine Learning\n",
    "\n",
    "\n",
    "**Saulo Martiello Mastelini** (saulomastelini@gmail.com)\n",
    "\n",
    "Contact:\n",
    "\n",
    "- [Website](https://smastelini.github.io)\n",
    "- [Github](https://github.com/smastelini)\n",
    "- [Linkedin](https://www.linkedin.com/in/smastelini/)\n",
    "- [ResearchGate](https://www.researchgate.net/profile/Saulo-Mastelini)\n",
    "\n",
    "Copyright (c) 2022\n",
    "\n",
    "---\n",
    "\n",
    "**Disclaimer**\n",
    "\n",
    "As the title implies, this material is not an extensive introduction to the topic. It is just my humble attempt to present a general overview of decades worth of research in an ever-expanding area.\n",
    "\n",
    "Every process takes time. Therefore, a few minutes or hours are not enough to explore a whole research area. The idea is to find the balance between diving too deep into a topic and being too superficial. This hands-on talk is not formal, so feel free to interrupt me and ask questions anytime.\n",
    "\n",
    "---\n",
    "\n",
    "**If you want to explore further**\n",
    "\n",
    "If you want to learn more about the topics discussed in this notebook, I suggest:\n",
    "\n",
    "- [MOA book](https://moa.cms.waikato.ac.nz/book-html/): an open-access book that discusses a lot of themes related to data streams\n",
    "- [River documentation](https://riverml.xyz/): it has plenty of examples, tutorials and theoretical resources. It is constantly updated and expanded.\n",
    "\n",
    "If you have a specific question that is not covered in the documentation, you can always open a new _Discussion_ on Github. To do that, you need to head to the [River](https://github.com/online-ml/river) repository and find the discussion tab. For sure somebody will help you!\n",
    "\n",
    "Contributions are always welcome. River is open source and kept by a community. Even though you might not have technical background on the algorithms, it is always possible to help. Fixing and expanding the documentation is just an example of possible ways to get involved. If you find a bug, please let us know! 😁\n",
    "\n",
    "---\n",
    "\n",
    "**About River**\n",
    "\n",
    "River is an open source project focused on online machine learning and stream mining. It is the result of a merger between two preceding open source projects:\n",
    "\n",
    "- creme\n",
    "- scikit-multiflow\n",
    "\n",
    "creme and scikit-multiflow had a lot of overlap and also different strenghts and weaknesses. After a long time of planning and discussing core design aspects, the maintainers of both projects joined forces and created River.\n",
    "\n",
    "Hence, River has the best of both worlds and it is the result of years of learned lessons in the preceding tools. River is focused on both researchers and practicioneers. A lot of people help River keep growing, but the core development team is spread between France, New Zealand, Vietnam, and Brazil.\n",
    "\n",
    "---\n",
    "\n",
    "## Outline\n",
    "\n",
    "1. Online learning? Why?\n",
    "2. Batch vs. Online\n",
    "3. Building blocks: some examples\n",
    "4. Why dictionaries?\n",
    "5. How to evaluate an online machine learning model?\n",
    "    - `progressive_val_score`\n",
    "    - label delay\n",
    "6. Concept drift\n",
    "7. Examples of algorithms\n",
    "    1. Classification\n",
    "        1. Hoeffding Tree\n",
    "        2. Adaptive Random Forest\n",
    "    2. Regression\n",
    "        1. **Hoeffding Tree**\n",
    "        2. **AMRules**\n",
    "    3. Clustering\n",
    "        1. k-Means"
   ]
  },
  {
   "cell_type": "code",
   "execution_count": 1,
   "metadata": {},
   "outputs": [],
   "source": [
    "# Necessary packages\n",
    "\n",
    "# !pip install numpy\n",
    "# !pip install scikit-learn\n",
    "\n",
    "# Latest released version\n",
    "# !pip install river\n",
    "\n",
    "# Development version\n",
    "#!pip install git+https://github.com/online-ml/river --upgrade"
   ]
  },
  {
   "cell_type": "markdown",
   "metadata": {},
   "source": [
    "# 1. Online Learning? Why?\n",
    "\n",
    "Q: Why should somebody cares about updating models online? What about just training them once and using?\n",
    "A: Well, that is indeed enough for most the cases.\n",
    "\n",
    "Nonetheless, imagine that:\n",
    "\n",
    "- The amount of data instances is huge\n",
    "- It is not possible to store everything\n",
    "- The available computational power is limited\n",
    "    - CPUs\n",
    "    - Memory\n",
    "    - Battery\n",
    "- Data is non-stationary and/or evolves through time\n",
    "\n",
    "Q: Is it possible to use traditional machine learning in these cases?\n",
    "A: Yes!\n",
    "\n",
    "One can still use traditional or batch machine learnin if:\n",
    "\n",
    "- Data is stationary, i.e., a sufficiently large sample is enough to achieve generalization\n",
    "\n",
    "or\n",
    "\n",
    "- The speed in which data is produced or collect is not too high\n",
    "    - In these cases the batch-incremental approach is a possible solution\n",
    "\n",
    "## 1.1 Batch-incremental\n",
    "\n",
    "In this strategy, a batch machine learning model is retrained at regular intervals. Hence, we must define a training window, by following one among the possible strategies:\n",
    "\n",
    "<img src=\"time_windows.png\">\n",
    "\n",
    "**Fonte:** Adapted from:\n",
    "\n",
    "> Carnein, M. and Trautmann, H., 2019. Optimizing data stream representation: An extensive survey on stream clustering algorithms. Business & Information Systems Engineering, 61(3), pp.277-297.\n",
    "\n",
    "- *Landmarks* is the most common choice for batch-incremental applications. The window length is the central concern.\n",
    "    - The current model may become outdated if the window is too large\n",
    "    - The model may fail to capture the underlying patterns in the data if the window is too small.\n",
    "    - Concept-drift is a serious problem\n",
    "        - Drifts do not typically occur at predefined and regular intervals\n",
    "    \n",
    "**Attention**: batch-incremental != mini-batch.\n",
    "\n",
    "Artifical neural networks can be trained in an incremental or progressive fashion, usually relying on mini-batches of data.\n",
    "\n",
    "Challenges such as \"catastrophic forgetting\" are one of the main concerns tackled in the **continual learning** research field.\n",
    "\n",
    "## 1.2. It is worth noting\n",
    "\n",
    "Data streams are not, necessarily, time series\n",
    "\n",
    "Q: What is the difference between data streams and time series?\n",
    "A: Data streams not necessarily have explict temporal dependecies like time sires. For instance, sensor networks.\n",
    "    - Varying transmission speeds\n",
    "    - Sensor failure\n",
    "    - Network expansion\n",
    "    - And so on...\n",
    "    Hence, the arrival order does not matter... much, but it does"
   ]
  },
  {
   "cell_type": "markdown",
   "metadata": {},
   "source": [
    "# 2. Batch vs. Online\n",
    "\n",
    "The River website has a nice [tutorial](https://riverml.xyz/latest/examples/batch-to-online/) on going from batch to online ML. But let's give a general overview of the differences.\n",
    "\n",
    "A typical batch ML evaluation pipeline might look like this:"
   ]
  },
  {
   "cell_type": "code",
   "execution_count": 2,
   "metadata": {},
   "outputs": [
    {
     "name": "stdout",
     "output_type": "stream",
     "text": [
      "Mean accuracy: 0.9045751633986928\n"
     ]
    }
   ],
   "source": [
    "from sklearn.datasets import load_wine\n",
    "from sklearn.metrics import accuracy_score\n",
    "from sklearn.model_selection import KFold\n",
    "from sklearn.tree import DecisionTreeClassifier\n",
    "\n",
    "data = load_wine()\n",
    "\n",
    "X, y = data.data, data.target\n",
    "kf = KFold(shuffle=True, random_state=8, n_splits=10)\n",
    "\n",
    "accs = []\n",
    "\n",
    "for train, test in kf.split(X):\n",
    "    X_tr, X_ts = X[train], X[test]\n",
    "    y_tr, y_ts = y[train], y[test]\n",
    "    \n",
    "    dt  = DecisionTreeClassifier(max_depth=5, random_state=93)\n",
    "    dt.fit(X_tr, y_tr)\n",
    "    \n",
    "    accs.append(accuracy_score(y_ts, dt.predict(X_ts)))\n",
    "\n",
    "print(f\"Mean accuracy: {sum(accs) / len(accs)}\")"
   ]
  },
  {
   "cell_type": "code",
   "execution_count": 3,
   "metadata": {},
   "outputs": [
    {
     "data": {
      "text/plain": [
       "178"
      ]
     },
     "execution_count": 3,
     "metadata": {},
     "output_type": "execute_result"
    }
   ],
   "source": [
    "len(X)"
   ]
  },
  {
   "cell_type": "markdown",
   "metadata": {},
   "source": [
    "The dataset is loaded in the memory and completely available for inspection. The decision tree algorithm is allowed to perfom multiple passes over the (training) data. Validation data is never used for training.\n",
    "\n",
    "In the end, we might take the complete dataset (training + validation) to build a \"final model\", given that we already found a good set of hyperparameters. Once trained, this model will be used to predict the types of wine samples.\n",
    "\n",
    "Let's see how an online ML evaluation might look like:"
   ]
  },
  {
   "cell_type": "code",
   "execution_count": 4,
   "metadata": {},
   "outputs": [
    {
     "name": "stdout",
     "output_type": "stream",
     "text": [
      "Accuracy: 0.9269662921348315\n"
     ]
    }
   ],
   "source": [
    "from river import metrics\n",
    "from river import stream\n",
    "from river import tree\n",
    "\n",
    "\n",
    "acc = metrics.Accuracy()\n",
    "ht = tree.HoeffdingTreeClassifier(max_depth=5, grace_period=20)\n",
    "\n",
    "for x, y in stream.iter_sklearn_dataset(load_wine()):\n",
    "    # The evaluation metric is evaluated before the model actually learns from the instance\n",
    "    acc.update(y, ht.predict_one(x))\n",
    "    # The model is updated one instance at a time\n",
    "    ht.learn_one(x, y)\n",
    "\n",
    "print(f\"Accuracy: {acc.get()}\")"
   ]
  },
  {
   "cell_type": "code",
   "execution_count": 5,
   "metadata": {},
   "outputs": [
    {
     "data": {
      "text/plain": [
       "({'alcohol': 14.13,\n",
       "  'malic_acid': 4.1,\n",
       "  'ash': 2.74,\n",
       "  'alcalinity_of_ash': 24.5,\n",
       "  'magnesium': 96.0,\n",
       "  'total_phenols': 2.05,\n",
       "  'flavanoids': 0.76,\n",
       "  'nonflavanoid_phenols': 0.56,\n",
       "  'proanthocyanins': 1.35,\n",
       "  'color_intensity': 9.2,\n",
       "  'hue': 0.61,\n",
       "  'od280/od315_of_diluted_wines': 1.6,\n",
       "  'proline': 560.0},\n",
       " 2)"
      ]
     },
     "execution_count": 5,
     "metadata": {},
     "output_type": "execute_result"
    }
   ],
   "source": [
    "x, y"
   ]
  },
  {
   "cell_type": "markdown",
   "metadata": {},
   "source": [
    "We process the input data sequentially. Data might be loaded on demand from the disk, from a webserver, or from anywhere, really.\n",
    "Data does not need to fit into the available memory.\n",
    "\n",
    "Each instance is firstly used for testing and then it is used to update the learning model. Everything works in an instance-by-instance regimen.\n",
    "\n",
    "If the underlying process is guaranteed to be stationary, we could even shuffle the data before passing it to the model.\n",
    "\n",
    "**Note:** we cannot directly compared both the obtained accuracy values, as the evaluation strategies are not the same."
   ]
  },
  {
   "cell_type": "markdown",
   "metadata": {},
   "source": [
    "# 3. Building blocks: some examples"
   ]
  },
  {
   "cell_type": "code",
   "execution_count": 6,
   "metadata": {},
   "outputs": [],
   "source": [
    "import numpy as np\n",
    "from river import stats"
   ]
  },
  {
   "cell_type": "markdown",
   "metadata": {},
   "source": [
    "After this first glance into the differences, let's take things slowly and reflect a little bit on the building blocks necessary to perform Online Machine Learning.\n",
    "\n",
    "Let's suppose we want to keep statistics for data which is continually arriving. For instance, we want to calculate the mean and variance.\n",
    "\n",
    "\n",
    "Time to simulate:"
   ]
  },
  {
   "cell_type": "code",
   "execution_count": 7,
   "metadata": {},
   "outputs": [],
   "source": [
    "import random\n",
    "\n",
    "rng = random.Random(42)"
   ]
  },
  {
   "cell_type": "code",
   "execution_count": 8,
   "metadata": {},
   "outputs": [
    {
     "name": "stdout",
     "output_type": "stream",
     "text": [
      "CPU times: user 34.2 s, sys: 143 ms, total: 34.4 s\n",
      "Wall time: 34.4 s\n"
     ]
    }
   ],
   "source": [
    "%%time\n",
    "\n",
    "values = []\n",
    "stds_batch = []\n",
    "\n",
    "for _ in range(50000):\n",
    "    v = rng.gauss(5, 3)\n",
    "    values.append(v)\n",
    "\n",
    "    stds_batch.append(np.std(values, ddof=1) if len(values) > 1 else 0)"
   ]
  },
  {
   "cell_type": "code",
   "execution_count": 9,
   "metadata": {},
   "outputs": [],
   "source": [
    "rng = random.Random(42)"
   ]
  },
  {
   "cell_type": "code",
   "execution_count": 10,
   "metadata": {
    "scrolled": true
   },
   "outputs": [
    {
     "name": "stdout",
     "output_type": "stream",
     "text": [
      "CPU times: user 58.6 ms, sys: 1.37 ms, total: 59.9 ms\n",
      "Wall time: 59.3 ms\n"
     ]
    }
   ],
   "source": [
    "%%time\n",
    "\n",
    "stds_incr = []\n",
    "var = stats.Var(ddof=1)\n",
    "\n",
    "for _ in range(50000):\n",
    "    v = rng.gauss(5, 3)\n",
    "    var.update(v)\n",
    "    stds_incr.append(var.get() ** 0.5)"
   ]
  },
  {
   "cell_type": "markdown",
   "metadata": {},
   "source": [
    "A lot faster! But, does it work?"
   ]
  },
  {
   "cell_type": "code",
   "execution_count": 11,
   "metadata": {
    "scrolled": true
   },
   "outputs": [
    {
     "data": {
      "text/plain": [
       "(-1.4842460593911255e-11, -2.968492118782251e-16)"
      ]
     },
     "execution_count": 11,
     "metadata": {},
     "output_type": "execute_result"
    }
   ],
   "source": [
    "s_errors = 0\n",
    "\n",
    "for batch, incr in zip(stds_batch, stds_incr):\n",
    "    s_errors += (batch - incr)\n",
    "\n",
    "s_errors, s_errors / len(stds_batch)"
   ]
  },
  {
   "cell_type": "markdown",
   "metadata": {},
   "source": [
    "I hope this is convincing! River's [stats](https://riverml.xyz/dev/api/overview/#stats) module has a lot tools to calculate statistics 🧐\n",
    "\n",
    "A lot of these things are the building blocks of Online Machine Learning algorithms.\n",
    "\n",
    "---\n",
    "\n",
    "**Practical example: Variance using the Welford algorithm**\n",
    "\n",
    "- We need some variables:\n",
    "    - $n$: number of observations\n",
    "    - $\\overline{x}_n$: the sample mean, after $n$ observations\n",
    "    - $M_{2, n}$: second-order statistic\n",
    "- The variables are initialized as follows:\n",
    "    - $\\overline{x}_{0} \\leftarrow 0$\n",
    "    - $M_{2,0} \\leftarrow 0$\n",
    "- The variables are updated using the following expressions:\n",
    "    - $\\overline{x}_n = \\overline{x}_{n-1} + \\dfrac{x_n - \\overline{x}_{n-1}}{n}$\n",
    "    - $M_{2,n} = M_{2,n-1} + (x_n - \\overline{x}_{n-1})(x_n - \\overline{x}_n)$\n",
    "- The sample variance is obtained using: $s_n^2 = \\dfrac{M_{2,n}}{n-1}$, para todo $n > 1$\n",
    "- We also get a robust mean estimator for free! 🤓\n",
    "\n",
    "---"
   ]
  },
  {
   "cell_type": "markdown",
   "metadata": {},
   "source": [
    "# 4. Why dictionaries (or, why using a sparse data representation)?\n",
    "\n",
    "In River we use dictionaries as the primary data type.\n",
    "\n",
    "Dictionaries:\n",
    "\n",
    "- Key x value: keys are unique\n",
    "- Values accessed via keys, instead of indices\n",
    "- Sparse\n",
    "- There is no explicit ordering\n",
    "- Dynamic!\n",
    "- Mixed data types\n",
    "\n",
    "Examples:"
   ]
  },
  {
   "cell_type": "code",
   "execution_count": 12,
   "metadata": {},
   "outputs": [
    {
     "data": {
      "text/plain": [
       "{'potato': 3,\n",
       " 'car': 2,\n",
       " 'data': datetime.datetime(2022, 8, 19, 22, 42, 29, 561474),\n",
       " 'yes_or_no': 'yes'}"
      ]
     },
     "execution_count": 12,
     "metadata": {},
     "output_type": "execute_result"
    }
   ],
   "source": [
    "from datetime import datetime\n",
    "\n",
    "x = {\n",
    "    \"potato\": 3,\n",
    "    \"car\": 2,\n",
    "    \"data\": datetime.now(),\n",
    "    \"yes_or_no\": \"yes\"\n",
    "}\n",
    "\n",
    "x"
   ]
  },
  {
   "cell_type": "code",
   "execution_count": 13,
   "metadata": {},
   "outputs": [
    {
     "data": {
      "text/plain": [
       "{'potato': 3,\n",
       " 'car': 2,\n",
       " 'data': datetime.datetime(2022, 8, 19, 22, 42, 29, 561474),\n",
       " 'yes_or_no': 'yes',\n",
       " 'one extra': True}"
      ]
     },
     "execution_count": 13,
     "metadata": {},
     "output_type": "execute_result"
    }
   ],
   "source": [
    "x[\"one extra\"] = True\n",
    "x"
   ]
  },
  {
   "cell_type": "code",
   "execution_count": 14,
   "metadata": {},
   "outputs": [
    {
     "data": {
      "text/plain": [
       "{'potato': 3, 'car': 2, 'yes_or_no': 'yes', 'one extra': True}"
      ]
     },
     "execution_count": 14,
     "metadata": {},
     "output_type": "execute_result"
    }
   ],
   "source": [
    "del x[\"data\"]\n",
    "x"
   ]
  },
  {
   "cell_type": "markdown",
   "metadata": {},
   "source": [
    "**Tip**: dictionaries are very similar to JSON.\n",
    "\n",
    "Let's compare dictionaries with the traditional approach, based on arrays:"
   ]
  },
  {
   "cell_type": "code",
   "execution_count": 15,
   "metadata": {},
   "outputs": [
    {
     "data": {
      "text/plain": [
       "(array([1.423e+01, 1.710e+00, 2.430e+00, 1.560e+01, 1.270e+02, 2.800e+00,\n",
       "        3.060e+00, 2.800e-01, 2.290e+00, 5.640e+00, 1.040e+00, 3.920e+00,\n",
       "        1.065e+03]),\n",
       " ['alcohol',\n",
       "  'malic_acid',\n",
       "  'ash',\n",
       "  'alcalinity_of_ash',\n",
       "  'magnesium',\n",
       "  'total_phenols',\n",
       "  'flavanoids',\n",
       "  'nonflavanoid_phenols',\n",
       "  'proanthocyanins',\n",
       "  'color_intensity',\n",
       "  'hue',\n",
       "  'od280/od315_of_diluted_wines',\n",
       "  'proline'])"
      ]
     },
     "execution_count": 15,
     "metadata": {},
     "output_type": "execute_result"
    }
   ],
   "source": [
    "data = load_wine()\n",
    "\n",
    "X, y = data.data, data.target\n",
    "\n",
    "X[0, :], data.feature_names"
   ]
  },
  {
   "cell_type": "code",
   "execution_count": 16,
   "metadata": {},
   "outputs": [
    {
     "data": {
      "text/plain": [
       "(0, array(['class_0', 'class_1', 'class_2'], dtype='<U7'))"
      ]
     },
     "execution_count": 16,
     "metadata": {},
     "output_type": "execute_result"
    }
   ],
   "source": [
    "y[0], data.target_names"
   ]
  },
  {
   "cell_type": "markdown",
   "metadata": {},
   "source": [
    "We are going to put sklearn to the test."
   ]
  },
  {
   "cell_type": "code",
   "execution_count": 17,
   "metadata": {},
   "outputs": [
    {
     "data": {
      "text/plain": [
       "((176, 13), (2, 13))"
      ]
     },
     "execution_count": 17,
     "metadata": {},
     "output_type": "execute_result"
    }
   ],
   "source": [
    "X_tr, y_tr = X[:-2, :], y[:-2]\n",
    "X_ts, y_ts = X[-2:, :], y[-2:]\n",
    "\n",
    "X_tr.shape, X_ts.shape"
   ]
  },
  {
   "cell_type": "code",
   "execution_count": 18,
   "metadata": {
    "scrolled": true
   },
   "outputs": [
    {
     "data": {
      "text/plain": [
       "array([2, 2])"
      ]
     },
     "execution_count": 18,
     "metadata": {},
     "output_type": "execute_result"
    }
   ],
   "source": [
    "from sklearn.naive_bayes import GaussianNB\n",
    "\n",
    "nb = GaussianNB()\n",
    "\n",
    "nb.fit(X_tr, y_tr)\n",
    "\n",
    "nb.predict(X_ts)"
   ]
  },
  {
   "cell_type": "markdown",
   "metadata": {},
   "source": [
    "What if one feature was missing?"
   ]
  },
  {
   "cell_type": "code",
   "execution_count": 19,
   "metadata": {},
   "outputs": [
    {
     "name": "stdout",
     "output_type": "stream",
     "text": [
      "X has 12 features, but GaussianNB is expecting 13 features as input.\n"
     ]
    }
   ],
   "source": [
    "try:\n",
    "    nb.predict(X_ts[:, 1:])\n",
    "except ValueError as error:\n",
    "    print(error)"
   ]
  },
  {
   "cell_type": "markdown",
   "metadata": {},
   "source": [
    "That type of situation is not uncommon in online scenarios. New sensors appear, some fail, and so on. So we must be able to deal with this kind of situation.\n",
    "\n",
    "The majority of the models in River are able to deal with this kind of situation! 🎉"
   ]
  },
  {
   "cell_type": "code",
   "execution_count": 20,
   "metadata": {},
   "outputs": [],
   "source": [
    "from river import naive_bayes\n",
    "\n",
    "gnb = naive_bayes.GaussianNB()\n",
    "dataset = stream.iter_sklearn_dataset(load_wine())\n",
    "\n",
    "rng = random.Random(42)\n",
    "\n",
    "# Probability of ignoring a feature\n",
    "del_chance = 0.2\n",
    "\n",
    "n_incomplete = 0\n",
    "for i, (x, y) in enumerate(dataset):\n",
    "    if i == 176:\n",
    "        break\n",
    "    \n",
    "    x_copy = x.copy()\n",
    "    aux = 0\n",
    "    for xi in x:\n",
    "        if rng.random() <= del_chance:\n",
    "            del x_copy[xi]\n",
    "            aux = 1\n",
    "        \n",
    "        # Atualiza o número de linhas incompletas\n",
    "        n_incomplete += aux\n",
    "    \n",
    "    gnb.learn_one(x_copy, y)"
   ]
  },
  {
   "cell_type": "code",
   "execution_count": 21,
   "metadata": {
    "scrolled": false
   },
   "outputs": [
    {
     "data": {
      "text/plain": [
       "({'alcohol': 13.17,\n",
       "  'malic_acid': 2.59,\n",
       "  'ash': 2.37,\n",
       "  'alcalinity_of_ash': 20.0,\n",
       "  'magnesium': 120.0,\n",
       "  'total_phenols': 1.65,\n",
       "  'flavanoids': 0.68,\n",
       "  'nonflavanoid_phenols': 0.53,\n",
       "  'proanthocyanins': 1.46,\n",
       "  'color_intensity': 9.3,\n",
       "  'hue': 0.6,\n",
       "  'od280/od315_of_diluted_wines': 1.62,\n",
       "  'proline': 840.0},\n",
       " 2)"
      ]
     },
     "execution_count": 21,
     "metadata": {},
     "output_type": "execute_result"
    }
   ],
   "source": [
    "x, y"
   ]
  },
  {
   "cell_type": "code",
   "execution_count": 22,
   "metadata": {},
   "outputs": [
    {
     "data": {
      "text/plain": [
       "{0: 2.2901730526820806e-23, 1: 4.523692607178262e-14, 2: 0.9999999999999538}"
      ]
     },
     "execution_count": 22,
     "metadata": {},
     "output_type": "execute_result"
    }
   ],
   "source": [
    "gnb.predict_proba_one(x)"
   ]
  },
  {
   "cell_type": "markdown",
   "metadata": {},
   "source": [
    "We are going to explicitly modify this last example:"
   ]
  },
  {
   "cell_type": "code",
   "execution_count": 23,
   "metadata": {
    "scrolled": true
   },
   "outputs": [
    {
     "data": {
      "text/plain": [
       "['alcohol',\n",
       " 'malic_acid',\n",
       " 'ash',\n",
       " 'alcalinity_of_ash',\n",
       " 'magnesium',\n",
       " 'total_phenols',\n",
       " 'flavanoids',\n",
       " 'nonflavanoid_phenols',\n",
       " 'proanthocyanins',\n",
       " 'color_intensity',\n",
       " 'hue',\n",
       " 'od280/od315_of_diluted_wines',\n",
       " 'proline']"
      ]
     },
     "execution_count": 23,
     "metadata": {},
     "output_type": "execute_result"
    }
   ],
   "source": [
    "x, y = next(dataset)\n",
    "list(x.keys())"
   ]
  },
  {
   "cell_type": "markdown",
   "metadata": {},
   "source": [
    "Firstly, we make a copy and delete some features:"
   ]
  },
  {
   "cell_type": "code",
   "execution_count": 24,
   "metadata": {},
   "outputs": [
    {
     "data": {
      "text/plain": [
       "{'alcohol': 14.13,\n",
       " 'ash': 2.74,\n",
       " 'alcalinity_of_ash': 24.5,\n",
       " 'magnesium': 96.0,\n",
       " 'total_phenols': 2.05,\n",
       " 'nonflavanoid_phenols': 0.56,\n",
       " 'proanthocyanins': 1.35,\n",
       " 'color_intensity': 9.2,\n",
       " 'od280/od315_of_diluted_wines': 1.6,\n",
       " 'proline': 560.0}"
      ]
     },
     "execution_count": 24,
     "metadata": {},
     "output_type": "execute_result"
    }
   ],
   "source": [
    "x_copy = x.copy()\n",
    "\n",
    "del x_copy[\"malic_acid\"]\n",
    "del x_copy[\"hue\"]\n",
    "del x_copy[\"flavanoids\"]\n",
    "\n",
    "x_copy"
   ]
  },
  {
   "cell_type": "markdown",
   "metadata": {},
   "source": [
    "Will our model work?"
   ]
  },
  {
   "cell_type": "code",
   "execution_count": 25,
   "metadata": {},
   "outputs": [
    {
     "data": {
      "text/plain": [
       "({0: 7.394823717897268e-13, 1: 8.511456030879924e-13, 2: 0.9999999999984084},\n",
       " 2)"
      ]
     },
     "execution_count": 25,
     "metadata": {},
     "output_type": "execute_result"
    }
   ],
   "source": [
    "gnb.predict_proba_one(x_copy), y"
   ]
  },
  {
   "cell_type": "markdown",
   "metadata": {},
   "source": [
    "What if new features appeared?"
   ]
  },
  {
   "cell_type": "code",
   "execution_count": 26,
   "metadata": {},
   "outputs": [
    {
     "data": {
      "text/plain": [
       "{'alcohol': 14.13,\n",
       " 'malic_acid': 4.1,\n",
       " 'ash': 2.74,\n",
       " 'alcalinity_of_ash': 24.5,\n",
       " 'magnesium': 96.0,\n",
       " 'total_phenols': 2.05,\n",
       " 'flavanoids': 0.76,\n",
       " 'nonflavanoid_phenols': 0.56,\n",
       " 'proanthocyanins': 1.35,\n",
       " 'color_intensity': 9.2,\n",
       " 'hue': 0.61,\n",
       " 'od280/od315_of_diluted_wines': 1.6,\n",
       " 'proline': 560.0,\n",
       " '1st extra': 7.89,\n",
       " '2nd extra': 2}"
      ]
     },
     "execution_count": 26,
     "metadata": {},
     "output_type": "execute_result"
    }
   ],
   "source": [
    "x[\"1st extra\"] = 7.89\n",
    "x[\"2nd extra\"] = 2\n",
    "\n",
    "x"
   ]
  },
  {
   "cell_type": "code",
   "execution_count": 27,
   "metadata": {},
   "outputs": [
    {
     "data": {
      "text/plain": [
       "1"
      ]
     },
     "execution_count": 27,
     "metadata": {},
     "output_type": "execute_result"
    }
   ],
   "source": [
    "gnb.learn_one(x, y)\n",
    "\n",
    "gnb.predict_one({\"1st extra\": 7.8, \"2nd extra\": 1.5})"
   ]
  },
  {
   "cell_type": "code",
   "execution_count": 28,
   "metadata": {},
   "outputs": [
    {
     "data": {
      "text/plain": [
       "(array([0, 1, 2]), array([59, 71, 48]))"
      ]
     },
     "execution_count": 28,
     "metadata": {},
     "output_type": "execute_result"
    }
   ],
   "source": [
    "np.unique(data.target, return_counts=True)"
   ]
  },
  {
   "cell_type": "markdown",
   "metadata": {},
   "source": [
    "Each model implements different strategies to deal with missing or emerging features.\n",
    "\n",
    "In our example, \"1\" was the majority class, which was predicted by GaussianNB. That is the best it can do, since there is not enough information about the new features. But these new features are already part of the model and will be updated with more observations."
   ]
  },
  {
   "cell_type": "code",
   "execution_count": 29,
   "metadata": {},
   "outputs": [
    {
     "data": {
      "text/plain": [
       "defaultdict(functools.partial(<class 'collections.defaultdict'>, <class 'river.proba.gaussian.Gaussian'>),\n",
       "            {0: defaultdict(river.proba.gaussian.Gaussian,\n",
       "                         {'alcohol': 𝒩(μ=13.751, σ=0.434),\n",
       "                          'ash': 𝒩(μ=2.473, σ=0.234),\n",
       "                          'alcalinity_of_ash': 𝒩(μ=16.896, σ=2.671),\n",
       "                          'magnesium': 𝒩(μ=107.082, σ=10.720),\n",
       "                          'total_phenols': 𝒩(μ=2.811, σ=0.286),\n",
       "                          'flavanoids': 𝒩(μ=2.955, σ=0.367),\n",
       "                          'proanthocyanins': 𝒩(μ=1.881, σ=0.399),\n",
       "                          'hue': 𝒩(μ=1.077, σ=0.119),\n",
       "                          'od280/od315_of_diluted_wines': 𝒩(μ=3.131, σ=0.348),\n",
       "                          'malic_acid': 𝒩(μ=1.982, σ=0.661),\n",
       "                          'nonflavanoid_phenols': 𝒩(μ=0.288, σ=0.071),\n",
       "                          'color_intensity': 𝒩(μ=5.443, σ=1.342),\n",
       "                          'proline': 𝒩(μ=1114.224, σ=228.521),\n",
       "                          '1st extra': 𝒩(μ=0.000, σ=0.000),\n",
       "                          '2nd extra': 𝒩(μ=0.000, σ=0.000)}),\n",
       "             1: defaultdict(river.proba.gaussian.Gaussian,\n",
       "                         {'alcohol': 𝒩(μ=12.261, σ=0.549),\n",
       "                          'ash': 𝒩(μ=2.228, σ=0.334),\n",
       "                          'alcalinity_of_ash': 𝒩(μ=20.347, σ=3.468),\n",
       "                          'magnesium': 𝒩(μ=94.476, σ=16.685),\n",
       "                          'flavanoids': 𝒩(μ=2.040, σ=0.711),\n",
       "                          'nonflavanoid_phenols': 𝒩(μ=0.371, σ=0.130),\n",
       "                          'color_intensity': 𝒩(μ=3.128, σ=0.905),\n",
       "                          'hue': 𝒩(μ=1.065, σ=0.184),\n",
       "                          'od280/od315_of_diluted_wines': 𝒩(μ=2.751, σ=0.508),\n",
       "                          'malic_acid': 𝒩(μ=1.995, σ=1.083),\n",
       "                          'total_phenols': 𝒩(μ=2.288, σ=0.548),\n",
       "                          'proanthocyanins': 𝒩(μ=1.687, σ=0.617),\n",
       "                          'proline': 𝒩(μ=523.582, σ=169.681),\n",
       "                          '1st extra': 𝒩(μ=0.000, σ=0.000),\n",
       "                          '2nd extra': 𝒩(μ=0.000, σ=0.000)}),\n",
       "             2: defaultdict(river.proba.gaussian.Gaussian,\n",
       "                         {'alcohol': 𝒩(μ=13.178, σ=0.544),\n",
       "                          'malic_acid': 𝒩(μ=3.375, σ=1.205),\n",
       "                          'alcalinity_of_ash': 𝒩(μ=21.650, σ=2.332),\n",
       "                          'magnesium': 𝒩(μ=98.128, σ=10.416),\n",
       "                          'nonflavanoid_phenols': 𝒩(μ=0.439, σ=0.137),\n",
       "                          'proanthocyanins': 𝒩(μ=1.168, σ=0.433),\n",
       "                          'color_intensity': 𝒩(μ=7.081, σ=2.336),\n",
       "                          'hue': 𝒩(μ=0.687, σ=0.105),\n",
       "                          'od280/od315_of_diluted_wines': 𝒩(μ=1.692, σ=0.272),\n",
       "                          'proline': 𝒩(μ=620.488, σ=110.735),\n",
       "                          'ash': 𝒩(μ=2.451, σ=0.183),\n",
       "                          'total_phenols': 𝒩(μ=1.723, σ=0.348),\n",
       "                          'flavanoids': 𝒩(μ=0.763, σ=0.276),\n",
       "                          '1st extra': 𝒩(μ=7.890, σ=0.000),\n",
       "                          '2nd extra': 𝒩(μ=2.000, σ=0.000)})})"
      ]
     },
     "execution_count": 29,
     "metadata": {},
     "output_type": "execute_result"
    }
   ],
   "source": [
    "gnb.gaussians"
   ]
  },
  {
   "cell_type": "markdown",
   "metadata": {},
   "source": [
    "# 5. How to evaluate models?\n",
    "\n",
    "\n",
    "In every example presented so far, when a new instance arrive, we first make a prediction and, then, use the new datum to update the model.\n",
    "No cross-validation, leave-one-out, and so on.\n",
    "\n",
    "This evaluation strategy is close to a real-world scenario: usually we first get the inputs without labels, and predictions must be made. Only after some time, we get the labels.\n",
    "In our examples, the label is \"revealed\" just after the model makes a prediction. In an even more realistic evaluation scenario there exists a delay between predicting and getting the label. Sometimes, the label never arrives for some instances.\n",
    "\n",
    "We call this type of evaluation strategy _progressive validation_ or _prequential_ evaluation.\n",
    "\n",
    "I suggest checking this [blog post from Max Halford](https://maxhalford.github.io/blog/online-learning-evaluation/), for more details on that matter.\n",
    "\n",
    "In River we have a utility function `progressive_val_score` in the `evaluate` module that handles all the above mentioned situations."
   ]
  },
  {
   "cell_type": "code",
   "execution_count": 30,
   "metadata": {
    "scrolled": true
   },
   "outputs": [
    {
     "name": "stdout",
     "output_type": "stream",
     "text": [
      "[5,000] Accuracy: 69.65%, MicroF1: 69.65%, BalancedAccuracy: 69.12% – 00:00:00 – 84.73 KB\n",
      "[10,000] Accuracy: 72.09%, MicroF1: 72.09%, BalancedAccuracy: 71.42% – 00:00:01 – 90.98 KB\n",
      "[15,000] Accuracy: 73.55%, MicroF1: 73.55%, BalancedAccuracy: 73.12% – 00:00:01 – 156.3 KB\n",
      "[20,000] Accuracy: 75.62%, MicroF1: 75.62%, BalancedAccuracy: 75.24% – 00:00:02 – 199.85 KB\n",
      "[25,000] Accuracy: 78.32%, MicroF1: 78.32%, BalancedAccuracy: 78.01% – 00:00:02 – 243.42 KB\n",
      "[30,000] Accuracy: 80.24%, MicroF1: 80.24%, BalancedAccuracy: 80.01% – 00:00:03 – 308.74 KB\n",
      "[35,000] Accuracy: 81.68%, MicroF1: 81.68%, BalancedAccuracy: 81.50% – 00:00:04 – 374.06 KB\n",
      "[40,000] Accuracy: 82.90%, MicroF1: 82.90%, BalancedAccuracy: 82.74% – 00:00:04 – 439.07 KB\n",
      "[45,000] Accuracy: 83.83%, MicroF1: 83.83%, BalancedAccuracy: 83.68% – 00:00:05 – 460.84 KB\n",
      "[50,000] Accuracy: 84.60%, MicroF1: 84.60%, BalancedAccuracy: 84.45% – 00:00:05 – 498.76 KB\n"
     ]
    },
    {
     "data": {
      "text/plain": [
       "Accuracy: 84.60%, MicroF1: 84.60%, BalancedAccuracy: 84.45%"
      ]
     },
     "execution_count": 30,
     "metadata": {},
     "output_type": "execute_result"
    }
   ],
   "source": [
    "from river import evaluate\n",
    "from river import metrics\n",
    "from river.datasets import synth\n",
    "\n",
    "\n",
    "def label_delay(x, y):\n",
    "    return rng.randint(0, 100)\n",
    "\n",
    "\n",
    "rng = random.Random(8)\n",
    "dataset = synth.RandomRBF(seed_sample=7, seed_model=9)\n",
    "model = tree.HoeffdingTreeClassifier()\n",
    "\n",
    "# We can combine metrics using pipeline operators\n",
    "metric = metrics.Accuracy() + metrics.MicroF1() + metrics.BalancedAccuracy()\n",
    "\n",
    "evaluate.progressive_val_score(\n",
    "    dataset=dataset.take(50000),\n",
    "    model=model,\n",
    "    metric=metric,\n",
    "    print_every=5000,\n",
    "    show_memory=True,\n",
    "    show_time=True,\n",
    "    delay=label_delay\n",
    ")"
   ]
  },
  {
   "cell_type": "code",
   "execution_count": 31,
   "metadata": {},
   "outputs": [
    {
     "data": {
      "image/svg+xml": "<?xml version=\"1.0\" encoding=\"UTF-8\" standalone=\"no\"?>\n<!DOCTYPE svg PUBLIC \"-//W3C//DTD SVG 1.1//EN\"\n \"http://www.w3.org/Graphics/SVG/1.1/DTD/svg11.dtd\">\n<!-- Generated by graphviz version 3.0.0 (20220226.1711)\n -->\n<!-- Pages: 1 -->\n<svg width=\"1027pt\" height=\"692pt\"\n viewBox=\"0.00 0.00 1027.00 692.00\" xmlns=\"http://www.w3.org/2000/svg\" xmlns:xlink=\"http://www.w3.org/1999/xlink\">\n<g id=\"graph0\" class=\"graph\" transform=\"scale(1 1) rotate(0) translate(4 688)\">\n<polygon fill=\"white\" stroke=\"transparent\" points=\"-4,4 -4,-688 1023,-688 1023,4 -4,4\"/>\n<!-- 0 -->\n<g id=\"node1\" class=\"node\">\n<title>0</title>\n<polygon fill=\"#fdf7f3\" stroke=\"black\" stroke-width=\"1.2\" points=\"465.5,-684 411.5,-684 411.5,-648 465.5,-648 465.5,-684\"/>\n<text text-anchor=\"middle\" x=\"438.5\" y=\"-663.2\" font-family=\"trebuchet\" font-size=\"11.00\">7</text>\n</g>\n<!-- 1 -->\n<g id=\"node2\" class=\"node\">\n<title>1</title>\n<polygon fill=\"#f4cbad\" stroke=\"black\" stroke-width=\"1.2\" points=\"376.5,-612 322.5,-612 322.5,-576 376.5,-576 376.5,-612\"/>\n<text text-anchor=\"middle\" x=\"349.5\" y=\"-591.2\" font-family=\"trebuchet\" font-size=\"11.00\">1</text>\n</g>\n<!-- 0&#45;&gt;1 -->\n<g id=\"edge1\" class=\"edge\">\n<title>0&#45;&gt;1</title>\n<path fill=\"none\" stroke=\"black\" stroke-width=\"0.6\" d=\"M416.5,-647.91C416.5,-624.87 416.5,-588 416.5,-588 416.5,-588 386.75,-588 386.75,-588\"/>\n<polygon fill=\"black\" stroke=\"black\" stroke-width=\"0.6\" points=\"386.75,-584.5 376.75,-588 386.75,-591.5 386.75,-584.5\"/>\n<text text-anchor=\"middle\" x=\"403.5\" y=\"-605.48\" font-family=\"Times,serif\" font-size=\"7.00\">≤ 0.2283</text>\n</g>\n<!-- 12 -->\n<g id=\"node13\" class=\"node\">\n<title>12</title>\n<polygon fill=\"#fbfdfe\" stroke=\"black\" stroke-width=\"1.2\" points=\"554.5,-612 500.5,-612 500.5,-576 554.5,-576 554.5,-612\"/>\n<text text-anchor=\"middle\" x=\"527.5\" y=\"-591.2\" font-family=\"trebuchet\" font-size=\"11.00\">4</text>\n</g>\n<!-- 0&#45;&gt;12 -->\n<g id=\"edge12\" class=\"edge\">\n<title>0&#45;&gt;12</title>\n<path fill=\"none\" stroke=\"black\" stroke-width=\"0.6\" d=\"M452.75,-647.97C452.75,-628.42 452.75,-600 452.75,-600 452.75,-600 490.09,-600 490.09,-600\"/>\n<polygon fill=\"black\" stroke=\"black\" stroke-width=\"0.6\" points=\"490.09,-603.5 500.09,-600 490.09,-596.5 490.09,-603.5\"/>\n<text text-anchor=\"middle\" x=\"439.75\" y=\"-607.71\" font-family=\"Times,serif\" font-size=\"7.00\">&gt; 0.2283</text>\n</g>\n<!-- 2 -->\n<g id=\"node3\" class=\"node\">\n<title>2</title>\n<polygon fill=\"#dfeffb\" stroke=\"black\" stroke-width=\"1.2\" points=\"227.5,-540 173.5,-540 173.5,-504 227.5,-504 227.5,-540\"/>\n<text text-anchor=\"middle\" x=\"200.5\" y=\"-519.2\" font-family=\"trebuchet\" font-size=\"11.00\">0</text>\n</g>\n<!-- 1&#45;&gt;2 -->\n<g id=\"edge2\" class=\"edge\">\n<title>1&#45;&gt;2</title>\n<path fill=\"none\" stroke=\"black\" stroke-width=\"0.6\" d=\"M322.17,-594C279.16,-594 200.5,-594 200.5,-594 200.5,-594 200.5,-550.17 200.5,-550.17\"/>\n<polygon fill=\"black\" stroke=\"black\" stroke-width=\"0.6\" points=\"204,-550.17 200.5,-540.17 197,-550.17 204,-550.17\"/>\n<text text-anchor=\"middle\" x=\"226.42\" y=\"-596.4\" font-family=\"Times,serif\" font-size=\"7.00\">≤ 0.5631</text>\n</g>\n<!-- 7 -->\n<g id=\"node8\" class=\"node\">\n<title>7</title>\n<polygon fill=\"#eb9e66\" stroke=\"black\" stroke-width=\"1.2\" points=\"376.5,-540 322.5,-540 322.5,-504 376.5,-504 376.5,-540\"/>\n<text text-anchor=\"middle\" x=\"349.5\" y=\"-519.2\" font-family=\"trebuchet\" font-size=\"11.00\">4</text>\n</g>\n<!-- 1&#45;&gt;7 -->\n<g id=\"edge7\" class=\"edge\">\n<title>1&#45;&gt;7</title>\n<path fill=\"none\" stroke=\"black\" stroke-width=\"0.6\" d=\"M349.5,-575.83C349.5,-575.83 349.5,-550.41 349.5,-550.41\"/>\n<polygon fill=\"black\" stroke=\"black\" stroke-width=\"0.6\" points=\"353,-550.41 349.5,-540.41 346,-550.41 353,-550.41\"/>\n<text text-anchor=\"middle\" x=\"336.5\" y=\"-565.52\" font-family=\"Times,serif\" font-size=\"7.00\">&gt; 0.5631</text>\n</g>\n<!-- 3 -->\n<g id=\"node4\" class=\"node\">\n<title>3</title>\n<polygon fill=\"#fffefe\" stroke=\"black\" stroke-width=\"1.2\" points=\"138.5,-462 84.5,-462 84.5,-426 138.5,-426 138.5,-462\"/>\n<text text-anchor=\"middle\" x=\"111.5\" y=\"-441.2\" font-family=\"trebuchet\" font-size=\"11.00\">6</text>\n</g>\n<!-- 2&#45;&gt;3 -->\n<g id=\"edge3\" class=\"edge\">\n<title>2&#45;&gt;3</title>\n<path fill=\"none\" stroke=\"black\" stroke-width=\"0.6\" d=\"M173.31,-522C147.14,-522 111.5,-522 111.5,-522 111.5,-522 111.5,-472.09 111.5,-472.09\"/>\n<polygon fill=\"black\" stroke=\"black\" stroke-width=\"0.6\" points=\"115,-472.09 111.5,-462.09 108,-472.09 115,-472.09\"/>\n<text text-anchor=\"middle\" x=\"104.45\" y=\"-524.4\" font-family=\"Times,serif\" font-size=\"7.00\">≤ 0.8408</text>\n</g>\n<!-- 6 -->\n<g id=\"node7\" class=\"node\">\n<title>6</title>\n<polygon fill=\"#66b3eb\" stroke=\"black\" stroke-width=\"1.2\" points=\"244,-468 157,-468 157,-420 244,-420 244,-468\"/>\n<text text-anchor=\"middle\" x=\"200.5\" y=\"-459.2\" font-family=\"trebuchet\" font-size=\"11.00\">Class 0:</text>\n<text text-anchor=\"middle\" x=\"200.5\" y=\"-447.2\" font-family=\"trebuchet\" font-size=\"11.00\">\tP(0) = 0.9</text>\n<text text-anchor=\"middle\" x=\"200.5\" y=\"-435.2\" font-family=\"trebuchet\" font-size=\"11.00\">\tP(1) = 0.1</text>\n<text text-anchor=\"middle\" x=\"200.5\" y=\"-423.2\" font-family=\"trebuchet\" font-size=\"11.00\">samples: 1171</text>\n</g>\n<!-- 2&#45;&gt;6 -->\n<g id=\"edge6\" class=\"edge\">\n<title>2&#45;&gt;6</title>\n<path fill=\"none\" stroke=\"black\" stroke-width=\"0.6\" d=\"M200.5,-503.91C200.5,-503.91 200.5,-478.2 200.5,-478.2\"/>\n<polygon fill=\"black\" stroke=\"black\" stroke-width=\"0.6\" points=\"204,-478.2 200.5,-468.2 197,-478.2 204,-478.2\"/>\n<text text-anchor=\"middle\" x=\"187.5\" y=\"-493.45\" font-family=\"Times,serif\" font-size=\"7.00\">&gt; 0.8408</text>\n</g>\n<!-- 4 -->\n<g id=\"node5\" class=\"node\">\n<title>4</title>\n<polygon fill=\"#eb9f69\" stroke=\"black\" stroke-width=\"1.2\" points=\"87,-384 0,-384 0,-336 87,-336 87,-384\"/>\n<text text-anchor=\"middle\" x=\"43.5\" y=\"-375.2\" font-family=\"trebuchet\" font-size=\"11.00\">Class 1:</text>\n<text text-anchor=\"middle\" x=\"43.5\" y=\"-363.2\" font-family=\"trebuchet\" font-size=\"11.00\">\tP(0) = 0.1</text>\n<text text-anchor=\"middle\" x=\"43.5\" y=\"-351.2\" font-family=\"trebuchet\" font-size=\"11.00\">\tP(1) = 0.9</text>\n<text text-anchor=\"middle\" x=\"43.5\" y=\"-339.2\" font-family=\"trebuchet\" font-size=\"11.00\">samples: 411</text>\n</g>\n<!-- 3&#45;&gt;4 -->\n<g id=\"edge4\" class=\"edge\">\n<title>3&#45;&gt;4</title>\n<path fill=\"none\" stroke=\"black\" stroke-width=\"0.6\" d=\"M96,-425.77C96,-401.07 96,-360 96,-360 96,-360 95.13,-360 95.13,-360\"/>\n<polygon fill=\"black\" stroke=\"black\" stroke-width=\"0.6\" points=\"97.33,-356.5 87.33,-360 97.33,-363.5 97.33,-356.5\"/>\n<text text-anchor=\"middle\" x=\"83\" y=\"-394.85\" font-family=\"Times,serif\" font-size=\"7.00\">≤ 0.1779</text>\n</g>\n<!-- 5 -->\n<g id=\"node6\" class=\"node\">\n<title>5</title>\n<polygon fill=\"#c7e3f8\" stroke=\"black\" stroke-width=\"1.2\" points=\"192,-384 105,-384 105,-336 192,-336 192,-384\"/>\n<text text-anchor=\"middle\" x=\"148.5\" y=\"-375.2\" font-family=\"trebuchet\" font-size=\"11.00\">Class 0:</text>\n<text text-anchor=\"middle\" x=\"148.5\" y=\"-363.2\" font-family=\"trebuchet\" font-size=\"11.00\">\tP(0) = 0.6</text>\n<text text-anchor=\"middle\" x=\"148.5\" y=\"-351.2\" font-family=\"trebuchet\" font-size=\"11.00\">\tP(1) = 0.4</text>\n<text text-anchor=\"middle\" x=\"148.5\" y=\"-339.2\" font-family=\"trebuchet\" font-size=\"11.00\">samples: 930</text>\n</g>\n<!-- 3&#45;&gt;5 -->\n<g id=\"edge5\" class=\"edge\">\n<title>3&#45;&gt;5</title>\n<path fill=\"none\" stroke=\"black\" stroke-width=\"0.6\" d=\"M121.75,-425.77C121.75,-425.77 121.75,-394.25 121.75,-394.25\"/>\n<polygon fill=\"black\" stroke=\"black\" stroke-width=\"0.6\" points=\"125.25,-394.25 121.75,-384.25 118.25,-394.25 125.25,-394.25\"/>\n<text text-anchor=\"middle\" x=\"108.75\" y=\"-412.41\" font-family=\"Times,serif\" font-size=\"7.00\">&gt; 0.1779</text>\n</g>\n<!-- 8 -->\n<g id=\"node9\" class=\"node\">\n<title>8</title>\n<polygon fill=\"#f9e0cf\" stroke=\"black\" stroke-width=\"1.2\" points=\"349,-468 262,-468 262,-420 349,-420 349,-468\"/>\n<text text-anchor=\"middle\" x=\"305.5\" y=\"-459.2\" font-family=\"trebuchet\" font-size=\"11.00\">Class 1:</text>\n<text text-anchor=\"middle\" x=\"305.5\" y=\"-447.2\" font-family=\"trebuchet\" font-size=\"11.00\">\tP(0) = 0.4</text>\n<text text-anchor=\"middle\" x=\"305.5\" y=\"-435.2\" font-family=\"trebuchet\" font-size=\"11.00\">\tP(1) = 0.6</text>\n<text text-anchor=\"middle\" x=\"305.5\" y=\"-423.2\" font-family=\"trebuchet\" font-size=\"11.00\">samples: 872</text>\n</g>\n<!-- 7&#45;&gt;8 -->\n<g id=\"edge8\" class=\"edge\">\n<title>7&#45;&gt;8</title>\n<path fill=\"none\" stroke=\"black\" stroke-width=\"0.6\" d=\"M335.75,-503.91C335.75,-503.91 335.75,-478.2 335.75,-478.2\"/>\n<polygon fill=\"black\" stroke=\"black\" stroke-width=\"0.6\" points=\"339.25,-478.2 335.75,-468.2 332.25,-478.2 339.25,-478.2\"/>\n<text text-anchor=\"middle\" x=\"322.75\" y=\"-493.45\" font-family=\"Times,serif\" font-size=\"7.00\">≤ 0.1926</text>\n</g>\n<!-- 9 -->\n<g id=\"node10\" class=\"node\">\n<title>9</title>\n<polygon fill=\"#e99355\" stroke=\"black\" stroke-width=\"1.2\" points=\"421.5,-462 367.5,-462 367.5,-426 421.5,-426 421.5,-462\"/>\n<text text-anchor=\"middle\" x=\"394.5\" y=\"-441.2\" font-family=\"trebuchet\" font-size=\"11.00\">7</text>\n</g>\n<!-- 7&#45;&gt;9 -->\n<g id=\"edge9\" class=\"edge\">\n<title>7&#45;&gt;9</title>\n<path fill=\"none\" stroke=\"black\" stroke-width=\"0.6\" d=\"M372,-503.91C372,-503.91 372,-472.26 372,-472.26\"/>\n<polygon fill=\"black\" stroke=\"black\" stroke-width=\"0.6\" points=\"375.5,-472.26 372,-462.26 368.5,-472.26 375.5,-472.26\"/>\n<text text-anchor=\"middle\" x=\"359\" y=\"-490.49\" font-family=\"Times,serif\" font-size=\"7.00\">&gt; 0.1926</text>\n</g>\n<!-- 10 -->\n<g id=\"node11\" class=\"node\">\n<title>10</title>\n<polygon fill=\"#f7dac5\" stroke=\"black\" stroke-width=\"1.2\" points=\"333,-384 246,-384 246,-336 333,-336 333,-384\"/>\n<text text-anchor=\"middle\" x=\"289.5\" y=\"-375.2\" font-family=\"trebuchet\" font-size=\"11.00\">Class 1:</text>\n<text text-anchor=\"middle\" x=\"289.5\" y=\"-363.2\" font-family=\"trebuchet\" font-size=\"11.00\">\tP(0) = 0.4</text>\n<text text-anchor=\"middle\" x=\"289.5\" y=\"-351.2\" font-family=\"trebuchet\" font-size=\"11.00\">\tP(1) = 0.6</text>\n<text text-anchor=\"middle\" x=\"289.5\" y=\"-339.2\" font-family=\"trebuchet\" font-size=\"11.00\">samples: 68</text>\n</g>\n<!-- 9&#45;&gt;10 -->\n<g id=\"edge10\" class=\"edge\">\n<title>9&#45;&gt;10</title>\n<path fill=\"none\" stroke=\"black\" stroke-width=\"0.6\" d=\"M385.5,-425.94C385.5,-414.56 385.5,-402 385.5,-402 385.5,-402 297.5,-402 297.5,-402 297.5,-402 297.5,-394.43 297.5,-394.43\"/>\n<polygon fill=\"black\" stroke=\"black\" stroke-width=\"0.6\" points=\"301,-394.43 297.5,-384.43 294,-394.43 301,-394.43\"/>\n<text text-anchor=\"middle\" x=\"335.69\" y=\"-404.4\" font-family=\"Times,serif\" font-size=\"7.00\">≤ &#45;0.1839</text>\n</g>\n<!-- 11 -->\n<g id=\"node12\" class=\"node\">\n<title>11</title>\n<polygon fill=\"#e88f4f\" stroke=\"black\" stroke-width=\"1.2\" points=\"438,-384 351,-384 351,-336 438,-336 438,-384\"/>\n<text text-anchor=\"middle\" x=\"394.5\" y=\"-375.2\" font-family=\"trebuchet\" font-size=\"11.00\">Class 1:</text>\n<text text-anchor=\"middle\" x=\"394.5\" y=\"-363.2\" font-family=\"trebuchet\" font-size=\"11.00\">\tP(0) = 0.1</text>\n<text text-anchor=\"middle\" x=\"394.5\" y=\"-351.2\" font-family=\"trebuchet\" font-size=\"11.00\">\tP(1) = 0.9</text>\n<text text-anchor=\"middle\" x=\"394.5\" y=\"-339.2\" font-family=\"trebuchet\" font-size=\"11.00\">samples: 2790</text>\n</g>\n<!-- 9&#45;&gt;11 -->\n<g id=\"edge11\" class=\"edge\">\n<title>9&#45;&gt;11</title>\n<path fill=\"none\" stroke=\"black\" stroke-width=\"0.6\" d=\"M403.5,-425.77C403.5,-425.77 403.5,-394.25 403.5,-394.25\"/>\n<polygon fill=\"black\" stroke=\"black\" stroke-width=\"0.6\" points=\"407,-394.25 403.5,-384.25 400,-394.25 407,-394.25\"/>\n<text text-anchor=\"middle\" x=\"389.5\" y=\"-412.41\" font-family=\"Times,serif\" font-size=\"7.00\">&gt; &#45;0.1839</text>\n</g>\n<!-- 13 -->\n<g id=\"node14\" class=\"node\">\n<title>13</title>\n<polygon fill=\"#f9e2d1\" stroke=\"black\" stroke-width=\"1.2\" points=\"554.5,-540 500.5,-540 500.5,-504 554.5,-504 554.5,-540\"/>\n<text text-anchor=\"middle\" x=\"527.5\" y=\"-519.2\" font-family=\"trebuchet\" font-size=\"11.00\">6</text>\n</g>\n<!-- 12&#45;&gt;13 -->\n<g id=\"edge13\" class=\"edge\">\n<title>12&#45;&gt;13</title>\n<path fill=\"none\" stroke=\"black\" stroke-width=\"0.6\" d=\"M527.5,-575.83C527.5,-575.83 527.5,-550.41 527.5,-550.41\"/>\n<polygon fill=\"black\" stroke=\"black\" stroke-width=\"0.6\" points=\"531,-550.41 527.5,-540.41 524,-550.41 531,-550.41\"/>\n<text text-anchor=\"middle\" x=\"514.5\" y=\"-565.52\" font-family=\"Times,serif\" font-size=\"7.00\">≤ 0.4544</text>\n</g>\n<!-- 34 -->\n<g id=\"node35\" class=\"node\">\n<title>34</title>\n<polygon fill=\"#b2d9f5\" stroke=\"black\" stroke-width=\"1.2\" points=\"740.5,-540 686.5,-540 686.5,-504 740.5,-504 740.5,-540\"/>\n<text text-anchor=\"middle\" x=\"713.5\" y=\"-519.2\" font-family=\"trebuchet\" font-size=\"11.00\">7</text>\n</g>\n<!-- 12&#45;&gt;34 -->\n<g id=\"edge34\" class=\"edge\">\n<title>12&#45;&gt;34</title>\n<path fill=\"none\" stroke=\"black\" stroke-width=\"0.6\" d=\"M554.55,-594C606.13,-594 713.5,-594 713.5,-594 713.5,-594 713.5,-550.17 713.5,-550.17\"/>\n<polygon fill=\"black\" stroke=\"black\" stroke-width=\"0.6\" points=\"717,-550.17 713.5,-540.17 710,-550.17 717,-550.17\"/>\n<text text-anchor=\"middle\" x=\"642.94\" y=\"-596.4\" font-family=\"Times,serif\" font-size=\"7.00\">&gt; 0.4544</text>\n</g>\n<!-- 14 -->\n<g id=\"node15\" class=\"node\">\n<title>14</title>\n<polygon fill=\"#89c5f0\" stroke=\"black\" stroke-width=\"1.2\" points=\"527,-468 440,-468 440,-420 527,-420 527,-468\"/>\n<text text-anchor=\"middle\" x=\"483.5\" y=\"-459.2\" font-family=\"trebuchet\" font-size=\"11.00\">Class 0:</text>\n<text text-anchor=\"middle\" x=\"483.5\" y=\"-447.2\" font-family=\"trebuchet\" font-size=\"11.00\">\tP(0) = 0.8</text>\n<text text-anchor=\"middle\" x=\"483.5\" y=\"-435.2\" font-family=\"trebuchet\" font-size=\"11.00\">\tP(1) = 0.2</text>\n<text text-anchor=\"middle\" x=\"483.5\" y=\"-423.2\" font-family=\"trebuchet\" font-size=\"11.00\">samples: 2039</text>\n</g>\n<!-- 13&#45;&gt;14 -->\n<g id=\"edge14\" class=\"edge\">\n<title>13&#45;&gt;14</title>\n<path fill=\"none\" stroke=\"black\" stroke-width=\"0.6\" d=\"M513.75,-503.91C513.75,-503.91 513.75,-478.2 513.75,-478.2\"/>\n<polygon fill=\"black\" stroke=\"black\" stroke-width=\"0.6\" points=\"517.25,-478.2 513.75,-468.2 510.25,-478.2 517.25,-478.2\"/>\n<text text-anchor=\"middle\" x=\"500.75\" y=\"-493.45\" font-family=\"Times,serif\" font-size=\"7.00\">≤ 0.0588</text>\n</g>\n<!-- 15 -->\n<g id=\"node16\" class=\"node\">\n<title>15</title>\n<polygon fill=\"#f6d4bc\" stroke=\"black\" stroke-width=\"1.2\" points=\"599.5,-462 545.5,-462 545.5,-426 599.5,-426 599.5,-462\"/>\n<text text-anchor=\"middle\" x=\"572.5\" y=\"-441.2\" font-family=\"trebuchet\" font-size=\"11.00\">2</text>\n</g>\n<!-- 13&#45;&gt;15 -->\n<g id=\"edge15\" class=\"edge\">\n<title>13&#45;&gt;15</title>\n<path fill=\"none\" stroke=\"black\" stroke-width=\"0.6\" d=\"M550,-503.91C550,-503.91 550,-472.26 550,-472.26\"/>\n<polygon fill=\"black\" stroke=\"black\" stroke-width=\"0.6\" points=\"553.5,-472.26 550,-462.26 546.5,-472.26 553.5,-472.26\"/>\n<text text-anchor=\"middle\" x=\"537\" y=\"-490.49\" font-family=\"Times,serif\" font-size=\"7.00\">&gt; 0.0588</text>\n</g>\n<!-- 16 -->\n<g id=\"node17\" class=\"node\">\n<title>16</title>\n<polygon fill=\"#f4c9aa\" stroke=\"black\" stroke-width=\"1.2\" points=\"510.5,-378 456.5,-378 456.5,-342 510.5,-342 510.5,-378\"/>\n<text text-anchor=\"middle\" x=\"483.5\" y=\"-357.2\" font-family=\"trebuchet\" font-size=\"11.00\">1</text>\n</g>\n<!-- 15&#45;&gt;16 -->\n<g id=\"edge16\" class=\"edge\">\n<title>15&#45;&gt;16</title>\n<path fill=\"none\" stroke=\"black\" stroke-width=\"0.6\" d=\"M545.43,-444C540.69,-444 537.25,-444 537.25,-444 537.25,-444 537.25,-360 537.25,-360 537.25,-360 520.69,-360 520.69,-360\"/>\n<polygon fill=\"black\" stroke=\"black\" stroke-width=\"0.6\" points=\"520.69,-356.5 510.69,-360 520.69,-363.5 520.69,-356.5\"/>\n<text text-anchor=\"middle\" x=\"526.25\" y=\"-400.21\" font-family=\"Times,serif\" font-size=\"7.00\">≤ 0.894</text>\n</g>\n<!-- 31 -->\n<g id=\"node32\" class=\"node\">\n<title>31</title>\n<polygon fill=\"#9ccef2\" stroke=\"black\" stroke-width=\"1.2\" points=\"599.5,-378 545.5,-378 545.5,-342 599.5,-342 599.5,-378\"/>\n<text text-anchor=\"middle\" x=\"572.5\" y=\"-357.2\" font-family=\"trebuchet\" font-size=\"11.00\">8</text>\n</g>\n<!-- 15&#45;&gt;31 -->\n<g id=\"edge31\" class=\"edge\">\n<title>15&#45;&gt;31</title>\n<path fill=\"none\" stroke=\"black\" stroke-width=\"0.6\" d=\"M572.5,-425.77C572.5,-425.77 572.5,-388.19 572.5,-388.19\"/>\n<polygon fill=\"black\" stroke=\"black\" stroke-width=\"0.6\" points=\"576,-388.19 572.5,-378.19 569,-388.19 576,-388.19\"/>\n<text text-anchor=\"middle\" x=\"561.5\" y=\"-409.38\" font-family=\"Times,serif\" font-size=\"7.00\">&gt; 0.894</text>\n</g>\n<!-- 17 -->\n<g id=\"node18\" class=\"node\">\n<title>17</title>\n<polygon fill=\"#fdf5f0\" stroke=\"black\" stroke-width=\"1.2\" points=\"375.5,-294 321.5,-294 321.5,-258 375.5,-258 375.5,-294\"/>\n<text text-anchor=\"middle\" x=\"348.5\" y=\"-273.2\" font-family=\"trebuchet\" font-size=\"11.00\">6</text>\n</g>\n<!-- 16&#45;&gt;17 -->\n<g id=\"edge17\" class=\"edge\">\n<title>16&#45;&gt;17</title>\n<path fill=\"none\" stroke=\"black\" stroke-width=\"0.6\" d=\"M456.43,-360C451.69,-360 448.25,-360 448.25,-360 448.25,-360 448.25,-276 448.25,-276 448.25,-276 385.76,-276 385.76,-276\"/>\n<polygon fill=\"black\" stroke=\"black\" stroke-width=\"0.6\" points=\"385.76,-272.5 375.76,-276 385.76,-279.5 385.76,-272.5\"/>\n<text text-anchor=\"middle\" x=\"437.25\" y=\"-293.24\" font-family=\"Times,serif\" font-size=\"7.00\">≤ 0.368</text>\n</g>\n<!-- 22 -->\n<g id=\"node23\" class=\"node\">\n<title>22</title>\n<polygon fill=\"#f1bc95\" stroke=\"black\" stroke-width=\"1.2\" points=\"510.5,-294 456.5,-294 456.5,-258 510.5,-258 510.5,-294\"/>\n<text text-anchor=\"middle\" x=\"483.5\" y=\"-273.2\" font-family=\"trebuchet\" font-size=\"11.00\">6</text>\n</g>\n<!-- 16&#45;&gt;22 -->\n<g id=\"edge22\" class=\"edge\">\n<title>16&#45;&gt;22</title>\n<path fill=\"none\" stroke=\"black\" stroke-width=\"0.6\" d=\"M483.5,-341.77C483.5,-341.77 483.5,-304.19 483.5,-304.19\"/>\n<polygon fill=\"black\" stroke=\"black\" stroke-width=\"0.6\" points=\"487,-304.19 483.5,-294.19 480,-304.19 487,-304.19\"/>\n<text text-anchor=\"middle\" x=\"472.5\" y=\"-325.38\" font-family=\"Times,serif\" font-size=\"7.00\">&gt; 0.368</text>\n</g>\n<!-- 18 -->\n<g id=\"node19\" class=\"node\">\n<title>18</title>\n<polygon fill=\"#eeae80\" stroke=\"black\" stroke-width=\"1.2\" points=\"303,-216 216,-216 216,-168 303,-168 303,-216\"/>\n<text text-anchor=\"middle\" x=\"259.5\" y=\"-207.2\" font-family=\"trebuchet\" font-size=\"11.00\">Class 1:</text>\n<text text-anchor=\"middle\" x=\"259.5\" y=\"-195.2\" font-family=\"trebuchet\" font-size=\"11.00\">\tP(0) = 0.2</text>\n<text text-anchor=\"middle\" x=\"259.5\" y=\"-183.2\" font-family=\"trebuchet\" font-size=\"11.00\">\tP(1) = 0.8</text>\n<text text-anchor=\"middle\" x=\"259.5\" y=\"-171.2\" font-family=\"trebuchet\" font-size=\"11.00\">samples: 1561</text>\n</g>\n<!-- 17&#45;&gt;18 -->\n<g id=\"edge18\" class=\"edge\">\n<title>17&#45;&gt;18</title>\n<path fill=\"none\" stroke=\"black\" stroke-width=\"0.6\" d=\"M321.37,-276C300.25,-276 274.5,-276 274.5,-276 274.5,-276 274.5,-226.3 274.5,-226.3\"/>\n<polygon fill=\"black\" stroke=\"black\" stroke-width=\"0.6\" points=\"278,-226.3 274.5,-216.3 271,-226.3 278,-226.3\"/>\n<text text-anchor=\"middle\" x=\"261.5\" y=\"-276.98\" font-family=\"Times,serif\" font-size=\"7.00\">≤ 0.6508</text>\n</g>\n<!-- 19 -->\n<g id=\"node20\" class=\"node\">\n<title>19</title>\n<polygon fill=\"#8fc7f0\" stroke=\"black\" stroke-width=\"1.2\" points=\"375.5,-210 321.5,-210 321.5,-174 375.5,-174 375.5,-210\"/>\n<text text-anchor=\"middle\" x=\"348.5\" y=\"-189.2\" font-family=\"trebuchet\" font-size=\"11.00\">5</text>\n</g>\n<!-- 17&#45;&gt;19 -->\n<g id=\"edge19\" class=\"edge\">\n<title>17&#45;&gt;19</title>\n<path fill=\"none\" stroke=\"black\" stroke-width=\"0.6\" d=\"M348.5,-257.77C348.5,-257.77 348.5,-220.19 348.5,-220.19\"/>\n<polygon fill=\"black\" stroke=\"black\" stroke-width=\"0.6\" points=\"352,-220.19 348.5,-210.19 345,-220.19 352,-220.19\"/>\n<text text-anchor=\"middle\" x=\"335.5\" y=\"-241.38\" font-family=\"Times,serif\" font-size=\"7.00\">&gt; 0.6508</text>\n</g>\n<!-- 20 -->\n<g id=\"node21\" class=\"node\">\n<title>20</title>\n<polygon fill=\"#f6d3b9\" stroke=\"black\" stroke-width=\"1.2\" points=\"287,-132 200,-132 200,-84 287,-84 287,-132\"/>\n<text text-anchor=\"middle\" x=\"243.5\" y=\"-123.2\" font-family=\"trebuchet\" font-size=\"11.00\">Class 1:</text>\n<text text-anchor=\"middle\" x=\"243.5\" y=\"-111.2\" font-family=\"trebuchet\" font-size=\"11.00\">\tP(0) = 0.3</text>\n<text text-anchor=\"middle\" x=\"243.5\" y=\"-99.2\" font-family=\"trebuchet\" font-size=\"11.00\">\tP(1) = 0.7</text>\n<text text-anchor=\"middle\" x=\"243.5\" y=\"-87.2\" font-family=\"trebuchet\" font-size=\"11.00\">samples: 341</text>\n</g>\n<!-- 19&#45;&gt;20 -->\n<g id=\"edge20\" class=\"edge\">\n<title>19&#45;&gt;20</title>\n<path fill=\"none\" stroke=\"black\" stroke-width=\"0.6\" d=\"M339.5,-173.94C339.5,-162.56 339.5,-150 339.5,-150 339.5,-150 251.5,-150 251.5,-150 251.5,-150 251.5,-142.43 251.5,-142.43\"/>\n<polygon fill=\"black\" stroke=\"black\" stroke-width=\"0.6\" points=\"255,-142.43 251.5,-132.43 248,-142.43 255,-142.43\"/>\n<text text-anchor=\"middle\" x=\"290.69\" y=\"-152.4\" font-family=\"Times,serif\" font-size=\"7.00\">≤ 0.4154</text>\n</g>\n<!-- 21 -->\n<g id=\"node22\" class=\"node\">\n<title>21</title>\n<polygon fill=\"#47a4e7\" stroke=\"black\" stroke-width=\"1.2\" points=\"392,-132 305,-132 305,-84 392,-84 392,-132\"/>\n<text text-anchor=\"middle\" x=\"348.5\" y=\"-123.2\" font-family=\"trebuchet\" font-size=\"11.00\">Class 0:</text>\n<text text-anchor=\"middle\" x=\"348.5\" y=\"-111.2\" font-family=\"trebuchet\" font-size=\"11.00\">\tP(0) = 1.0</text>\n<text text-anchor=\"middle\" x=\"348.5\" y=\"-99.2\" font-family=\"trebuchet\" font-size=\"11.00\">\tP(1) = 0.0</text>\n<text text-anchor=\"middle\" x=\"348.5\" y=\"-87.2\" font-family=\"trebuchet\" font-size=\"11.00\">samples: 835</text>\n</g>\n<!-- 19&#45;&gt;21 -->\n<g id=\"edge21\" class=\"edge\">\n<title>19&#45;&gt;21</title>\n<path fill=\"none\" stroke=\"black\" stroke-width=\"0.6\" d=\"M357.5,-173.77C357.5,-173.77 357.5,-142.25 357.5,-142.25\"/>\n<polygon fill=\"black\" stroke=\"black\" stroke-width=\"0.6\" points=\"361,-142.25 357.5,-132.25 354,-142.25 361,-142.25\"/>\n<text text-anchor=\"middle\" x=\"344.5\" y=\"-160.41\" font-family=\"Times,serif\" font-size=\"7.00\">&gt; 0.4154</text>\n</g>\n<!-- 23 -->\n<g id=\"node24\" class=\"node\">\n<title>23</title>\n<polygon fill=\"#b4daf5\" stroke=\"black\" stroke-width=\"1.2\" points=\"510.5,-210 456.5,-210 456.5,-174 510.5,-174 510.5,-210\"/>\n<text text-anchor=\"middle\" x=\"483.5\" y=\"-189.2\" font-family=\"trebuchet\" font-size=\"11.00\">6</text>\n</g>\n<!-- 22&#45;&gt;23 -->\n<g id=\"edge23\" class=\"edge\">\n<title>22&#45;&gt;23</title>\n<path fill=\"none\" stroke=\"black\" stroke-width=\"0.6\" d=\"M483.5,-257.77C483.5,-257.77 483.5,-220.19 483.5,-220.19\"/>\n<polygon fill=\"black\" stroke=\"black\" stroke-width=\"0.6\" points=\"487,-220.19 483.5,-210.19 480,-220.19 487,-220.19\"/>\n<text text-anchor=\"middle\" x=\"470.5\" y=\"-241.38\" font-family=\"Times,serif\" font-size=\"7.00\">≤ 0.3148</text>\n</g>\n<!-- 26 -->\n<g id=\"node27\" class=\"node\">\n<title>26</title>\n<polygon fill=\"#e9975b\" stroke=\"black\" stroke-width=\"1.2\" points=\"690.5,-210 636.5,-210 636.5,-174 690.5,-174 690.5,-210\"/>\n<text text-anchor=\"middle\" x=\"663.5\" y=\"-189.2\" font-family=\"trebuchet\" font-size=\"11.00\">7</text>\n</g>\n<!-- 22&#45;&gt;26 -->\n<g id=\"edge26\" class=\"edge\">\n<title>22&#45;&gt;26</title>\n<path fill=\"none\" stroke=\"black\" stroke-width=\"0.6\" d=\"M510.5,-276C517.45,-276 523,-276 523,-276 523,-276 523,-198 523,-198 523,-198 626.41,-198 626.41,-198\"/>\n<polygon fill=\"black\" stroke=\"black\" stroke-width=\"0.6\" points=\"626.41,-201.5 636.41,-198 626.41,-194.5 626.41,-201.5\"/>\n<text text-anchor=\"middle\" x=\"542.46\" y=\"-200.4\" font-family=\"Times,serif\" font-size=\"7.00\">&gt; 0.3148</text>\n</g>\n<!-- 24 -->\n<g id=\"node25\" class=\"node\">\n<title>24</title>\n<polygon fill=\"#78bced\" stroke=\"black\" stroke-width=\"1.2\" points=\"497,-132 410,-132 410,-84 497,-84 497,-132\"/>\n<text text-anchor=\"middle\" x=\"453.5\" y=\"-123.2\" font-family=\"trebuchet\" font-size=\"11.00\">Class 0:</text>\n<text text-anchor=\"middle\" x=\"453.5\" y=\"-111.2\" font-family=\"trebuchet\" font-size=\"11.00\">\tP(0) = 0.8</text>\n<text text-anchor=\"middle\" x=\"453.5\" y=\"-99.2\" font-family=\"trebuchet\" font-size=\"11.00\">\tP(1) = 0.2</text>\n<text text-anchor=\"middle\" x=\"453.5\" y=\"-87.2\" font-family=\"trebuchet\" font-size=\"11.00\">samples: 1115</text>\n</g>\n<!-- 23&#45;&gt;24 -->\n<g id=\"edge24\" class=\"edge\">\n<title>23&#45;&gt;24</title>\n<path fill=\"none\" stroke=\"black\" stroke-width=\"0.6\" d=\"M476.75,-173.77C476.75,-173.77 476.75,-142.25 476.75,-142.25\"/>\n<polygon fill=\"black\" stroke=\"black\" stroke-width=\"0.6\" points=\"480.25,-142.25 476.75,-132.25 473.25,-142.25 480.25,-142.25\"/>\n<text text-anchor=\"middle\" x=\"463.75\" y=\"-160.41\" font-family=\"Times,serif\" font-size=\"7.00\">≤ 0.1983</text>\n</g>\n<!-- 25 -->\n<g id=\"node26\" class=\"node\">\n<title>25</title>\n<polygon fill=\"#f7d7c1\" stroke=\"black\" stroke-width=\"1.2\" points=\"602,-132 515,-132 515,-84 602,-84 602,-132\"/>\n<text text-anchor=\"middle\" x=\"558.5\" y=\"-123.2\" font-family=\"trebuchet\" font-size=\"11.00\">Class 1:</text>\n<text text-anchor=\"middle\" x=\"558.5\" y=\"-111.2\" font-family=\"trebuchet\" font-size=\"11.00\">\tP(0) = 0.3</text>\n<text text-anchor=\"middle\" x=\"558.5\" y=\"-99.2\" font-family=\"trebuchet\" font-size=\"11.00\">\tP(1) = 0.7</text>\n<text text-anchor=\"middle\" x=\"558.5\" y=\"-87.2\" font-family=\"trebuchet\" font-size=\"11.00\">samples: 431</text>\n</g>\n<!-- 23&#45;&gt;25 -->\n<g id=\"edge25\" class=\"edge\">\n<title>23&#45;&gt;25</title>\n<path fill=\"none\" stroke=\"black\" stroke-width=\"0.6\" d=\"M510.77,-186C515.53,-186 519,-186 519,-186 519,-186 519,-142.25 519,-142.25\"/>\n<polygon fill=\"black\" stroke=\"black\" stroke-width=\"0.6\" points=\"522.5,-142.25 519,-132.25 515.5,-142.25 522.5,-142.25\"/>\n<text text-anchor=\"middle\" x=\"506\" y=\"-162.64\" font-family=\"Times,serif\" font-size=\"7.00\">&gt; 0.1983</text>\n</g>\n<!-- 27 -->\n<g id=\"node28\" class=\"node\">\n<title>27</title>\n<polygon fill=\"#eda572\" stroke=\"black\" stroke-width=\"1.2\" points=\"707,-132 620,-132 620,-84 707,-84 707,-132\"/>\n<text text-anchor=\"middle\" x=\"663.5\" y=\"-123.2\" font-family=\"trebuchet\" font-size=\"11.00\">Class 1:</text>\n<text text-anchor=\"middle\" x=\"663.5\" y=\"-111.2\" font-family=\"trebuchet\" font-size=\"11.00\">\tP(0) = 0.1</text>\n<text text-anchor=\"middle\" x=\"663.5\" y=\"-99.2\" font-family=\"trebuchet\" font-size=\"11.00\">\tP(1) = 0.9</text>\n<text text-anchor=\"middle\" x=\"663.5\" y=\"-87.2\" font-family=\"trebuchet\" font-size=\"11.00\">samples: 2446</text>\n</g>\n<!-- 26&#45;&gt;27 -->\n<g id=\"edge27\" class=\"edge\">\n<title>26&#45;&gt;27</title>\n<path fill=\"none\" stroke=\"black\" stroke-width=\"0.6\" d=\"M663.5,-173.77C663.5,-173.77 663.5,-142.25 663.5,-142.25\"/>\n<polygon fill=\"black\" stroke=\"black\" stroke-width=\"0.6\" points=\"667,-142.25 663.5,-132.25 660,-142.25 667,-142.25\"/>\n<text text-anchor=\"middle\" x=\"652.5\" y=\"-160.41\" font-family=\"Times,serif\" font-size=\"7.00\">≤ 0.654</text>\n</g>\n<!-- 28 -->\n<g id=\"node29\" class=\"node\">\n<title>28</title>\n<polygon fill=\"#e78946\" stroke=\"black\" stroke-width=\"1.2\" points=\"779.5,-126 725.5,-126 725.5,-90 779.5,-90 779.5,-126\"/>\n<text text-anchor=\"middle\" x=\"752.5\" y=\"-105.2\" font-family=\"trebuchet\" font-size=\"11.00\">9</text>\n</g>\n<!-- 26&#45;&gt;28 -->\n<g id=\"edge28\" class=\"edge\">\n<title>26&#45;&gt;28</title>\n<path fill=\"none\" stroke=\"black\" stroke-width=\"0.6\" d=\"M690.85,-192C712.55,-192 739.25,-192 739.25,-192 739.25,-192 739.25,-136.23 739.25,-136.23\"/>\n<polygon fill=\"black\" stroke=\"black\" stroke-width=\"0.6\" points=\"742.75,-136.23 739.25,-126.23 735.75,-136.23 742.75,-136.23\"/>\n<text text-anchor=\"middle\" x=\"728.25\" y=\"-190.71\" font-family=\"Times,serif\" font-size=\"7.00\">&gt; 0.654</text>\n</g>\n<!-- 29 -->\n<g id=\"node30\" class=\"node\">\n<title>29</title>\n<polygon fill=\"#e68641\" stroke=\"black\" stroke-width=\"1.2\" points=\"743,-48 656,-48 656,0 743,0 743,-48\"/>\n<text text-anchor=\"middle\" x=\"699.5\" y=\"-39.2\" font-family=\"trebuchet\" font-size=\"11.00\">Class 1:</text>\n<text text-anchor=\"middle\" x=\"699.5\" y=\"-27.2\" font-family=\"trebuchet\" font-size=\"11.00\">\tP(0) = 0.0</text>\n<text text-anchor=\"middle\" x=\"699.5\" y=\"-15.2\" font-family=\"trebuchet\" font-size=\"11.00\">\tP(1) = 1.0</text>\n<text text-anchor=\"middle\" x=\"699.5\" y=\"-3.2\" font-family=\"trebuchet\" font-size=\"11.00\">samples: 1732</text>\n</g>\n<!-- 28&#45;&gt;29 -->\n<g id=\"edge29\" class=\"edge\">\n<title>28&#45;&gt;29</title>\n<path fill=\"none\" stroke=\"black\" stroke-width=\"0.6\" d=\"M734.25,-89.77C734.25,-89.77 734.25,-58.25 734.25,-58.25\"/>\n<polygon fill=\"black\" stroke=\"black\" stroke-width=\"0.6\" points=\"737.75,-58.25 734.25,-48.25 730.75,-58.25 737.75,-58.25\"/>\n<text text-anchor=\"middle\" x=\"721.25\" y=\"-76.41\" font-family=\"Times,serif\" font-size=\"7.00\">≤ 0.7541</text>\n</g>\n<!-- 30 -->\n<g id=\"node31\" class=\"node\">\n<title>30</title>\n<polygon fill=\"#f1bd97\" stroke=\"black\" stroke-width=\"1.2\" points=\"848,-48 761,-48 761,0 848,0 848,-48\"/>\n<text text-anchor=\"middle\" x=\"804.5\" y=\"-39.2\" font-family=\"trebuchet\" font-size=\"11.00\">Class 1:</text>\n<text text-anchor=\"middle\" x=\"804.5\" y=\"-27.2\" font-family=\"trebuchet\" font-size=\"11.00\">\tP(0) = 0.2</text>\n<text text-anchor=\"middle\" x=\"804.5\" y=\"-15.2\" font-family=\"trebuchet\" font-size=\"11.00\">\tP(1) = 0.8</text>\n<text text-anchor=\"middle\" x=\"804.5\" y=\"-3.2\" font-family=\"trebuchet\" font-size=\"11.00\">samples: 93</text>\n</g>\n<!-- 28&#45;&gt;30 -->\n<g id=\"edge30\" class=\"edge\">\n<title>28&#45;&gt;30</title>\n<path fill=\"none\" stroke=\"black\" stroke-width=\"0.6\" d=\"M770.25,-89.77C770.25,-89.77 770.25,-58.25 770.25,-58.25\"/>\n<polygon fill=\"black\" stroke=\"black\" stroke-width=\"0.6\" points=\"773.75,-58.25 770.25,-48.25 766.75,-58.25 773.75,-58.25\"/>\n<text text-anchor=\"middle\" x=\"757.25\" y=\"-76.41\" font-family=\"Times,serif\" font-size=\"7.00\">&gt; 0.7541</text>\n</g>\n<!-- 32 -->\n<g id=\"node33\" class=\"node\">\n<title>32</title>\n<polygon fill=\"#68b4eb\" stroke=\"black\" stroke-width=\"1.2\" points=\"616,-300 529,-300 529,-252 616,-252 616,-300\"/>\n<text text-anchor=\"middle\" x=\"572.5\" y=\"-291.2\" font-family=\"trebuchet\" font-size=\"11.00\">Class 0:</text>\n<text text-anchor=\"middle\" x=\"572.5\" y=\"-279.2\" font-family=\"trebuchet\" font-size=\"11.00\">\tP(0) = 0.9</text>\n<text text-anchor=\"middle\" x=\"572.5\" y=\"-267.2\" font-family=\"trebuchet\" font-size=\"11.00\">\tP(1) = 0.1</text>\n<text text-anchor=\"middle\" x=\"572.5\" y=\"-255.2\" font-family=\"trebuchet\" font-size=\"11.00\">samples: 1394</text>\n</g>\n<!-- 31&#45;&gt;32 -->\n<g id=\"edge32\" class=\"edge\">\n<title>31&#45;&gt;32</title>\n<path fill=\"none\" stroke=\"black\" stroke-width=\"0.6\" d=\"M563.5,-341.77C563.5,-341.77 563.5,-310.25 563.5,-310.25\"/>\n<polygon fill=\"black\" stroke=\"black\" stroke-width=\"0.6\" points=\"567,-310.25 563.5,-300.25 560,-310.25 567,-310.25\"/>\n<text text-anchor=\"middle\" x=\"550.5\" y=\"-328.41\" font-family=\"Times,serif\" font-size=\"7.00\">≤ 0.6072</text>\n</g>\n<!-- 33 -->\n<g id=\"node34\" class=\"node\">\n<title>33</title>\n<polygon fill=\"#f0b890\" stroke=\"black\" stroke-width=\"1.2\" points=\"721,-300 634,-300 634,-252 721,-252 721,-300\"/>\n<text text-anchor=\"middle\" x=\"677.5\" y=\"-291.2\" font-family=\"trebuchet\" font-size=\"11.00\">Class 1:</text>\n<text text-anchor=\"middle\" x=\"677.5\" y=\"-279.2\" font-family=\"trebuchet\" font-size=\"11.00\">\tP(0) = 0.2</text>\n<text text-anchor=\"middle\" x=\"677.5\" y=\"-267.2\" font-family=\"trebuchet\" font-size=\"11.00\">\tP(1) = 0.8</text>\n<text text-anchor=\"middle\" x=\"677.5\" y=\"-255.2\" font-family=\"trebuchet\" font-size=\"11.00\">samples: 296</text>\n</g>\n<!-- 31&#45;&gt;33 -->\n<g id=\"edge33\" class=\"edge\">\n<title>31&#45;&gt;33</title>\n<path fill=\"none\" stroke=\"black\" stroke-width=\"0.6\" d=\"M581.5,-341.94C581.5,-330.56 581.5,-318 581.5,-318 581.5,-318 669.5,-318 669.5,-318 669.5,-318 669.5,-310.43 669.5,-310.43\"/>\n<polygon fill=\"black\" stroke=\"black\" stroke-width=\"0.6\" points=\"673,-310.43 669.5,-300.43 666,-310.43 673,-310.43\"/>\n<text text-anchor=\"middle\" x=\"604.31\" y=\"-320.4\" font-family=\"Times,serif\" font-size=\"7.00\">&gt; 0.6072</text>\n</g>\n<!-- 35 -->\n<g id=\"node36\" class=\"node\">\n<title>35</title>\n<polygon fill=\"#fffdfb\" stroke=\"black\" stroke-width=\"1.2\" points=\"740.5,-462 686.5,-462 686.5,-426 740.5,-426 740.5,-462\"/>\n<text text-anchor=\"middle\" x=\"713.5\" y=\"-441.2\" font-family=\"trebuchet\" font-size=\"11.00\">5</text>\n</g>\n<!-- 34&#45;&gt;35 -->\n<g id=\"edge35\" class=\"edge\">\n<title>34&#45;&gt;35</title>\n<path fill=\"none\" stroke=\"black\" stroke-width=\"0.6\" d=\"M713.5,-503.91C713.5,-503.91 713.5,-472.26 713.5,-472.26\"/>\n<polygon fill=\"black\" stroke=\"black\" stroke-width=\"0.6\" points=\"717,-472.26 713.5,-462.26 710,-472.26 717,-472.26\"/>\n<text text-anchor=\"middle\" x=\"700.5\" y=\"-490.49\" font-family=\"Times,serif\" font-size=\"7.00\">≤ 0.5684</text>\n</g>\n<!-- 38 -->\n<g id=\"node39\" class=\"node\">\n<title>38</title>\n<polygon fill=\"#74baed\" stroke=\"black\" stroke-width=\"1.2\" points=\"898.5,-462 844.5,-462 844.5,-426 898.5,-426 898.5,-462\"/>\n<text text-anchor=\"middle\" x=\"871.5\" y=\"-441.2\" font-family=\"trebuchet\" font-size=\"11.00\">9</text>\n</g>\n<!-- 34&#45;&gt;38 -->\n<g id=\"edge38\" class=\"edge\">\n<title>34&#45;&gt;38</title>\n<path fill=\"none\" stroke=\"black\" stroke-width=\"0.6\" d=\"M740.66,-522C785.84,-522 871.5,-522 871.5,-522 871.5,-522 871.5,-472.09 871.5,-472.09\"/>\n<polygon fill=\"black\" stroke=\"black\" stroke-width=\"0.6\" points=\"875,-472.09 871.5,-462.09 868,-472.09 875,-472.09\"/>\n<text text-anchor=\"middle\" x=\"818.04\" y=\"-524.4\" font-family=\"Times,serif\" font-size=\"7.00\">&gt; 0.5684</text>\n</g>\n<!-- 36 -->\n<g id=\"node37\" class=\"node\">\n<title>36</title>\n<polygon fill=\"#e88e4e\" stroke=\"black\" stroke-width=\"1.2\" points=\"705,-384 618,-384 618,-336 705,-336 705,-384\"/>\n<text text-anchor=\"middle\" x=\"661.5\" y=\"-375.2\" font-family=\"trebuchet\" font-size=\"11.00\">Class 1:</text>\n<text text-anchor=\"middle\" x=\"661.5\" y=\"-363.2\" font-family=\"trebuchet\" font-size=\"11.00\">\tP(0) = 0.1</text>\n<text text-anchor=\"middle\" x=\"661.5\" y=\"-351.2\" font-family=\"trebuchet\" font-size=\"11.00\">\tP(1) = 0.9</text>\n<text text-anchor=\"middle\" x=\"661.5\" y=\"-339.2\" font-family=\"trebuchet\" font-size=\"11.00\">samples: 1756</text>\n</g>\n<!-- 35&#45;&gt;36 -->\n<g id=\"edge36\" class=\"edge\">\n<title>35&#45;&gt;36</title>\n<path fill=\"none\" stroke=\"black\" stroke-width=\"0.6\" d=\"M695.75,-425.77C695.75,-425.77 695.75,-394.25 695.75,-394.25\"/>\n<polygon fill=\"black\" stroke=\"black\" stroke-width=\"0.6\" points=\"699.25,-394.25 695.75,-384.25 692.25,-394.25 699.25,-394.25\"/>\n<text text-anchor=\"middle\" x=\"682.75\" y=\"-412.41\" font-family=\"Times,serif\" font-size=\"7.00\">≤ 0.3921</text>\n</g>\n<!-- 37 -->\n<g id=\"node38\" class=\"node\">\n<title>37</title>\n<polygon fill=\"#a8d4f4\" stroke=\"black\" stroke-width=\"1.2\" points=\"810,-384 723,-384 723,-336 810,-336 810,-384\"/>\n<text text-anchor=\"middle\" x=\"766.5\" y=\"-375.2\" font-family=\"trebuchet\" font-size=\"11.00\">Class 0:</text>\n<text text-anchor=\"middle\" x=\"766.5\" y=\"-363.2\" font-family=\"trebuchet\" font-size=\"11.00\">\tP(0) = 0.7</text>\n<text text-anchor=\"middle\" x=\"766.5\" y=\"-351.2\" font-family=\"trebuchet\" font-size=\"11.00\">\tP(1) = 0.3</text>\n<text text-anchor=\"middle\" x=\"766.5\" y=\"-339.2\" font-family=\"trebuchet\" font-size=\"11.00\">samples: 2644</text>\n</g>\n<!-- 35&#45;&gt;37 -->\n<g id=\"edge37\" class=\"edge\">\n<title>35&#45;&gt;37</title>\n<path fill=\"none\" stroke=\"black\" stroke-width=\"0.6\" d=\"M731.75,-425.77C731.75,-425.77 731.75,-394.25 731.75,-394.25\"/>\n<polygon fill=\"black\" stroke=\"black\" stroke-width=\"0.6\" points=\"735.25,-394.25 731.75,-384.25 728.25,-394.25 735.25,-394.25\"/>\n<text text-anchor=\"middle\" x=\"718.75\" y=\"-412.41\" font-family=\"Times,serif\" font-size=\"7.00\">&gt; 0.3921</text>\n</g>\n<!-- 39 -->\n<g id=\"node40\" class=\"node\">\n<title>39</title>\n<polygon fill=\"#ffffff\" stroke=\"black\" stroke-width=\"1.2\" points=\"915,-384 828,-384 828,-336 915,-336 915,-384\"/>\n<text text-anchor=\"middle\" x=\"871.5\" y=\"-375.2\" font-family=\"trebuchet\" font-size=\"11.00\">Class 0:</text>\n<text text-anchor=\"middle\" x=\"871.5\" y=\"-363.2\" font-family=\"trebuchet\" font-size=\"11.00\">\tP(0) = 0.5</text>\n<text text-anchor=\"middle\" x=\"871.5\" y=\"-351.2\" font-family=\"trebuchet\" font-size=\"11.00\">\tP(1) = 0.5</text>\n<text text-anchor=\"middle\" x=\"871.5\" y=\"-339.2\" font-family=\"trebuchet\" font-size=\"11.00\">samples: 335</text>\n</g>\n<!-- 38&#45;&gt;39 -->\n<g id=\"edge39\" class=\"edge\">\n<title>38&#45;&gt;39</title>\n<path fill=\"none\" stroke=\"black\" stroke-width=\"0.6\" d=\"M871.5,-425.77C871.5,-425.77 871.5,-394.25 871.5,-394.25\"/>\n<polygon fill=\"black\" stroke=\"black\" stroke-width=\"0.6\" points=\"875,-394.25 871.5,-384.25 868,-394.25 875,-394.25\"/>\n<text text-anchor=\"middle\" x=\"858.5\" y=\"-412.41\" font-family=\"Times,serif\" font-size=\"7.00\">≤ 0.3099</text>\n</g>\n<!-- 40 -->\n<g id=\"node41\" class=\"node\">\n<title>40</title>\n<polygon fill=\"#5aade9\" stroke=\"black\" stroke-width=\"1.2\" points=\"987.5,-378 933.5,-378 933.5,-342 987.5,-342 987.5,-378\"/>\n<text text-anchor=\"middle\" x=\"960.5\" y=\"-357.2\" font-family=\"trebuchet\" font-size=\"11.00\">1</text>\n</g>\n<!-- 38&#45;&gt;40 -->\n<g id=\"edge40\" class=\"edge\">\n<title>38&#45;&gt;40</title>\n<path fill=\"none\" stroke=\"black\" stroke-width=\"0.6\" d=\"M898.69,-444C924.86,-444 960.5,-444 960.5,-444 960.5,-444 960.5,-388.23 960.5,-388.23\"/>\n<polygon fill=\"black\" stroke=\"black\" stroke-width=\"0.6\" points=\"964,-388.23 960.5,-378.23 957,-388.23 964,-388.23\"/>\n<text text-anchor=\"middle\" x=\"944.48\" y=\"-446.4\" font-family=\"Times,serif\" font-size=\"7.00\">&gt; 0.3099</text>\n</g>\n<!-- 41 -->\n<g id=\"node42\" class=\"node\">\n<title>41</title>\n<polygon fill=\"#53aae8\" stroke=\"black\" stroke-width=\"1.2\" points=\"913.5,-294 859.5,-294 859.5,-258 913.5,-258 913.5,-294\"/>\n<text text-anchor=\"middle\" x=\"886.5\" y=\"-273.2\" font-family=\"trebuchet\" font-size=\"11.00\">9</text>\n</g>\n<!-- 40&#45;&gt;41 -->\n<g id=\"edge41\" class=\"edge\">\n<title>40&#45;&gt;41</title>\n<path fill=\"none\" stroke=\"black\" stroke-width=\"0.6\" d=\"M933.22,-360C927.68,-360 923.5,-360 923.5,-360 923.5,-360 923.5,-276 923.5,-276 923.5,-276 922.53,-276 922.53,-276\"/>\n<polygon fill=\"black\" stroke=\"black\" stroke-width=\"0.6\" points=\"923.78,-272.5 913.78,-276 923.78,-279.5 923.78,-272.5\"/>\n<text text-anchor=\"middle\" x=\"910.5\" y=\"-324.77\" font-family=\"Times,serif\" font-size=\"7.00\">≤ 0.9004</text>\n</g>\n<!-- 44 -->\n<g id=\"node45\" class=\"node\">\n<title>44</title>\n<polygon fill=\"#c5e2f7\" stroke=\"black\" stroke-width=\"1.2\" points=\"1019,-300 932,-300 932,-252 1019,-252 1019,-300\"/>\n<text text-anchor=\"middle\" x=\"975.5\" y=\"-291.2\" font-family=\"trebuchet\" font-size=\"11.00\">Class 0:</text>\n<text text-anchor=\"middle\" x=\"975.5\" y=\"-279.2\" font-family=\"trebuchet\" font-size=\"11.00\">\tP(0) = 0.6</text>\n<text text-anchor=\"middle\" x=\"975.5\" y=\"-267.2\" font-family=\"trebuchet\" font-size=\"11.00\">\tP(1) = 0.4</text>\n<text text-anchor=\"middle\" x=\"975.5\" y=\"-255.2\" font-family=\"trebuchet\" font-size=\"11.00\">samples: 237</text>\n</g>\n<!-- 40&#45;&gt;44 -->\n<g id=\"edge44\" class=\"edge\">\n<title>40&#45;&gt;44</title>\n<path fill=\"none\" stroke=\"black\" stroke-width=\"0.6\" d=\"M960.5,-341.77C960.5,-341.77 960.5,-310.25 960.5,-310.25\"/>\n<polygon fill=\"black\" stroke=\"black\" stroke-width=\"0.6\" points=\"964,-310.25 960.5,-300.25 957,-310.25 964,-310.25\"/>\n<text text-anchor=\"middle\" x=\"947.5\" y=\"-328.41\" font-family=\"Times,serif\" font-size=\"7.00\">&gt; 0.9004</text>\n</g>\n<!-- 42 -->\n<g id=\"node43\" class=\"node\">\n<title>42</title>\n<polygon fill=\"#a3d2f3\" stroke=\"black\" stroke-width=\"1.2\" points=\"840,-216 753,-216 753,-168 840,-168 840,-216\"/>\n<text text-anchor=\"middle\" x=\"796.5\" y=\"-207.2\" font-family=\"trebuchet\" font-size=\"11.00\">Class 0:</text>\n<text text-anchor=\"middle\" x=\"796.5\" y=\"-195.2\" font-family=\"trebuchet\" font-size=\"11.00\">\tP(0) = 0.7</text>\n<text text-anchor=\"middle\" x=\"796.5\" y=\"-183.2\" font-family=\"trebuchet\" font-size=\"11.00\">\tP(1) = 0.3</text>\n<text text-anchor=\"middle\" x=\"796.5\" y=\"-171.2\" font-family=\"trebuchet\" font-size=\"11.00\">samples: 115</text>\n</g>\n<!-- 41&#45;&gt;42 -->\n<g id=\"edge42\" class=\"edge\">\n<title>41&#45;&gt;42</title>\n<path fill=\"none\" stroke=\"black\" stroke-width=\"0.6\" d=\"M859.33,-276C846.52,-276 834,-276 834,-276 834,-276 834,-226.3 834,-226.3\"/>\n<polygon fill=\"black\" stroke=\"black\" stroke-width=\"0.6\" points=\"837.5,-226.3 834,-216.3 830.5,-226.3 837.5,-226.3\"/>\n<text text-anchor=\"middle\" x=\"821\" y=\"-266.21\" font-family=\"Times,serif\" font-size=\"7.00\">≤ 0.4693</text>\n</g>\n<!-- 43 -->\n<g id=\"node44\" class=\"node\">\n<title>43</title>\n<polygon fill=\"#4fa8e8\" stroke=\"black\" stroke-width=\"1.2\" points=\"945,-216 858,-216 858,-168 945,-168 945,-216\"/>\n<text text-anchor=\"middle\" x=\"901.5\" y=\"-207.2\" font-family=\"trebuchet\" font-size=\"11.00\">Class 0:</text>\n<text text-anchor=\"middle\" x=\"901.5\" y=\"-195.2\" font-family=\"trebuchet\" font-size=\"11.00\">\tP(0) = 0.9</text>\n<text text-anchor=\"middle\" x=\"901.5\" y=\"-183.2\" font-family=\"trebuchet\" font-size=\"11.00\">\tP(1) = 0.1</text>\n<text text-anchor=\"middle\" x=\"901.5\" y=\"-171.2\" font-family=\"trebuchet\" font-size=\"11.00\">samples: 1883</text>\n</g>\n<!-- 41&#45;&gt;43 -->\n<g id=\"edge43\" class=\"edge\">\n<title>41&#45;&gt;43</title>\n<path fill=\"none\" stroke=\"black\" stroke-width=\"0.6\" d=\"M886.5,-257.77C886.5,-257.77 886.5,-226.25 886.5,-226.25\"/>\n<polygon fill=\"black\" stroke=\"black\" stroke-width=\"0.6\" points=\"890,-226.25 886.5,-216.25 883,-226.25 890,-226.25\"/>\n<text text-anchor=\"middle\" x=\"873.5\" y=\"-244.41\" font-family=\"Times,serif\" font-size=\"7.00\">&gt; 0.4693</text>\n</g>\n</g>\n</svg>\n",
      "text/plain": [
       "<graphviz.graphs.Digraph at 0x14bacf790>"
      ]
     },
     "execution_count": 31,
     "metadata": {},
     "output_type": "execute_result"
    }
   ],
   "source": [
    "model.draw()"
   ]
  },
  {
   "cell_type": "markdown",
   "metadata": {},
   "source": [
    "# 6. Concept drift\n",
    "\n",
    "Um dos aspectos centrais em online learning reside no fato que esperamos que as distribuições dos dados podem ser não-estacionárias. Mas o que isso significa?\n",
    "\n",
    "Primeiro, vamos pensar num exemplo de distribução estacionária:\n",
    "\n",
    "> Sabe quando ouvimos falar que a GRANDE-EMPRESA-HYPADA lançou uma rede neural MASTER-BLASTER-ULTRA-POWER-3, com 3 troçalhões de parâmetros, treinada por 3 meses com a energia suficiente para alimentar cidades? E sabe quando ouvimos falar que a base de dados utilizada foi gigante?\n",
    "\n",
    "Pois bem, os dados não mudam. As regras linguísticas no textos de entrada (supondo um modelo de linguagem natural) ou a semântica visual das imagens (supondo um modelo de visão computacional), ou qualquer outro exemplo, tudo isso é estático. Um cachorro continuará sendo um cachorro (independente do ângulo -- dependendo da forma de captação das imagens isso poderia ser um problema). Uma palavra tem um conjunto de sinônimos e significados.\n",
    "\n",
    "A regra do jogo não-muda. Mas e se mudasse?\n",
    "\n",
    "Essa mudança, ou deriva de conceito (concept drift) pode ocorrer em problemas do mundo real. Exemplo:\n",
    "\n",
    "- padrões de consumo (papel higiênico e alcool em gel no início da pandemia)\n",
    "- questões relacionadas a clima: energia sustentável\n",
    "- trânsito, rotas\n",
    "\n",
    "Umas das áreas de pesquisa (sim, uma área completa de pesquisa) em online learning busca criar detectores para essas situações, bem como algoritmos de aprendizado de máquina que sejam capazes de se adaptar mudanças de conceitos.\n",
    "\n",
    "Estou longe de ser um especialista nesse tópico, mas vou dar um panorama de como as coisas acontecem.\n",
    "\n",
    "Suponha que temos um problema de classificação e estamos monitorando os erros do nosso classificador. Nós assinalamos com $0$ quando o modelo acerta (erro zero) e $1$ quando o modelo erra."
   ]
  },
  {
   "cell_type": "code",
   "execution_count": 32,
   "metadata": {
    "scrolled": true
   },
   "outputs": [
    {
     "name": "stdout",
     "output_type": "stream",
     "text": [
      "0\n",
      "1\n",
      "0\n",
      "1\n",
      "0\n",
      "0\n",
      "1\n",
      "0\n",
      "0\n",
      "0\n"
     ]
    }
   ],
   "source": [
    "rng = random.Random(8)\n",
    "\n",
    "for _ in range(10):\n",
    "    print(rng.choices([0, 1], weights=[0.7, 0.3])[0])"
   ]
  },
  {
   "cell_type": "markdown",
   "metadata": {},
   "source": [
    "Podemos passar esses valores para um detector de drifts:"
   ]
  },
  {
   "cell_type": "code",
   "execution_count": 33,
   "metadata": {},
   "outputs": [],
   "source": [
    "from river import drift\n",
    "\n",
    "detector = drift.ADWIN(delta=0.01)\n",
    "\n",
    "vals = rng.choices([0, 1], weights=[0.7, 0.3], k=500)\n",
    "for i, v in enumerate(vals):\n",
    "    detector.update(v)\n",
    "    \n",
    "    if detector.drift_detected:\n",
    "        print(f\"Drift detected: {i}\")"
   ]
  },
  {
   "cell_type": "markdown",
   "metadata": {},
   "source": [
    "E se a distribuição mudar?"
   ]
  },
  {
   "cell_type": "code",
   "execution_count": 34,
   "metadata": {},
   "outputs": [
    {
     "name": "stdout",
     "output_type": "stream",
     "text": [
      "Drift detectado em 575\n"
     ]
    }
   ],
   "source": [
    "detector = drift.ADWIN(delta=0.05)\n",
    "\n",
    "vals = rng.choices([0, 1], weights=[0.7, 0.3], k=500)\n",
    "vals.extend(rng.choices([0, 1], weights=[0.2, 0.8], k=500))\n",
    "for i, v in enumerate(vals):\n",
    "    detector.update(v)\n",
    "    \n",
    "    if detector.drift_detected:\n",
    "        print(f\"Drift detectado em {i}\")"
   ]
  },
  {
   "cell_type": "markdown",
   "metadata": {},
   "source": [
    "O ADWIN é um dos detectores mais utilizados, mas existem várias alternativas. Além disso, normalmente, os detectores são utilizados como componentes na criação de modelos preditivos. A forma na qual eles são utilizados difere de modelo para modelo. Uma característica é comum entre a maioria dos detectores de drift: eles são univariados."
   ]
  },
  {
   "cell_type": "markdown",
   "metadata": {},
   "source": [
    "# 7. Algorithm examples\n",
    "\n",
    "I will present some examples of classification, regression, and clustering algorithms for reference. The API access is always the same, so you can try your luck and check other examples in the documentation.\n"
   ]
  },
  {
   "cell_type": "markdown",
   "metadata": {},
   "source": [
    "## 7.1. Classification\n",
    "\n",
    "Algorithms projected for binary classification can be extended to the multiclass case by relying on the tools available in the `multiclass` module:\n",
    "\n",
    "- `OneVsOneClassifier`\n",
    "- `OneVsRestClassifier`\n",
    "- `OutputCodeClassifier`\n",
    "\n",
    "River also have basics tools to handle multi-output tasks. Any contributions are welcome!"
   ]
  },
  {
   "cell_type": "markdown",
   "metadata": {},
   "source": [
    "### 7.1.1. Hoeffding Trees\n",
    "\n",
    "One of the most popular families of online machine learning algorithms. They take this name because the statistical measure called Hoeffding bound is used to define when splits are performed. This heuristic ensures the decisions taken in an incremental fashion are similar to those performed by a batch decision tree algorithm.\n",
    "\n",
    "\n",
    "There are three main variants of Hoeffding Trees:\n",
    "\n",
    "- Hoeffding Tree: vanilla version\n",
    "- Hoeffding Adaptive Tree: adds drift detectors to each decision node. If a drift is detected, a new subtree is trained in the background, and eventually may replace the affected tree branch.\n",
    "- Extremely Fast Decision Tree: quickly deploys splits, but later revisits and improves its own decisions.\n",
    "\n",
    "**Main hyperparameters:**\n",
    "\n",
    "- `grace_period`: interval between split attempts.\n",
    "- `delta`: the split significance parameter. The split confidence `1 - delta`.\n",
    "- `max_depth`: max height a tree might have.\n",
    "\n",
    "I wrote a [tutorial](https://riverml.xyz/dev/user-guide/on-hoeffding-trees/) on Hoeffding Trees where you can find more details about trees.\n",
    "\n",
    "**Example:**"
   ]
  },
  {
   "cell_type": "code",
   "execution_count": 35,
   "metadata": {
    "scrolled": true
   },
   "outputs": [
    {
     "name": "stdout",
     "output_type": "stream",
     "text": [
      "[1,000] Accuracy: 56.06% – 00:00:00 – 38.11 KB\n",
      "[2,000] Accuracy: 56.78% – 00:00:00 – 38.17 KB\n",
      "[3,000] Accuracy: 57.42% – 00:00:01 – 38.23 KB\n",
      "[4,000] Accuracy: 57.16% – 00:00:01 – 38.23 KB\n",
      "[5,000] Accuracy: 56.93% – 00:00:01 – 38.23 KB\n",
      "[6,000] Accuracy: 56.68% – 00:00:02 – 68.83 KB\n",
      "[7,000] Accuracy: 57.14% – 00:00:02 – 69.7 KB\n",
      "[8,000] Accuracy: 58.17% – 00:00:02 – 69.89 KB\n",
      "[9,000] Accuracy: 58.65% – 00:00:03 – 70.02 KB\n",
      "[10,000] Accuracy: 59.07% – 00:00:03 – 101.2 KB\n",
      "[11,000] Accuracy: 59.73% – 00:00:04 – 101.45 KB\n",
      "[12,000] Accuracy: 60.14% – 00:00:04 – 101.57 KB\n",
      "[13,000] Accuracy: 60.67% – 00:00:04 – 101.7 KB\n",
      "[14,000] Accuracy: 60.97% – 00:00:05 – 101.76 KB\n",
      "[15,000] Accuracy: 60.94% – 00:00:05 – 132.56 KB\n"
     ]
    },
    {
     "data": {
      "text/plain": [
       "Accuracy: 60.94%"
      ]
     },
     "execution_count": 35,
     "metadata": {},
     "output_type": "execute_result"
    }
   ],
   "source": [
    "from river import tree\n",
    "\n",
    "\n",
    "dataset = synth.RandomRBFDrift(\n",
    "    seed_model=7, seed_sample=8, change_speed=0.0001, n_classes=3,\n",
    ").take(15000)\n",
    "model = tree.HoeffdingAdaptiveTreeClassifier(seed=42)\n",
    "metric = metrics.Accuracy()\n",
    "\n",
    "evaluate.progressive_val_score(dataset, model, metric, print_every=1000, show_memory=True, show_time=True)"
   ]
  },
  {
   "cell_type": "markdown",
   "metadata": {},
   "source": [
    "We can visualize the tree structure:"
   ]
  },
  {
   "cell_type": "code",
   "execution_count": 36,
   "metadata": {
    "scrolled": true
   },
   "outputs": [
    {
     "data": {
      "image/svg+xml": "<?xml version=\"1.0\" encoding=\"UTF-8\" standalone=\"no\"?>\n<!DOCTYPE svg PUBLIC \"-//W3C//DTD SVG 1.1//EN\"\n \"http://www.w3.org/Graphics/SVG/1.1/DTD/svg11.dtd\">\n<!-- Generated by graphviz version 3.0.0 (20220226.1711)\n -->\n<!-- Pages: 1 -->\n<svg width=\"280pt\" height=\"332pt\"\n viewBox=\"0.00 0.00 280.00 332.00\" xmlns=\"http://www.w3.org/2000/svg\" xmlns:xlink=\"http://www.w3.org/1999/xlink\">\n<g id=\"graph0\" class=\"graph\" transform=\"scale(1 1) rotate(0) translate(4 328)\">\n<polygon fill=\"white\" stroke=\"transparent\" points=\"-4,4 -4,-328 276,-328 276,4 -4,4\"/>\n<!-- 0 -->\n<g id=\"node1\" class=\"node\">\n<title>0</title>\n<polygon fill=\"#fef9f6\" stroke=\"black\" stroke-width=\"1.2\" points=\"114.5,-324 60.5,-324 60.5,-288 114.5,-288 114.5,-324\"/>\n<text text-anchor=\"middle\" x=\"87.5\" y=\"-303.2\" font-family=\"trebuchet\" font-size=\"11.00\">4</text>\n</g>\n<!-- 1 -->\n<g id=\"node2\" class=\"node\">\n<title>1</title>\n<polygon fill=\"#fae5d5\" stroke=\"black\" stroke-width=\"1.2\" points=\"87,-252 0,-252 0,-192 87,-192 87,-252\"/>\n<text text-anchor=\"middle\" x=\"43.5\" y=\"-243.2\" font-family=\"trebuchet\" font-size=\"11.00\">Class 2:</text>\n<text text-anchor=\"middle\" x=\"43.5\" y=\"-231.2\" font-family=\"trebuchet\" font-size=\"11.00\">\tP(0) = 0.1</text>\n<text text-anchor=\"middle\" x=\"43.5\" y=\"-219.2\" font-family=\"trebuchet\" font-size=\"11.00\">\tP(1) = 0.4</text>\n<text text-anchor=\"middle\" x=\"43.5\" y=\"-207.2\" font-family=\"trebuchet\" font-size=\"11.00\">\tP(2) = 0.5</text>\n<text text-anchor=\"middle\" x=\"43.5\" y=\"-195.2\" font-family=\"trebuchet\" font-size=\"11.00\">samples: 5848</text>\n</g>\n<!-- 0&#45;&gt;1 -->\n<g id=\"edge1\" class=\"edge\">\n<title>0&#45;&gt;1</title>\n<path fill=\"none\" stroke=\"black\" stroke-width=\"0.6\" d=\"M73.75,-287.77C73.75,-287.77 73.75,-262.08 73.75,-262.08\"/>\n<polygon fill=\"black\" stroke=\"black\" stroke-width=\"0.6\" points=\"77.25,-262.08 73.75,-252.08 70.25,-262.08 77.25,-262.08\"/>\n<text text-anchor=\"middle\" x=\"60.75\" y=\"-277.33\" font-family=\"Times,serif\" font-size=\"7.00\">≤ 0.4407</text>\n</g>\n<!-- 2 -->\n<g id=\"node3\" class=\"node\">\n<title>2</title>\n<polygon fill=\"#dffbeb\" stroke=\"black\" stroke-width=\"1.2\" points=\"159.5,-240 105.5,-240 105.5,-204 159.5,-204 159.5,-240\"/>\n<text text-anchor=\"middle\" x=\"132.5\" y=\"-219.2\" font-family=\"trebuchet\" font-size=\"11.00\">5</text>\n</g>\n<!-- 0&#45;&gt;2 -->\n<g id=\"edge2\" class=\"edge\">\n<title>0&#45;&gt;2</title>\n<path fill=\"none\" stroke=\"black\" stroke-width=\"0.6\" d=\"M110,-287.77C110,-287.77 110,-250.19 110,-250.19\"/>\n<polygon fill=\"black\" stroke=\"black\" stroke-width=\"0.6\" points=\"113.5,-250.19 110,-240.19 106.5,-250.19 113.5,-250.19\"/>\n<text text-anchor=\"middle\" x=\"97\" y=\"-271.38\" font-family=\"Times,serif\" font-size=\"7.00\">&gt; 0.4407</text>\n</g>\n<!-- 3 -->\n<g id=\"node4\" class=\"node\">\n<title>3</title>\n<polygon fill=\"#cbadf4\" stroke=\"black\" stroke-width=\"1.2\" points=\"131,-156 44,-156 44,-96 131,-96 131,-156\"/>\n<text text-anchor=\"middle\" x=\"87.5\" y=\"-147.2\" font-family=\"trebuchet\" font-size=\"11.00\">Class 1:</text>\n<text text-anchor=\"middle\" x=\"87.5\" y=\"-135.2\" font-family=\"trebuchet\" font-size=\"11.00\">\tP(0) = 0.1</text>\n<text text-anchor=\"middle\" x=\"87.5\" y=\"-123.2\" font-family=\"trebuchet\" font-size=\"11.00\">\tP(1) = 0.6</text>\n<text text-anchor=\"middle\" x=\"87.5\" y=\"-111.2\" font-family=\"trebuchet\" font-size=\"11.00\">\tP(2) = 0.3</text>\n<text text-anchor=\"middle\" x=\"87.5\" y=\"-99.2\" font-family=\"trebuchet\" font-size=\"11.00\">samples: 964</text>\n</g>\n<!-- 2&#45;&gt;3 -->\n<g id=\"edge3\" class=\"edge\">\n<title>2&#45;&gt;3</title>\n<path fill=\"none\" stroke=\"black\" stroke-width=\"0.6\" d=\"M118.25,-203.94C118.25,-203.94 118.25,-166.05 118.25,-166.05\"/>\n<polygon fill=\"black\" stroke=\"black\" stroke-width=\"0.6\" points=\"121.75,-166.05 118.25,-156.05 114.75,-166.05 121.75,-166.05\"/>\n<text text-anchor=\"middle\" x=\"105.25\" y=\"-187.4\" font-family=\"Times,serif\" font-size=\"7.00\">≤ 0.2321</text>\n</g>\n<!-- 4 -->\n<g id=\"node5\" class=\"node\">\n<title>4</title>\n<polygon fill=\"#d6fae5\" stroke=\"black\" stroke-width=\"1.2\" points=\"203.5,-144 149.5,-144 149.5,-108 203.5,-108 203.5,-144\"/>\n<text text-anchor=\"middle\" x=\"176.5\" y=\"-123.2\" font-family=\"trebuchet\" font-size=\"11.00\">5</text>\n</g>\n<!-- 2&#45;&gt;4 -->\n<g id=\"edge4\" class=\"edge\">\n<title>2&#45;&gt;4</title>\n<path fill=\"none\" stroke=\"black\" stroke-width=\"0.6\" d=\"M154.5,-203.94C154.5,-203.94 154.5,-154.3 154.5,-154.3\"/>\n<polygon fill=\"black\" stroke=\"black\" stroke-width=\"0.6\" points=\"158,-154.3 154.5,-144.3 151,-154.3 158,-154.3\"/>\n<text text-anchor=\"middle\" x=\"141.5\" y=\"-181.52\" font-family=\"Times,serif\" font-size=\"7.00\">&gt; 0.2321</text>\n</g>\n<!-- 5 -->\n<g id=\"node6\" class=\"node\">\n<title>5</title>\n<polygon fill=\"#d1f9e2\" stroke=\"black\" stroke-width=\"1.2\" points=\"167,-60 80,-60 80,0 167,0 167,-60\"/>\n<text text-anchor=\"middle\" x=\"123.5\" y=\"-51.2\" font-family=\"trebuchet\" font-size=\"11.00\">Class 0:</text>\n<text text-anchor=\"middle\" x=\"123.5\" y=\"-39.2\" font-family=\"trebuchet\" font-size=\"11.00\">\tP(0) = 0.5</text>\n<text text-anchor=\"middle\" x=\"123.5\" y=\"-27.2\" font-family=\"trebuchet\" font-size=\"11.00\">\tP(1) = 0.2</text>\n<text text-anchor=\"middle\" x=\"123.5\" y=\"-15.2\" font-family=\"trebuchet\" font-size=\"11.00\">\tP(2) = 0.3</text>\n<text text-anchor=\"middle\" x=\"123.5\" y=\"-3.2\" font-family=\"trebuchet\" font-size=\"11.00\">samples: 4362</text>\n</g>\n<!-- 4&#45;&gt;5 -->\n<g id=\"edge5\" class=\"edge\">\n<title>4&#45;&gt;5</title>\n<path fill=\"none\" stroke=\"black\" stroke-width=\"0.6\" d=\"M158.25,-107.94C158.25,-107.94 158.25,-70.05 158.25,-70.05\"/>\n<polygon fill=\"black\" stroke=\"black\" stroke-width=\"0.6\" points=\"161.75,-70.05 158.25,-60.05 154.75,-70.05 161.75,-70.05\"/>\n<text text-anchor=\"middle\" x=\"145.25\" y=\"-91.4\" font-family=\"Times,serif\" font-size=\"7.00\">≤ 0.8594</text>\n</g>\n<!-- 6 -->\n<g id=\"node7\" class=\"node\">\n<title>6</title>\n<polygon fill=\"#f7d7c0\" stroke=\"black\" stroke-width=\"1.2\" points=\"272,-60 185,-60 185,0 272,0 272,-60\"/>\n<text text-anchor=\"middle\" x=\"228.5\" y=\"-51.2\" font-family=\"trebuchet\" font-size=\"11.00\">Class 2:</text>\n<text text-anchor=\"middle\" x=\"228.5\" y=\"-39.2\" font-family=\"trebuchet\" font-size=\"11.00\">\tP(0) = 0.3</text>\n<text text-anchor=\"middle\" x=\"228.5\" y=\"-27.2\" font-family=\"trebuchet\" font-size=\"11.00\">\tP(1) = 0.1</text>\n<text text-anchor=\"middle\" x=\"228.5\" y=\"-15.2\" font-family=\"trebuchet\" font-size=\"11.00\">\tP(2) = 0.5</text>\n<text text-anchor=\"middle\" x=\"228.5\" y=\"-3.2\" font-family=\"trebuchet\" font-size=\"11.00\">samples: 1511</text>\n</g>\n<!-- 4&#45;&gt;6 -->\n<g id=\"edge6\" class=\"edge\">\n<title>4&#45;&gt;6</title>\n<path fill=\"none\" stroke=\"black\" stroke-width=\"0.6\" d=\"M194.25,-107.94C194.25,-107.94 194.25,-70.05 194.25,-70.05\"/>\n<polygon fill=\"black\" stroke=\"black\" stroke-width=\"0.6\" points=\"197.75,-70.05 194.25,-60.05 190.75,-70.05 197.75,-70.05\"/>\n<text text-anchor=\"middle\" x=\"181.25\" y=\"-91.4\" font-family=\"Times,serif\" font-size=\"7.00\">&gt; 0.8594</text>\n</g>\n</g>\n</svg>\n",
      "text/plain": [
       "<graphviz.graphs.Digraph at 0x14bacf2b0>"
      ]
     },
     "execution_count": 36,
     "metadata": {},
     "output_type": "execute_result"
    }
   ],
   "source": [
    "model.draw()"
   ]
  },
  {
   "cell_type": "markdown",
   "metadata": {},
   "source": [
    "We can also inspect how decisions are made:"
   ]
  },
  {
   "cell_type": "code",
   "execution_count": 37,
   "metadata": {},
   "outputs": [
    {
     "name": "stdout",
     "output_type": "stream",
     "text": [
      "4 ≤ 0.44069887341009073\n",
      "Class 2:\n",
      "\tP(0) = 0.1\n",
      "\tP(1) = 0.4\n",
      "\tP(2) = 0.5\n",
      "\n"
     ]
    }
   ],
   "source": [
    "dataset = synth.RandomRBFDrift(\n",
    "    seed_model=7, seed_sample=8, change_speed=0.0001, n_classes=3,\n",
    ").take(15000)\n",
    "\n",
    "x, y = next(dataset)\n",
    "\n",
    "print(model.debug_one(x))"
   ]
  },
  {
   "cell_type": "markdown",
   "metadata": {},
   "source": [
    "### 7.1.2. Adaptive Random Forest\n",
    "\n",
    "Adaptive random forest (ARF) is an incremental version of Random Forests that combine the following ingredients:\n",
    "\n",
    "- Randomized Hoeffding Trees as base learners\n",
    "- Drifts detectors for each tree\n",
    "    - New trees are trained in the background when drifts are detected\n",
    "- Online bagging\n",
    "\n",
    "ARFs have all the parameters of HTs and also some important extra parameters:\n",
    "\n",
    "- `warning_detector` and `drift_detector`\n",
    "- `n_models`: the number of trees\n",
    "- `max_features`: the maximum number of features considered during split attempts at each decision node\n",
    "\n",
    "**Example:**"
   ]
  },
  {
   "cell_type": "code",
   "execution_count": 38,
   "metadata": {},
   "outputs": [
    {
     "name": "stdout",
     "output_type": "stream",
     "text": [
      "[1,000] Accuracy: 65.67% – 00:00:01 – 1.04 MB\n",
      "[2,000] Accuracy: 71.39% – 00:00:02 – 1.07 MB\n",
      "[3,000] Accuracy: 73.06% – 00:00:03 – 2.27 MB\n",
      "[4,000] Accuracy: 74.59% – 00:00:04 – 2.68 MB\n",
      "[5,000] Accuracy: 75.98% – 00:00:06 – 3.96 MB\n",
      "[6,000] Accuracy: 77.31% – 00:00:07 – 5.13 MB\n",
      "[7,000] Accuracy: 77.85% – 00:00:08 – 3.8 MB\n",
      "[8,000] Accuracy: 78.22% – 00:00:10 – 5.09 MB\n",
      "[9,000] Accuracy: 78.25% – 00:00:11 – 6.41 MB\n",
      "[10,000] Accuracy: 78.52% – 00:00:12 – 7 MB\n",
      "[11,000] Accuracy: 78.36% – 00:00:14 – 8.38 MB\n",
      "[12,000] Accuracy: 78.49% – 00:00:15 – 7.64 MB\n",
      "[13,000] Accuracy: 78.58% – 00:00:16 – 8.97 MB\n",
      "[14,000] Accuracy: 78.53% – 00:00:18 – 10.32 MB\n",
      "[15,000] Accuracy: 78.41% – 00:00:19 – 10.76 MB\n"
     ]
    },
    {
     "data": {
      "text/plain": [
       "Accuracy: 78.41%"
      ]
     },
     "execution_count": 38,
     "metadata": {},
     "output_type": "execute_result"
    }
   ],
   "source": [
    "from river import ensemble\n",
    "\n",
    "\n",
    "dataset = synth.RandomRBFDrift(\n",
    "    seed_model=7, seed_sample=8, change_speed=0.0001, n_classes=3,\n",
    ").take(15000)\n",
    "\n",
    "model = ensemble.AdaptiveRandomForestClassifier(seed=8)\n",
    "metric = metrics.Accuracy()\n",
    "\n",
    "evaluate.progressive_val_score(dataset, model, metric, print_every=1000, show_memory=True, show_time=True)"
   ]
  },
  {
   "cell_type": "markdown",
   "metadata": {},
   "source": [
    "## 7.2. Regression\n",
    "\n",
    "\n",
    "I will use the same dataset for every regression example:"
   ]
  },
  {
   "cell_type": "code",
   "execution_count": 39,
   "metadata": {},
   "outputs": [],
   "source": [
    "def get_friedman():\n",
    "    return synth.Friedman(seed=101).take(20000)"
   ]
  },
  {
   "cell_type": "code",
   "execution_count": 40,
   "metadata": {},
   "outputs": [
    {
     "data": {
      "text/plain": [
       "({0: 0.5811521325045647,\n",
       "  1: 0.1947544955341367,\n",
       "  2: 0.9652511070611112,\n",
       "  3: 0.9239764016767943,\n",
       "  4: 0.46713867819697397,\n",
       "  5: 0.6634706445300605,\n",
       "  6: 0.21452296973796803,\n",
       "  7: 0.22169624952624067,\n",
       "  8: 0.28852243338125616,\n",
       "  9: 0.6924227459953175},\n",
       " 20.0094162975429)"
      ]
     },
     "execution_count": 40,
     "metadata": {},
     "output_type": "execute_result"
    }
   ],
   "source": [
    "x, y = next(get_friedman())\n",
    "x, y"
   ]
  },
  {
   "cell_type": "markdown",
   "metadata": {},
   "source": [
    "### 7.2.2. Hoeffding Tree\n",
    "\n",
    "(my research)\n",
    "\n",
    "We have three main types of HTs for regression tasks:\n",
    "\n",
    "- `HoeffdingTreeRegressor`: vanilla regressor.\n",
    "- `HoeffdingAdaptiveTreeRegressor`: the regression counterpart of the adaptive classification tree.\n",
    "- `iSOUPTreeRegressor`: Hoeffding Tree for multi-target regression tasks\n",
    "\n",
    "Besides the parameters presented in the classification version, other important parameters are:\n",
    "\n",
    "- `leaf_prediction`: the prediction strategy (regression or model tree)\n",
    "- `leaf_model`: the regression model used in model trees' leaves\n",
    "- `splitter`: the decision split algorithm"
   ]
  },
  {
   "cell_type": "code",
   "execution_count": 41,
   "metadata": {
    "scrolled": false
   },
   "outputs": [
    {
     "name": "stdout",
     "output_type": "stream",
     "text": [
      "[2,000] MAE: 2.211476, RMSE: 2.922308, R2: 0.662991 – 00:00:00 – 975.25 KB\n",
      "[4,000] MAE: 2.06573, RMSE: 2.711252, R2: 0.706024 – 00:00:00 – 1.57 MB\n",
      "[6,000] MAE: 1.97555, RMSE: 2.570947, R2: 0.735164 – 00:00:00 – 2.19 MB\n",
      "[8,000] MAE: 1.911936, RMSE: 2.481903, R2: 0.753895 – 00:00:01 – 2.73 MB\n",
      "[10,000] MAE: 1.870939, RMSE: 2.424265, R2: 0.766415 – 00:00:01 – 3.27 MB\n",
      "[12,000] MAE: 1.834748, RMSE: 2.375678, R2: 0.774293 – 00:00:01 – 3.86 MB\n",
      "[14,000] MAE: 1.801622, RMSE: 2.329051, R2: 0.782718 – 00:00:01 – 4.36 MB\n",
      "[16,000] MAE: 1.773081, RMSE: 2.292944, R2: 0.790029 – 00:00:02 – 5.11 MB\n",
      "[18,000] MAE: 1.751902, RMSE: 2.264719, R2: 0.794645 – 00:00:02 – 6.19 MB\n",
      "[20,000] MAE: 1.728428, RMSE: 2.234173, R2: 0.800588 – 00:00:02 – 6.35 MB\n"
     ]
    },
    {
     "data": {
      "text/plain": [
       "MAE: 1.728428, RMSE: 2.234173, R2: 0.800588"
      ]
     },
     "execution_count": 41,
     "metadata": {},
     "output_type": "execute_result"
    }
   ],
   "source": [
    "from river import preprocessing\n",
    "\n",
    "metric = metrics.MAE() + metrics.RMSE() + metrics.R2()\n",
    "model = preprocessing.StandardScaler() | tree.HoeffdingTreeRegressor()\n",
    "\n",
    "evaluate.progressive_val_score(\n",
    "    dataset=get_friedman(),\n",
    "    model=model,\n",
    "    metric=metric,\n",
    "    show_memory=True,\n",
    "    show_time=True,\n",
    "    print_every=2000\n",
    ")"
   ]
  },
  {
   "cell_type": "markdown",
   "metadata": {},
   "source": [
    "As usual, we can inspect how decisions are made:"
   ]
  },
  {
   "cell_type": "code",
   "execution_count": 42,
   "metadata": {
    "scrolled": true
   },
   "outputs": [
    {
     "name": "stdout",
     "output_type": "stream",
     "text": [
      "0. Input\n",
      "--------\n",
      "0: 0.58115 (float)\n",
      "1: 0.19475 (float)\n",
      "2: 0.96525 (float)\n",
      "3: 0.92398 (float)\n",
      "4: 0.46714 (float)\n",
      "5: 0.66347 (float)\n",
      "6: 0.21452 (float)\n",
      "7: 0.22170 (float)\n",
      "8: 0.28852 (float)\n",
      "9: 0.69242 (float)\n",
      "\n",
      "1. StandardScaler\n",
      "-----------------\n",
      "0: 0.28929 (float)\n",
      "1: -1.07485 (float)\n",
      "2: 1.58610 (float)\n",
      "3: 1.47168 (float)\n",
      "4: -0.11737 (float)\n",
      "5: 0.56379 (float)\n",
      "6: -0.99330 (float)\n",
      "7: -0.96557 (float)\n",
      "8: -0.73064 (float)\n",
      "9: 0.67069 (float)\n",
      "\n",
      "2. HoeffdingTreeRegressor\n",
      "-------------------------\n",
      "3 > -0.1\n",
      "1 ≤ -0.8\n",
      "3 > 0.6\n",
      "0 > -0.9\n",
      "4 > -0.9\n",
      "2 > -1.1\n",
      "1 > -1.5\n",
      "Mean: 15.269219 | Var: 8.424779\n",
      "\n",
      "\n",
      "Prediction: 18.29789\n"
     ]
    }
   ],
   "source": [
    "x, y = next(get_friedman())\n",
    "\n",
    "print(model.debug_one(x))"
   ]
  },
  {
   "cell_type": "code",
   "execution_count": 43,
   "metadata": {},
   "outputs": [
    {
     "data": {
      "image/svg+xml": "<?xml version=\"1.0\" encoding=\"UTF-8\" standalone=\"no\"?>\n<!DOCTYPE svg PUBLIC \"-//W3C//DTD SVG 1.1//EN\"\n \"http://www.w3.org/Graphics/SVG/1.1/DTD/svg11.dtd\">\n<!-- Generated by graphviz version 3.0.0 (20220226.1711)\n -->\n<!-- Pages: 1 -->\n<svg width=\"5602pt\" height=\"764pt\"\n viewBox=\"0.00 0.00 5602.00 764.00\" xmlns=\"http://www.w3.org/2000/svg\" xmlns:xlink=\"http://www.w3.org/1999/xlink\">\n<g id=\"graph0\" class=\"graph\" transform=\"scale(1 1) rotate(0) translate(4 760)\">\n<polygon fill=\"white\" stroke=\"transparent\" points=\"-4,4 -4,-760 5598,-760 5598,4 -4,4\"/>\n<!-- 0 -->\n<g id=\"node1\" class=\"node\">\n<title>0</title>\n<polygon fill=\"#ffffff\" stroke=\"black\" stroke-width=\"1.2\" points=\"2012.5,-756 1958.5,-756 1958.5,-720 2012.5,-720 2012.5,-756\"/>\n<text text-anchor=\"middle\" x=\"1985.5\" y=\"-735.2\" font-family=\"trebuchet\" font-size=\"11.00\">3</text>\n</g>\n<!-- 1 -->\n<g id=\"node2\" class=\"node\">\n<title>1</title>\n<polygon fill=\"#ffffff\" stroke=\"black\" stroke-width=\"1.2\" points=\"1288.5,-684 1234.5,-684 1234.5,-648 1288.5,-648 1288.5,-684\"/>\n<text text-anchor=\"middle\" x=\"1261.5\" y=\"-663.2\" font-family=\"trebuchet\" font-size=\"11.00\">1</text>\n</g>\n<!-- 0&#45;&gt;1 -->\n<g id=\"edge1\" class=\"edge\">\n<title>0&#45;&gt;1</title>\n<path fill=\"none\" stroke=\"black\" stroke-width=\"0.6\" d=\"M1974.25,-719.97C1974.25,-700.42 1974.25,-672 1974.25,-672 1974.25,-672 1298.57,-672 1298.57,-672\"/>\n<polygon fill=\"black\" stroke=\"black\" stroke-width=\"0.6\" points=\"1298.57,-668.5 1288.57,-672 1298.57,-675.5 1298.57,-668.5\"/>\n<text text-anchor=\"middle\" x=\"1651.89\" y=\"-674.4\" font-family=\"Times,serif\" font-size=\"7.00\">≤ &#45;0.1</text>\n</g>\n<!-- 56 -->\n<g id=\"node57\" class=\"node\">\n<title>56</title>\n<polygon fill=\"#ffffff\" stroke=\"black\" stroke-width=\"1.2\" points=\"2336.5,-684 2282.5,-684 2282.5,-648 2336.5,-648 2336.5,-684\"/>\n<text text-anchor=\"middle\" x=\"2309.5\" y=\"-663.2\" font-family=\"trebuchet\" font-size=\"11.00\">1</text>\n</g>\n<!-- 0&#45;&gt;56 -->\n<g id=\"edge56\" class=\"edge\">\n<title>0&#45;&gt;56</title>\n<path fill=\"none\" stroke=\"black\" stroke-width=\"0.6\" d=\"M1998.5,-719.91C1998.5,-696.87 1998.5,-660 1998.5,-660 1998.5,-660 2272.44,-660 2272.44,-660\"/>\n<polygon fill=\"black\" stroke=\"black\" stroke-width=\"0.6\" points=\"2272.44,-663.5 2282.44,-660 2272.44,-656.5 2272.44,-663.5\"/>\n<text text-anchor=\"middle\" x=\"2097.02\" y=\"-662.4\" font-family=\"Times,serif\" font-size=\"7.00\">&gt; &#45;0.1</text>\n</g>\n<!-- 2 -->\n<g id=\"node3\" class=\"node\">\n<title>2</title>\n<polygon fill=\"#ffffff\" stroke=\"black\" stroke-width=\"1.2\" points=\"550.5,-612 496.5,-612 496.5,-576 550.5,-576 550.5,-612\"/>\n<text text-anchor=\"middle\" x=\"523.5\" y=\"-591.2\" font-family=\"trebuchet\" font-size=\"11.00\">3</text>\n</g>\n<!-- 1&#45;&gt;2 -->\n<g id=\"edge2\" class=\"edge\">\n<title>1&#45;&gt;2</title>\n<path fill=\"none\" stroke=\"black\" stroke-width=\"0.6\" d=\"M1234.36,-666C1101.21,-666 523.5,-666 523.5,-666 523.5,-666 523.5,-622.17 523.5,-622.17\"/>\n<polygon fill=\"black\" stroke=\"black\" stroke-width=\"0.6\" points=\"527,-622.17 523.5,-612.17 520,-622.17 527,-622.17\"/>\n<text text-anchor=\"middle\" x=\"848.51\" y=\"-668.4\" font-family=\"Times,serif\" font-size=\"7.00\">≤ &#45;1.3</text>\n</g>\n<!-- 11 -->\n<g id=\"node12\" class=\"node\">\n<title>11</title>\n<polygon fill=\"#ffffff\" stroke=\"black\" stroke-width=\"1.2\" points=\"1288.5,-612 1234.5,-612 1234.5,-576 1288.5,-576 1288.5,-612\"/>\n<text text-anchor=\"middle\" x=\"1261.5\" y=\"-591.2\" font-family=\"trebuchet\" font-size=\"11.00\">0</text>\n</g>\n<!-- 1&#45;&gt;11 -->\n<g id=\"edge11\" class=\"edge\">\n<title>1&#45;&gt;11</title>\n<path fill=\"none\" stroke=\"black\" stroke-width=\"0.6\" d=\"M1261.5,-647.83C1261.5,-647.83 1261.5,-622.41 1261.5,-622.41\"/>\n<polygon fill=\"black\" stroke=\"black\" stroke-width=\"0.6\" points=\"1265,-622.41 1261.5,-612.41 1258,-622.41 1265,-622.41\"/>\n<text text-anchor=\"middle\" x=\"1253\" y=\"-637.52\" font-family=\"Times,serif\" font-size=\"7.00\">&gt; &#45;1.3</text>\n</g>\n<!-- 3 -->\n<g id=\"node4\" class=\"node\">\n<title>3</title>\n<polygon fill=\"#ffffff\" stroke=\"black\" stroke-width=\"1.2\" points=\"298.5,-540 244.5,-540 244.5,-504 298.5,-504 298.5,-540\"/>\n<text text-anchor=\"middle\" x=\"271.5\" y=\"-519.2\" font-family=\"trebuchet\" font-size=\"11.00\">4</text>\n</g>\n<!-- 2&#45;&gt;3 -->\n<g id=\"edge3\" class=\"edge\">\n<title>2&#45;&gt;3</title>\n<path fill=\"none\" stroke=\"black\" stroke-width=\"0.6\" d=\"M496.05,-594C430.74,-594 271.5,-594 271.5,-594 271.5,-594 271.5,-550.17 271.5,-550.17\"/>\n<polygon fill=\"black\" stroke=\"black\" stroke-width=\"0.6\" points=\"275,-550.17 271.5,-540.17 268,-550.17 275,-550.17\"/>\n<text text-anchor=\"middle\" x=\"353.36\" y=\"-596.4\" font-family=\"Times,serif\" font-size=\"7.00\">≤ &#45;1.1</text>\n</g>\n<!-- 6 -->\n<g id=\"node7\" class=\"node\">\n<title>6</title>\n<polygon fill=\"#ffffff\" stroke=\"black\" stroke-width=\"1.2\" points=\"550.5,-540 496.5,-540 496.5,-504 550.5,-504 550.5,-540\"/>\n<text text-anchor=\"middle\" x=\"523.5\" y=\"-519.2\" font-family=\"trebuchet\" font-size=\"11.00\">4</text>\n</g>\n<!-- 2&#45;&gt;6 -->\n<g id=\"edge6\" class=\"edge\">\n<title>2&#45;&gt;6</title>\n<path fill=\"none\" stroke=\"black\" stroke-width=\"0.6\" d=\"M523.5,-575.83C523.5,-575.83 523.5,-550.41 523.5,-550.41\"/>\n<polygon fill=\"black\" stroke=\"black\" stroke-width=\"0.6\" points=\"527,-550.41 523.5,-540.41 520,-550.41 527,-550.41\"/>\n<text text-anchor=\"middle\" x=\"515\" y=\"-565.52\" font-family=\"Times,serif\" font-size=\"7.00\">&gt; &#45;1.1</text>\n</g>\n<!-- 4 -->\n<g id=\"node5\" class=\"node\">\n<title>4</title>\n<polygon fill=\"#ffffff\" stroke=\"black\" stroke-width=\"1.2\" points=\"169,-468 0,-468 0,-432 169,-432 169,-468\"/>\n<text text-anchor=\"middle\" x=\"84.5\" y=\"-453.2\" font-family=\"trebuchet\" font-size=\"11.00\">Mean: 4.747499 | Var: 4.197968</text>\n<text text-anchor=\"middle\" x=\"84.5\" y=\"-441.2\" font-family=\"trebuchet\" font-size=\"11.00\">samples: 167</text>\n</g>\n<!-- 3&#45;&gt;4 -->\n<g id=\"edge4\" class=\"edge\">\n<title>3&#45;&gt;4</title>\n<path fill=\"none\" stroke=\"black\" stroke-width=\"0.6\" d=\"M244.31,-522C192.44,-522 84.5,-522 84.5,-522 84.5,-522 84.5,-478.17 84.5,-478.17\"/>\n<polygon fill=\"black\" stroke=\"black\" stroke-width=\"0.6\" points=\"88,-478.17 84.5,-468.17 81,-478.17 88,-478.17\"/>\n<text text-anchor=\"middle\" x=\"134.99\" y=\"-524.4\" font-family=\"Times,serif\" font-size=\"7.00\">≤ 0.1</text>\n</g>\n<!-- 5 -->\n<g id=\"node6\" class=\"node\">\n<title>5</title>\n<polygon fill=\"#ffffff\" stroke=\"black\" stroke-width=\"1.2\" points=\"356,-468 187,-468 187,-432 356,-432 356,-468\"/>\n<text text-anchor=\"middle\" x=\"271.5\" y=\"-453.2\" font-family=\"trebuchet\" font-size=\"11.00\">Mean: 6.412719 | Var: 6.271491</text>\n<text text-anchor=\"middle\" x=\"271.5\" y=\"-441.2\" font-family=\"trebuchet\" font-size=\"11.00\">samples: 296</text>\n</g>\n<!-- 3&#45;&gt;5 -->\n<g id=\"edge5\" class=\"edge\">\n<title>3&#45;&gt;5</title>\n<path fill=\"none\" stroke=\"black\" stroke-width=\"0.6\" d=\"M271.5,-503.83C271.5,-503.83 271.5,-478.41 271.5,-478.41\"/>\n<polygon fill=\"black\" stroke=\"black\" stroke-width=\"0.6\" points=\"275,-478.41 271.5,-468.41 268,-478.41 275,-478.41\"/>\n<text text-anchor=\"middle\" x=\"264\" y=\"-493.52\" font-family=\"Times,serif\" font-size=\"7.00\">&gt; 0.1</text>\n</g>\n<!-- 7 -->\n<g id=\"node8\" class=\"node\">\n<title>7</title>\n<polygon fill=\"#ffffff\" stroke=\"black\" stroke-width=\"1.2\" points=\"543,-468 374,-468 374,-432 543,-432 543,-468\"/>\n<text text-anchor=\"middle\" x=\"458.5\" y=\"-453.2\" font-family=\"trebuchet\" font-size=\"11.00\">Mean: 7.070151 | Var: 4.367086</text>\n<text text-anchor=\"middle\" x=\"458.5\" y=\"-441.2\" font-family=\"trebuchet\" font-size=\"11.00\">samples: 102</text>\n</g>\n<!-- 6&#45;&gt;7 -->\n<g id=\"edge7\" class=\"edge\">\n<title>6&#45;&gt;7</title>\n<path fill=\"none\" stroke=\"black\" stroke-width=\"0.6\" d=\"M519.75,-503.83C519.75,-503.83 519.75,-478.41 519.75,-478.41\"/>\n<polygon fill=\"black\" stroke=\"black\" stroke-width=\"0.6\" points=\"523.25,-478.41 519.75,-468.41 516.25,-478.41 523.25,-478.41\"/>\n<text text-anchor=\"middle\" x=\"511.25\" y=\"-493.52\" font-family=\"Times,serif\" font-size=\"7.00\">≤ &#45;1.0</text>\n</g>\n<!-- 8 -->\n<g id=\"node9\" class=\"node\">\n<title>8</title>\n<polygon fill=\"#ffffff\" stroke=\"black\" stroke-width=\"1.2\" points=\"615.5,-468 561.5,-468 561.5,-432 615.5,-432 615.5,-468\"/>\n<text text-anchor=\"middle\" x=\"588.5\" y=\"-447.2\" font-family=\"trebuchet\" font-size=\"11.00\">2</text>\n</g>\n<!-- 6&#45;&gt;8 -->\n<g id=\"edge8\" class=\"edge\">\n<title>6&#45;&gt;8</title>\n<path fill=\"none\" stroke=\"black\" stroke-width=\"0.6\" d=\"M546.75,-503.83C546.75,-482.5 546.75,-450 546.75,-450 546.75,-450 551.35,-450 551.35,-450\"/>\n<polygon fill=\"black\" stroke=\"black\" stroke-width=\"0.6\" points=\"551.35,-453.5 561.35,-450 551.35,-446.5 551.35,-453.5\"/>\n<text text-anchor=\"middle\" x=\"538.25\" y=\"-477.01\" font-family=\"Times,serif\" font-size=\"7.00\">&gt; &#45;1.0</text>\n</g>\n<!-- 9 -->\n<g id=\"node10\" class=\"node\">\n<title>9</title>\n<polygon fill=\"#ffffff\" stroke=\"black\" stroke-width=\"1.2\" points=\"486,-396 311,-396 311,-360 486,-360 486,-396\"/>\n<text text-anchor=\"middle\" x=\"398.5\" y=\"-381.2\" font-family=\"trebuchet\" font-size=\"11.00\">Mean: 11.875033 | Var: 5.843069</text>\n<text text-anchor=\"middle\" x=\"398.5\" y=\"-369.2\" font-family=\"trebuchet\" font-size=\"11.00\">samples: 26</text>\n</g>\n<!-- 8&#45;&gt;9 -->\n<g id=\"edge9\" class=\"edge\">\n<title>8&#45;&gt;9</title>\n<path fill=\"none\" stroke=\"black\" stroke-width=\"0.6\" d=\"M579.5,-431.58C579.5,-422.72 579.5,-414 579.5,-414 579.5,-414 430,-414 430,-414 430,-414 430,-406.42 430,-406.42\"/>\n<polygon fill=\"black\" stroke=\"black\" stroke-width=\"0.6\" points=\"433.5,-406.42 430,-396.42 426.5,-406.42 433.5,-406.42\"/>\n<text text-anchor=\"middle\" x=\"501.25\" y=\"-416.4\" font-family=\"Times,serif\" font-size=\"7.00\">≤ &#45;1.3</text>\n</g>\n<!-- 10 -->\n<g id=\"node11\" class=\"node\">\n<title>10</title>\n<polygon fill=\"#ffffff\" stroke=\"black\" stroke-width=\"1.2\" points=\"673,-396 504,-396 504,-360 673,-360 673,-396\"/>\n<text text-anchor=\"middle\" x=\"588.5\" y=\"-381.2\" font-family=\"trebuchet\" font-size=\"11.00\">Mean: 8.558853 | Var: 6.498245</text>\n<text text-anchor=\"middle\" x=\"588.5\" y=\"-369.2\" font-family=\"trebuchet\" font-size=\"11.00\">samples: 587</text>\n</g>\n<!-- 8&#45;&gt;10 -->\n<g id=\"edge10\" class=\"edge\">\n<title>8&#45;&gt;10</title>\n<path fill=\"none\" stroke=\"black\" stroke-width=\"0.6\" d=\"M597.5,-431.83C597.5,-431.83 597.5,-406.41 597.5,-406.41\"/>\n<polygon fill=\"black\" stroke=\"black\" stroke-width=\"0.6\" points=\"601,-406.41 597.5,-396.41 594,-406.41 601,-406.41\"/>\n<text text-anchor=\"middle\" x=\"589\" y=\"-421.52\" font-family=\"Times,serif\" font-size=\"7.00\">&gt; &#45;1.3</text>\n</g>\n<!-- 12 -->\n<g id=\"node13\" class=\"node\">\n<title>12</title>\n<polygon fill=\"#ffffff\" stroke=\"black\" stroke-width=\"1.2\" points=\"1155.5,-540 1101.5,-540 1101.5,-504 1155.5,-504 1155.5,-540\"/>\n<text text-anchor=\"middle\" x=\"1128.5\" y=\"-519.2\" font-family=\"trebuchet\" font-size=\"11.00\">4</text>\n</g>\n<!-- 11&#45;&gt;12 -->\n<g id=\"edge12\" class=\"edge\">\n<title>11&#45;&gt;12</title>\n<path fill=\"none\" stroke=\"black\" stroke-width=\"0.6\" d=\"M1248,-575.91C1248,-552.87 1248,-516 1248,-516 1248,-516 1165.62,-516 1165.62,-516\"/>\n<polygon fill=\"black\" stroke=\"black\" stroke-width=\"0.6\" points=\"1165.62,-512.5 1155.62,-516 1165.62,-519.5 1165.62,-512.5\"/>\n<text text-anchor=\"middle\" x=\"1228.26\" y=\"-518.4\" font-family=\"Times,serif\" font-size=\"7.00\">≤ &#45;0.8</text>\n</g>\n<!-- 25 -->\n<g id=\"node26\" class=\"node\">\n<title>25</title>\n<polygon fill=\"#ffffff\" stroke=\"black\" stroke-width=\"1.2\" points=\"1451.5,-540 1397.5,-540 1397.5,-504 1451.5,-504 1451.5,-540\"/>\n<text text-anchor=\"middle\" x=\"1424.5\" y=\"-519.2\" font-family=\"trebuchet\" font-size=\"11.00\">1</text>\n</g>\n<!-- 11&#45;&gt;25 -->\n<g id=\"edge25\" class=\"edge\">\n<title>11&#45;&gt;25</title>\n<path fill=\"none\" stroke=\"black\" stroke-width=\"0.6\" d=\"M1279.75,-575.97C1279.75,-556.42 1279.75,-528 1279.75,-528 1279.75,-528 1387.27,-528 1387.27,-528\"/>\n<polygon fill=\"black\" stroke=\"black\" stroke-width=\"0.6\" points=\"1387.27,-531.5 1397.27,-528 1387.27,-524.5 1387.27,-531.5\"/>\n<text text-anchor=\"middle\" x=\"1301.03\" y=\"-530.4\" font-family=\"Times,serif\" font-size=\"7.00\">&gt; &#45;0.8</text>\n</g>\n<!-- 13 -->\n<g id=\"node14\" class=\"node\">\n<title>13</title>\n<polygon fill=\"#ffffff\" stroke=\"black\" stroke-width=\"1.2\" points=\"989.5,-468 935.5,-468 935.5,-432 989.5,-432 989.5,-468\"/>\n<text text-anchor=\"middle\" x=\"962.5\" y=\"-447.2\" font-family=\"trebuchet\" font-size=\"11.00\">2</text>\n</g>\n<!-- 12&#45;&gt;13 -->\n<g id=\"edge13\" class=\"edge\">\n<title>12&#45;&gt;13</title>\n<path fill=\"none\" stroke=\"black\" stroke-width=\"0.6\" d=\"M1101.46,-522C1054.42,-522 962.5,-522 962.5,-522 962.5,-522 962.5,-478.17 962.5,-478.17\"/>\n<polygon fill=\"black\" stroke=\"black\" stroke-width=\"0.6\" points=\"966,-478.17 962.5,-468.17 959,-478.17 966,-478.17\"/>\n<text text-anchor=\"middle\" x=\"1001.56\" y=\"-524.4\" font-family=\"Times,serif\" font-size=\"7.00\">≤ &#45;1.0</text>\n</g>\n<!-- 16 -->\n<g id=\"node17\" class=\"node\">\n<title>16</title>\n<polygon fill=\"#ffffff\" stroke=\"black\" stroke-width=\"1.2\" points=\"1155.5,-468 1101.5,-468 1101.5,-432 1155.5,-432 1155.5,-468\"/>\n<text text-anchor=\"middle\" x=\"1128.5\" y=\"-447.2\" font-family=\"trebuchet\" font-size=\"11.00\">3</text>\n</g>\n<!-- 12&#45;&gt;16 -->\n<g id=\"edge16\" class=\"edge\">\n<title>12&#45;&gt;16</title>\n<path fill=\"none\" stroke=\"black\" stroke-width=\"0.6\" d=\"M1128.5,-503.83C1128.5,-503.83 1128.5,-478.41 1128.5,-478.41\"/>\n<polygon fill=\"black\" stroke=\"black\" stroke-width=\"0.6\" points=\"1132,-478.41 1128.5,-468.41 1125,-478.41 1132,-478.41\"/>\n<text text-anchor=\"middle\" x=\"1120\" y=\"-493.52\" font-family=\"Times,serif\" font-size=\"7.00\">&gt; &#45;1.0</text>\n</g>\n<!-- 14 -->\n<g id=\"node15\" class=\"node\">\n<title>14</title>\n<polygon fill=\"#ffffff\" stroke=\"black\" stroke-width=\"1.2\" points=\"860,-396 691,-396 691,-360 860,-360 860,-396\"/>\n<text text-anchor=\"middle\" x=\"775.5\" y=\"-381.2\" font-family=\"trebuchet\" font-size=\"11.00\">Mean: 8.752667 | Var: 5.898276</text>\n<text text-anchor=\"middle\" x=\"775.5\" y=\"-369.2\" font-family=\"trebuchet\" font-size=\"11.00\">samples: 91</text>\n</g>\n<!-- 13&#45;&gt;14 -->\n<g id=\"edge14\" class=\"edge\">\n<title>13&#45;&gt;14</title>\n<path fill=\"none\" stroke=\"black\" stroke-width=\"0.6\" d=\"M935.31,-450C883.44,-450 775.5,-450 775.5,-450 775.5,-450 775.5,-406.17 775.5,-406.17\"/>\n<polygon fill=\"black\" stroke=\"black\" stroke-width=\"0.6\" points=\"779,-406.17 775.5,-396.17 772,-406.17 779,-406.17\"/>\n<text text-anchor=\"middle\" x=\"824.99\" y=\"-452.4\" font-family=\"Times,serif\" font-size=\"7.00\">≤ &#45;1.0</text>\n</g>\n<!-- 15 -->\n<g id=\"node16\" class=\"node\">\n<title>15</title>\n<polygon fill=\"#ffffff\" stroke=\"black\" stroke-width=\"1.2\" points=\"1047,-396 878,-396 878,-360 1047,-360 1047,-396\"/>\n<text text-anchor=\"middle\" x=\"962.5\" y=\"-381.2\" font-family=\"trebuchet\" font-size=\"11.00\">Mean: 6.443606 | Var: 6.678658</text>\n<text text-anchor=\"middle\" x=\"962.5\" y=\"-369.2\" font-family=\"trebuchet\" font-size=\"11.00\">samples: 373</text>\n</g>\n<!-- 13&#45;&gt;15 -->\n<g id=\"edge15\" class=\"edge\">\n<title>13&#45;&gt;15</title>\n<path fill=\"none\" stroke=\"black\" stroke-width=\"0.6\" d=\"M962.5,-431.83C962.5,-431.83 962.5,-406.41 962.5,-406.41\"/>\n<polygon fill=\"black\" stroke=\"black\" stroke-width=\"0.6\" points=\"966,-406.41 962.5,-396.41 959,-406.41 966,-406.41\"/>\n<text text-anchor=\"middle\" x=\"954\" y=\"-421.52\" font-family=\"Times,serif\" font-size=\"7.00\">&gt; &#45;1.0</text>\n</g>\n<!-- 17 -->\n<g id=\"node18\" class=\"node\">\n<title>17</title>\n<polygon fill=\"#ffffff\" stroke=\"black\" stroke-width=\"1.2\" points=\"1119.5,-396 1065.5,-396 1065.5,-360 1119.5,-360 1119.5,-396\"/>\n<text text-anchor=\"middle\" x=\"1092.5\" y=\"-375.2\" font-family=\"trebuchet\" font-size=\"11.00\">0</text>\n</g>\n<!-- 16&#45;&gt;17 -->\n<g id=\"edge17\" class=\"edge\">\n<title>16&#45;&gt;17</title>\n<path fill=\"none\" stroke=\"black\" stroke-width=\"0.6\" d=\"M1110.5,-431.83C1110.5,-431.83 1110.5,-406.41 1110.5,-406.41\"/>\n<polygon fill=\"black\" stroke=\"black\" stroke-width=\"0.6\" points=\"1114,-406.41 1110.5,-396.41 1107,-406.41 1114,-406.41\"/>\n<text text-anchor=\"middle\" x=\"1102\" y=\"-421.52\" font-family=\"Times,serif\" font-size=\"7.00\">≤ &#45;1.1</text>\n</g>\n<!-- 20 -->\n<g id=\"node21\" class=\"node\">\n<title>20</title>\n<polygon fill=\"#ffffff\" stroke=\"black\" stroke-width=\"1.2\" points=\"1191.5,-396 1137.5,-396 1137.5,-360 1191.5,-360 1191.5,-396\"/>\n<text text-anchor=\"middle\" x=\"1164.5\" y=\"-375.2\" font-family=\"trebuchet\" font-size=\"11.00\">0</text>\n</g>\n<!-- 16&#45;&gt;20 -->\n<g id=\"edge20\" class=\"edge\">\n<title>16&#45;&gt;20</title>\n<path fill=\"none\" stroke=\"black\" stroke-width=\"0.6\" d=\"M1146.5,-431.83C1146.5,-431.83 1146.5,-406.41 1146.5,-406.41\"/>\n<polygon fill=\"black\" stroke=\"black\" stroke-width=\"0.6\" points=\"1150,-406.41 1146.5,-396.41 1143,-406.41 1150,-406.41\"/>\n<text text-anchor=\"middle\" x=\"1138\" y=\"-421.52\" font-family=\"Times,serif\" font-size=\"7.00\">&gt; &#45;1.1</text>\n</g>\n<!-- 18 -->\n<g id=\"node19\" class=\"node\">\n<title>18</title>\n<polygon fill=\"#ffffff\" stroke=\"black\" stroke-width=\"1.2\" points=\"844,-324 681,-324 681,-288 844,-288 844,-324\"/>\n<text text-anchor=\"middle\" x=\"762.5\" y=\"-309.2\" font-family=\"trebuchet\" font-size=\"11.00\">Mean: 6.40844 | Var: 4.822449</text>\n<text text-anchor=\"middle\" x=\"762.5\" y=\"-297.2\" font-family=\"trebuchet\" font-size=\"11.00\">samples: 167</text>\n</g>\n<!-- 17&#45;&gt;18 -->\n<g id=\"edge18\" class=\"edge\">\n<title>17&#45;&gt;18</title>\n<path fill=\"none\" stroke=\"black\" stroke-width=\"0.6\" d=\"M1083.5,-359.94C1083.5,-355.51 1083.5,-352 1083.5,-352 1083.5,-352 767.5,-352 767.5,-352 767.5,-352 767.5,-334.18 767.5,-334.18\"/>\n<polygon fill=\"black\" stroke=\"black\" stroke-width=\"0.6\" points=\"771,-334.18 767.5,-324.18 764,-334.18 771,-334.18\"/>\n<text text-anchor=\"middle\" x=\"912.06\" y=\"-354.4\" font-family=\"Times,serif\" font-size=\"7.00\">≤ &#45;1.4</text>\n</g>\n<!-- 19 -->\n<g id=\"node20\" class=\"node\">\n<title>19</title>\n<polygon fill=\"#ffffff\" stroke=\"black\" stroke-width=\"1.2\" points=\"1031,-324 862,-324 862,-288 1031,-288 1031,-324\"/>\n<text text-anchor=\"middle\" x=\"946.5\" y=\"-309.2\" font-family=\"trebuchet\" font-size=\"11.00\">Mean: 8.130642 | Var: 6.639336</text>\n<text text-anchor=\"middle\" x=\"946.5\" y=\"-297.2\" font-family=\"trebuchet\" font-size=\"11.00\">samples: 413</text>\n</g>\n<!-- 17&#45;&gt;19 -->\n<g id=\"edge19\" class=\"edge\">\n<title>17&#45;&gt;19</title>\n<path fill=\"none\" stroke=\"black\" stroke-width=\"0.6\" d=\"M1101.5,-359.96C1101.5,-346.71 1101.5,-331 1101.5,-331 1101.5,-331 954.5,-331 954.5,-331 954.5,-331 954.5,-330.32 954.5,-330.32\"/>\n<polygon fill=\"black\" stroke=\"black\" stroke-width=\"0.6\" points=\"958,-334.17 954.5,-324.17 951,-334.17 958,-334.17\"/>\n<text text-anchor=\"middle\" x=\"1033.64\" y=\"-333.4\" font-family=\"Times,serif\" font-size=\"7.00\">&gt; &#45;1.4</text>\n</g>\n<!-- 21 -->\n<g id=\"node22\" class=\"node\">\n<title>21</title>\n<polygon fill=\"#ffffff\" stroke=\"black\" stroke-width=\"1.2\" points=\"1218,-324 1049,-324 1049,-288 1218,-288 1218,-324\"/>\n<text text-anchor=\"middle\" x=\"1133.5\" y=\"-309.2\" font-family=\"trebuchet\" font-size=\"11.00\">Mean: 8.514363 | Var: 5.250203</text>\n<text text-anchor=\"middle\" x=\"1133.5\" y=\"-297.2\" font-family=\"trebuchet\" font-size=\"11.00\">samples: 230</text>\n</g>\n<!-- 20&#45;&gt;21 -->\n<g id=\"edge21\" class=\"edge\">\n<title>20&#45;&gt;21</title>\n<path fill=\"none\" stroke=\"black\" stroke-width=\"0.6\" d=\"M1164.5,-359.83C1164.5,-359.83 1164.5,-334.41 1164.5,-334.41\"/>\n<polygon fill=\"black\" stroke=\"black\" stroke-width=\"0.6\" points=\"1168,-334.41 1164.5,-324.41 1161,-334.41 1168,-334.41\"/>\n<text text-anchor=\"middle\" x=\"1156\" y=\"-349.52\" font-family=\"Times,serif\" font-size=\"7.00\">≤ &#45;1.4</text>\n</g>\n<!-- 22 -->\n<g id=\"node23\" class=\"node\">\n<title>22</title>\n<polygon fill=\"#ffffff\" stroke=\"black\" stroke-width=\"1.2\" points=\"1290.5,-324 1236.5,-324 1236.5,-288 1290.5,-288 1290.5,-324\"/>\n<text text-anchor=\"middle\" x=\"1263.5\" y=\"-303.2\" font-family=\"trebuchet\" font-size=\"11.00\">2</text>\n</g>\n<!-- 20&#45;&gt;22 -->\n<g id=\"edge22\" class=\"edge\">\n<title>20&#45;&gt;22</title>\n<path fill=\"none\" stroke=\"black\" stroke-width=\"0.6\" d=\"M1191.72,-378C1219.8,-378 1259.5,-378 1259.5,-378 1259.5,-378 1259.5,-334.17 1259.5,-334.17\"/>\n<polygon fill=\"black\" stroke=\"black\" stroke-width=\"0.6\" points=\"1263,-334.17 1259.5,-324.17 1256,-334.17 1263,-334.17\"/>\n<text text-anchor=\"middle\" x=\"1239.03\" y=\"-380.4\" font-family=\"Times,serif\" font-size=\"7.00\">&gt; &#45;1.4</text>\n</g>\n<!-- 23 -->\n<g id=\"node24\" class=\"node\">\n<title>23</title>\n<polygon fill=\"#ffffff\" stroke=\"black\" stroke-width=\"1.2\" points=\"868,-252 693,-252 693,-216 868,-216 868,-252\"/>\n<text text-anchor=\"middle\" x=\"780.5\" y=\"-237.2\" font-family=\"trebuchet\" font-size=\"11.00\">Mean: 12.693987 | Var: 5.599783</text>\n<text text-anchor=\"middle\" x=\"780.5\" y=\"-225.2\" font-family=\"trebuchet\" font-size=\"11.00\">samples: 67</text>\n</g>\n<!-- 22&#45;&gt;23 -->\n<g id=\"edge23\" class=\"edge\">\n<title>22&#45;&gt;23</title>\n<path fill=\"none\" stroke=\"black\" stroke-width=\"0.6\" d=\"M1248,-287.8C1248,-281.97 1248,-277 1248,-277 1248,-277 852,-277 852,-277 852,-277 852,-262.49 852,-262.49\"/>\n<polygon fill=\"black\" stroke=\"black\" stroke-width=\"0.6\" points=\"855.5,-262.49 852,-252.49 848.5,-262.49 855.5,-262.49\"/>\n<text text-anchor=\"middle\" x=\"1039.64\" y=\"-279.4\" font-family=\"Times,serif\" font-size=\"7.00\">≤ &#45;0.9</text>\n</g>\n<!-- 24 -->\n<g id=\"node25\" class=\"node\">\n<title>24</title>\n<polygon fill=\"#ffffff\" stroke=\"black\" stroke-width=\"1.2\" points=\"1061,-252 886,-252 886,-216 1061,-216 1061,-252\"/>\n<text text-anchor=\"middle\" x=\"973.5\" y=\"-237.2\" font-family=\"trebuchet\" font-size=\"11.00\">Mean: 10.207408 | Var: 8.347053</text>\n<text text-anchor=\"middle\" x=\"973.5\" y=\"-225.2\" font-family=\"trebuchet\" font-size=\"11.00\">samples: 765</text>\n</g>\n<!-- 22&#45;&gt;24 -->\n<g id=\"edge24\" class=\"edge\">\n<title>22&#45;&gt;24</title>\n<path fill=\"none\" stroke=\"black\" stroke-width=\"0.6\" d=\"M1254,-287.81C1254,-279.72 1254,-272 1254,-272 1254,-272 1055,-272 1055,-272 1055,-272 1055,-262.11 1055,-262.11\"/>\n<polygon fill=\"black\" stroke=\"black\" stroke-width=\"0.6\" points=\"1058.5,-262.11 1055,-252.11 1051.5,-262.11 1058.5,-262.11\"/>\n<text text-anchor=\"middle\" x=\"1148.96\" y=\"-274.4\" font-family=\"Times,serif\" font-size=\"7.00\">&gt; &#45;0.9</text>\n</g>\n<!-- 26 -->\n<g id=\"node27\" class=\"node\">\n<title>26</title>\n<polygon fill=\"#ffffff\" stroke=\"black\" stroke-width=\"1.2\" points=\"1451.5,-468 1397.5,-468 1397.5,-432 1451.5,-432 1451.5,-468\"/>\n<text text-anchor=\"middle\" x=\"1424.5\" y=\"-447.2\" font-family=\"trebuchet\" font-size=\"11.00\">2</text>\n</g>\n<!-- 25&#45;&gt;26 -->\n<g id=\"edge26\" class=\"edge\">\n<title>25&#45;&gt;26</title>\n<path fill=\"none\" stroke=\"black\" stroke-width=\"0.6\" d=\"M1424.5,-503.83C1424.5,-503.83 1424.5,-478.41 1424.5,-478.41\"/>\n<polygon fill=\"black\" stroke=\"black\" stroke-width=\"0.6\" points=\"1428,-478.41 1424.5,-468.41 1421,-478.41 1428,-478.41\"/>\n<text text-anchor=\"middle\" x=\"1416\" y=\"-493.52\" font-family=\"Times,serif\" font-size=\"7.00\">≤ &#45;0.7</text>\n</g>\n<!-- 35 -->\n<g id=\"node36\" class=\"node\">\n<title>35</title>\n<polygon fill=\"#ffffff\" stroke=\"black\" stroke-width=\"1.2\" points=\"1720.5,-468 1666.5,-468 1666.5,-432 1720.5,-432 1720.5,-468\"/>\n<text text-anchor=\"middle\" x=\"1693.5\" y=\"-447.2\" font-family=\"trebuchet\" font-size=\"11.00\">2</text>\n</g>\n<!-- 25&#45;&gt;35 -->\n<g id=\"edge35\" class=\"edge\">\n<title>25&#45;&gt;35</title>\n<path fill=\"none\" stroke=\"black\" stroke-width=\"0.6\" d=\"M1451.52,-528C1519.74,-528 1693.5,-528 1693.5,-528 1693.5,-528 1693.5,-478.09 1693.5,-478.09\"/>\n<polygon fill=\"black\" stroke=\"black\" stroke-width=\"0.6\" points=\"1697,-478.09 1693.5,-468.09 1690,-478.09 1697,-478.09\"/>\n<text text-anchor=\"middle\" x=\"1588.97\" y=\"-530.4\" font-family=\"Times,serif\" font-size=\"7.00\">&gt; &#45;0.7</text>\n</g>\n<!-- 27 -->\n<g id=\"node28\" class=\"node\">\n<title>27</title>\n<polygon fill=\"#ffffff\" stroke=\"black\" stroke-width=\"1.2\" points=\"1446,-396 1271,-396 1271,-360 1446,-360 1446,-396\"/>\n<text text-anchor=\"middle\" x=\"1358.5\" y=\"-381.2\" font-family=\"trebuchet\" font-size=\"11.00\">Mean: 12.425063 | Var: 7.959235</text>\n<text text-anchor=\"middle\" x=\"1358.5\" y=\"-369.2\" font-family=\"trebuchet\" font-size=\"11.00\">samples: 182</text>\n</g>\n<!-- 26&#45;&gt;27 -->\n<g id=\"edge27\" class=\"edge\">\n<title>26&#45;&gt;27</title>\n<path fill=\"none\" stroke=\"black\" stroke-width=\"0.6\" d=\"M1421.75,-431.83C1421.75,-431.83 1421.75,-406.41 1421.75,-406.41\"/>\n<polygon fill=\"black\" stroke=\"black\" stroke-width=\"0.6\" points=\"1425.25,-406.41 1421.75,-396.41 1418.25,-406.41 1425.25,-406.41\"/>\n<text text-anchor=\"middle\" x=\"1413.25\" y=\"-421.52\" font-family=\"Times,serif\" font-size=\"7.00\">≤ &#45;1.2</text>\n</g>\n<!-- 28 -->\n<g id=\"node29\" class=\"node\">\n<title>28</title>\n<polygon fill=\"#ffffff\" stroke=\"black\" stroke-width=\"1.2\" points=\"1518.5,-396 1464.5,-396 1464.5,-360 1518.5,-360 1518.5,-396\"/>\n<text text-anchor=\"middle\" x=\"1491.5\" y=\"-375.2\" font-family=\"trebuchet\" font-size=\"11.00\">3</text>\n</g>\n<!-- 26&#45;&gt;28 -->\n<g id=\"edge28\" class=\"edge\">\n<title>26&#45;&gt;28</title>\n<path fill=\"none\" stroke=\"black\" stroke-width=\"0.6\" d=\"M1451.75,-450C1470.3,-450 1491.5,-450 1491.5,-450 1491.5,-450 1491.5,-406.17 1491.5,-406.17\"/>\n<polygon fill=\"black\" stroke=\"black\" stroke-width=\"0.6\" points=\"1495,-406.17 1491.5,-396.17 1488,-406.17 1495,-406.17\"/>\n<text text-anchor=\"middle\" x=\"1483\" y=\"-450.36\" font-family=\"Times,serif\" font-size=\"7.00\">&gt; &#45;1.2</text>\n</g>\n<!-- 29 -->\n<g id=\"node30\" class=\"node\">\n<title>29</title>\n<polygon fill=\"#ffffff\" stroke=\"black\" stroke-width=\"1.2\" points=\"1368.5,-324 1314.5,-324 1314.5,-288 1368.5,-288 1368.5,-324\"/>\n<text text-anchor=\"middle\" x=\"1341.5\" y=\"-303.2\" font-family=\"trebuchet\" font-size=\"11.00\">4</text>\n</g>\n<!-- 28&#45;&gt;29 -->\n<g id=\"edge29\" class=\"edge\">\n<title>28&#45;&gt;29</title>\n<path fill=\"none\" stroke=\"black\" stroke-width=\"0.6\" d=\"M1480,-359.83C1480,-338.5 1480,-306 1480,-306 1480,-306 1378.53,-306 1378.53,-306\"/>\n<polygon fill=\"black\" stroke=\"black\" stroke-width=\"0.6\" points=\"1378.53,-302.5 1368.53,-306 1378.53,-309.5 1378.53,-302.5\"/>\n<text text-anchor=\"middle\" x=\"1447.68\" y=\"-308.4\" font-family=\"Times,serif\" font-size=\"7.00\">≤ &#45;1.0</text>\n</g>\n<!-- 32 -->\n<g id=\"node33\" class=\"node\">\n<title>32</title>\n<polygon fill=\"#ffffff\" stroke=\"black\" stroke-width=\"1.2\" points=\"1549.5,-324 1495.5,-324 1495.5,-288 1549.5,-288 1549.5,-324\"/>\n<text text-anchor=\"middle\" x=\"1522.5\" y=\"-303.2\" font-family=\"trebuchet\" font-size=\"11.00\">4</text>\n</g>\n<!-- 28&#45;&gt;32 -->\n<g id=\"edge32\" class=\"edge\">\n<title>28&#45;&gt;32</title>\n<path fill=\"none\" stroke=\"black\" stroke-width=\"0.6\" d=\"M1507,-359.83C1507,-359.83 1507,-334.41 1507,-334.41\"/>\n<polygon fill=\"black\" stroke=\"black\" stroke-width=\"0.6\" points=\"1510.5,-334.41 1507,-324.41 1503.5,-334.41 1510.5,-334.41\"/>\n<text text-anchor=\"middle\" x=\"1498.5\" y=\"-349.52\" font-family=\"Times,serif\" font-size=\"7.00\">&gt; &#45;1.0</text>\n</g>\n<!-- 30 -->\n<g id=\"node31\" class=\"node\">\n<title>30</title>\n<polygon fill=\"#ffffff\" stroke=\"black\" stroke-width=\"1.2\" points=\"1242,-252 1079,-252 1079,-216 1242,-216 1242,-252\"/>\n<text text-anchor=\"middle\" x=\"1160.5\" y=\"-237.2\" font-family=\"trebuchet\" font-size=\"11.00\">Mean: 7.501191 | Var: 7.22554</text>\n<text text-anchor=\"middle\" x=\"1160.5\" y=\"-225.2\" font-family=\"trebuchet\" font-size=\"11.00\">samples: 75</text>\n</g>\n<!-- 29&#45;&gt;30 -->\n<g id=\"edge30\" class=\"edge\">\n<title>29&#45;&gt;30</title>\n<path fill=\"none\" stroke=\"black\" stroke-width=\"0.6\" d=\"M1332.5,-287.85C1332.5,-275.73 1332.5,-262 1332.5,-262 1332.5,-262 1226.25,-262 1226.25,-262 1226.25,-262 1226.25,-261.02 1226.25,-261.02\"/>\n<polygon fill=\"black\" stroke=\"black\" stroke-width=\"0.6\" points=\"1229.75,-262.21 1226.25,-252.21 1222.75,-262.21 1229.75,-262.21\"/>\n<text text-anchor=\"middle\" x=\"1283.31\" y=\"-264.4\" font-family=\"Times,serif\" font-size=\"7.00\">≤ &#45;0.5</text>\n</g>\n<!-- 31 -->\n<g id=\"node32\" class=\"node\">\n<title>31</title>\n<polygon fill=\"#ffffff\" stroke=\"black\" stroke-width=\"1.2\" points=\"1423,-252 1260,-252 1260,-216 1423,-216 1423,-252\"/>\n<text text-anchor=\"middle\" x=\"1341.5\" y=\"-237.2\" font-family=\"trebuchet\" font-size=\"11.00\">Mean: 9.505571 | Var: 6.43084</text>\n<text text-anchor=\"middle\" x=\"1341.5\" y=\"-225.2\" font-family=\"trebuchet\" font-size=\"11.00\">samples: 222</text>\n</g>\n<!-- 29&#45;&gt;31 -->\n<g id=\"edge31\" class=\"edge\">\n<title>29&#45;&gt;31</title>\n<path fill=\"none\" stroke=\"black\" stroke-width=\"0.6\" d=\"M1350.5,-287.83C1350.5,-287.83 1350.5,-262.41 1350.5,-262.41\"/>\n<polygon fill=\"black\" stroke=\"black\" stroke-width=\"0.6\" points=\"1354,-262.41 1350.5,-252.41 1347,-262.41 1354,-262.41\"/>\n<text text-anchor=\"middle\" x=\"1342\" y=\"-277.52\" font-family=\"Times,serif\" font-size=\"7.00\">&gt; &#45;0.5</text>\n</g>\n<!-- 33 -->\n<g id=\"node34\" class=\"node\">\n<title>33</title>\n<polygon fill=\"#ffffff\" stroke=\"black\" stroke-width=\"1.2\" points=\"1604,-252 1441,-252 1441,-216 1604,-216 1604,-252\"/>\n<text text-anchor=\"middle\" x=\"1522.5\" y=\"-237.2\" font-family=\"trebuchet\" font-size=\"11.00\">Mean: 8.52033 | Var: 3.868497</text>\n<text text-anchor=\"middle\" x=\"1522.5\" y=\"-225.2\" font-family=\"trebuchet\" font-size=\"11.00\">samples: 56</text>\n</g>\n<!-- 32&#45;&gt;33 -->\n<g id=\"edge33\" class=\"edge\">\n<title>32&#45;&gt;33</title>\n<path fill=\"none\" stroke=\"black\" stroke-width=\"0.6\" d=\"M1522.5,-287.83C1522.5,-287.83 1522.5,-262.41 1522.5,-262.41\"/>\n<polygon fill=\"black\" stroke=\"black\" stroke-width=\"0.6\" points=\"1526,-262.41 1522.5,-252.41 1519,-262.41 1526,-262.41\"/>\n<text text-anchor=\"middle\" x=\"1514\" y=\"-277.52\" font-family=\"Times,serif\" font-size=\"7.00\">≤ &#45;1.0</text>\n</g>\n<!-- 34 -->\n<g id=\"node35\" class=\"node\">\n<title>34</title>\n<polygon fill=\"#ffffff\" stroke=\"black\" stroke-width=\"1.2\" points=\"1797,-252 1622,-252 1622,-216 1797,-216 1797,-252\"/>\n<text text-anchor=\"middle\" x=\"1709.5\" y=\"-237.2\" font-family=\"trebuchet\" font-size=\"11.00\">Mean: 11.084248 | Var: 8.118005</text>\n<text text-anchor=\"middle\" x=\"1709.5\" y=\"-225.2\" font-family=\"trebuchet\" font-size=\"11.00\">samples: 552</text>\n</g>\n<!-- 32&#45;&gt;34 -->\n<g id=\"edge34\" class=\"edge\">\n<title>32&#45;&gt;34</title>\n<path fill=\"none\" stroke=\"black\" stroke-width=\"0.6\" d=\"M1549.69,-306C1599.76,-306 1701.5,-306 1701.5,-306 1701.5,-306 1701.5,-262.17 1701.5,-262.17\"/>\n<polygon fill=\"black\" stroke=\"black\" stroke-width=\"0.6\" points=\"1705,-262.17 1701.5,-252.17 1698,-262.17 1705,-262.17\"/>\n<text text-anchor=\"middle\" x=\"1639.01\" y=\"-308.4\" font-family=\"Times,serif\" font-size=\"7.00\">&gt; &#45;1.0</text>\n</g>\n<!-- 36 -->\n<g id=\"node37\" class=\"node\">\n<title>36</title>\n<polygon fill=\"#ffffff\" stroke=\"black\" stroke-width=\"1.2\" points=\"1781,-396 1606,-396 1606,-360 1781,-360 1781,-396\"/>\n<text text-anchor=\"middle\" x=\"1693.5\" y=\"-381.2\" font-family=\"trebuchet\" font-size=\"11.00\">Mean: 17.551546 | Var: 9.296023</text>\n<text text-anchor=\"middle\" x=\"1693.5\" y=\"-369.2\" font-family=\"trebuchet\" font-size=\"11.00\">samples: 202</text>\n</g>\n<!-- 35&#45;&gt;36 -->\n<g id=\"edge36\" class=\"edge\">\n<title>35&#45;&gt;36</title>\n<path fill=\"none\" stroke=\"black\" stroke-width=\"0.6\" d=\"M1693.5,-431.83C1693.5,-431.83 1693.5,-406.41 1693.5,-406.41\"/>\n<polygon fill=\"black\" stroke=\"black\" stroke-width=\"0.6\" points=\"1697,-406.41 1693.5,-396.41 1690,-406.41 1697,-406.41\"/>\n<text text-anchor=\"middle\" x=\"1685\" y=\"-421.52\" font-family=\"Times,serif\" font-size=\"7.00\">≤ &#45;1.6</text>\n</g>\n<!-- 37 -->\n<g id=\"node38\" class=\"node\">\n<title>37</title>\n<polygon fill=\"#ffffff\" stroke=\"black\" stroke-width=\"1.2\" points=\"1949.5,-396 1895.5,-396 1895.5,-360 1949.5,-360 1949.5,-396\"/>\n<text text-anchor=\"middle\" x=\"1922.5\" y=\"-375.2\" font-family=\"trebuchet\" font-size=\"11.00\">2</text>\n</g>\n<!-- 35&#45;&gt;37 -->\n<g id=\"edge37\" class=\"edge\">\n<title>35&#45;&gt;37</title>\n<path fill=\"none\" stroke=\"black\" stroke-width=\"0.6\" d=\"M1720.67,-450C1781.33,-450 1922.5,-450 1922.5,-450 1922.5,-450 1922.5,-406.17 1922.5,-406.17\"/>\n<polygon fill=\"black\" stroke=\"black\" stroke-width=\"0.6\" points=\"1926,-406.17 1922.5,-396.17 1919,-406.17 1926,-406.17\"/>\n<text text-anchor=\"middle\" x=\"1835\" y=\"-452.4\" font-family=\"Times,serif\" font-size=\"7.00\">&gt; &#45;1.6</text>\n</g>\n<!-- 38 -->\n<g id=\"node39\" class=\"node\">\n<title>38</title>\n<polygon fill=\"#ffffff\" stroke=\"black\" stroke-width=\"1.2\" points=\"1949.5,-324 1895.5,-324 1895.5,-288 1949.5,-288 1949.5,-324\"/>\n<text text-anchor=\"middle\" x=\"1922.5\" y=\"-303.2\" font-family=\"trebuchet\" font-size=\"11.00\">3</text>\n</g>\n<!-- 37&#45;&gt;38 -->\n<g id=\"edge38\" class=\"edge\">\n<title>37&#45;&gt;38</title>\n<path fill=\"none\" stroke=\"black\" stroke-width=\"0.6\" d=\"M1922.5,-359.83C1922.5,-359.83 1922.5,-334.41 1922.5,-334.41\"/>\n<polygon fill=\"black\" stroke=\"black\" stroke-width=\"0.6\" points=\"1926,-334.41 1922.5,-324.41 1919,-334.41 1926,-334.41\"/>\n<text text-anchor=\"middle\" x=\"1914\" y=\"-349.52\" font-family=\"Times,serif\" font-size=\"7.00\">≤ &#45;1.1</text>\n</g>\n<!-- 41 -->\n<g id=\"node42\" class=\"node\">\n<title>41</title>\n<polygon fill=\"#ffffff\" stroke=\"black\" stroke-width=\"1.2\" points=\"2121.5,-324 2067.5,-324 2067.5,-288 2121.5,-288 2121.5,-324\"/>\n<text text-anchor=\"middle\" x=\"2094.5\" y=\"-303.2\" font-family=\"trebuchet\" font-size=\"11.00\">0</text>\n</g>\n<!-- 37&#45;&gt;41 -->\n<g id=\"edge41\" class=\"edge\">\n<title>37&#45;&gt;41</title>\n<path fill=\"none\" stroke=\"black\" stroke-width=\"0.6\" d=\"M1949.62,-378C1952.27,-378 1954,-378 1954,-378 1954,-378 1954,-312 1954,-312 1954,-312 2057.41,-312 2057.41,-312\"/>\n<polygon fill=\"black\" stroke=\"black\" stroke-width=\"0.6\" points=\"2057.41,-315.5 2067.41,-312 2057.41,-308.5 2057.41,-315.5\"/>\n<text text-anchor=\"middle\" x=\"1962.02\" y=\"-314.4\" font-family=\"Times,serif\" font-size=\"7.00\">&gt; &#45;1.1</text>\n</g>\n<!-- 39 -->\n<g id=\"node40\" class=\"node\">\n<title>39</title>\n<polygon fill=\"#ffffff\" stroke=\"black\" stroke-width=\"1.2\" points=\"1990,-252 1815,-252 1815,-216 1990,-216 1990,-252\"/>\n<text text-anchor=\"middle\" x=\"1902.5\" y=\"-237.2\" font-family=\"trebuchet\" font-size=\"11.00\">Mean: 14.352666 | Var: 8.032903</text>\n<text text-anchor=\"middle\" x=\"1902.5\" y=\"-225.2\" font-family=\"trebuchet\" font-size=\"11.00\">samples: 208</text>\n</g>\n<!-- 38&#45;&gt;39 -->\n<g id=\"edge39\" class=\"edge\">\n<title>38&#45;&gt;39</title>\n<path fill=\"none\" stroke=\"black\" stroke-width=\"0.6\" d=\"M1922.5,-287.83C1922.5,-287.83 1922.5,-262.41 1922.5,-262.41\"/>\n<polygon fill=\"black\" stroke=\"black\" stroke-width=\"0.6\" points=\"1926,-262.41 1922.5,-252.41 1919,-262.41 1926,-262.41\"/>\n<text text-anchor=\"middle\" x=\"1914\" y=\"-277.52\" font-family=\"Times,serif\" font-size=\"7.00\">≤ &#45;1.1</text>\n</g>\n<!-- 40 -->\n<g id=\"node41\" class=\"node\">\n<title>40</title>\n<polygon fill=\"#ffffff\" stroke=\"black\" stroke-width=\"1.2\" points=\"2183,-252 2008,-252 2008,-216 2183,-216 2183,-252\"/>\n<text text-anchor=\"middle\" x=\"2095.5\" y=\"-237.2\" font-family=\"trebuchet\" font-size=\"11.00\">Mean: 16.767205 | Var: 7.283559</text>\n<text text-anchor=\"middle\" x=\"2095.5\" y=\"-225.2\" font-family=\"trebuchet\" font-size=\"11.00\">samples: 338</text>\n</g>\n<!-- 38&#45;&gt;40 -->\n<g id=\"edge40\" class=\"edge\">\n<title>38&#45;&gt;40</title>\n<path fill=\"none\" stroke=\"black\" stroke-width=\"0.6\" d=\"M1949.52,-300C1983.59,-300 2037.75,-300 2037.75,-300 2037.75,-300 2037.75,-262.03 2037.75,-262.03\"/>\n<polygon fill=\"black\" stroke=\"black\" stroke-width=\"0.6\" points=\"2041.25,-262.03 2037.75,-252.03 2034.25,-262.03 2041.25,-262.03\"/>\n<text text-anchor=\"middle\" x=\"2004.12\" y=\"-302.4\" font-family=\"Times,serif\" font-size=\"7.00\">&gt; &#45;1.1</text>\n</g>\n<!-- 42 -->\n<g id=\"node43\" class=\"node\">\n<title>42</title>\n<polygon fill=\"#ffffff\" stroke=\"black\" stroke-width=\"1.2\" points=\"2255.5,-252 2201.5,-252 2201.5,-216 2255.5,-216 2255.5,-252\"/>\n<text text-anchor=\"middle\" x=\"2228.5\" y=\"-231.2\" font-family=\"trebuchet\" font-size=\"11.00\">1</text>\n</g>\n<!-- 41&#45;&gt;42 -->\n<g id=\"edge42\" class=\"edge\">\n<title>41&#45;&gt;42</title>\n<path fill=\"none\" stroke=\"black\" stroke-width=\"0.6\" d=\"M2085.5,-287.75C2085.5,-273.82 2085.5,-257 2085.5,-257 2085.5,-257 2228.5,-257 2228.5,-257 2228.5,-257 2228.5,-256.51 2228.5,-256.51\"/>\n<polygon fill=\"black\" stroke=\"black\" stroke-width=\"0.6\" points=\"2232,-262.12 2228.5,-252.12 2225,-262.12 2232,-262.12\"/>\n<text text-anchor=\"middle\" x=\"2133.37\" y=\"-259.4\" font-family=\"Times,serif\" font-size=\"7.00\">≤ &#45;0.1</text>\n</g>\n<!-- 49 -->\n<g id=\"node50\" class=\"node\">\n<title>49</title>\n<polygon fill=\"#ffffff\" stroke=\"black\" stroke-width=\"1.2\" points=\"2619.5,-252 2565.5,-252 2565.5,-216 2619.5,-216 2619.5,-252\"/>\n<text text-anchor=\"middle\" x=\"2592.5\" y=\"-231.2\" font-family=\"trebuchet\" font-size=\"11.00\">1</text>\n</g>\n<!-- 41&#45;&gt;49 -->\n<g id=\"edge49\" class=\"edge\">\n<title>41&#45;&gt;49</title>\n<path fill=\"none\" stroke=\"black\" stroke-width=\"0.6\" d=\"M2103.5,-287.81C2103.5,-284.46 2103.5,-282 2103.5,-282 2103.5,-282 2592.5,-282 2592.5,-282 2592.5,-282 2592.5,-262.15 2592.5,-262.15\"/>\n<polygon fill=\"black\" stroke=\"black\" stroke-width=\"0.6\" points=\"2596,-262.15 2592.5,-252.15 2589,-262.15 2596,-262.15\"/>\n<text text-anchor=\"middle\" x=\"2346.52\" y=\"-276.4\" font-family=\"Times,serif\" font-size=\"7.00\">&gt; &#45;0.1</text>\n</g>\n<!-- 43 -->\n<g id=\"node44\" class=\"node\">\n<title>43</title>\n<polygon fill=\"#ffffff\" stroke=\"black\" stroke-width=\"1.2\" points=\"2043.5,-180 1989.5,-180 1989.5,-144 2043.5,-144 2043.5,-180\"/>\n<text text-anchor=\"middle\" x=\"2016.5\" y=\"-159.2\" font-family=\"trebuchet\" font-size=\"11.00\">4</text>\n</g>\n<!-- 42&#45;&gt;43 -->\n<g id=\"edge43\" class=\"edge\">\n<title>42&#45;&gt;43</title>\n<path fill=\"none\" stroke=\"black\" stroke-width=\"0.6\" d=\"M2201.4,-234C2196.15,-234 2192.25,-234 2192.25,-234 2192.25,-234 2192.25,-162 2192.25,-162 2192.25,-162 2053.58,-162 2053.58,-162\"/>\n<polygon fill=\"black\" stroke=\"black\" stroke-width=\"0.6\" points=\"2053.58,-158.5 2043.58,-162 2053.58,-165.5 2053.58,-158.5\"/>\n<text text-anchor=\"middle\" x=\"2155.99\" y=\"-164.4\" font-family=\"Times,serif\" font-size=\"7.00\">≤ 0.1</text>\n</g>\n<!-- 46 -->\n<g id=\"node47\" class=\"node\">\n<title>46</title>\n<polygon fill=\"#ffffff\" stroke=\"black\" stroke-width=\"1.2\" points=\"2255.5,-180 2201.5,-180 2201.5,-144 2255.5,-144 2255.5,-180\"/>\n<text text-anchor=\"middle\" x=\"2228.5\" y=\"-159.2\" font-family=\"trebuchet\" font-size=\"11.00\">3</text>\n</g>\n<!-- 42&#45;&gt;46 -->\n<g id=\"edge46\" class=\"edge\">\n<title>42&#45;&gt;46</title>\n<path fill=\"none\" stroke=\"black\" stroke-width=\"0.6\" d=\"M2228.5,-215.83C2228.5,-215.83 2228.5,-190.41 2228.5,-190.41\"/>\n<polygon fill=\"black\" stroke=\"black\" stroke-width=\"0.6\" points=\"2232,-190.41 2228.5,-180.41 2225,-190.41 2232,-190.41\"/>\n<text text-anchor=\"middle\" x=\"2221\" y=\"-205.52\" font-family=\"Times,serif\" font-size=\"7.00\">&gt; 0.1</text>\n</g>\n<!-- 44 -->\n<g id=\"node45\" class=\"node\">\n<title>44</title>\n<polygon fill=\"#ffffff\" stroke=\"black\" stroke-width=\"1.2\" points=\"1911,-108 1742,-108 1742,-72 1911,-72 1911,-108\"/>\n<text text-anchor=\"middle\" x=\"1826.5\" y=\"-93.2\" font-family=\"trebuchet\" font-size=\"11.00\">Mean: 9.258467 | Var: 5.389888</text>\n<text text-anchor=\"middle\" x=\"1826.5\" y=\"-81.2\" font-family=\"trebuchet\" font-size=\"11.00\">samples: 86</text>\n</g>\n<!-- 43&#45;&gt;44 -->\n<g id=\"edge44\" class=\"edge\">\n<title>43&#45;&gt;44</title>\n<path fill=\"none\" stroke=\"black\" stroke-width=\"0.6\" d=\"M1989.41,-162C1945.34,-162 1863,-162 1863,-162 1863,-162 1863,-118.17 1863,-118.17\"/>\n<polygon fill=\"black\" stroke=\"black\" stroke-width=\"0.6\" points=\"1866.5,-118.17 1863,-108.17 1859.5,-118.17 1866.5,-118.17\"/>\n<text text-anchor=\"middle\" x=\"1895.79\" y=\"-164.4\" font-family=\"Times,serif\" font-size=\"7.00\">≤ &#45;0.3</text>\n</g>\n<!-- 45 -->\n<g id=\"node46\" class=\"node\">\n<title>45</title>\n<polygon fill=\"#ffffff\" stroke=\"black\" stroke-width=\"1.2\" points=\"2104,-108 1929,-108 1929,-72 2104,-72 2104,-108\"/>\n<text text-anchor=\"middle\" x=\"2016.5\" y=\"-93.2\" font-family=\"trebuchet\" font-size=\"11.00\">Mean: 11.422816 | Var: 5.916306</text>\n<text text-anchor=\"middle\" x=\"2016.5\" y=\"-81.2\" font-family=\"trebuchet\" font-size=\"11.00\">samples: 206</text>\n</g>\n<!-- 43&#45;&gt;45 -->\n<g id=\"edge45\" class=\"edge\">\n<title>43&#45;&gt;45</title>\n<path fill=\"none\" stroke=\"black\" stroke-width=\"0.6\" d=\"M2016.5,-143.83C2016.5,-143.83 2016.5,-118.41 2016.5,-118.41\"/>\n<polygon fill=\"black\" stroke=\"black\" stroke-width=\"0.6\" points=\"2020,-118.41 2016.5,-108.41 2013,-118.41 2020,-118.41\"/>\n<text text-anchor=\"middle\" x=\"2008\" y=\"-133.52\" font-family=\"Times,serif\" font-size=\"7.00\">&gt; &#45;0.3</text>\n</g>\n<!-- 47 -->\n<g id=\"node48\" class=\"node\">\n<title>47</title>\n<polygon fill=\"#ffffff\" stroke=\"black\" stroke-width=\"1.2\" points=\"2297,-108 2122,-108 2122,-72 2297,-72 2297,-108\"/>\n<text text-anchor=\"middle\" x=\"2209.5\" y=\"-93.2\" font-family=\"trebuchet\" font-size=\"11.00\">Mean: 11.595447 | Var: 6.805256</text>\n<text text-anchor=\"middle\" x=\"2209.5\" y=\"-81.2\" font-family=\"trebuchet\" font-size=\"11.00\">samples: 112</text>\n</g>\n<!-- 46&#45;&gt;47 -->\n<g id=\"edge47\" class=\"edge\">\n<title>46&#45;&gt;47</title>\n<path fill=\"none\" stroke=\"black\" stroke-width=\"0.6\" d=\"M2228.5,-143.83C2228.5,-143.83 2228.5,-118.41 2228.5,-118.41\"/>\n<polygon fill=\"black\" stroke=\"black\" stroke-width=\"0.6\" points=\"2232,-118.41 2228.5,-108.41 2225,-118.41 2232,-118.41\"/>\n<text text-anchor=\"middle\" x=\"2220\" y=\"-133.52\" font-family=\"Times,serif\" font-size=\"7.00\">≤ &#45;1.3</text>\n</g>\n<!-- 48 -->\n<g id=\"node49\" class=\"node\">\n<title>48</title>\n<polygon fill=\"#ffffff\" stroke=\"black\" stroke-width=\"1.2\" points=\"2490,-108 2315,-108 2315,-72 2490,-72 2490,-108\"/>\n<text text-anchor=\"middle\" x=\"2402.5\" y=\"-93.2\" font-family=\"trebuchet\" font-size=\"11.00\">Mean: 13.957071 | Var: 8.532824</text>\n<text text-anchor=\"middle\" x=\"2402.5\" y=\"-81.2\" font-family=\"trebuchet\" font-size=\"11.00\">samples: 508</text>\n</g>\n<!-- 46&#45;&gt;48 -->\n<g id=\"edge48\" class=\"edge\">\n<title>46&#45;&gt;48</title>\n<path fill=\"none\" stroke=\"black\" stroke-width=\"0.6\" d=\"M2255.61,-162C2283.85,-162 2324,-162 2324,-162 2324,-162 2324,-118.17 2324,-118.17\"/>\n<polygon fill=\"black\" stroke=\"black\" stroke-width=\"0.6\" points=\"2327.5,-118.17 2324,-108.17 2320.5,-118.17 2327.5,-118.17\"/>\n<text text-anchor=\"middle\" x=\"2303.22\" y=\"-164.4\" font-family=\"Times,serif\" font-size=\"7.00\">&gt; &#45;1.3</text>\n</g>\n<!-- 50 -->\n<g id=\"node51\" class=\"node\">\n<title>50</title>\n<polygon fill=\"#ffffff\" stroke=\"black\" stroke-width=\"1.2\" points=\"2619.5,-180 2565.5,-180 2565.5,-144 2619.5,-144 2619.5,-180\"/>\n<text text-anchor=\"middle\" x=\"2592.5\" y=\"-159.2\" font-family=\"trebuchet\" font-size=\"11.00\">3</text>\n</g>\n<!-- 49&#45;&gt;50 -->\n<g id=\"edge50\" class=\"edge\">\n<title>49&#45;&gt;50</title>\n<path fill=\"none\" stroke=\"black\" stroke-width=\"0.6\" d=\"M2592.5,-215.83C2592.5,-215.83 2592.5,-190.41 2592.5,-190.41\"/>\n<polygon fill=\"black\" stroke=\"black\" stroke-width=\"0.6\" points=\"2596,-190.41 2592.5,-180.41 2589,-190.41 2596,-190.41\"/>\n<text text-anchor=\"middle\" x=\"2585\" y=\"-205.52\" font-family=\"Times,serif\" font-size=\"7.00\">≤ 1.4</text>\n</g>\n<!-- 55 -->\n<g id=\"node56\" class=\"node\">\n<title>55</title>\n<polygon fill=\"#ffffff\" stroke=\"black\" stroke-width=\"1.2\" points=\"2819,-180 2638,-180 2638,-144 2819,-144 2819,-180\"/>\n<text text-anchor=\"middle\" x=\"2728.5\" y=\"-165.2\" font-family=\"trebuchet\" font-size=\"11.00\">Mean: 13.625523 | Var: 12.739047</text>\n<text text-anchor=\"middle\" x=\"2728.5\" y=\"-153.2\" font-family=\"trebuchet\" font-size=\"11.00\">samples: 1468</text>\n</g>\n<!-- 49&#45;&gt;55 -->\n<g id=\"edge55\" class=\"edge\">\n<title>49&#45;&gt;55</title>\n<path fill=\"none\" stroke=\"black\" stroke-width=\"0.6\" d=\"M2619.57,-234C2634.48,-234 2650,-234 2650,-234 2650,-234 2650,-190.17 2650,-190.17\"/>\n<polygon fill=\"black\" stroke=\"black\" stroke-width=\"0.6\" points=\"2653.5,-190.17 2650,-180.17 2646.5,-190.17 2653.5,-190.17\"/>\n<text text-anchor=\"middle\" x=\"2642.5\" y=\"-229.7\" font-family=\"Times,serif\" font-size=\"7.00\">&gt; 1.4</text>\n</g>\n<!-- 51 -->\n<g id=\"node52\" class=\"node\">\n<title>51</title>\n<polygon fill=\"#ffffff\" stroke=\"black\" stroke-width=\"1.2\" points=\"2677,-108 2508,-108 2508,-72 2677,-72 2677,-108\"/>\n<text text-anchor=\"middle\" x=\"2592.5\" y=\"-93.2\" font-family=\"trebuchet\" font-size=\"11.00\">Mean: 13.00708 | Var: 6.352228</text>\n<text text-anchor=\"middle\" x=\"2592.5\" y=\"-81.2\" font-family=\"trebuchet\" font-size=\"11.00\">samples: 185</text>\n</g>\n<!-- 50&#45;&gt;51 -->\n<g id=\"edge51\" class=\"edge\">\n<title>50&#45;&gt;51</title>\n<path fill=\"none\" stroke=\"black\" stroke-width=\"0.6\" d=\"M2583.5,-143.83C2583.5,-143.83 2583.5,-118.41 2583.5,-118.41\"/>\n<polygon fill=\"black\" stroke=\"black\" stroke-width=\"0.6\" points=\"2587,-118.41 2583.5,-108.41 2580,-118.41 2587,-118.41\"/>\n<text text-anchor=\"middle\" x=\"2575\" y=\"-133.52\" font-family=\"Times,serif\" font-size=\"7.00\">≤ &#45;1.3</text>\n</g>\n<!-- 52 -->\n<g id=\"node53\" class=\"node\">\n<title>52</title>\n<polygon fill=\"#ffffff\" stroke=\"black\" stroke-width=\"1.2\" points=\"2749.5,-108 2695.5,-108 2695.5,-72 2749.5,-72 2749.5,-108\"/>\n<text text-anchor=\"middle\" x=\"2722.5\" y=\"-87.2\" font-family=\"trebuchet\" font-size=\"11.00\">1</text>\n</g>\n<!-- 50&#45;&gt;52 -->\n<g id=\"edge52\" class=\"edge\">\n<title>50&#45;&gt;52</title>\n<path fill=\"none\" stroke=\"black\" stroke-width=\"0.6\" d=\"M2601.5,-143.86C2601.5,-137.54 2601.5,-132 2601.5,-132 2601.5,-132 2722.5,-132 2722.5,-132 2722.5,-132 2722.5,-118.06 2722.5,-118.06\"/>\n<polygon fill=\"black\" stroke=\"black\" stroke-width=\"0.6\" points=\"2726,-118.06 2722.5,-108.06 2719,-118.06 2726,-118.06\"/>\n<text text-anchor=\"middle\" x=\"2654.54\" y=\"-134.4\" font-family=\"Times,serif\" font-size=\"7.00\">&gt; &#45;1.3</text>\n</g>\n<!-- 53 -->\n<g id=\"node54\" class=\"node\">\n<title>53</title>\n<polygon fill=\"#ffffff\" stroke=\"black\" stroke-width=\"1.2\" points=\"2714,-36 2539,-36 2539,0 2714,0 2714,-36\"/>\n<text text-anchor=\"middle\" x=\"2626.5\" y=\"-21.2\" font-family=\"trebuchet\" font-size=\"11.00\">Mean: 15.509084 | Var: 6.760495</text>\n<text text-anchor=\"middle\" x=\"2626.5\" y=\"-9.2\" font-family=\"trebuchet\" font-size=\"11.00\">samples: 404</text>\n</g>\n<!-- 52&#45;&gt;53 -->\n<g id=\"edge53\" class=\"edge\">\n<title>52&#45;&gt;53</title>\n<path fill=\"none\" stroke=\"black\" stroke-width=\"0.6\" d=\"M2704.75,-71.83C2704.75,-71.83 2704.75,-46.41 2704.75,-46.41\"/>\n<polygon fill=\"black\" stroke=\"black\" stroke-width=\"0.6\" points=\"2708.25,-46.41 2704.75,-36.41 2701.25,-46.41 2708.25,-46.41\"/>\n<text text-anchor=\"middle\" x=\"2697.25\" y=\"-61.52\" font-family=\"Times,serif\" font-size=\"7.00\">≤ 1.1</text>\n</g>\n<!-- 54 -->\n<g id=\"node55\" class=\"node\">\n<title>54</title>\n<polygon fill=\"#ffffff\" stroke=\"black\" stroke-width=\"1.2\" points=\"2907,-36 2732,-36 2732,0 2907,0 2907,-36\"/>\n<text text-anchor=\"middle\" x=\"2819.5\" y=\"-21.2\" font-family=\"trebuchet\" font-size=\"11.00\">Mean: 14.888163 | Var: 8.157826</text>\n<text text-anchor=\"middle\" x=\"2819.5\" y=\"-9.2\" font-family=\"trebuchet\" font-size=\"11.00\">samples: 1304</text>\n</g>\n<!-- 52&#45;&gt;54 -->\n<g id=\"edge54\" class=\"edge\">\n<title>52&#45;&gt;54</title>\n<path fill=\"none\" stroke=\"black\" stroke-width=\"0.6\" d=\"M2740.75,-71.83C2740.75,-71.83 2740.75,-46.41 2740.75,-46.41\"/>\n<polygon fill=\"black\" stroke=\"black\" stroke-width=\"0.6\" points=\"2744.25,-46.41 2740.75,-36.41 2737.25,-46.41 2744.25,-46.41\"/>\n<text text-anchor=\"middle\" x=\"2733.25\" y=\"-61.52\" font-family=\"Times,serif\" font-size=\"7.00\">&gt; 1.1</text>\n</g>\n<!-- 57 -->\n<g id=\"node58\" class=\"node\">\n<title>57</title>\n<polygon fill=\"#ffffff\" stroke=\"black\" stroke-width=\"1.2\" points=\"2336.5,-612 2282.5,-612 2282.5,-576 2336.5,-576 2336.5,-612\"/>\n<text text-anchor=\"middle\" x=\"2309.5\" y=\"-591.2\" font-family=\"trebuchet\" font-size=\"11.00\">3</text>\n</g>\n<!-- 56&#45;&gt;57 -->\n<g id=\"edge57\" class=\"edge\">\n<title>56&#45;&gt;57</title>\n<path fill=\"none\" stroke=\"black\" stroke-width=\"0.6\" d=\"M2309.5,-647.83C2309.5,-647.83 2309.5,-622.41 2309.5,-622.41\"/>\n<polygon fill=\"black\" stroke=\"black\" stroke-width=\"0.6\" points=\"2313,-622.41 2309.5,-612.41 2306,-622.41 2313,-622.41\"/>\n<text text-anchor=\"middle\" x=\"2301\" y=\"-637.52\" font-family=\"Times,serif\" font-size=\"7.00\">≤ &#45;0.8</text>\n</g>\n<!-- 76 -->\n<g id=\"node77\" class=\"node\">\n<title>76</title>\n<polygon fill=\"#ffffff\" stroke=\"black\" stroke-width=\"1.2\" points=\"3265.5,-612 3211.5,-612 3211.5,-576 3265.5,-576 3265.5,-612\"/>\n<text text-anchor=\"middle\" x=\"3238.5\" y=\"-591.2\" font-family=\"trebuchet\" font-size=\"11.00\">0</text>\n</g>\n<!-- 56&#45;&gt;76 -->\n<g id=\"edge76\" class=\"edge\">\n<title>56&#45;&gt;76</title>\n<path fill=\"none\" stroke=\"black\" stroke-width=\"0.6\" d=\"M2336.55,-666C2489.44,-666 3238.5,-666 3238.5,-666 3238.5,-666 3238.5,-622.17 3238.5,-622.17\"/>\n<polygon fill=\"black\" stroke=\"black\" stroke-width=\"0.6\" points=\"3242,-622.17 3238.5,-612.17 3235,-622.17 3242,-622.17\"/>\n<text text-anchor=\"middle\" x=\"2800.94\" y=\"-668.4\" font-family=\"Times,serif\" font-size=\"7.00\">&gt; &#45;0.8</text>\n</g>\n<!-- 58 -->\n<g id=\"node59\" class=\"node\">\n<title>58</title>\n<polygon fill=\"#ffffff\" stroke=\"black\" stroke-width=\"1.2\" points=\"2254.5,-540 2200.5,-540 2200.5,-504 2254.5,-504 2254.5,-540\"/>\n<text text-anchor=\"middle\" x=\"2227.5\" y=\"-519.2\" font-family=\"trebuchet\" font-size=\"11.00\">4</text>\n</g>\n<!-- 57&#45;&gt;58 -->\n<g id=\"edge58\" class=\"edge\">\n<title>57&#45;&gt;58</title>\n<path fill=\"none\" stroke=\"black\" stroke-width=\"0.6\" d=\"M2282.2,-594C2258.34,-594 2227.5,-594 2227.5,-594 2227.5,-594 2227.5,-550.17 2227.5,-550.17\"/>\n<polygon fill=\"black\" stroke=\"black\" stroke-width=\"0.6\" points=\"2231,-550.17 2227.5,-540.17 2224,-550.17 2231,-550.17\"/>\n<text text-anchor=\"middle\" x=\"2225.43\" y=\"-596.4\" font-family=\"Times,serif\" font-size=\"7.00\">≤ 0.6</text>\n</g>\n<!-- 65 -->\n<g id=\"node66\" class=\"node\">\n<title>65</title>\n<polygon fill=\"#ffffff\" stroke=\"black\" stroke-width=\"1.2\" points=\"2499.5,-540 2445.5,-540 2445.5,-504 2499.5,-504 2499.5,-540\"/>\n<text text-anchor=\"middle\" x=\"2472.5\" y=\"-519.2\" font-family=\"trebuchet\" font-size=\"11.00\">0</text>\n</g>\n<!-- 57&#45;&gt;65 -->\n<g id=\"edge65\" class=\"edge\">\n<title>57&#45;&gt;65</title>\n<path fill=\"none\" stroke=\"black\" stroke-width=\"0.6\" d=\"M2336.78,-594C2383.18,-594 2472.5,-594 2472.5,-594 2472.5,-594 2472.5,-550.17 2472.5,-550.17\"/>\n<polygon fill=\"black\" stroke=\"black\" stroke-width=\"0.6\" points=\"2476,-550.17 2472.5,-540.17 2469,-550.17 2476,-550.17\"/>\n<text text-anchor=\"middle\" x=\"2419.06\" y=\"-596.4\" font-family=\"Times,serif\" font-size=\"7.00\">&gt; 0.6</text>\n</g>\n<!-- 59 -->\n<g id=\"node60\" class=\"node\">\n<title>59</title>\n<polygon fill=\"#ffffff\" stroke=\"black\" stroke-width=\"1.2\" points=\"2182,-468 2019,-468 2019,-432 2182,-432 2182,-468\"/>\n<text text-anchor=\"middle\" x=\"2100.5\" y=\"-453.2\" font-family=\"trebuchet\" font-size=\"11.00\">Mean: 9.877496 | Var: 6.45496</text>\n<text text-anchor=\"middle\" x=\"2100.5\" y=\"-441.2\" font-family=\"trebuchet\" font-size=\"11.00\">samples: 219</text>\n</g>\n<!-- 58&#45;&gt;59 -->\n<g id=\"edge59\" class=\"edge\">\n<title>58&#45;&gt;59</title>\n<path fill=\"none\" stroke=\"black\" stroke-width=\"0.6\" d=\"M2200.26,-516C2162.94,-516 2100.5,-516 2100.5,-516 2100.5,-516 2100.5,-478.03 2100.5,-478.03\"/>\n<polygon fill=\"black\" stroke=\"black\" stroke-width=\"0.6\" points=\"2104,-478.03 2100.5,-468.03 2097,-478.03 2104,-478.03\"/>\n<text text-anchor=\"middle\" x=\"2122.9\" y=\"-518.4\" font-family=\"Times,serif\" font-size=\"7.00\">≤ &#45;0.9</text>\n</g>\n<!-- 60 -->\n<g id=\"node61\" class=\"node\">\n<title>60</title>\n<polygon fill=\"#ffffff\" stroke=\"black\" stroke-width=\"1.2\" points=\"2254.5,-468 2200.5,-468 2200.5,-432 2254.5,-432 2254.5,-468\"/>\n<text text-anchor=\"middle\" x=\"2227.5\" y=\"-447.2\" font-family=\"trebuchet\" font-size=\"11.00\">2</text>\n</g>\n<!-- 58&#45;&gt;60 -->\n<g id=\"edge60\" class=\"edge\">\n<title>58&#45;&gt;60</title>\n<path fill=\"none\" stroke=\"black\" stroke-width=\"0.6\" d=\"M2227.5,-503.83C2227.5,-503.83 2227.5,-478.41 2227.5,-478.41\"/>\n<polygon fill=\"black\" stroke=\"black\" stroke-width=\"0.6\" points=\"2231,-478.41 2227.5,-468.41 2224,-478.41 2231,-478.41\"/>\n<text text-anchor=\"middle\" x=\"2219\" y=\"-493.52\" font-family=\"Times,serif\" font-size=\"7.00\">&gt; &#45;0.9</text>\n</g>\n<!-- 61 -->\n<g id=\"node62\" class=\"node\">\n<title>61</title>\n<polygon fill=\"#ffffff\" stroke=\"black\" stroke-width=\"1.2\" points=\"2182,-396 2007,-396 2007,-360 2182,-360 2182,-396\"/>\n<text text-anchor=\"middle\" x=\"2094.5\" y=\"-381.2\" font-family=\"trebuchet\" font-size=\"11.00\">Mean: 14.445214 | Var: 5.857711</text>\n<text text-anchor=\"middle\" x=\"2094.5\" y=\"-369.2\" font-family=\"trebuchet\" font-size=\"11.00\">samples: 75</text>\n</g>\n<!-- 60&#45;&gt;61 -->\n<g id=\"edge61\" class=\"edge\">\n<title>60&#45;&gt;61</title>\n<path fill=\"none\" stroke=\"black\" stroke-width=\"0.6\" d=\"M2200.4,-450C2195.15,-450 2191.25,-450 2191.25,-450 2191.25,-450 2191.25,-378 2191.25,-378 2191.25,-378 2190.36,-378 2190.36,-378\"/>\n<polygon fill=\"black\" stroke=\"black\" stroke-width=\"0.6\" points=\"2192.32,-374.5 2182.32,-378 2192.32,-381.5 2192.32,-374.5\"/>\n<text text-anchor=\"middle\" x=\"2182.75\" y=\"-420.53\" font-family=\"Times,serif\" font-size=\"7.00\">≤ &#45;1.3</text>\n</g>\n<!-- 62 -->\n<g id=\"node63\" class=\"node\">\n<title>62</title>\n<polygon fill=\"#ffffff\" stroke=\"black\" stroke-width=\"1.2\" points=\"2254.5,-396 2200.5,-396 2200.5,-360 2254.5,-360 2254.5,-396\"/>\n<text text-anchor=\"middle\" x=\"2227.5\" y=\"-375.2\" font-family=\"trebuchet\" font-size=\"11.00\">0</text>\n</g>\n<!-- 60&#45;&gt;62 -->\n<g id=\"edge62\" class=\"edge\">\n<title>60&#45;&gt;62</title>\n<path fill=\"none\" stroke=\"black\" stroke-width=\"0.6\" d=\"M2227.5,-431.83C2227.5,-431.83 2227.5,-406.41 2227.5,-406.41\"/>\n<polygon fill=\"black\" stroke=\"black\" stroke-width=\"0.6\" points=\"2231,-406.41 2227.5,-396.41 2224,-406.41 2231,-406.41\"/>\n<text text-anchor=\"middle\" x=\"2219\" y=\"-421.52\" font-family=\"Times,serif\" font-size=\"7.00\">&gt; &#45;1.3</text>\n</g>\n<!-- 63 -->\n<g id=\"node64\" class=\"node\">\n<title>63</title>\n<polygon fill=\"#ffffff\" stroke=\"black\" stroke-width=\"1.2\" points=\"2315,-324 2140,-324 2140,-288 2315,-288 2315,-324\"/>\n<text text-anchor=\"middle\" x=\"2227.5\" y=\"-309.2\" font-family=\"trebuchet\" font-size=\"11.00\">Mean: 10.906547 | Var: 4.710824</text>\n<text text-anchor=\"middle\" x=\"2227.5\" y=\"-297.2\" font-family=\"trebuchet\" font-size=\"11.00\">samples: 168</text>\n</g>\n<!-- 62&#45;&gt;63 -->\n<g id=\"edge63\" class=\"edge\">\n<title>62&#45;&gt;63</title>\n<path fill=\"none\" stroke=\"black\" stroke-width=\"0.6\" d=\"M2218.5,-359.83C2218.5,-359.83 2218.5,-334.41 2218.5,-334.41\"/>\n<polygon fill=\"black\" stroke=\"black\" stroke-width=\"0.6\" points=\"2222,-334.41 2218.5,-324.41 2215,-334.41 2222,-334.41\"/>\n<text text-anchor=\"middle\" x=\"2210\" y=\"-349.52\" font-family=\"Times,serif\" font-size=\"7.00\">≤ &#45;0.3</text>\n</g>\n<!-- 64 -->\n<g id=\"node65\" class=\"node\">\n<title>64</title>\n<polygon fill=\"#ffffff\" stroke=\"black\" stroke-width=\"1.2\" points=\"2496,-324 2333,-324 2333,-288 2496,-288 2496,-324\"/>\n<text text-anchor=\"middle\" x=\"2414.5\" y=\"-309.2\" font-family=\"trebuchet\" font-size=\"11.00\">Mean: 12.43339 | Var: 7.97266</text>\n<text text-anchor=\"middle\" x=\"2414.5\" y=\"-297.2\" font-family=\"trebuchet\" font-size=\"11.00\">samples: 622</text>\n</g>\n<!-- 62&#45;&gt;64 -->\n<g id=\"edge64\" class=\"edge\">\n<title>62&#45;&gt;64</title>\n<path fill=\"none\" stroke=\"black\" stroke-width=\"0.6\" d=\"M2236.5,-359.96C2236.5,-352.25 2236.5,-345 2236.5,-345 2236.5,-345 2390.5,-345 2390.5,-345 2390.5,-345 2390.5,-334.13 2390.5,-334.13\"/>\n<polygon fill=\"black\" stroke=\"black\" stroke-width=\"0.6\" points=\"2394,-334.13 2390.5,-324.13 2387,-334.13 2394,-334.13\"/>\n<text text-anchor=\"middle\" x=\"2302.96\" y=\"-347.4\" font-family=\"Times,serif\" font-size=\"7.00\">&gt; &#45;0.3</text>\n</g>\n<!-- 66 -->\n<g id=\"node67\" class=\"node\">\n<title>66</title>\n<polygon fill=\"#ffffff\" stroke=\"black\" stroke-width=\"1.2\" points=\"2499.5,-468 2445.5,-468 2445.5,-432 2499.5,-432 2499.5,-468\"/>\n<text text-anchor=\"middle\" x=\"2472.5\" y=\"-447.2\" font-family=\"trebuchet\" font-size=\"11.00\">4</text>\n</g>\n<!-- 65&#45;&gt;66 -->\n<g id=\"edge66\" class=\"edge\">\n<title>65&#45;&gt;66</title>\n<path fill=\"none\" stroke=\"black\" stroke-width=\"0.6\" d=\"M2472.5,-503.83C2472.5,-503.83 2472.5,-478.41 2472.5,-478.41\"/>\n<polygon fill=\"black\" stroke=\"black\" stroke-width=\"0.6\" points=\"2476,-478.41 2472.5,-468.41 2469,-478.41 2476,-478.41\"/>\n<text text-anchor=\"middle\" x=\"2464\" y=\"-493.52\" font-family=\"Times,serif\" font-size=\"7.00\">≤ &#45;0.9</text>\n</g>\n<!-- 69 -->\n<g id=\"node70\" class=\"node\">\n<title>69</title>\n<polygon fill=\"#ffffff\" stroke=\"black\" stroke-width=\"1.2\" points=\"2773.5,-468 2719.5,-468 2719.5,-432 2773.5,-432 2773.5,-468\"/>\n<text text-anchor=\"middle\" x=\"2746.5\" y=\"-447.2\" font-family=\"trebuchet\" font-size=\"11.00\">4</text>\n</g>\n<!-- 65&#45;&gt;69 -->\n<g id=\"edge69\" class=\"edge\">\n<title>65&#45;&gt;69</title>\n<path fill=\"none\" stroke=\"black\" stroke-width=\"0.6\" d=\"M2499.77,-528C2569.08,-528 2746.5,-528 2746.5,-528 2746.5,-528 2746.5,-478.09 2746.5,-478.09\"/>\n<polygon fill=\"black\" stroke=\"black\" stroke-width=\"0.6\" points=\"2750,-478.09 2746.5,-468.09 2743,-478.09 2750,-478.09\"/>\n<text text-anchor=\"middle\" x=\"2639.59\" y=\"-530.4\" font-family=\"Times,serif\" font-size=\"7.00\">&gt; &#45;0.9</text>\n</g>\n<!-- 67 -->\n<g id=\"node68\" class=\"node\">\n<title>67</title>\n<polygon fill=\"#ffffff\" stroke=\"black\" stroke-width=\"1.2\" points=\"2448,-396 2273,-396 2273,-360 2448,-360 2448,-396\"/>\n<text text-anchor=\"middle\" x=\"2360.5\" y=\"-381.2\" font-family=\"trebuchet\" font-size=\"11.00\">Mean: 11.220036 | Var: 3.988508</text>\n<text text-anchor=\"middle\" x=\"2360.5\" y=\"-369.2\" font-family=\"trebuchet\" font-size=\"11.00\">samples: 103</text>\n</g>\n<!-- 66&#45;&gt;67 -->\n<g id=\"edge67\" class=\"edge\">\n<title>66&#45;&gt;67</title>\n<path fill=\"none\" stroke=\"black\" stroke-width=\"0.6\" d=\"M2457,-431.83C2457,-410.5 2457,-378 2457,-378 2457,-378 2456.11,-378 2456.11,-378\"/>\n<polygon fill=\"black\" stroke=\"black\" stroke-width=\"0.6\" points=\"2458.09,-374.5 2448.09,-378 2458.09,-381.5 2458.09,-374.5\"/>\n<text text-anchor=\"middle\" x=\"2448.5\" y=\"-406.87\" font-family=\"Times,serif\" font-size=\"7.00\">≤ &#45;0.7</text>\n</g>\n<!-- 68 -->\n<g id=\"node69\" class=\"node\">\n<title>68</title>\n<polygon fill=\"#ffffff\" stroke=\"black\" stroke-width=\"1.2\" points=\"2641,-396 2466,-396 2466,-360 2641,-360 2641,-396\"/>\n<text text-anchor=\"middle\" x=\"2553.5\" y=\"-381.2\" font-family=\"trebuchet\" font-size=\"11.00\">Mean: 13.781371 | Var: 5.019466</text>\n<text text-anchor=\"middle\" x=\"2553.5\" y=\"-369.2\" font-family=\"trebuchet\" font-size=\"11.00\">samples: 279</text>\n</g>\n<!-- 66&#45;&gt;68 -->\n<g id=\"edge68\" class=\"edge\">\n<title>66&#45;&gt;68</title>\n<path fill=\"none\" stroke=\"black\" stroke-width=\"0.6\" d=\"M2482.75,-431.83C2482.75,-431.83 2482.75,-406.41 2482.75,-406.41\"/>\n<polygon fill=\"black\" stroke=\"black\" stroke-width=\"0.6\" points=\"2486.25,-406.41 2482.75,-396.41 2479.25,-406.41 2486.25,-406.41\"/>\n<text text-anchor=\"middle\" x=\"2474.25\" y=\"-421.52\" font-family=\"Times,serif\" font-size=\"7.00\">&gt; &#45;0.7</text>\n</g>\n<!-- 70 -->\n<g id=\"node71\" class=\"node\">\n<title>70</title>\n<polygon fill=\"#ffffff\" stroke=\"black\" stroke-width=\"1.2\" points=\"2834,-396 2659,-396 2659,-360 2834,-360 2834,-396\"/>\n<text text-anchor=\"middle\" x=\"2746.5\" y=\"-381.2\" font-family=\"trebuchet\" font-size=\"11.00\">Mean: 13.003729 | Var: 8.188414</text>\n<text text-anchor=\"middle\" x=\"2746.5\" y=\"-369.2\" font-family=\"trebuchet\" font-size=\"11.00\">samples: 219</text>\n</g>\n<!-- 69&#45;&gt;70 -->\n<g id=\"edge70\" class=\"edge\">\n<title>69&#45;&gt;70</title>\n<path fill=\"none\" stroke=\"black\" stroke-width=\"0.6\" d=\"M2746.5,-431.83C2746.5,-431.83 2746.5,-406.41 2746.5,-406.41\"/>\n<polygon fill=\"black\" stroke=\"black\" stroke-width=\"0.6\" points=\"2750,-406.41 2746.5,-396.41 2743,-406.41 2750,-406.41\"/>\n<text text-anchor=\"middle\" x=\"2738\" y=\"-421.52\" font-family=\"Times,serif\" font-size=\"7.00\">≤ &#45;0.9</text>\n</g>\n<!-- 71 -->\n<g id=\"node72\" class=\"node\">\n<title>71</title>\n<polygon fill=\"#ffffff\" stroke=\"black\" stroke-width=\"1.2\" points=\"2906.5,-396 2852.5,-396 2852.5,-360 2906.5,-360 2906.5,-396\"/>\n<text text-anchor=\"middle\" x=\"2879.5\" y=\"-375.2\" font-family=\"trebuchet\" font-size=\"11.00\">2</text>\n</g>\n<!-- 69&#45;&gt;71 -->\n<g id=\"edge71\" class=\"edge\">\n<title>69&#45;&gt;71</title>\n<path fill=\"none\" stroke=\"black\" stroke-width=\"0.6\" d=\"M2773.74,-456C2812.65,-456 2879.5,-456 2879.5,-456 2879.5,-456 2879.5,-406.09 2879.5,-406.09\"/>\n<polygon fill=\"black\" stroke=\"black\" stroke-width=\"0.6\" points=\"2883,-406.09 2879.5,-396.09 2876,-406.09 2883,-406.09\"/>\n<text text-anchor=\"middle\" x=\"2843.07\" y=\"-458.4\" font-family=\"Times,serif\" font-size=\"7.00\">&gt; &#45;0.9</text>\n</g>\n<!-- 72 -->\n<g id=\"node73\" class=\"node\">\n<title>72</title>\n<polygon fill=\"#ffffff\" stroke=\"black\" stroke-width=\"1.2\" points=\"2834,-324 2659,-324 2659,-288 2834,-288 2834,-324\"/>\n<text text-anchor=\"middle\" x=\"2746.5\" y=\"-309.2\" font-family=\"trebuchet\" font-size=\"11.00\">Mean: 17.891146 | Var: 7.039398</text>\n<text text-anchor=\"middle\" x=\"2746.5\" y=\"-297.2\" font-family=\"trebuchet\" font-size=\"11.00\">samples: 91</text>\n</g>\n<!-- 71&#45;&gt;72 -->\n<g id=\"edge72\" class=\"edge\">\n<title>71&#45;&gt;72</title>\n<path fill=\"none\" stroke=\"black\" stroke-width=\"0.6\" d=\"M2852.22,-378C2846.68,-378 2842.5,-378 2842.5,-378 2842.5,-378 2842.5,-306 2842.5,-306 2842.5,-306 2841.68,-306 2841.68,-306\"/>\n<polygon fill=\"black\" stroke=\"black\" stroke-width=\"0.6\" points=\"2844.32,-302.5 2834.32,-306 2844.32,-309.5 2844.32,-302.5\"/>\n<text text-anchor=\"middle\" x=\"2834\" y=\"-348.85\" font-family=\"Times,serif\" font-size=\"7.00\">≤ &#45;1.1</text>\n</g>\n<!-- 73 -->\n<g id=\"node74\" class=\"node\">\n<title>73</title>\n<polygon fill=\"#ffffff\" stroke=\"black\" stroke-width=\"1.2\" points=\"2906.5,-324 2852.5,-324 2852.5,-288 2906.5,-288 2906.5,-324\"/>\n<text text-anchor=\"middle\" x=\"2879.5\" y=\"-303.2\" font-family=\"trebuchet\" font-size=\"11.00\">1</text>\n</g>\n<!-- 71&#45;&gt;73 -->\n<g id=\"edge73\" class=\"edge\">\n<title>71&#45;&gt;73</title>\n<path fill=\"none\" stroke=\"black\" stroke-width=\"0.6\" d=\"M2879.5,-359.83C2879.5,-359.83 2879.5,-334.41 2879.5,-334.41\"/>\n<polygon fill=\"black\" stroke=\"black\" stroke-width=\"0.6\" points=\"2883,-334.41 2879.5,-324.41 2876,-334.41 2883,-334.41\"/>\n<text text-anchor=\"middle\" x=\"2871\" y=\"-349.52\" font-family=\"Times,serif\" font-size=\"7.00\">&gt; &#45;1.1</text>\n</g>\n<!-- 74 -->\n<g id=\"node75\" class=\"node\">\n<title>74</title>\n<polygon fill=\"#ffffff\" stroke=\"black\" stroke-width=\"1.2\" points=\"2851,-252 2676,-252 2676,-216 2851,-216 2851,-252\"/>\n<text text-anchor=\"middle\" x=\"2763.5\" y=\"-237.2\" font-family=\"trebuchet\" font-size=\"11.00\">Mean: 13.556038 | Var: 3.268562</text>\n<text text-anchor=\"middle\" x=\"2763.5\" y=\"-225.2\" font-family=\"trebuchet\" font-size=\"11.00\">samples: 69</text>\n</g>\n<!-- 73&#45;&gt;74 -->\n<g id=\"edge74\" class=\"edge\">\n<title>73&#45;&gt;74</title>\n<path fill=\"none\" stroke=\"black\" stroke-width=\"0.6\" d=\"M2860.75,-287.83C2860.75,-266.5 2860.75,-234 2860.75,-234 2860.75,-234 2859.78,-234 2859.78,-234\"/>\n<polygon fill=\"black\" stroke=\"black\" stroke-width=\"0.6\" points=\"2861.07,-230.5 2851.07,-234 2861.07,-237.5 2861.07,-230.5\"/>\n<text text-anchor=\"middle\" x=\"2852.25\" y=\"-262.83\" font-family=\"Times,serif\" font-size=\"7.00\">≤ &#45;1.5</text>\n</g>\n<!-- 75 -->\n<g id=\"node76\" class=\"node\">\n<title>75</title>\n<polygon fill=\"#ffffff\" stroke=\"black\" stroke-width=\"1.2\" points=\"3044,-252 2869,-252 2869,-216 3044,-216 3044,-252\"/>\n<text text-anchor=\"middle\" x=\"2956.5\" y=\"-237.2\" font-family=\"trebuchet\" font-size=\"11.00\">Mean: 15.269219 | Var: 8.424779</text>\n<text text-anchor=\"middle\" x=\"2956.5\" y=\"-225.2\" font-family=\"trebuchet\" font-size=\"11.00\">samples: 1035</text>\n</g>\n<!-- 73&#45;&gt;75 -->\n<g id=\"edge75\" class=\"edge\">\n<title>73&#45;&gt;75</title>\n<path fill=\"none\" stroke=\"black\" stroke-width=\"0.6\" d=\"M2887.75,-287.83C2887.75,-287.83 2887.75,-262.41 2887.75,-262.41\"/>\n<polygon fill=\"black\" stroke=\"black\" stroke-width=\"0.6\" points=\"2891.25,-262.41 2887.75,-252.41 2884.25,-262.41 2891.25,-262.41\"/>\n<text text-anchor=\"middle\" x=\"2879.25\" y=\"-277.52\" font-family=\"Times,serif\" font-size=\"7.00\">&gt; &#45;1.5</text>\n</g>\n<!-- 77 -->\n<g id=\"node78\" class=\"node\">\n<title>77</title>\n<polygon fill=\"#ffffff\" stroke=\"black\" stroke-width=\"1.2\" points=\"3265.5,-540 3211.5,-540 3211.5,-504 3265.5,-504 3265.5,-540\"/>\n<text text-anchor=\"middle\" x=\"3238.5\" y=\"-519.2\" font-family=\"trebuchet\" font-size=\"11.00\">0</text>\n</g>\n<!-- 76&#45;&gt;77 -->\n<g id=\"edge77\" class=\"edge\">\n<title>76&#45;&gt;77</title>\n<path fill=\"none\" stroke=\"black\" stroke-width=\"0.6\" d=\"M3238.5,-575.83C3238.5,-575.83 3238.5,-550.41 3238.5,-550.41\"/>\n<polygon fill=\"black\" stroke=\"black\" stroke-width=\"0.6\" points=\"3242,-550.41 3238.5,-540.41 3235,-550.41 3242,-550.41\"/>\n<text text-anchor=\"middle\" x=\"3230\" y=\"-565.52\" font-family=\"Times,serif\" font-size=\"7.00\">≤ &#45;0.8</text>\n</g>\n<!-- 88 -->\n<g id=\"node89\" class=\"node\">\n<title>88</title>\n<polygon fill=\"#ffffff\" stroke=\"black\" stroke-width=\"1.2\" points=\"4082.5,-540 4028.5,-540 4028.5,-504 4082.5,-504 4082.5,-540\"/>\n<text text-anchor=\"middle\" x=\"4055.5\" y=\"-519.2\" font-family=\"trebuchet\" font-size=\"11.00\">3</text>\n</g>\n<!-- 76&#45;&gt;88 -->\n<g id=\"edge88\" class=\"edge\">\n<title>76&#45;&gt;88</title>\n<path fill=\"none\" stroke=\"black\" stroke-width=\"0.6\" d=\"M3265.68,-594C3407.45,-594 4055.5,-594 4055.5,-594 4055.5,-594 4055.5,-550.17 4055.5,-550.17\"/>\n<polygon fill=\"black\" stroke=\"black\" stroke-width=\"0.6\" points=\"4059,-550.17 4055.5,-540.17 4052,-550.17 4059,-550.17\"/>\n<text text-anchor=\"middle\" x=\"3674.01\" y=\"-596.4\" font-family=\"Times,serif\" font-size=\"7.00\">&gt; &#45;0.8</text>\n</g>\n<!-- 78 -->\n<g id=\"node79\" class=\"node\">\n<title>78</title>\n<polygon fill=\"#ffffff\" stroke=\"black\" stroke-width=\"1.2\" points=\"3199.5,-468 3145.5,-468 3145.5,-432 3199.5,-432 3199.5,-468\"/>\n<text text-anchor=\"middle\" x=\"3172.5\" y=\"-447.2\" font-family=\"trebuchet\" font-size=\"11.00\">2</text>\n</g>\n<!-- 77&#45;&gt;78 -->\n<g id=\"edge78\" class=\"edge\">\n<title>77&#45;&gt;78</title>\n<path fill=\"none\" stroke=\"black\" stroke-width=\"0.6\" d=\"M3211.27,-516C3193.09,-516 3172.5,-516 3172.5,-516 3172.5,-516 3172.5,-478.03 3172.5,-478.03\"/>\n<polygon fill=\"black\" stroke=\"black\" stroke-width=\"0.6\" points=\"3176,-478.03 3172.5,-468.03 3169,-478.03 3176,-478.03\"/>\n<text text-anchor=\"middle\" x=\"3164.4\" y=\"-518.4\" font-family=\"Times,serif\" font-size=\"7.00\">≤ &#45;1.3</text>\n</g>\n<!-- 83 -->\n<g id=\"node84\" class=\"node\">\n<title>83</title>\n<polygon fill=\"#ffffff\" stroke=\"black\" stroke-width=\"1.2\" points=\"3332.5,-468 3278.5,-468 3278.5,-432 3332.5,-432 3332.5,-468\"/>\n<text text-anchor=\"middle\" x=\"3305.5\" y=\"-447.2\" font-family=\"trebuchet\" font-size=\"11.00\">3</text>\n</g>\n<!-- 77&#45;&gt;83 -->\n<g id=\"edge83\" class=\"edge\">\n<title>77&#45;&gt;83</title>\n<path fill=\"none\" stroke=\"black\" stroke-width=\"0.6\" d=\"M3241.75,-503.83C3241.75,-482.5 3241.75,-450 3241.75,-450 3241.75,-450 3268.46,-450 3268.46,-450\"/>\n<polygon fill=\"black\" stroke=\"black\" stroke-width=\"0.6\" points=\"3268.46,-453.5 3278.46,-450 3268.46,-446.5 3268.46,-453.5\"/>\n<text text-anchor=\"middle\" x=\"3233.25\" y=\"-465.96\" font-family=\"Times,serif\" font-size=\"7.00\">&gt; &#45;1.3</text>\n</g>\n<!-- 79 -->\n<g id=\"node80\" class=\"node\">\n<title>79</title>\n<polygon fill=\"#ffffff\" stroke=\"black\" stroke-width=\"1.2\" points=\"3127,-396 2952,-396 2952,-360 3127,-360 3127,-396\"/>\n<text text-anchor=\"middle\" x=\"3039.5\" y=\"-381.2\" font-family=\"trebuchet\" font-size=\"11.00\">Mean: 14.527366 | Var: 7.144076</text>\n<text text-anchor=\"middle\" x=\"3039.5\" y=\"-369.2\" font-family=\"trebuchet\" font-size=\"11.00\">samples: 130</text>\n</g>\n<!-- 78&#45;&gt;79 -->\n<g id=\"edge79\" class=\"edge\">\n<title>78&#45;&gt;79</title>\n<path fill=\"none\" stroke=\"black\" stroke-width=\"0.6\" d=\"M3145.26,-444C3106.35,-444 3039.5,-444 3039.5,-444 3039.5,-444 3039.5,-406.03 3039.5,-406.03\"/>\n<polygon fill=\"black\" stroke=\"black\" stroke-width=\"0.6\" points=\"3043,-406.03 3039.5,-396.03 3036,-406.03 3043,-406.03\"/>\n<text text-anchor=\"middle\" x=\"3064.9\" y=\"-446.4\" font-family=\"Times,serif\" font-size=\"7.00\">≤ &#45;1.2</text>\n</g>\n<!-- 80 -->\n<g id=\"node81\" class=\"node\">\n<title>80</title>\n<polygon fill=\"#ffffff\" stroke=\"black\" stroke-width=\"1.2\" points=\"3199.5,-396 3145.5,-396 3145.5,-360 3199.5,-360 3199.5,-396\"/>\n<text text-anchor=\"middle\" x=\"3172.5\" y=\"-375.2\" font-family=\"trebuchet\" font-size=\"11.00\">3</text>\n</g>\n<!-- 78&#45;&gt;80 -->\n<g id=\"edge80\" class=\"edge\">\n<title>78&#45;&gt;80</title>\n<path fill=\"none\" stroke=\"black\" stroke-width=\"0.6\" d=\"M3172.5,-431.83C3172.5,-431.83 3172.5,-406.41 3172.5,-406.41\"/>\n<polygon fill=\"black\" stroke=\"black\" stroke-width=\"0.6\" points=\"3176,-406.41 3172.5,-396.41 3169,-406.41 3176,-406.41\"/>\n<text text-anchor=\"middle\" x=\"3164\" y=\"-421.52\" font-family=\"Times,serif\" font-size=\"7.00\">&gt; &#45;1.2</text>\n</g>\n<!-- 81 -->\n<g id=\"node82\" class=\"node\">\n<title>81</title>\n<polygon fill=\"#ffffff\" stroke=\"black\" stroke-width=\"1.2\" points=\"3094,-324 2925,-324 2925,-288 3094,-288 3094,-324\"/>\n<text text-anchor=\"middle\" x=\"3009.5\" y=\"-309.2\" font-family=\"trebuchet\" font-size=\"11.00\">Mean: 10.703145 | Var: 6.26917</text>\n<text text-anchor=\"middle\" x=\"3009.5\" y=\"-297.2\" font-family=\"trebuchet\" font-size=\"11.00\">samples: 145</text>\n</g>\n<!-- 80&#45;&gt;81 -->\n<g id=\"edge81\" class=\"edge\">\n<title>80&#45;&gt;81</title>\n<path fill=\"none\" stroke=\"black\" stroke-width=\"0.6\" d=\"M3163.5,-359.87C3163.5,-349.29 3163.5,-338 3163.5,-338 3163.5,-338 3023,-338 3023,-338 3023,-338 3023,-334.24 3023,-334.24\"/>\n<polygon fill=\"black\" stroke=\"black\" stroke-width=\"0.6\" points=\"3026.5,-334.24 3023,-324.24 3019.5,-334.24 3026.5,-334.24\"/>\n<text text-anchor=\"middle\" x=\"3094.81\" y=\"-340.4\" font-family=\"Times,serif\" font-size=\"7.00\">≤ 0.5</text>\n</g>\n<!-- 82 -->\n<g id=\"node83\" class=\"node\">\n<title>82</title>\n<polygon fill=\"#ffffff\" stroke=\"black\" stroke-width=\"1.2\" points=\"3287,-324 3112,-324 3112,-288 3287,-288 3287,-324\"/>\n<text text-anchor=\"middle\" x=\"3199.5\" y=\"-309.2\" font-family=\"trebuchet\" font-size=\"11.00\">Mean: 12.755915 | Var: 6.938163</text>\n<text text-anchor=\"middle\" x=\"3199.5\" y=\"-297.2\" font-family=\"trebuchet\" font-size=\"11.00\">samples: 631</text>\n</g>\n<!-- 80&#45;&gt;82 -->\n<g id=\"edge82\" class=\"edge\">\n<title>80&#45;&gt;82</title>\n<path fill=\"none\" stroke=\"black\" stroke-width=\"0.6\" d=\"M3181.5,-359.83C3181.5,-359.83 3181.5,-334.41 3181.5,-334.41\"/>\n<polygon fill=\"black\" stroke=\"black\" stroke-width=\"0.6\" points=\"3185,-334.41 3181.5,-324.41 3178,-334.41 3185,-334.41\"/>\n<text text-anchor=\"middle\" x=\"3174\" y=\"-349.52\" font-family=\"Times,serif\" font-size=\"7.00\">&gt; 0.5</text>\n</g>\n<!-- 84 -->\n<g id=\"node85\" class=\"node\">\n<title>84</title>\n<polygon fill=\"#ffffff\" stroke=\"black\" stroke-width=\"1.2\" points=\"3393,-396 3218,-396 3218,-360 3393,-360 3393,-396\"/>\n<text text-anchor=\"middle\" x=\"3305.5\" y=\"-381.2\" font-family=\"trebuchet\" font-size=\"11.00\">Mean: 12.883362 | Var: 6.821101</text>\n<text text-anchor=\"middle\" x=\"3305.5\" y=\"-369.2\" font-family=\"trebuchet\" font-size=\"11.00\">samples: 116</text>\n</g>\n<!-- 83&#45;&gt;84 -->\n<g id=\"edge84\" class=\"edge\">\n<title>83&#45;&gt;84</title>\n<path fill=\"none\" stroke=\"black\" stroke-width=\"0.6\" d=\"M3305.5,-431.83C3305.5,-431.83 3305.5,-406.41 3305.5,-406.41\"/>\n<polygon fill=\"black\" stroke=\"black\" stroke-width=\"0.6\" points=\"3309,-406.41 3305.5,-396.41 3302,-406.41 3309,-406.41\"/>\n<text text-anchor=\"middle\" x=\"3298\" y=\"-421.52\" font-family=\"Times,serif\" font-size=\"7.00\">≤ 0.2</text>\n</g>\n<!-- 85 -->\n<g id=\"node86\" class=\"node\">\n<title>85</title>\n<polygon fill=\"#ffffff\" stroke=\"black\" stroke-width=\"1.2\" points=\"3465.5,-396 3411.5,-396 3411.5,-360 3465.5,-360 3465.5,-396\"/>\n<text text-anchor=\"middle\" x=\"3438.5\" y=\"-375.2\" font-family=\"trebuchet\" font-size=\"11.00\">2</text>\n</g>\n<!-- 83&#45;&gt;85 -->\n<g id=\"edge85\" class=\"edge\">\n<title>83&#45;&gt;85</title>\n<path fill=\"none\" stroke=\"black\" stroke-width=\"0.6\" d=\"M3332.74,-450C3371.65,-450 3438.5,-450 3438.5,-450 3438.5,-450 3438.5,-406.17 3438.5,-406.17\"/>\n<polygon fill=\"black\" stroke=\"black\" stroke-width=\"0.6\" points=\"3442,-406.17 3438.5,-396.17 3435,-406.17 3442,-406.17\"/>\n<text text-anchor=\"middle\" x=\"3400.03\" y=\"-452.4\" font-family=\"Times,serif\" font-size=\"7.00\">&gt; 0.2</text>\n</g>\n<!-- 86 -->\n<g id=\"node87\" class=\"node\">\n<title>86</title>\n<polygon fill=\"#ffffff\" stroke=\"black\" stroke-width=\"1.2\" points=\"3474,-324 3305,-324 3305,-288 3474,-288 3474,-324\"/>\n<text text-anchor=\"middle\" x=\"3389.5\" y=\"-309.2\" font-family=\"trebuchet\" font-size=\"11.00\">Mean: 18.080109 | Var: 7.32038</text>\n<text text-anchor=\"middle\" x=\"3389.5\" y=\"-297.2\" font-family=\"trebuchet\" font-size=\"11.00\">samples: 53</text>\n</g>\n<!-- 85&#45;&gt;86 -->\n<g id=\"edge86\" class=\"edge\">\n<title>85&#45;&gt;86</title>\n<path fill=\"none\" stroke=\"black\" stroke-width=\"0.6\" d=\"M3438.5,-359.83C3438.5,-359.83 3438.5,-334.41 3438.5,-334.41\"/>\n<polygon fill=\"black\" stroke=\"black\" stroke-width=\"0.6\" points=\"3442,-334.41 3438.5,-324.41 3435,-334.41 3442,-334.41\"/>\n<text text-anchor=\"middle\" x=\"3430\" y=\"-349.52\" font-family=\"Times,serif\" font-size=\"7.00\">≤ &#45;1.3</text>\n</g>\n<!-- 87 -->\n<g id=\"node88\" class=\"node\">\n<title>87</title>\n<polygon fill=\"#ffffff\" stroke=\"black\" stroke-width=\"1.2\" points=\"3667,-324 3492,-324 3492,-288 3667,-288 3667,-324\"/>\n<text text-anchor=\"middle\" x=\"3579.5\" y=\"-309.2\" font-family=\"trebuchet\" font-size=\"11.00\">Mean: 15.239341 | Var: 8.316101</text>\n<text text-anchor=\"middle\" x=\"3579.5\" y=\"-297.2\" font-family=\"trebuchet\" font-size=\"11.00\">samples: 862</text>\n</g>\n<!-- 85&#45;&gt;87 -->\n<g id=\"edge87\" class=\"edge\">\n<title>85&#45;&gt;87</title>\n<path fill=\"none\" stroke=\"black\" stroke-width=\"0.6\" d=\"M3465.69,-372C3506.66,-372 3579.5,-372 3579.5,-372 3579.5,-372 3579.5,-334.03 3579.5,-334.03\"/>\n<polygon fill=\"black\" stroke=\"black\" stroke-width=\"0.6\" points=\"3583,-334.03 3579.5,-324.03 3576,-334.03 3583,-334.03\"/>\n<text text-anchor=\"middle\" x=\"3533.08\" y=\"-374.4\" font-family=\"Times,serif\" font-size=\"7.00\">&gt; &#45;1.3</text>\n</g>\n<!-- 89 -->\n<g id=\"node90\" class=\"node\">\n<title>89</title>\n<polygon fill=\"#ffffff\" stroke=\"black\" stroke-width=\"1.2\" points=\"4082.5,-468 4028.5,-468 4028.5,-432 4082.5,-432 4082.5,-468\"/>\n<text text-anchor=\"middle\" x=\"4055.5\" y=\"-447.2\" font-family=\"trebuchet\" font-size=\"11.00\">4</text>\n</g>\n<!-- 88&#45;&gt;89 -->\n<g id=\"edge89\" class=\"edge\">\n<title>88&#45;&gt;89</title>\n<path fill=\"none\" stroke=\"black\" stroke-width=\"0.6\" d=\"M4055.5,-503.83C4055.5,-503.83 4055.5,-478.41 4055.5,-478.41\"/>\n<polygon fill=\"black\" stroke=\"black\" stroke-width=\"0.6\" points=\"4059,-478.41 4055.5,-468.41 4052,-478.41 4059,-478.41\"/>\n<text text-anchor=\"middle\" x=\"4048\" y=\"-493.52\" font-family=\"Times,serif\" font-size=\"7.00\">≤ 0.3</text>\n</g>\n<!-- 96 -->\n<g id=\"node97\" class=\"node\">\n<title>96</title>\n<polygon fill=\"#ffffff\" stroke=\"black\" stroke-width=\"1.2\" points=\"4650.5,-468 4596.5,-468 4596.5,-432 4650.5,-432 4650.5,-468\"/>\n<text text-anchor=\"middle\" x=\"4623.5\" y=\"-447.2\" font-family=\"trebuchet\" font-size=\"11.00\">2</text>\n</g>\n<!-- 88&#45;&gt;96 -->\n<g id=\"edge96\" class=\"edge\">\n<title>88&#45;&gt;96</title>\n<path fill=\"none\" stroke=\"black\" stroke-width=\"0.6\" d=\"M4082.51,-522C4195.39,-522 4623.5,-522 4623.5,-522 4623.5,-522 4623.5,-478.17 4623.5,-478.17\"/>\n<polygon fill=\"black\" stroke=\"black\" stroke-width=\"0.6\" points=\"4627,-478.17 4623.5,-468.17 4620,-478.17 4627,-478.17\"/>\n<text text-anchor=\"middle\" x=\"4367.42\" y=\"-524.4\" font-family=\"Times,serif\" font-size=\"7.00\">&gt; 0.3</text>\n</g>\n<!-- 90 -->\n<g id=\"node91\" class=\"node\">\n<title>90</title>\n<polygon fill=\"#ffffff\" stroke=\"black\" stroke-width=\"1.2\" points=\"3989.5,-396 3935.5,-396 3935.5,-360 3989.5,-360 3989.5,-396\"/>\n<text text-anchor=\"middle\" x=\"3962.5\" y=\"-375.2\" font-family=\"trebuchet\" font-size=\"11.00\">2</text>\n</g>\n<!-- 89&#45;&gt;90 -->\n<g id=\"edge90\" class=\"edge\">\n<title>89&#45;&gt;90</title>\n<path fill=\"none\" stroke=\"black\" stroke-width=\"0.6\" d=\"M4037.75,-431.91C4037.75,-408.87 4037.75,-372 4037.75,-372 4037.75,-372 3999.67,-372 3999.67,-372\"/>\n<polygon fill=\"black\" stroke=\"black\" stroke-width=\"0.6\" points=\"3999.67,-368.5 3989.67,-372 3999.67,-375.5 3999.67,-368.5\"/>\n<text text-anchor=\"middle\" x=\"4030.25\" y=\"-385.31\" font-family=\"Times,serif\" font-size=\"7.00\">≤ 0.1</text>\n</g>\n<!-- 93 -->\n<g id=\"node94\" class=\"node\">\n<title>93</title>\n<polygon fill=\"#ffffff\" stroke=\"black\" stroke-width=\"1.2\" points=\"4176.5,-396 4122.5,-396 4122.5,-360 4176.5,-360 4176.5,-396\"/>\n<text text-anchor=\"middle\" x=\"4149.5\" y=\"-375.2\" font-family=\"trebuchet\" font-size=\"11.00\">2</text>\n</g>\n<!-- 89&#45;&gt;93 -->\n<g id=\"edge93\" class=\"edge\">\n<title>89&#45;&gt;93</title>\n<path fill=\"none\" stroke=\"black\" stroke-width=\"0.6\" d=\"M4073.75,-431.97C4073.75,-412.42 4073.75,-384 4073.75,-384 4073.75,-384 4112.15,-384 4112.15,-384\"/>\n<polygon fill=\"black\" stroke=\"black\" stroke-width=\"0.6\" points=\"4112.15,-387.5 4122.15,-384 4112.15,-380.5 4112.15,-387.5\"/>\n<text text-anchor=\"middle\" x=\"4066.25\" y=\"-391.18\" font-family=\"Times,serif\" font-size=\"7.00\">&gt; 0.1</text>\n</g>\n<!-- 91 -->\n<g id=\"node92\" class=\"node\">\n<title>91</title>\n<polygon fill=\"#ffffff\" stroke=\"black\" stroke-width=\"1.2\" points=\"3860,-324 3685,-324 3685,-288 3860,-288 3860,-324\"/>\n<text text-anchor=\"middle\" x=\"3772.5\" y=\"-309.2\" font-family=\"trebuchet\" font-size=\"11.00\">Mean: 18.116062 | Var: 5.772465</text>\n<text text-anchor=\"middle\" x=\"3772.5\" y=\"-297.2\" font-family=\"trebuchet\" font-size=\"11.00\">samples: 79</text>\n</g>\n<!-- 90&#45;&gt;91 -->\n<g id=\"edge91\" class=\"edge\">\n<title>90&#45;&gt;91</title>\n<path fill=\"none\" stroke=\"black\" stroke-width=\"0.6\" d=\"M3935.28,-384C3882.74,-384 3772.5,-384 3772.5,-384 3772.5,-384 3772.5,-334.09 3772.5,-334.09\"/>\n<polygon fill=\"black\" stroke=\"black\" stroke-width=\"0.6\" points=\"3776,-334.09 3772.5,-324.09 3769,-334.09 3776,-334.09\"/>\n<text text-anchor=\"middle\" x=\"3820.43\" y=\"-386.4\" font-family=\"Times,serif\" font-size=\"7.00\">≤ &#45;1.1</text>\n</g>\n<!-- 92 -->\n<g id=\"node93\" class=\"node\">\n<title>92</title>\n<polygon fill=\"#ffffff\" stroke=\"black\" stroke-width=\"1.2\" points=\"4047,-324 3878,-324 3878,-288 4047,-288 4047,-324\"/>\n<text text-anchor=\"middle\" x=\"3962.5\" y=\"-309.2\" font-family=\"trebuchet\" font-size=\"11.00\">Mean: 15.654471 | Var: 7.91686</text>\n<text text-anchor=\"middle\" x=\"3962.5\" y=\"-297.2\" font-family=\"trebuchet\" font-size=\"11.00\">samples: 463</text>\n</g>\n<!-- 90&#45;&gt;92 -->\n<g id=\"edge92\" class=\"edge\">\n<title>90&#45;&gt;92</title>\n<path fill=\"none\" stroke=\"black\" stroke-width=\"0.6\" d=\"M3962.5,-359.83C3962.5,-359.83 3962.5,-334.41 3962.5,-334.41\"/>\n<polygon fill=\"black\" stroke=\"black\" stroke-width=\"0.6\" points=\"3966,-334.41 3962.5,-324.41 3959,-334.41 3966,-334.41\"/>\n<text text-anchor=\"middle\" x=\"3954\" y=\"-349.52\" font-family=\"Times,serif\" font-size=\"7.00\">&gt; &#45;1.1</text>\n</g>\n<!-- 94 -->\n<g id=\"node95\" class=\"node\">\n<title>94</title>\n<polygon fill=\"#ffffff\" stroke=\"black\" stroke-width=\"1.2\" points=\"4234,-324 4065,-324 4065,-288 4234,-288 4234,-324\"/>\n<text text-anchor=\"middle\" x=\"4149.5\" y=\"-309.2\" font-family=\"trebuchet\" font-size=\"11.00\">Mean: 21.18749 | Var: 4.643562</text>\n<text text-anchor=\"middle\" x=\"4149.5\" y=\"-297.2\" font-family=\"trebuchet\" font-size=\"11.00\">samples: 46</text>\n</g>\n<!-- 93&#45;&gt;94 -->\n<g id=\"edge94\" class=\"edge\">\n<title>93&#45;&gt;94</title>\n<path fill=\"none\" stroke=\"black\" stroke-width=\"0.6\" d=\"M4149.5,-359.83C4149.5,-359.83 4149.5,-334.41 4149.5,-334.41\"/>\n<polygon fill=\"black\" stroke=\"black\" stroke-width=\"0.6\" points=\"4153,-334.41 4149.5,-324.41 4146,-334.41 4153,-334.41\"/>\n<text text-anchor=\"middle\" x=\"4141\" y=\"-349.52\" font-family=\"Times,serif\" font-size=\"7.00\">≤ &#45;1.4</text>\n</g>\n<!-- 95 -->\n<g id=\"node96\" class=\"node\">\n<title>95</title>\n<polygon fill=\"#ffffff\" stroke=\"black\" stroke-width=\"1.2\" points=\"4421,-324 4252,-324 4252,-288 4421,-288 4421,-324\"/>\n<text text-anchor=\"middle\" x=\"4336.5\" y=\"-309.2\" font-family=\"trebuchet\" font-size=\"11.00\">Mean: 18.23202 | Var: 7.386582</text>\n<text text-anchor=\"middle\" x=\"4336.5\" y=\"-297.2\" font-family=\"trebuchet\" font-size=\"11.00\">samples: 576</text>\n</g>\n<!-- 93&#45;&gt;95 -->\n<g id=\"edge95\" class=\"edge\">\n<title>93&#45;&gt;95</title>\n<path fill=\"none\" stroke=\"black\" stroke-width=\"0.6\" d=\"M4176.69,-378C4228.56,-378 4336.5,-378 4336.5,-378 4336.5,-378 4336.5,-334.17 4336.5,-334.17\"/>\n<polygon fill=\"black\" stroke=\"black\" stroke-width=\"0.6\" points=\"4340,-334.17 4336.5,-324.17 4333,-334.17 4340,-334.17\"/>\n<text text-anchor=\"middle\" x=\"4270.01\" y=\"-380.4\" font-family=\"Times,serif\" font-size=\"7.00\">&gt; &#45;1.4</text>\n</g>\n<!-- 97 -->\n<g id=\"node98\" class=\"node\">\n<title>97</title>\n<polygon fill=\"#ffffff\" stroke=\"black\" stroke-width=\"1.2\" points=\"4650.5,-396 4596.5,-396 4596.5,-360 4650.5,-360 4650.5,-396\"/>\n<text text-anchor=\"middle\" x=\"4623.5\" y=\"-375.2\" font-family=\"trebuchet\" font-size=\"11.00\">4</text>\n</g>\n<!-- 96&#45;&gt;97 -->\n<g id=\"edge97\" class=\"edge\">\n<title>96&#45;&gt;97</title>\n<path fill=\"none\" stroke=\"black\" stroke-width=\"0.6\" d=\"M4623.5,-431.83C4623.5,-431.83 4623.5,-406.41 4623.5,-406.41\"/>\n<polygon fill=\"black\" stroke=\"black\" stroke-width=\"0.6\" points=\"4627,-406.41 4623.5,-396.41 4620,-406.41 4627,-406.41\"/>\n<text text-anchor=\"middle\" x=\"4615\" y=\"-421.52\" font-family=\"Times,serif\" font-size=\"7.00\">≤ &#45;1.1</text>\n</g>\n<!-- 100 -->\n<g id=\"node101\" class=\"node\">\n<title>100</title>\n<polygon fill=\"#ffffff\" stroke=\"black\" stroke-width=\"1.2\" points=\"4879.5,-396 4825.5,-396 4825.5,-360 4879.5,-360 4879.5,-396\"/>\n<text text-anchor=\"middle\" x=\"4852.5\" y=\"-375.2\" font-family=\"trebuchet\" font-size=\"11.00\">0</text>\n</g>\n<!-- 96&#45;&gt;100 -->\n<g id=\"edge100\" class=\"edge\">\n<title>96&#45;&gt;100</title>\n<path fill=\"none\" stroke=\"black\" stroke-width=\"0.6\" d=\"M4650.67,-450C4711.33,-450 4852.5,-450 4852.5,-450 4852.5,-450 4852.5,-406.17 4852.5,-406.17\"/>\n<polygon fill=\"black\" stroke=\"black\" stroke-width=\"0.6\" points=\"4856,-406.17 4852.5,-396.17 4849,-406.17 4856,-406.17\"/>\n<text text-anchor=\"middle\" x=\"4765\" y=\"-452.4\" font-family=\"Times,serif\" font-size=\"7.00\">&gt; &#45;1.1</text>\n</g>\n<!-- 98 -->\n<g id=\"node99\" class=\"node\">\n<title>98</title>\n<polygon fill=\"#ffffff\" stroke=\"black\" stroke-width=\"1.2\" points=\"4614,-324 4439,-324 4439,-288 4614,-288 4614,-324\"/>\n<text text-anchor=\"middle\" x=\"4526.5\" y=\"-309.2\" font-family=\"trebuchet\" font-size=\"11.00\">Mean: 20.006339 | Var: 7.262581</text>\n<text text-anchor=\"middle\" x=\"4526.5\" y=\"-297.2\" font-family=\"trebuchet\" font-size=\"11.00\">samples: 277</text>\n</g>\n<!-- 97&#45;&gt;98 -->\n<g id=\"edge98\" class=\"edge\">\n<title>97&#45;&gt;98</title>\n<path fill=\"none\" stroke=\"black\" stroke-width=\"0.6\" d=\"M4605.25,-359.83C4605.25,-359.83 4605.25,-334.41 4605.25,-334.41\"/>\n<polygon fill=\"black\" stroke=\"black\" stroke-width=\"0.6\" points=\"4608.75,-334.41 4605.25,-324.41 4601.75,-334.41 4608.75,-334.41\"/>\n<text text-anchor=\"middle\" x=\"4596.75\" y=\"-349.52\" font-family=\"Times,serif\" font-size=\"7.00\">≤ &#45;0.5</text>\n</g>\n<!-- 99 -->\n<g id=\"node100\" class=\"node\">\n<title>99</title>\n<polygon fill=\"#ffffff\" stroke=\"black\" stroke-width=\"1.2\" points=\"4807,-324 4632,-324 4632,-288 4807,-288 4807,-324\"/>\n<text text-anchor=\"middle\" x=\"4719.5\" y=\"-309.2\" font-family=\"trebuchet\" font-size=\"11.00\">Mean: 22.635428 | Var: 7.738624</text>\n<text text-anchor=\"middle\" x=\"4719.5\" y=\"-297.2\" font-family=\"trebuchet\" font-size=\"11.00\">samples: 462</text>\n</g>\n<!-- 97&#45;&gt;99 -->\n<g id=\"edge99\" class=\"edge\">\n<title>97&#45;&gt;99</title>\n<path fill=\"none\" stroke=\"black\" stroke-width=\"0.6\" d=\"M4641.25,-359.83C4641.25,-359.83 4641.25,-334.41 4641.25,-334.41\"/>\n<polygon fill=\"black\" stroke=\"black\" stroke-width=\"0.6\" points=\"4644.75,-334.41 4641.25,-324.41 4637.75,-334.41 4644.75,-334.41\"/>\n<text text-anchor=\"middle\" x=\"4632.75\" y=\"-349.52\" font-family=\"Times,serif\" font-size=\"7.00\">&gt; &#45;0.5</text>\n</g>\n<!-- 101 -->\n<g id=\"node102\" class=\"node\">\n<title>101</title>\n<polygon fill=\"#ffffff\" stroke=\"black\" stroke-width=\"1.2\" points=\"4879.5,-324 4825.5,-324 4825.5,-288 4879.5,-288 4879.5,-324\"/>\n<text text-anchor=\"middle\" x=\"4852.5\" y=\"-303.2\" font-family=\"trebuchet\" font-size=\"11.00\">1</text>\n</g>\n<!-- 100&#45;&gt;101 -->\n<g id=\"edge101\" class=\"edge\">\n<title>100&#45;&gt;101</title>\n<path fill=\"none\" stroke=\"black\" stroke-width=\"0.6\" d=\"M4852.5,-359.83C4852.5,-359.83 4852.5,-334.41 4852.5,-334.41\"/>\n<polygon fill=\"black\" stroke=\"black\" stroke-width=\"0.6\" points=\"4856,-334.41 4852.5,-324.41 4849,-334.41 4856,-334.41\"/>\n<text text-anchor=\"middle\" x=\"4844\" y=\"-349.52\" font-family=\"Times,serif\" font-size=\"7.00\">≤ &#45;0.6</text>\n</g>\n<!-- 104 -->\n<g id=\"node105\" class=\"node\">\n<title>104</title>\n<polygon fill=\"#ffffff\" stroke=\"black\" stroke-width=\"1.2\" points=\"5012.5,-324 4958.5,-324 4958.5,-288 5012.5,-288 5012.5,-324\"/>\n<text text-anchor=\"middle\" x=\"4985.5\" y=\"-303.2\" font-family=\"trebuchet\" font-size=\"11.00\">3</text>\n</g>\n<!-- 100&#45;&gt;104 -->\n<g id=\"edge104\" class=\"edge\">\n<title>100&#45;&gt;104</title>\n<path fill=\"none\" stroke=\"black\" stroke-width=\"0.6\" d=\"M4879.74,-378C4918.65,-378 4985.5,-378 4985.5,-378 4985.5,-378 4985.5,-334.17 4985.5,-334.17\"/>\n<polygon fill=\"black\" stroke=\"black\" stroke-width=\"0.6\" points=\"4989,-334.17 4985.5,-324.17 4982,-334.17 4989,-334.17\"/>\n<text text-anchor=\"middle\" x=\"4946.03\" y=\"-380.4\" font-family=\"Times,serif\" font-size=\"7.00\">&gt; &#45;0.6</text>\n</g>\n<!-- 102 -->\n<g id=\"node103\" class=\"node\">\n<title>102</title>\n<polygon fill=\"#ffffff\" stroke=\"black\" stroke-width=\"1.2\" points=\"4747,-252 4572,-252 4572,-216 4747,-216 4747,-252\"/>\n<text text-anchor=\"middle\" x=\"4659.5\" y=\"-237.2\" font-family=\"trebuchet\" font-size=\"11.00\">Mean: 15.924553 | Var: 6.084519</text>\n<text text-anchor=\"middle\" x=\"4659.5\" y=\"-225.2\" font-family=\"trebuchet\" font-size=\"11.00\">samples: 138</text>\n</g>\n<!-- 101&#45;&gt;102 -->\n<g id=\"edge102\" class=\"edge\">\n<title>101&#45;&gt;102</title>\n<path fill=\"none\" stroke=\"black\" stroke-width=\"0.6\" d=\"M4843.5,-287.87C4843.5,-277.69 4843.5,-267 4843.5,-267 4843.5,-267 4689.5,-267 4689.5,-267 4689.5,-267 4689.5,-262.04 4689.5,-262.04\"/>\n<polygon fill=\"black\" stroke=\"black\" stroke-width=\"0.6\" points=\"4693,-262.04 4689.5,-252.04 4686,-262.04 4693,-262.04\"/>\n<text text-anchor=\"middle\" x=\"4766.96\" y=\"-269.4\" font-family=\"Times,serif\" font-size=\"7.00\">≤ 0.8</text>\n</g>\n<!-- 103 -->\n<g id=\"node104\" class=\"node\">\n<title>103</title>\n<polygon fill=\"#ffffff\" stroke=\"black\" stroke-width=\"1.2\" points=\"4940,-252 4765,-252 4765,-216 4940,-216 4940,-252\"/>\n<text text-anchor=\"middle\" x=\"4852.5\" y=\"-237.2\" font-family=\"trebuchet\" font-size=\"11.00\">Mean: 18.505941 | Var: 7.366053</text>\n<text text-anchor=\"middle\" x=\"4852.5\" y=\"-225.2\" font-family=\"trebuchet\" font-size=\"11.00\">samples: 102</text>\n</g>\n<!-- 101&#45;&gt;103 -->\n<g id=\"edge103\" class=\"edge\">\n<title>101&#45;&gt;103</title>\n<path fill=\"none\" stroke=\"black\" stroke-width=\"0.6\" d=\"M4861.5,-287.83C4861.5,-287.83 4861.5,-262.41 4861.5,-262.41\"/>\n<polygon fill=\"black\" stroke=\"black\" stroke-width=\"0.6\" points=\"4865,-262.41 4861.5,-252.41 4858,-262.41 4865,-262.41\"/>\n<text text-anchor=\"middle\" x=\"4854\" y=\"-277.52\" font-family=\"Times,serif\" font-size=\"7.00\">&gt; 0.8</text>\n</g>\n<!-- 105 -->\n<g id=\"node106\" class=\"node\">\n<title>105</title>\n<polygon fill=\"#ffffff\" stroke=\"black\" stroke-width=\"1.2\" points=\"5012.5,-252 4958.5,-252 4958.5,-216 5012.5,-216 5012.5,-252\"/>\n<text text-anchor=\"middle\" x=\"4985.5\" y=\"-231.2\" font-family=\"trebuchet\" font-size=\"11.00\">4</text>\n</g>\n<!-- 104&#45;&gt;105 -->\n<g id=\"edge105\" class=\"edge\">\n<title>104&#45;&gt;105</title>\n<path fill=\"none\" stroke=\"black\" stroke-width=\"0.6\" d=\"M4985.5,-287.83C4985.5,-287.83 4985.5,-262.41 4985.5,-262.41\"/>\n<polygon fill=\"black\" stroke=\"black\" stroke-width=\"0.6\" points=\"4989,-262.41 4985.5,-252.41 4982,-262.41 4989,-262.41\"/>\n<text text-anchor=\"middle\" x=\"4978\" y=\"-277.52\" font-family=\"Times,serif\" font-size=\"7.00\">≤ 0.6</text>\n</g>\n<!-- 108 -->\n<g id=\"node109\" class=\"node\">\n<title>108</title>\n<polygon fill=\"#ffffff\" stroke=\"black\" stroke-width=\"1.2\" points=\"5144.5,-252 5090.5,-252 5090.5,-216 5144.5,-216 5144.5,-252\"/>\n<text text-anchor=\"middle\" x=\"5117.5\" y=\"-231.2\" font-family=\"trebuchet\" font-size=\"11.00\">1</text>\n</g>\n<!-- 104&#45;&gt;108 -->\n<g id=\"edge108\" class=\"edge\">\n<title>104&#45;&gt;108</title>\n<path fill=\"none\" stroke=\"black\" stroke-width=\"0.6\" d=\"M5012.53,-306C5051.15,-306 5117.5,-306 5117.5,-306 5117.5,-306 5117.5,-262.17 5117.5,-262.17\"/>\n<polygon fill=\"black\" stroke=\"black\" stroke-width=\"0.6\" points=\"5121,-262.17 5117.5,-252.17 5114,-262.17 5121,-262.17\"/>\n<text text-anchor=\"middle\" x=\"5079.43\" y=\"-308.4\" font-family=\"Times,serif\" font-size=\"7.00\">&gt; 0.6</text>\n</g>\n<!-- 106 -->\n<g id=\"node107\" class=\"node\">\n<title>106</title>\n<polygon fill=\"#ffffff\" stroke=\"black\" stroke-width=\"1.2\" points=\"4880,-180 4711,-180 4711,-144 4880,-144 4880,-180\"/>\n<text text-anchor=\"middle\" x=\"4795.5\" y=\"-165.2\" font-family=\"trebuchet\" font-size=\"11.00\">Mean: 16.553193 | Var: 6.41866</text>\n<text text-anchor=\"middle\" x=\"4795.5\" y=\"-153.2\" font-family=\"trebuchet\" font-size=\"11.00\">samples: 167</text>\n</g>\n<!-- 105&#45;&gt;106 -->\n<g id=\"edge106\" class=\"edge\">\n<title>105&#45;&gt;106</title>\n<path fill=\"none\" stroke=\"black\" stroke-width=\"0.6\" d=\"M4976.5,-215.58C4976.5,-206.72 4976.5,-198 4976.5,-198 4976.5,-198 4822.5,-198 4822.5,-198 4822.5,-198 4822.5,-190.42 4822.5,-190.42\"/>\n<polygon fill=\"black\" stroke=\"black\" stroke-width=\"0.6\" points=\"4826,-190.42 4822.5,-180.42 4819,-190.42 4826,-190.42\"/>\n<text text-anchor=\"middle\" x=\"4896\" y=\"-200.4\" font-family=\"Times,serif\" font-size=\"7.00\">≤ &#45;0.4</text>\n</g>\n<!-- 107 -->\n<g id=\"node108\" class=\"node\">\n<title>107</title>\n<polygon fill=\"#ffffff\" stroke=\"black\" stroke-width=\"1.2\" points=\"5072.5,-180 4898.5,-180 4898.5,-144 5072.5,-144 5072.5,-180\"/>\n<text text-anchor=\"middle\" x=\"4985.5\" y=\"-165.2\" font-family=\"trebuchet\" font-size=\"11.00\">Mean: 18.624045 | Var: 8.101112</text>\n<text text-anchor=\"middle\" x=\"4985.5\" y=\"-153.2\" font-family=\"trebuchet\" font-size=\"11.00\">samples: 364</text>\n</g>\n<!-- 105&#45;&gt;107 -->\n<g id=\"edge107\" class=\"edge\">\n<title>105&#45;&gt;107</title>\n<path fill=\"none\" stroke=\"black\" stroke-width=\"0.6\" d=\"M4994.5,-215.83C4994.5,-215.83 4994.5,-190.41 4994.5,-190.41\"/>\n<polygon fill=\"black\" stroke=\"black\" stroke-width=\"0.6\" points=\"4998,-190.41 4994.5,-180.41 4991,-190.41 4998,-190.41\"/>\n<text text-anchor=\"middle\" x=\"4986\" y=\"-205.52\" font-family=\"Times,serif\" font-size=\"7.00\">&gt; &#45;0.4</text>\n</g>\n<!-- 109 -->\n<g id=\"node110\" class=\"node\">\n<title>109</title>\n<polygon fill=\"#ffffff\" stroke=\"black\" stroke-width=\"1.2\" points=\"5144.5,-180 5090.5,-180 5090.5,-144 5144.5,-144 5144.5,-180\"/>\n<text text-anchor=\"middle\" x=\"5117.5\" y=\"-159.2\" font-family=\"trebuchet\" font-size=\"11.00\">4</text>\n</g>\n<!-- 108&#45;&gt;109 -->\n<g id=\"edge109\" class=\"edge\">\n<title>108&#45;&gt;109</title>\n<path fill=\"none\" stroke=\"black\" stroke-width=\"0.6\" d=\"M5117.5,-215.83C5117.5,-215.83 5117.5,-190.41 5117.5,-190.41\"/>\n<polygon fill=\"black\" stroke=\"black\" stroke-width=\"0.6\" points=\"5121,-190.41 5117.5,-180.41 5114,-190.41 5121,-190.41\"/>\n<text text-anchor=\"middle\" x=\"5110\" y=\"-205.52\" font-family=\"Times,serif\" font-size=\"7.00\">≤ 1.3</text>\n</g>\n<!-- 114 -->\n<g id=\"node115\" class=\"node\">\n<title>114</title>\n<polygon fill=\"#ffffff\" stroke=\"black\" stroke-width=\"1.2\" points=\"5334.5,-180 5280.5,-180 5280.5,-144 5334.5,-144 5334.5,-180\"/>\n<text text-anchor=\"middle\" x=\"5307.5\" y=\"-159.2\" font-family=\"trebuchet\" font-size=\"11.00\">0</text>\n</g>\n<!-- 108&#45;&gt;114 -->\n<g id=\"edge114\" class=\"edge\">\n<title>108&#45;&gt;114</title>\n<path fill=\"none\" stroke=\"black\" stroke-width=\"0.6\" d=\"M5144.72,-234C5197.26,-234 5307.5,-234 5307.5,-234 5307.5,-234 5307.5,-190.17 5307.5,-190.17\"/>\n<polygon fill=\"black\" stroke=\"black\" stroke-width=\"0.6\" points=\"5311,-190.17 5307.5,-180.17 5304,-190.17 5311,-190.17\"/>\n<text text-anchor=\"middle\" x=\"5240.53\" y=\"-236.4\" font-family=\"Times,serif\" font-size=\"7.00\">&gt; 1.3</text>\n</g>\n<!-- 110 -->\n<g id=\"node111\" class=\"node\">\n<title>110</title>\n<polygon fill=\"#ffffff\" stroke=\"black\" stroke-width=\"1.2\" points=\"5014.5,-108 4960.5,-108 4960.5,-72 5014.5,-72 5014.5,-108\"/>\n<text text-anchor=\"middle\" x=\"4987.5\" y=\"-87.2\" font-family=\"trebuchet\" font-size=\"11.00\">1</text>\n</g>\n<!-- 109&#45;&gt;110 -->\n<g id=\"edge110\" class=\"edge\">\n<title>109&#45;&gt;110</title>\n<path fill=\"none\" stroke=\"black\" stroke-width=\"0.6\" d=\"M5108.5,-143.94C5108.5,-132.56 5108.5,-120 5108.5,-120 5108.5,-120 4987.5,-120 4987.5,-120 4987.5,-120 4987.5,-118.14 4987.5,-118.14\"/>\n<polygon fill=\"black\" stroke=\"black\" stroke-width=\"0.6\" points=\"4991,-118.14 4987.5,-108.14 4984,-118.14 4991,-118.14\"/>\n<text text-anchor=\"middle\" x=\"5050.54\" y=\"-122.4\" font-family=\"Times,serif\" font-size=\"7.00\">≤ &#45;0.0</text>\n</g>\n<!-- 113 -->\n<g id=\"node114\" class=\"node\">\n<title>113</title>\n<polygon fill=\"#ffffff\" stroke=\"black\" stroke-width=\"1.2\" points=\"5202,-108 5033,-108 5033,-72 5202,-72 5202,-108\"/>\n<text text-anchor=\"middle\" x=\"5117.5\" y=\"-93.2\" font-family=\"trebuchet\" font-size=\"11.00\">Mean: 20.894235 | Var: 7.66068</text>\n<text text-anchor=\"middle\" x=\"5117.5\" y=\"-81.2\" font-family=\"trebuchet\" font-size=\"11.00\">samples: 1010</text>\n</g>\n<!-- 109&#45;&gt;113 -->\n<g id=\"edge113\" class=\"edge\">\n<title>109&#45;&gt;113</title>\n<path fill=\"none\" stroke=\"black\" stroke-width=\"0.6\" d=\"M5126.5,-143.83C5126.5,-143.83 5126.5,-118.41 5126.5,-118.41\"/>\n<polygon fill=\"black\" stroke=\"black\" stroke-width=\"0.6\" points=\"5130,-118.41 5126.5,-108.41 5123,-118.41 5130,-118.41\"/>\n<text text-anchor=\"middle\" x=\"5118\" y=\"-133.52\" font-family=\"Times,serif\" font-size=\"7.00\">&gt; &#45;0.0</text>\n</g>\n<!-- 111 -->\n<g id=\"node112\" class=\"node\">\n<title>111</title>\n<polygon fill=\"#ffffff\" stroke=\"black\" stroke-width=\"1.2\" points=\"4978,-36 4803,-36 4803,0 4978,0 4978,-36\"/>\n<text text-anchor=\"middle\" x=\"4890.5\" y=\"-21.2\" font-family=\"trebuchet\" font-size=\"11.00\">Mean: 15.482536 | Var: 4.572933</text>\n<text text-anchor=\"middle\" x=\"4890.5\" y=\"-9.2\" font-family=\"trebuchet\" font-size=\"11.00\">samples: 34</text>\n</g>\n<!-- 110&#45;&gt;111 -->\n<g id=\"edge111\" class=\"edge\">\n<title>110&#45;&gt;111</title>\n<path fill=\"none\" stroke=\"black\" stroke-width=\"0.6\" d=\"M4969.25,-71.83C4969.25,-71.83 4969.25,-46.41 4969.25,-46.41\"/>\n<polygon fill=\"black\" stroke=\"black\" stroke-width=\"0.6\" points=\"4972.75,-46.41 4969.25,-36.41 4965.75,-46.41 4972.75,-46.41\"/>\n<text text-anchor=\"middle\" x=\"4960.75\" y=\"-61.52\" font-family=\"Times,serif\" font-size=\"7.00\">≤ &#45;0.7</text>\n</g>\n<!-- 112 -->\n<g id=\"node113\" class=\"node\">\n<title>112</title>\n<polygon fill=\"#ffffff\" stroke=\"black\" stroke-width=\"1.2\" points=\"5171,-36 4996,-36 4996,0 5171,0 5171,-36\"/>\n<text text-anchor=\"middle\" x=\"5083.5\" y=\"-21.2\" font-family=\"trebuchet\" font-size=\"11.00\">Mean: 19.288825 | Var: 6.723242</text>\n<text text-anchor=\"middle\" x=\"5083.5\" y=\"-9.2\" font-family=\"trebuchet\" font-size=\"11.00\">samples: 462</text>\n</g>\n<!-- 110&#45;&gt;112 -->\n<g id=\"edge112\" class=\"edge\">\n<title>110&#45;&gt;112</title>\n<path fill=\"none\" stroke=\"black\" stroke-width=\"0.6\" d=\"M5005.25,-71.83C5005.25,-71.83 5005.25,-46.41 5005.25,-46.41\"/>\n<polygon fill=\"black\" stroke=\"black\" stroke-width=\"0.6\" points=\"5008.75,-46.41 5005.25,-36.41 5001.75,-46.41 5008.75,-46.41\"/>\n<text text-anchor=\"middle\" x=\"4996.75\" y=\"-61.52\" font-family=\"Times,serif\" font-size=\"7.00\">&gt; &#45;0.7</text>\n</g>\n<!-- 115 -->\n<g id=\"node116\" class=\"node\">\n<title>115</title>\n<polygon fill=\"#ffffff\" stroke=\"black\" stroke-width=\"1.2\" points=\"5395,-108 5220,-108 5220,-72 5395,-72 5395,-108\"/>\n<text text-anchor=\"middle\" x=\"5307.5\" y=\"-93.2\" font-family=\"trebuchet\" font-size=\"11.00\">Mean: 21.673769 | Var: 6.575516</text>\n<text text-anchor=\"middle\" x=\"5307.5\" y=\"-81.2\" font-family=\"trebuchet\" font-size=\"11.00\">samples: 143</text>\n</g>\n<!-- 114&#45;&gt;115 -->\n<g id=\"edge115\" class=\"edge\">\n<title>114&#45;&gt;115</title>\n<path fill=\"none\" stroke=\"black\" stroke-width=\"0.6\" d=\"M5307.5,-143.83C5307.5,-143.83 5307.5,-118.41 5307.5,-118.41\"/>\n<polygon fill=\"black\" stroke=\"black\" stroke-width=\"0.6\" points=\"5311,-118.41 5307.5,-108.41 5304,-118.41 5311,-118.41\"/>\n<text text-anchor=\"middle\" x=\"5300\" y=\"-133.52\" font-family=\"Times,serif\" font-size=\"7.00\">≤ 0.8</text>\n</g>\n<!-- 116 -->\n<g id=\"node117\" class=\"node\">\n<title>116</title>\n<polygon fill=\"#ffffff\" stroke=\"black\" stroke-width=\"1.2\" points=\"5594,-108 5413,-108 5413,-72 5594,-72 5594,-108\"/>\n<text text-anchor=\"middle\" x=\"5503.5\" y=\"-93.2\" font-family=\"trebuchet\" font-size=\"11.00\">Mean: 19.303594 | Var: 12.593112</text>\n<text text-anchor=\"middle\" x=\"5503.5\" y=\"-81.2\" font-family=\"trebuchet\" font-size=\"11.00\">samples: 1468</text>\n</g>\n<!-- 114&#45;&gt;116 -->\n<g id=\"edge116\" class=\"edge\">\n<title>114&#45;&gt;116</title>\n<path fill=\"none\" stroke=\"black\" stroke-width=\"0.6\" d=\"M5334.75,-162C5388.61,-162 5503.5,-162 5503.5,-162 5503.5,-162 5503.5,-118.17 5503.5,-118.17\"/>\n<polygon fill=\"black\" stroke=\"black\" stroke-width=\"0.6\" points=\"5507,-118.17 5503.5,-108.17 5500,-118.17 5507,-118.17\"/>\n<text text-anchor=\"middle\" x=\"5433.54\" y=\"-164.4\" font-family=\"Times,serif\" font-size=\"7.00\">&gt; 0.8</text>\n</g>\n</g>\n</svg>\n",
      "text/plain": [
       "<graphviz.graphs.Digraph at 0x14bbd3f40>"
      ]
     },
     "execution_count": 43,
     "metadata": {},
     "output_type": "execute_result"
    }
   ],
   "source": [
    "model[\"HoeffdingTreeRegressor\"].draw()"
   ]
  },
  {
   "cell_type": "markdown",
   "metadata": {},
   "source": [
    "### 7.2.3. AMRules\n",
    "\n",
    "Adaptive Model Rules.\n",
    "\n",
    "(also my research are)\n",
    "\n",
    "Creates decision rules by relying on the Hoeffding Bound. AMRules also has anomaly detection capabilities, so it is capable of \"skipping\" anomalous training samples.\n",
    "\n",
    "It has parameters similar to those of HTs:\n",
    "\n",
    "- `n_min`: equivalent to `grace_period`\n",
    "- `pred_type`: equivalent to `leaf_prediction`\n",
    "- `pred_model`: equivalent to `leaf_model`\n",
    "- `splitter`\n",
    "\n",
    "Other important parameters:\n",
    "\n",
    "- `m_min`: minimum number of instances to observe before start detecting anomalies.\n",
    "- `drift_detector`: the drift detection algorithm used by each rule.\n",
    "- `anomaly_threshold`: threshold to decide whether or not an instance is anomalous (the smaller the score value, the more anomalous is the instance).\n",
    "- `ordered_rule_set`: defines if only the first rule is used for detection (when set to `True`) or all the rules are used (`False`)."
   ]
  },
  {
   "cell_type": "code",
   "execution_count": 44,
   "metadata": {
    "scrolled": false
   },
   "outputs": [
    {
     "name": "stdout",
     "output_type": "stream",
     "text": [
      "[2,000] MAE: 2.751126, RMSE: 3.585212, R2: 0.492754 – 00:00:00 – 557.26 KB\n",
      "[4,000] MAE: 2.594004, RMSE: 3.401369, R2: 0.537321 – 00:00:00 – 0.98 MB\n",
      "[6,000] MAE: 2.440782, RMSE: 3.200783, R2: 0.589509 – 00:00:00 – 1.06 MB\n",
      "[8,000] MAE: 2.35917, RMSE: 3.094535, R2: 0.617403 – 00:00:01 – 1.08 MB\n",
      "[10,000] MAE: 2.320284, RMSE: 3.045013, R2: 0.631478 – 00:00:01 – 1.29 MB\n",
      "[12,000] MAE: 2.280378, RMSE: 2.994163, R2: 0.641474 – 00:00:01 – 1.18 MB\n",
      "[14,000] MAE: 2.257398, RMSE: 2.963653, R2: 0.648179 – 00:00:02 – 1.51 MB\n",
      "[16,000] MAE: 2.267085, RMSE: 2.982856, R2: 0.644666 – 00:00:02 – 1.92 MB\n",
      "[18,000] MAE: 2.272122, RMSE: 2.98515, R2: 0.643212 – 00:00:03 – 2.08 MB\n",
      "[20,000] MAE: 2.26724, RMSE: 2.983389, R2: 0.644419 – 00:00:03 – 2.18 MB\n"
     ]
    },
    {
     "data": {
      "text/plain": [
       "MAE: 2.26724, RMSE: 2.983389, R2: 0.644419"
      ]
     },
     "execution_count": 44,
     "metadata": {},
     "output_type": "execute_result"
    }
   ],
   "source": [
    "from river import rules\n",
    "\n",
    "metric = metrics.MAE() + metrics.RMSE() + metrics.R2()\n",
    "model = preprocessing.StandardScaler() | rules.AMRules(\n",
    "    splitter=tree.splitter.TEBSTSplitter(digits=1),  #  <- this is part of my research\n",
    "    drift_detector=drift.ADWIN(),\n",
    "    ordered_rule_set=False,\n",
    "    m_min=100,\n",
    "    delta=0.01\n",
    ")\n",
    "\n",
    "evaluate.progressive_val_score(\n",
    "    dataset=get_friedman(),\n",
    "    model=model,\n",
    "    metric=metric,\n",
    "    show_memory=True,\n",
    "    show_time=True,\n",
    "    print_every=2000\n",
    ")"
   ]
  },
  {
   "cell_type": "markdown",
   "metadata": {},
   "source": [
    "We can also inspect the model:"
   ]
  },
  {
   "cell_type": "code",
   "execution_count": 45,
   "metadata": {},
   "outputs": [
    {
     "name": "stdout",
     "output_type": "stream",
     "text": [
      "0. Input\n",
      "--------\n",
      "0: 0.58115 (float)\n",
      "1: 0.19475 (float)\n",
      "2: 0.96525 (float)\n",
      "3: 0.92398 (float)\n",
      "4: 0.46714 (float)\n",
      "5: 0.66347 (float)\n",
      "6: 0.21452 (float)\n",
      "7: 0.22170 (float)\n",
      "8: 0.28852 (float)\n",
      "9: 0.69242 (float)\n",
      "\n",
      "1. StandardScaler\n",
      "-----------------\n",
      "0: 0.28929 (float)\n",
      "1: -1.07485 (float)\n",
      "2: 1.58610 (float)\n",
      "3: 1.47168 (float)\n",
      "4: -0.11737 (float)\n",
      "5: 0.56379 (float)\n",
      "6: -0.99330 (float)\n",
      "7: -0.96557 (float)\n",
      "8: -0.73064 (float)\n",
      "9: 0.67069 (float)\n",
      "\n",
      "2. AMRules\n",
      "----------\n",
      "Default rule triggered:\n",
      "\tPrediction (adaptive): 17.4743\n",
      "\n",
      "\n",
      "Prediction: 17.47431\n",
      "True label: 20.0094162975429\n"
     ]
    }
   ],
   "source": [
    "x, y = next(get_friedman())\n",
    "\n",
    "print(model.debug_one(x))\n",
    "print(f\"True label: {y}\")"
   ]
  },
  {
   "cell_type": "code",
   "execution_count": 46,
   "metadata": {},
   "outputs": [
    {
     "data": {
      "text/plain": [
       "(-0.22130561042509, 0.0, 0)"
      ]
     },
     "execution_count": 46,
     "metadata": {},
     "output_type": "execute_result"
    }
   ],
   "source": [
    "x_scaled = model[\"StandardScaler\"].transform_one(x)\n",
    "\n",
    "model[\"AMRules\"].anomaly_score(x_scaled)"
   ]
  },
  {
   "cell_type": "markdown",
   "metadata": {},
   "source": [
    "and the pipeline:"
   ]
  },
  {
   "cell_type": "code",
   "execution_count": 47,
   "metadata": {},
   "outputs": [
    {
     "data": {
      "text/html": [
       "<div><div class=\"river-component river-pipeline\"><details class=\"river-component river-estimator\"><summary class=\"river-summary\"><pre class=\"river-estimator-name\">StandardScaler</pre></summary><code class=\"river-estimator-params\">(\n",
       "  with_std=True\n",
       ")\n",
       "\n",
       "</code></details><details class=\"river-component river-estimator\"><summary class=\"river-summary\"><pre class=\"river-estimator-name\">AMRules</pre></summary><code class=\"river-estimator-params\">(\n",
       "  n_min=200\n",
       "  delta=0.01\n",
       "  tau=0.05\n",
       "  pred_type=\"adaptive\"\n",
       "  pred_model=LinearRegression (\n",
       "    optimizer=SGD (\n",
       "      lr=Constant (\n",
       "        learning_rate=0.01\n",
       "      )\n",
       "    )\n",
       "    loss=Squared ()\n",
       "    l2=0.\n",
       "    l1=0.\n",
       "    intercept_init=0.\n",
       "    intercept_lr=Constant (\n",
       "      learning_rate=0.01\n",
       "    )\n",
       "    clip_gradient=1e+12\n",
       "    initializer=Zeros ()\n",
       "  )\n",
       "  splitter=TEBSTSplitter (\n",
       "    digits=1\n",
       "  )\n",
       "  drift_detector=ADWIN (\n",
       "    delta=0.002\n",
       "  )\n",
       "  alpha=0.99\n",
       "  anomaly_threshold=-0.75\n",
       "  m_min=100\n",
       "  ordered_rule_set=False\n",
       "  min_samples_split=5\n",
       ")\n",
       "\n",
       "</code></details></div><style scoped>\n",
       ".river-estimator {\n",
       "    padding: 1em;\n",
       "    border-style: solid;\n",
       "    background: white;\n",
       "}\n",
       "\n",
       ".river-pipeline {\n",
       "    display: flex;\n",
       "    flex-direction: column;\n",
       "    align-items: center;\n",
       "    background: linear-gradient(#000, #000) no-repeat center / 3px 100%;\n",
       "}\n",
       "\n",
       ".river-union {\n",
       "    display: flex;\n",
       "    flex-direction: row;\n",
       "    align-items: center;\n",
       "    justify-content: center;\n",
       "    padding: 1em;\n",
       "    border-style: solid;\n",
       "    background: white;\n",
       "}\n",
       "\n",
       ".river-wrapper {\n",
       "    display: flex;\n",
       "    flex-direction: column;\n",
       "    align-items: center;\n",
       "    justify-content: center;\n",
       "    padding: 1em;\n",
       "    border-style: solid;\n",
       "    background: white;\n",
       "}\n",
       "\n",
       ".river-wrapper > .river-estimator {\n",
       "    margin-top: 1em;\n",
       "}\n",
       "\n",
       "/* Vertical spacing between steps */\n",
       "\n",
       ".river-component + .river-component {\n",
       "    margin-top: 2em;\n",
       "}\n",
       "\n",
       ".river-union > .river-estimator {\n",
       "    margin-top: 0;\n",
       "}\n",
       "\n",
       ".river-union > .pipeline {\n",
       "    margin-top: 0;\n",
       "}\n",
       "\n",
       "/* Spacing within a union of estimators */\n",
       "\n",
       ".river-union > .river-component + .river-component {\n",
       "    margin-left: 1em;\n",
       "}\n",
       "\n",
       "/* Typography */\n",
       "\n",
       ".river-estimator-params {\n",
       "    display: block;\n",
       "    white-space: pre-wrap;\n",
       "    font-size: 120%;\n",
       "    margin-bottom: -1em;\n",
       "}\n",
       "\n",
       ".river-estimator > .river-estimator-params,\n",
       ".river-wrapper > .river-details > river-estimator-params {\n",
       "    background-color: white !important;\n",
       "}\n",
       "\n",
       ".river-estimator-name {\n",
       "    display: inline;\n",
       "    margin: 0;\n",
       "    font-size: 130%;\n",
       "}\n",
       "\n",
       "/* Toggle */\n",
       "\n",
       ".river-summary {\n",
       "    display: flex;\n",
       "    align-items:center;\n",
       "    cursor: pointer;\n",
       "}\n",
       "\n",
       ".river-summary > div {\n",
       "    width: 100%;\n",
       "}\n",
       "</style></div>"
      ],
      "text/plain": [
       "Pipeline (\n",
       "  StandardScaler (\n",
       "    with_std=True\n",
       "  ),\n",
       "  AMRules (\n",
       "    n_min=200\n",
       "    delta=0.01\n",
       "    tau=0.05\n",
       "    pred_type=\"adaptive\"\n",
       "    pred_model=LinearRegression (\n",
       "      optimizer=SGD (\n",
       "        lr=Constant (\n",
       "          learning_rate=0.01\n",
       "        )\n",
       "      )\n",
       "      loss=Squared ()\n",
       "      l2=0.\n",
       "      l1=0.\n",
       "      intercept_init=0.\n",
       "      intercept_lr=Constant (\n",
       "        learning_rate=0.01\n",
       "      )\n",
       "      clip_gradient=1e+12\n",
       "      initializer=Zeros ()\n",
       "    )\n",
       "    splitter=TEBSTSplitter (\n",
       "      digits=1\n",
       "    )\n",
       "    drift_detector=ADWIN (\n",
       "      delta=0.002\n",
       "    )\n",
       "    alpha=0.99\n",
       "    anomaly_threshold=-0.75\n",
       "    m_min=100\n",
       "    ordered_rule_set=False\n",
       "    min_samples_split=5\n",
       "  )\n",
       ")"
      ]
     },
     "execution_count": 47,
     "metadata": {},
     "output_type": "execute_result"
    }
   ],
   "source": [
    "model"
   ]
  },
  {
   "cell_type": "markdown",
   "metadata": {},
   "source": [
    "## 7.3. Clustering\n",
    "\n",
    "Incremental algorithms must adapt to changes in the data. For instance, new clusters might appear, some might disappear. I will show one example of algorithm:"
   ]
  },
  {
   "cell_type": "markdown",
   "metadata": {},
   "source": [
    "### 7.3.1. k-Means\n",
    "\n",
    "There are multiple incremental versions of k-Means out there. The version available in River adds a parameter called `halflife` which controls the the intensity of the incremental updates.\n"
   ]
  },
  {
   "cell_type": "code",
   "execution_count": 48,
   "metadata": {},
   "outputs": [
    {
     "name": "stdout",
     "output_type": "stream",
     "text": [
      "0.24465881722583005\n"
     ]
    }
   ],
   "source": [
    "from river import cluster\n",
    "\n",
    "metric = metrics.Silhouette()\n",
    "model = cluster.KMeans(seed=7)\n",
    "\n",
    "\n",
    "for x, _ in get_friedman():\n",
    "    metric.update(x, model.predict_one(x), model.centers)\n",
    "    model.learn_one(x)\n",
    "\n",
    "print(metric.get())"
   ]
  },
  {
   "cell_type": "code",
   "execution_count": 49,
   "metadata": {
    "scrolled": true
   },
   "outputs": [
    {
     "name": "stdout",
     "output_type": "stream",
     "text": [
      "0.6612806222738018\n"
     ]
    }
   ],
   "source": [
    "metric = metrics.Silhouette()\n",
    "model = cluster.KMeans(n_clusters=3, seed=7)\n",
    "\n",
    "\n",
    "for x, _ in get_friedman():\n",
    "    metric.update(x, model.predict_one(x), model.centers)\n",
    "    model.learn_one(x)\n",
    "\n",
    "print(metric.get())"
   ]
  },
  {
   "cell_type": "markdown",
   "metadata": {},
   "source": [
    "And increase the `halflife` value."
   ]
  },
  {
   "cell_type": "code",
   "execution_count": 50,
   "metadata": {},
   "outputs": [
    {
     "name": "stdout",
     "output_type": "stream",
     "text": [
      "0.7161109032425856\n"
     ]
    }
   ],
   "source": [
    "metric = metrics.Silhouette()\n",
    "model = cluster.KMeans(n_clusters=3, seed=7, halflife=0.7)\n",
    "\n",
    "\n",
    "for x, _ in get_friedman():\n",
    "    metric.update(x, model.predict_one(x), model.centers)\n",
    "    model.learn_one(x)\n",
    "\n",
    "print(metric.get())"
   ]
  },
  {
   "cell_type": "markdown",
   "metadata": {},
   "source": [
    "# Extra reading\n",
    "\n",
    "- [The art of using pipelines](https://riverml.xyz/latest/examples/the-art-of-using-pipelines/)\n",
    "- [Working with imbalanced data](https://riverml.xyz/dev/examples/imbalanced-learning/)\n",
    "- [Debbuging a pipeline](https://riverml.xyz/dev/examples/debugging-a-pipeline/)\n"
   ]
  },
  {
   "cell_type": "markdown",
   "metadata": {},
   "source": []
  }
 ],
 "metadata": {
  "kernelspec": {
   "display_name": "Python 3.9.12 ('river')",
   "language": "python",
   "name": "python3"
  },
  "language_info": {
   "codemirror_mode": {
    "name": "ipython",
    "version": 3
   },
   "file_extension": ".py",
   "mimetype": "text/x-python",
   "name": "python",
   "nbconvert_exporter": "python",
   "pygments_lexer": "ipython3",
   "version": "3.9.12"
  },
  "vscode": {
   "interpreter": {
    "hash": "b27b2a9f272874e098660428b28f5afa65c7850d82ff592660d49a141d883cd1"
   }
  }
 },
 "nbformat": 4,
 "nbformat_minor": 4
}
